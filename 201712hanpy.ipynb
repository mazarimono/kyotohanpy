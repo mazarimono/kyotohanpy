{
 "cells": [
  {
   "cell_type": "code",
   "execution_count": 1,
   "metadata": {},
   "outputs": [
    {
     "data": {
      "text/html": [
       "\n",
       "    <div class=\"bk-root\">\n",
       "        <a href=\"https://bokeh.pydata.org\" target=\"_blank\" class=\"bk-logo bk-logo-small bk-logo-notebook\"></a>\n",
       "        <span id=\"8571dbc2-2011-4094-9384-dbaba0ddbbb0\">Loading BokehJS ...</span>\n",
       "    </div>"
      ]
     },
     "metadata": {},
     "output_type": "display_data"
    },
    {
     "data": {
      "application/javascript": [
       "\n",
       "(function(root) {\n",
       "  function now() {\n",
       "    return new Date();\n",
       "  }\n",
       "\n",
       "  var force = true;\n",
       "\n",
       "  if (typeof (root._bokeh_onload_callbacks) === \"undefined\" || force === true) {\n",
       "    root._bokeh_onload_callbacks = [];\n",
       "    root._bokeh_is_loading = undefined;\n",
       "  }\n",
       "\n",
       "  var JS_MIME_TYPE = 'application/javascript';\n",
       "  var HTML_MIME_TYPE = 'text/html';\n",
       "  var EXEC_MIME_TYPE = 'application/vnd.bokehjs_exec.v0+json';\n",
       "  var CLASS_NAME = 'output_bokeh rendered_html';\n",
       "\n",
       "  /**\n",
       "   * Render data to the DOM node\n",
       "   */\n",
       "  function render(props, node) {\n",
       "    var script = document.createElement(\"script\");\n",
       "    node.appendChild(script);\n",
       "  }\n",
       "\n",
       "  /**\n",
       "   * Handle when an output is cleared or removed\n",
       "   */\n",
       "  function handleClearOutput(event, handle) {\n",
       "    var cell = handle.cell;\n",
       "\n",
       "    var id = cell.output_area._bokeh_element_id;\n",
       "    var server_id = cell.output_area._bokeh_server_id;\n",
       "    // Clean up Bokeh references\n",
       "    if (id !== undefined) {\n",
       "      Bokeh.index[id].model.document.clear();\n",
       "      delete Bokeh.index[id];\n",
       "    }\n",
       "\n",
       "    if (server_id !== undefined) {\n",
       "      // Clean up Bokeh references\n",
       "      var cmd = \"from bokeh.io.state import curstate; print(curstate().uuid_to_server['\" + server_id + \"'].get_sessions()[0].document.roots[0]._id)\";\n",
       "      cell.notebook.kernel.execute(cmd, {\n",
       "        iopub: {\n",
       "          output: function(msg) {\n",
       "            var element_id = msg.content.text.trim();\n",
       "            Bokeh.index[element_id].model.document.clear();\n",
       "            delete Bokeh.index[element_id];\n",
       "          }\n",
       "        }\n",
       "      });\n",
       "      // Destroy server and session\n",
       "      var cmd = \"import bokeh.io.notebook as ion; ion.destroy_server('\" + server_id + \"')\";\n",
       "      cell.notebook.kernel.execute(cmd);\n",
       "    }\n",
       "  }\n",
       "\n",
       "  /**\n",
       "   * Handle when a new output is added\n",
       "   */\n",
       "  function handleAddOutput(event, handle) {\n",
       "    var output_area = handle.output_area;\n",
       "    var output = handle.output;\n",
       "\n",
       "    // limit handleAddOutput to display_data with EXEC_MIME_TYPE content only\n",
       "    if ((output.output_type != \"display_data\") || (!output.data.hasOwnProperty(EXEC_MIME_TYPE))) {\n",
       "      return\n",
       "    }\n",
       "\n",
       "    var toinsert = output_area.element.find(`.${CLASS_NAME.split(' ')[0]}`);\n",
       "\n",
       "    if (output.metadata[EXEC_MIME_TYPE][\"id\"] !== undefined) {\n",
       "      toinsert[0].firstChild.textContent = output.data[JS_MIME_TYPE];\n",
       "      // store reference to embed id on output_area\n",
       "      output_area._bokeh_element_id = output.metadata[EXEC_MIME_TYPE][\"id\"];\n",
       "    }\n",
       "    if (output.metadata[EXEC_MIME_TYPE][\"server_id\"] !== undefined) {\n",
       "      var bk_div = document.createElement(\"div\");\n",
       "      bk_div.innerHTML = output.data[HTML_MIME_TYPE];\n",
       "      var script_attrs = bk_div.children[0].attributes;\n",
       "      for (var i = 0; i < script_attrs.length; i++) {\n",
       "        toinsert[0].firstChild.setAttribute(script_attrs[i].name, script_attrs[i].value);\n",
       "      }\n",
       "      // store reference to server id on output_area\n",
       "      output_area._bokeh_server_id = output.metadata[EXEC_MIME_TYPE][\"server_id\"];\n",
       "    }\n",
       "  }\n",
       "\n",
       "  function register_renderer(events, OutputArea) {\n",
       "\n",
       "    function append_mime(data, metadata, element) {\n",
       "      // create a DOM node to render to\n",
       "      var toinsert = this.create_output_subarea(\n",
       "        metadata,\n",
       "        CLASS_NAME,\n",
       "        EXEC_MIME_TYPE\n",
       "      );\n",
       "      this.keyboard_manager.register_events(toinsert);\n",
       "      // Render to node\n",
       "      var props = {data: data, metadata: metadata[EXEC_MIME_TYPE]};\n",
       "      render(props, toinsert[0]);\n",
       "      element.append(toinsert);\n",
       "      return toinsert\n",
       "    }\n",
       "\n",
       "    /* Handle when an output is cleared or removed */\n",
       "    events.on('clear_output.CodeCell', handleClearOutput);\n",
       "    events.on('delete.Cell', handleClearOutput);\n",
       "\n",
       "    /* Handle when a new output is added */\n",
       "    events.on('output_added.OutputArea', handleAddOutput);\n",
       "\n",
       "    /**\n",
       "     * Register the mime type and append_mime function with output_area\n",
       "     */\n",
       "    OutputArea.prototype.register_mime_type(EXEC_MIME_TYPE, append_mime, {\n",
       "      /* Is output safe? */\n",
       "      safe: true,\n",
       "      /* Index of renderer in `output_area.display_order` */\n",
       "      index: 0\n",
       "    });\n",
       "  }\n",
       "\n",
       "  // register the mime type if in Jupyter Notebook environment and previously unregistered\n",
       "  if (root.Jupyter !== undefined) {\n",
       "    var events = require('base/js/events');\n",
       "    var OutputArea = require('notebook/js/outputarea').OutputArea;\n",
       "\n",
       "    if (OutputArea.prototype.mime_types().indexOf(EXEC_MIME_TYPE) == -1) {\n",
       "      register_renderer(events, OutputArea);\n",
       "    }\n",
       "  }\n",
       "\n",
       "  \n",
       "  if (typeof (root._bokeh_timeout) === \"undefined\" || force === true) {\n",
       "    root._bokeh_timeout = Date.now() + 5000;\n",
       "    root._bokeh_failed_load = false;\n",
       "  }\n",
       "\n",
       "  var NB_LOAD_WARNING = {'data': {'text/html':\n",
       "     \"<div style='background-color: #fdd'>\\n\"+\n",
       "     \"<p>\\n\"+\n",
       "     \"BokehJS does not appear to have successfully loaded. If loading BokehJS from CDN, this \\n\"+\n",
       "     \"may be due to a slow or bad network connection. Possible fixes:\\n\"+\n",
       "     \"</p>\\n\"+\n",
       "     \"<ul>\\n\"+\n",
       "     \"<li>re-rerun `output_notebook()` to attempt to load from CDN again, or</li>\\n\"+\n",
       "     \"<li>use INLINE resources instead, as so:</li>\\n\"+\n",
       "     \"</ul>\\n\"+\n",
       "     \"<code>\\n\"+\n",
       "     \"from bokeh.resources import INLINE\\n\"+\n",
       "     \"output_notebook(resources=INLINE)\\n\"+\n",
       "     \"</code>\\n\"+\n",
       "     \"</div>\"}};\n",
       "\n",
       "  function display_loaded() {\n",
       "    var el = document.getElementById(\"8571dbc2-2011-4094-9384-dbaba0ddbbb0\");\n",
       "    if (el != null) {\n",
       "      el.textContent = \"BokehJS is loading...\";\n",
       "    }\n",
       "    if (root.Bokeh !== undefined) {\n",
       "      if (el != null) {\n",
       "        el.textContent = \"BokehJS \" + root.Bokeh.version + \" successfully loaded.\";\n",
       "      }\n",
       "    } else if (Date.now() < root._bokeh_timeout) {\n",
       "      setTimeout(display_loaded, 100)\n",
       "    }\n",
       "  }\n",
       "\n",
       "\n",
       "  function run_callbacks() {\n",
       "    try {\n",
       "      root._bokeh_onload_callbacks.forEach(function(callback) { callback() });\n",
       "    }\n",
       "    finally {\n",
       "      delete root._bokeh_onload_callbacks\n",
       "    }\n",
       "    console.info(\"Bokeh: all callbacks have finished\");\n",
       "  }\n",
       "\n",
       "  function load_libs(js_urls, callback) {\n",
       "    root._bokeh_onload_callbacks.push(callback);\n",
       "    if (root._bokeh_is_loading > 0) {\n",
       "      console.log(\"Bokeh: BokehJS is being loaded, scheduling callback at\", now());\n",
       "      return null;\n",
       "    }\n",
       "    if (js_urls == null || js_urls.length === 0) {\n",
       "      run_callbacks();\n",
       "      return null;\n",
       "    }\n",
       "    console.log(\"Bokeh: BokehJS not loaded, scheduling load and callback at\", now());\n",
       "    root._bokeh_is_loading = js_urls.length;\n",
       "    for (var i = 0; i < js_urls.length; i++) {\n",
       "      var url = js_urls[i];\n",
       "      var s = document.createElement('script');\n",
       "      s.src = url;\n",
       "      s.async = false;\n",
       "      s.onreadystatechange = s.onload = function() {\n",
       "        root._bokeh_is_loading--;\n",
       "        if (root._bokeh_is_loading === 0) {\n",
       "          console.log(\"Bokeh: all BokehJS libraries loaded\");\n",
       "          run_callbacks()\n",
       "        }\n",
       "      };\n",
       "      s.onerror = function() {\n",
       "        console.warn(\"failed to load library \" + url);\n",
       "      };\n",
       "      console.log(\"Bokeh: injecting script tag for BokehJS library: \", url);\n",
       "      document.getElementsByTagName(\"head\")[0].appendChild(s);\n",
       "    }\n",
       "  };var element = document.getElementById(\"8571dbc2-2011-4094-9384-dbaba0ddbbb0\");\n",
       "  if (element == null) {\n",
       "    console.log(\"Bokeh: ERROR: autoload.js configured with elementid '8571dbc2-2011-4094-9384-dbaba0ddbbb0' but no matching script tag was found. \")\n",
       "    return false;\n",
       "  }\n",
       "\n",
       "  var js_urls = [\"https://cdn.pydata.org/bokeh/release/bokeh-0.12.10.min.js\", \"https://cdn.pydata.org/bokeh/release/bokeh-widgets-0.12.10.min.js\", \"https://cdn.pydata.org/bokeh/release/bokeh-tables-0.12.10.min.js\", \"https://cdn.pydata.org/bokeh/release/bokeh-gl-0.12.10.min.js\"];\n",
       "\n",
       "  var inline_js = [\n",
       "    function(Bokeh) {\n",
       "      Bokeh.set_log_level(\"info\");\n",
       "    },\n",
       "    \n",
       "    function(Bokeh) {\n",
       "      \n",
       "    },\n",
       "    function(Bokeh) {\n",
       "      console.log(\"Bokeh: injecting CSS: https://cdn.pydata.org/bokeh/release/bokeh-0.12.10.min.css\");\n",
       "      Bokeh.embed.inject_css(\"https://cdn.pydata.org/bokeh/release/bokeh-0.12.10.min.css\");\n",
       "      console.log(\"Bokeh: injecting CSS: https://cdn.pydata.org/bokeh/release/bokeh-widgets-0.12.10.min.css\");\n",
       "      Bokeh.embed.inject_css(\"https://cdn.pydata.org/bokeh/release/bokeh-widgets-0.12.10.min.css\");\n",
       "      console.log(\"Bokeh: injecting CSS: https://cdn.pydata.org/bokeh/release/bokeh-tables-0.12.10.min.css\");\n",
       "      Bokeh.embed.inject_css(\"https://cdn.pydata.org/bokeh/release/bokeh-tables-0.12.10.min.css\");\n",
       "    }\n",
       "  ];\n",
       "\n",
       "  function run_inline_js() {\n",
       "    \n",
       "    if ((root.Bokeh !== undefined) || (force === true)) {\n",
       "      for (var i = 0; i < inline_js.length; i++) {\n",
       "        inline_js[i].call(root, root.Bokeh);\n",
       "      }if (force === true) {\n",
       "        display_loaded();\n",
       "      }} else if (Date.now() < root._bokeh_timeout) {\n",
       "      setTimeout(run_inline_js, 100);\n",
       "    } else if (!root._bokeh_failed_load) {\n",
       "      console.log(\"Bokeh: BokehJS failed to load within specified timeout.\");\n",
       "      root._bokeh_failed_load = true;\n",
       "    } else if (force !== true) {\n",
       "      var cell = $(document.getElementById(\"8571dbc2-2011-4094-9384-dbaba0ddbbb0\")).parents('.cell').data().cell;\n",
       "      cell.output_area.append_execute_result(NB_LOAD_WARNING)\n",
       "    }\n",
       "\n",
       "  }\n",
       "\n",
       "  if (root._bokeh_is_loading === 0) {\n",
       "    console.log(\"Bokeh: BokehJS loaded, going straight to plotting\");\n",
       "    run_inline_js();\n",
       "  } else {\n",
       "    load_libs(js_urls, function() {\n",
       "      console.log(\"Bokeh: BokehJS plotting callback run at\", now());\n",
       "      run_inline_js();\n",
       "    });\n",
       "  }\n",
       "}(window));"
      ],
      "application/vnd.bokehjs_load.v0+json": "\n(function(root) {\n  function now() {\n    return new Date();\n  }\n\n  var force = true;\n\n  if (typeof (root._bokeh_onload_callbacks) === \"undefined\" || force === true) {\n    root._bokeh_onload_callbacks = [];\n    root._bokeh_is_loading = undefined;\n  }\n\n  \n\n  \n  if (typeof (root._bokeh_timeout) === \"undefined\" || force === true) {\n    root._bokeh_timeout = Date.now() + 5000;\n    root._bokeh_failed_load = false;\n  }\n\n  var NB_LOAD_WARNING = {'data': {'text/html':\n     \"<div style='background-color: #fdd'>\\n\"+\n     \"<p>\\n\"+\n     \"BokehJS does not appear to have successfully loaded. If loading BokehJS from CDN, this \\n\"+\n     \"may be due to a slow or bad network connection. Possible fixes:\\n\"+\n     \"</p>\\n\"+\n     \"<ul>\\n\"+\n     \"<li>re-rerun `output_notebook()` to attempt to load from CDN again, or</li>\\n\"+\n     \"<li>use INLINE resources instead, as so:</li>\\n\"+\n     \"</ul>\\n\"+\n     \"<code>\\n\"+\n     \"from bokeh.resources import INLINE\\n\"+\n     \"output_notebook(resources=INLINE)\\n\"+\n     \"</code>\\n\"+\n     \"</div>\"}};\n\n  function display_loaded() {\n    var el = document.getElementById(\"8571dbc2-2011-4094-9384-dbaba0ddbbb0\");\n    if (el != null) {\n      el.textContent = \"BokehJS is loading...\";\n    }\n    if (root.Bokeh !== undefined) {\n      if (el != null) {\n        el.textContent = \"BokehJS \" + root.Bokeh.version + \" successfully loaded.\";\n      }\n    } else if (Date.now() < root._bokeh_timeout) {\n      setTimeout(display_loaded, 100)\n    }\n  }\n\n\n  function run_callbacks() {\n    try {\n      root._bokeh_onload_callbacks.forEach(function(callback) { callback() });\n    }\n    finally {\n      delete root._bokeh_onload_callbacks\n    }\n    console.info(\"Bokeh: all callbacks have finished\");\n  }\n\n  function load_libs(js_urls, callback) {\n    root._bokeh_onload_callbacks.push(callback);\n    if (root._bokeh_is_loading > 0) {\n      console.log(\"Bokeh: BokehJS is being loaded, scheduling callback at\", now());\n      return null;\n    }\n    if (js_urls == null || js_urls.length === 0) {\n      run_callbacks();\n      return null;\n    }\n    console.log(\"Bokeh: BokehJS not loaded, scheduling load and callback at\", now());\n    root._bokeh_is_loading = js_urls.length;\n    for (var i = 0; i < js_urls.length; i++) {\n      var url = js_urls[i];\n      var s = document.createElement('script');\n      s.src = url;\n      s.async = false;\n      s.onreadystatechange = s.onload = function() {\n        root._bokeh_is_loading--;\n        if (root._bokeh_is_loading === 0) {\n          console.log(\"Bokeh: all BokehJS libraries loaded\");\n          run_callbacks()\n        }\n      };\n      s.onerror = function() {\n        console.warn(\"failed to load library \" + url);\n      };\n      console.log(\"Bokeh: injecting script tag for BokehJS library: \", url);\n      document.getElementsByTagName(\"head\")[0].appendChild(s);\n    }\n  };var element = document.getElementById(\"8571dbc2-2011-4094-9384-dbaba0ddbbb0\");\n  if (element == null) {\n    console.log(\"Bokeh: ERROR: autoload.js configured with elementid '8571dbc2-2011-4094-9384-dbaba0ddbbb0' but no matching script tag was found. \")\n    return false;\n  }\n\n  var js_urls = [\"https://cdn.pydata.org/bokeh/release/bokeh-0.12.10.min.js\", \"https://cdn.pydata.org/bokeh/release/bokeh-widgets-0.12.10.min.js\", \"https://cdn.pydata.org/bokeh/release/bokeh-tables-0.12.10.min.js\", \"https://cdn.pydata.org/bokeh/release/bokeh-gl-0.12.10.min.js\"];\n\n  var inline_js = [\n    function(Bokeh) {\n      Bokeh.set_log_level(\"info\");\n    },\n    \n    function(Bokeh) {\n      \n    },\n    function(Bokeh) {\n      console.log(\"Bokeh: injecting CSS: https://cdn.pydata.org/bokeh/release/bokeh-0.12.10.min.css\");\n      Bokeh.embed.inject_css(\"https://cdn.pydata.org/bokeh/release/bokeh-0.12.10.min.css\");\n      console.log(\"Bokeh: injecting CSS: https://cdn.pydata.org/bokeh/release/bokeh-widgets-0.12.10.min.css\");\n      Bokeh.embed.inject_css(\"https://cdn.pydata.org/bokeh/release/bokeh-widgets-0.12.10.min.css\");\n      console.log(\"Bokeh: injecting CSS: https://cdn.pydata.org/bokeh/release/bokeh-tables-0.12.10.min.css\");\n      Bokeh.embed.inject_css(\"https://cdn.pydata.org/bokeh/release/bokeh-tables-0.12.10.min.css\");\n    }\n  ];\n\n  function run_inline_js() {\n    \n    if ((root.Bokeh !== undefined) || (force === true)) {\n      for (var i = 0; i < inline_js.length; i++) {\n        inline_js[i].call(root, root.Bokeh);\n      }if (force === true) {\n        display_loaded();\n      }} else if (Date.now() < root._bokeh_timeout) {\n      setTimeout(run_inline_js, 100);\n    } else if (!root._bokeh_failed_load) {\n      console.log(\"Bokeh: BokehJS failed to load within specified timeout.\");\n      root._bokeh_failed_load = true;\n    } else if (force !== true) {\n      var cell = $(document.getElementById(\"8571dbc2-2011-4094-9384-dbaba0ddbbb0\")).parents('.cell').data().cell;\n      cell.output_area.append_execute_result(NB_LOAD_WARNING)\n    }\n\n  }\n\n  if (root._bokeh_is_loading === 0) {\n    console.log(\"Bokeh: BokehJS loaded, going straight to plotting\");\n    run_inline_js();\n  } else {\n    load_libs(js_urls, function() {\n      console.log(\"Bokeh: BokehJS plotting callback run at\", now());\n      run_inline_js();\n    });\n  }\n}(window));"
     },
     "metadata": {},
     "output_type": "display_data"
    }
   ],
   "source": [
    "import pandas as pd                         # pandas \n",
    "import pandas_datareader.data as pdr        # 株価などのdataを引っ張れる\n",
    "from datetime import datetime               # 日時を扱う\n",
    "from datetime import timedelta\n",
    "import numpy as np                          # ちょっとした計算をする\n",
    "import scipy.optimize as sco                # 最適化する\n",
    "from bokeh.io import output_notebook        # グラフを作る（）\n",
    "from bokeh.plotting import figure, show     # グラフを作る\n",
    "%matplotlib inline\n",
    "output_notebook()"
   ]
  },
  {
   "cell_type": "markdown",
   "metadata": {},
   "source": [
    "## 長期運用の資産配分をPythonを使ってやってみよう\n",
    "   \n",
    "### 皆さん自分の資産運用してますか？\n",
    "* 年金とか頼ってないですよね？   \n",
    "ZEROHEDGE [\"The Ponzi Scheme That's Over ×100 The Size Of Madoff.\"](http://www.zerohedge.com/news/2017-11-10/ponzi-scheme-thats-over-100x-size-madoff)\n",
    "* Ponzi Scheme == ネズミ講  \n",
    "* Madoff == [バーナンド・マドフ](https://www.google.co.jp/search?q=%E3%83%90%E3%83%BC%E3%83%8A%E3%83%B3%E3%83%89+%E3%83%9E%E3%83%89%E3%83%95&oq=%E3%83%90%E3%83%BC%E3%83%8A%E3%83%B3%E3%83%89%E3%80%80%E3%83%9E%E3%83%89%E3%83%95&aqs=chrome..69i57j0l5.7523j0j4&sourceid=chrome&ie=UTF-8)   \n",
    "  年１０％儲かる絶対的な投資法を見つけたと言って６５０億ドル（７兆円）集めた。   \n",
    "  自分で証券会社を作って、NASDAQの会長もやっていたため信用力があった。\n",
    "* その１００倍のネズミ講って何？　 == 年金(pension fund)\n",
    "\n",
    "### ロボアドバイザーとか頼ってみる？\n",
    "* グーグルの一番に推してくる[Wealth Navi](https://invest.wealthnavi.com/simulation?_ga=2.39836323.1452126704.1512784495-1105591666.1512784495&_gac=1.222479849.1512784495.CjwKCAiAjanRBRByEiwAKGyjZWrJ-AgrnjPLBZR7K-8NTcRKlQJG2Z-5kMVS4WtKgJyO-6WF6vJB6RoCP0sQAvD_BwE)\n",
    "* まぁ手数料をたくさん払うより良いかもしれない。\n",
    "* しかし、酔っぱらいみたいな質問して適当に資産配分を推し進めてきます。\n",
    "* そんなものに頼れない。でも金融屋はもっと信用できない！\n",
    "\n",
    "# じゃあ自分で作ってみれば？？？\n",
    "\n",
    "\n",
    "### 参考にするのは東京のfinpyで発表があったものです。  \n",
    "* Scipyで２次計画問題を解く　　〜ポートフォリオ最適化の例   \n",
    "https://qiita.com/ryoshi81/items/b323a363e5442a15db6d\n",
    "* これに債券を加えたり妄想資産を追加したりしてみます。\n",
    "* 自分で作ってコストを抑えよう！　長期投資でネックとなるのは資産配分とコストです！\n",
    "   \n",
    "   \n",
    "## 自分で資産のリスク／リターンを計算する\n",
    "### 株だけを見てみる\n",
    "* pandas_datareaderを使って株価を取得する\n",
    "* ローソク足を作る\n",
    "* リスクやリターンを作る(年率)\n",
    "* 資産間の相関を見る\n",
    "\n",
    "### アセット・アロケーションを取り扱う\n",
    "* ポートフォリオ"
   ]
  },
  {
   "cell_type": "markdown",
   "metadata": {},
   "source": [
    "pandas datareader ドキュメント   \n",
    "https://pandas-datareader.readthedocs.io/en/latest/"
   ]
  },
  {
   "cell_type": "code",
   "execution_count": 2,
   "metadata": {
    "collapsed": true
   },
   "outputs": [],
   "source": [
    "apple = pdr.get_data_yahoo('AAPL')"
   ]
  },
  {
   "cell_type": "code",
   "execution_count": 3,
   "metadata": {
    "scrolled": true
   },
   "outputs": [
    {
     "data": {
      "text/html": [
       "<div>\n",
       "<style>\n",
       "    .dataframe thead tr:only-child th {\n",
       "        text-align: right;\n",
       "    }\n",
       "\n",
       "    .dataframe thead th {\n",
       "        text-align: left;\n",
       "    }\n",
       "\n",
       "    .dataframe tbody tr th {\n",
       "        vertical-align: top;\n",
       "    }\n",
       "</style>\n",
       "<table border=\"1\" class=\"dataframe\">\n",
       "  <thead>\n",
       "    <tr style=\"text-align: right;\">\n",
       "      <th></th>\n",
       "      <th>Open</th>\n",
       "      <th>High</th>\n",
       "      <th>Low</th>\n",
       "      <th>Close</th>\n",
       "      <th>Adj Close</th>\n",
       "      <th>Volume</th>\n",
       "    </tr>\n",
       "    <tr>\n",
       "      <th>Date</th>\n",
       "      <th></th>\n",
       "      <th></th>\n",
       "      <th></th>\n",
       "      <th></th>\n",
       "      <th></th>\n",
       "      <th></th>\n",
       "    </tr>\n",
       "  </thead>\n",
       "  <tbody>\n",
       "    <tr>\n",
       "      <th>2009-12-31</th>\n",
       "      <td>30.447144</td>\n",
       "      <td>30.478571</td>\n",
       "      <td>30.080000</td>\n",
       "      <td>30.104286</td>\n",
       "      <td>26.986492</td>\n",
       "      <td>88102700</td>\n",
       "    </tr>\n",
       "    <tr>\n",
       "      <th>2010-01-04</th>\n",
       "      <td>30.490000</td>\n",
       "      <td>30.642857</td>\n",
       "      <td>30.340000</td>\n",
       "      <td>30.572857</td>\n",
       "      <td>27.406532</td>\n",
       "      <td>123432400</td>\n",
       "    </tr>\n",
       "    <tr>\n",
       "      <th>2010-01-05</th>\n",
       "      <td>30.657143</td>\n",
       "      <td>30.798571</td>\n",
       "      <td>30.464285</td>\n",
       "      <td>30.625713</td>\n",
       "      <td>27.453915</td>\n",
       "      <td>150476200</td>\n",
       "    </tr>\n",
       "    <tr>\n",
       "      <th>2010-01-06</th>\n",
       "      <td>30.625713</td>\n",
       "      <td>30.747143</td>\n",
       "      <td>30.107143</td>\n",
       "      <td>30.138571</td>\n",
       "      <td>27.017223</td>\n",
       "      <td>138040000</td>\n",
       "    </tr>\n",
       "    <tr>\n",
       "      <th>2010-01-07</th>\n",
       "      <td>30.250000</td>\n",
       "      <td>30.285715</td>\n",
       "      <td>29.864286</td>\n",
       "      <td>30.082857</td>\n",
       "      <td>26.967278</td>\n",
       "      <td>119282800</td>\n",
       "    </tr>\n",
       "  </tbody>\n",
       "</table>\n",
       "</div>"
      ],
      "text/plain": [
       "                 Open       High        Low      Close  Adj Close     Volume\n",
       "Date                                                                        \n",
       "2009-12-31  30.447144  30.478571  30.080000  30.104286  26.986492   88102700\n",
       "2010-01-04  30.490000  30.642857  30.340000  30.572857  27.406532  123432400\n",
       "2010-01-05  30.657143  30.798571  30.464285  30.625713  27.453915  150476200\n",
       "2010-01-06  30.625713  30.747143  30.107143  30.138571  27.017223  138040000\n",
       "2010-01-07  30.250000  30.285715  29.864286  30.082857  26.967278  119282800"
      ]
     },
     "execution_count": 3,
     "metadata": {},
     "output_type": "execute_result"
    }
   ],
   "source": [
    "apple.head()"
   ]
  },
  {
   "cell_type": "code",
   "execution_count": 4,
   "metadata": {},
   "outputs": [
    {
     "data": {
      "text/plain": [
       "pandas.core.indexes.datetimes.DatetimeIndex"
      ]
     },
     "execution_count": 4,
     "metadata": {},
     "output_type": "execute_result"
    }
   ],
   "source": [
    "type(apple.index)"
   ]
  },
  {
   "cell_type": "code",
   "execution_count": 5,
   "metadata": {
    "collapsed": true
   },
   "outputs": [],
   "source": [
    "apple_w = apple.resample('W').ohlc()[[('Open','open'), ('High', 'high'), ('Low', 'low'), ('Close', 'close')]] # 訂正\n",
    "apple_w.columns = apple_w.columns.droplevel()\n",
    "apple_w.index = pd.to_datetime(apple_w.index)"
   ]
  },
  {
   "cell_type": "code",
   "execution_count": 6,
   "metadata": {
    "scrolled": true
   },
   "outputs": [
    {
     "data": {
      "text/html": [
       "<div>\n",
       "<style>\n",
       "    .dataframe thead tr:only-child th {\n",
       "        text-align: right;\n",
       "    }\n",
       "\n",
       "    .dataframe thead th {\n",
       "        text-align: left;\n",
       "    }\n",
       "\n",
       "    .dataframe tbody tr th {\n",
       "        vertical-align: top;\n",
       "    }\n",
       "</style>\n",
       "<table border=\"1\" class=\"dataframe\">\n",
       "  <thead>\n",
       "    <tr style=\"text-align: right;\">\n",
       "      <th></th>\n",
       "      <th>open</th>\n",
       "      <th>high</th>\n",
       "      <th>low</th>\n",
       "      <th>close</th>\n",
       "    </tr>\n",
       "    <tr>\n",
       "      <th>Date</th>\n",
       "      <th></th>\n",
       "      <th></th>\n",
       "      <th></th>\n",
       "      <th></th>\n",
       "    </tr>\n",
       "  </thead>\n",
       "  <tbody>\n",
       "    <tr>\n",
       "      <th>2017-11-19</th>\n",
       "      <td>173.500000</td>\n",
       "      <td>174.500000</td>\n",
       "      <td>168.380005</td>\n",
       "      <td>170.149994</td>\n",
       "    </tr>\n",
       "    <tr>\n",
       "      <th>2017-11-26</th>\n",
       "      <td>170.289993</td>\n",
       "      <td>175.500000</td>\n",
       "      <td>169.559998</td>\n",
       "      <td>174.970001</td>\n",
       "    </tr>\n",
       "    <tr>\n",
       "      <th>2017-12-03</th>\n",
       "      <td>175.050003</td>\n",
       "      <td>175.080002</td>\n",
       "      <td>167.160004</td>\n",
       "      <td>171.050003</td>\n",
       "    </tr>\n",
       "    <tr>\n",
       "      <th>2017-12-10</th>\n",
       "      <td>172.479996</td>\n",
       "      <td>172.619995</td>\n",
       "      <td>166.460007</td>\n",
       "      <td>169.369995</td>\n",
       "    </tr>\n",
       "    <tr>\n",
       "      <th>2017-12-17</th>\n",
       "      <td>169.199997</td>\n",
       "      <td>174.169998</td>\n",
       "      <td>168.789993</td>\n",
       "      <td>173.970001</td>\n",
       "    </tr>\n",
       "  </tbody>\n",
       "</table>\n",
       "</div>"
      ],
      "text/plain": [
       "                  open        high         low       close\n",
       "Date                                                      \n",
       "2017-11-19  173.500000  174.500000  168.380005  170.149994\n",
       "2017-11-26  170.289993  175.500000  169.559998  174.970001\n",
       "2017-12-03  175.050003  175.080002  167.160004  171.050003\n",
       "2017-12-10  172.479996  172.619995  166.460007  169.369995\n",
       "2017-12-17  169.199997  174.169998  168.789993  173.970001"
      ]
     },
     "execution_count": 6,
     "metadata": {},
     "output_type": "execute_result"
    }
   ],
   "source": [
    "apple_w.tail()"
   ]
  },
  {
   "cell_type": "code",
   "execution_count": 7,
   "metadata": {
    "scrolled": false
   },
   "outputs": [
    {
     "data": {
      "text/html": [
       "\n",
       "<div class=\"bk-root\">\n",
       "    <div class=\"bk-plotdiv\" id=\"31fcd1b9-3739-43c5-94c4-841a241bedf5\"></div>\n",
       "</div>"
      ]
     },
     "metadata": {},
     "output_type": "display_data"
    },
    {
     "data": {
      "application/javascript": [
       "(function(root) {\n",
       "  function embed_document(root) {\n",
       "    var docs_json = {\"6d2a9180-4d7c-44fe-bf3e-76495486dfa5\":{\"roots\":{\"references\":[{\"attributes\":{},\"id\":\"646c8dac-a8d8-48d9-9b56-979ef31a5172\",\"type\":\"DatetimeTickFormatter\"},{\"attributes\":{\"days\":[1,8,15,22]},\"id\":\"83467309-f0d9-43e5-a1e9-83de1e1c5761\",\"type\":\"DaysTicker\"},{\"attributes\":{\"mantissas\":[1,2,5],\"max_interval\":500.0,\"num_minor_ticks\":0},\"id\":\"e9d927d5-518c-4b4e-8f51-6ca787ba1e6e\",\"type\":\"AdaptiveTicker\"},{\"attributes\":{\"days\":[1,15]},\"id\":\"8a542b34-118d-4b79-b075-f648b8663cea\",\"type\":\"DaysTicker\"},{\"attributes\":{\"base\":60,\"mantissas\":[1,2,5,10,15,20,30],\"max_interval\":1800000.0,\"min_interval\":1000.0,\"num_minor_ticks\":0},\"id\":\"00207d9b-5994-49b2-9c41-a0d1db4bbe03\",\"type\":\"AdaptiveTicker\"},{\"attributes\":{\"base\":24,\"mantissas\":[1,2,4,6,8,12],\"max_interval\":43200000.0,\"min_interval\":3600000.0,\"num_minor_ticks\":0},\"id\":\"9f222aad-867b-46af-a5d4-014da7159f92\",\"type\":\"AdaptiveTicker\"},{\"attributes\":{\"days\":[1,2,3,4,5,6,7,8,9,10,11,12,13,14,15,16,17,18,19,20,21,22,23,24,25,26,27,28,29,30,31]},\"id\":\"ef0f8eb2-a3b5-446b-b5f6-741677198044\",\"type\":\"DaysTicker\"},{\"attributes\":{\"days\":[1,4,7,10,13,16,19,22,25,28]},\"id\":\"ebd20d78-27fd-4e3f-9748-ba26953f62e2\",\"type\":\"DaysTicker\"},{\"attributes\":{\"months\":[0,1,2,3,4,5,6,7,8,9,10,11]},\"id\":\"850f284e-65ca-4ee5-aeef-7f4198c1b0db\",\"type\":\"MonthsTicker\"},{\"attributes\":{\"months\":[0,2,4,6,8,10]},\"id\":\"9fa7ed64-5990-4af3-b87f-3f3a80a86768\",\"type\":\"MonthsTicker\"},{\"attributes\":{\"formatter\":{\"id\":\"646c8dac-a8d8-48d9-9b56-979ef31a5172\",\"type\":\"DatetimeTickFormatter\"},\"plot\":{\"id\":\"45af6c68-f3f4-4397-9b74-1f729c227c2a\",\"subtype\":\"Figure\",\"type\":\"Plot\"},\"ticker\":{\"id\":\"2915daac-58b8-448f-8c0d-df2da9c31219\",\"type\":\"DatetimeTicker\"}},\"id\":\"cee0d4df-7872-4c4e-8af9-6f1c2dcb81a9\",\"type\":\"DatetimeAxis\"},{\"attributes\":{\"months\":[0,4,8]},\"id\":\"adbe5705-2c82-4177-8ce4-b603daccbc0c\",\"type\":\"MonthsTicker\"},{\"attributes\":{\"months\":[0,6]},\"id\":\"401425aa-c544-4f09-a569-96c9bc4d7cec\",\"type\":\"MonthsTicker\"},{\"attributes\":{},\"id\":\"d69d1991-791f-4277-8a73-ba529a17ea83\",\"type\":\"YearsTicker\"},{\"attributes\":{\"data_source\":{\"id\":\"90e0ee04-d519-40a3-ae0e-dca164ed7b11\",\"type\":\"ColumnDataSource\"},\"glyph\":{\"id\":\"f2106091-9520-4af2-b422-36d104341d52\",\"type\":\"VBar\"},\"hover_glyph\":null,\"muted_glyph\":null,\"nonselection_glyph\":{\"id\":\"63af466a-e23c-4a8b-831b-5c404c62701e\",\"type\":\"VBar\"},\"selection_glyph\":null,\"view\":{\"id\":\"02d84ea6-d669-4d81-9aa7-2232ea00aee4\",\"type\":\"CDSView\"}},\"id\":\"02763e68-cee8-4b6e-abad-0a2cd5a24e77\",\"type\":\"GlyphRenderer\"},{\"attributes\":{\"bottom\":{\"field\":\"bottom\"},\"fill_color\":{\"value\":\"red\"},\"top\":{\"field\":\"top\"},\"width\":{\"value\":864000000},\"x\":{\"field\":\"x\"}},\"id\":\"f2106091-9520-4af2-b422-36d104341d52\",\"type\":\"VBar\"},{\"attributes\":{\"callback\":null,\"column_names\":[\"x\",\"top\",\"bottom\"],\"data\":{\"bottom\":{\"__ndarray__\":\"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\",\"dtype\":\"float64\",\"shape\":[222]},\"top\":{\"__ndarray__\":\"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\",\"dtype\":\"float64\",\"shape\":[222]},\"x\":{\"__ndarray__\":\"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\",\"dtype\":\"float64\",\"shape\":[222]}}},\"id\":\"90e0ee04-d519-40a3-ae0e-dca164ed7b11\",\"type\":\"ColumnDataSource\"},{\"attributes\":{\"data_source\":{\"id\":\"2c7bd8c5-516e-48e2-bc99-39d1e972b339\",\"type\":\"ColumnDataSource\"},\"glyph\":{\"id\":\"0f7bc6b9-e808-4ae7-819f-5dc042940f4c\",\"type\":\"Segment\"},\"hover_glyph\":null,\"muted_glyph\":null,\"nonselection_glyph\":{\"id\":\"20011723-d8fc-4750-95f0-23bbb8bcacde\",\"type\":\"Segment\"},\"selection_glyph\":null,\"view\":{\"id\":\"995cc1fc-f252-4f19-9633-e63117b479f1\",\"type\":\"CDSView\"}},\"id\":\"5cccaff2-a9a7-4a31-9761-182827f659a6\",\"type\":\"GlyphRenderer\"},{\"attributes\":{\"bottom\":{\"field\":\"bottom\"},\"fill_alpha\":{\"value\":0.1},\"fill_color\":{\"value\":\"#1f77b4\"},\"line_alpha\":{\"value\":0.1},\"line_color\":{\"value\":\"#1f77b4\"},\"top\":{\"field\":\"top\"},\"width\":{\"value\":864000000},\"x\":{\"field\":\"x\"}},\"id\":\"63af466a-e23c-4a8b-831b-5c404c62701e\",\"type\":\"VBar\"},{\"attributes\":{\"source\":{\"id\":\"90e0ee04-d519-40a3-ae0e-dca164ed7b11\",\"type\":\"ColumnDataSource\"}},\"id\":\"02d84ea6-d669-4d81-9aa7-2232ea00aee4\",\"type\":\"CDSView\"},{\"attributes\":{\"callback\":null,\"column_names\":[\"x\",\"top\",\"bottom\"],\"data\":{\"bottom\":{\"__ndarray__\":\"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\",\"dtype\":\"float64\",\"shape\":[194]},\"top\":{\"__ndarray__\":\"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\",\"dtype\":\"float64\",\"shape\":[194]},\"x\":{\"__ndarray__\":\"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\",\"dtype\":\"float64\",\"shape\":[194]}}},\"id\":\"1106093f-aa24-47cd-88f4-42a0961e9a05\",\"type\":\"ColumnDataSource\"},{\"attributes\":{\"bottom\":{\"field\":\"bottom\"},\"fill_color\":{\"value\":\"blue\"},\"top\":{\"field\":\"top\"},\"width\":{\"value\":864000000},\"x\":{\"field\":\"x\"}},\"id\":\"f9b09d86-833f-4f33-8f47-f5a5ab9208b8\",\"type\":\"VBar\"},{\"attributes\":{\"bottom\":{\"field\":\"bottom\"},\"fill_alpha\":{\"value\":0.1},\"fill_color\":{\"value\":\"#1f77b4\"},\"line_alpha\":{\"value\":0.1},\"line_color\":{\"value\":\"#1f77b4\"},\"top\":{\"field\":\"top\"},\"width\":{\"value\":864000000},\"x\":{\"field\":\"x\"}},\"id\":\"d2ca75f2-2ae3-47d4-ae76-c0e1630b7503\",\"type\":\"VBar\"},{\"attributes\":{\"data_source\":{\"id\":\"1106093f-aa24-47cd-88f4-42a0961e9a05\",\"type\":\"ColumnDataSource\"},\"glyph\":{\"id\":\"f9b09d86-833f-4f33-8f47-f5a5ab9208b8\",\"type\":\"VBar\"},\"hover_glyph\":null,\"muted_glyph\":null,\"nonselection_glyph\":{\"id\":\"d2ca75f2-2ae3-47d4-ae76-c0e1630b7503\",\"type\":\"VBar\"},\"selection_glyph\":null,\"view\":{\"id\":\"f45feb30-77ed-47d5-b709-aec0e828d872\",\"type\":\"CDSView\"}},\"id\":\"cb383bc5-b44a-4faa-916f-a92c2e0a9a88\",\"type\":\"GlyphRenderer\"},{\"attributes\":{},\"id\":\"4a78a9dc-3340-4e76-be9c-844be71ba828\",\"type\":\"BasicTickFormatter\"},{\"attributes\":{\"below\":[{\"id\":\"cee0d4df-7872-4c4e-8af9-6f1c2dcb81a9\",\"type\":\"DatetimeAxis\"}],\"left\":[{\"id\":\"aa06e641-c2b2-461c-b82c-cb5611f854f0\",\"type\":\"LinearAxis\"}],\"plot_height\":500,\"plot_width\":800,\"renderers\":[{\"id\":\"cee0d4df-7872-4c4e-8af9-6f1c2dcb81a9\",\"type\":\"DatetimeAxis\"},{\"id\":\"3d3fcb9b-860f-460f-a6da-e9a0dfd0939a\",\"type\":\"Grid\"},{\"id\":\"aa06e641-c2b2-461c-b82c-cb5611f854f0\",\"type\":\"LinearAxis\"},{\"id\":\"0c716ccb-5c0e-47f8-81e4-5129c7202b7a\",\"type\":\"Grid\"},{\"id\":\"8f01c774-235e-4f94-86f4-fb30a3ff3433\",\"type\":\"BoxAnnotation\"},{\"id\":\"5cccaff2-a9a7-4a31-9761-182827f659a6\",\"type\":\"GlyphRenderer\"},{\"id\":\"02763e68-cee8-4b6e-abad-0a2cd5a24e77\",\"type\":\"GlyphRenderer\"},{\"id\":\"cb383bc5-b44a-4faa-916f-a92c2e0a9a88\",\"type\":\"GlyphRenderer\"}],\"title\":{\"id\":\"35e56647-ba2f-4385-8b62-f3e9b669cabd\",\"type\":\"Title\"},\"toolbar\":{\"id\":\"1fe4b4ac-5c15-4546-9ea7-7bf45bc60587\",\"type\":\"Toolbar\"},\"x_range\":{\"id\":\"b6882f0c-f5c7-4fa9-b504-b685fd0cf873\",\"type\":\"DataRange1d\"},\"x_scale\":{\"id\":\"20533a7d-3595-4696-ac77-4925ff774805\",\"type\":\"LinearScale\"},\"y_range\":{\"id\":\"8577252e-e871-4e3e-a644-886d23cb3573\",\"type\":\"DataRange1d\"},\"y_scale\":{\"id\":\"a957ef2e-831a-4356-b8ac-c8db2bbe6847\",\"type\":\"LinearScale\"}},\"id\":\"45af6c68-f3f4-4397-9b74-1f729c227c2a\",\"subtype\":\"Figure\",\"type\":\"Plot\"},{\"attributes\":{\"plot\":null,\"text\":\"\\u30a2\\u30c3\\u30d7\\u30eb\\u306e\\u682a\\u4fa1\"},\"id\":\"35e56647-ba2f-4385-8b62-f3e9b669cabd\",\"type\":\"Title\"},{\"attributes\":{\"source\":{\"id\":\"1106093f-aa24-47cd-88f4-42a0961e9a05\",\"type\":\"ColumnDataSource\"}},\"id\":\"f45feb30-77ed-47d5-b709-aec0e828d872\",\"type\":\"CDSView\"},{\"attributes\":{\"line_alpha\":{\"value\":0.1},\"line_color\":{\"value\":\"#1f77b4\"},\"x0\":{\"field\":\"x0\"},\"x1\":{\"field\":\"x1\"},\"y0\":{\"field\":\"y0\"},\"y1\":{\"field\":\"y1\"}},\"id\":\"20011723-d8fc-4750-95f0-23bbb8bcacde\",\"type\":\"Segment\"},{\"attributes\":{\"x0\":{\"field\":\"x0\"},\"x1\":{\"field\":\"x1\"},\"y0\":{\"field\":\"y0\"},\"y1\":{\"field\":\"y1\"}},\"id\":\"0f7bc6b9-e808-4ae7-819f-5dc042940f4c\",\"type\":\"Segment\"},{\"attributes\":{\"callback\":null},\"id\":\"b6882f0c-f5c7-4fa9-b504-b685fd0cf873\",\"type\":\"DataRange1d\"},{\"attributes\":{\"callback\":null},\"id\":\"8577252e-e871-4e3e-a644-886d23cb3573\",\"type\":\"DataRange1d\"},{\"attributes\":{},\"id\":\"20533a7d-3595-4696-ac77-4925ff774805\",\"type\":\"LinearScale\"},{\"attributes\":{\"active_drag\":\"auto\",\"active_inspect\":\"auto\",\"active_scroll\":\"auto\",\"active_tap\":\"auto\",\"tools\":[{\"id\":\"796ce8f6-f620-477c-890e-2ac005def170\",\"type\":\"HoverTool\"},{\"id\":\"bd7e3269-393a-4c0b-9a17-a1be48eb1f72\",\"type\":\"PanTool\"},{\"id\":\"9d3184b2-41f6-4625-9a9c-2ed77c6c3242\",\"type\":\"WheelZoomTool\"},{\"id\":\"f8adb779-f428-42d7-b187-f5a60ba2a71a\",\"type\":\"BoxZoomTool\"},{\"id\":\"d5feaf5a-5013-462f-878c-b53403b23a36\",\"type\":\"ResetTool\"}]},\"id\":\"1fe4b4ac-5c15-4546-9ea7-7bf45bc60587\",\"type\":\"Toolbar\"},{\"attributes\":{\"plot\":{\"id\":\"45af6c68-f3f4-4397-9b74-1f729c227c2a\",\"subtype\":\"Figure\",\"type\":\"Plot\"},\"ticker\":{\"id\":\"2915daac-58b8-448f-8c0d-df2da9c31219\",\"type\":\"DatetimeTicker\"}},\"id\":\"3d3fcb9b-860f-460f-a6da-e9a0dfd0939a\",\"type\":\"Grid\"},{\"attributes\":{},\"id\":\"a957ef2e-831a-4356-b8ac-c8db2bbe6847\",\"type\":\"LinearScale\"},{\"attributes\":{\"num_minor_ticks\":5,\"tickers\":[{\"id\":\"e9d927d5-518c-4b4e-8f51-6ca787ba1e6e\",\"type\":\"AdaptiveTicker\"},{\"id\":\"00207d9b-5994-49b2-9c41-a0d1db4bbe03\",\"type\":\"AdaptiveTicker\"},{\"id\":\"9f222aad-867b-46af-a5d4-014da7159f92\",\"type\":\"AdaptiveTicker\"},{\"id\":\"ef0f8eb2-a3b5-446b-b5f6-741677198044\",\"type\":\"DaysTicker\"},{\"id\":\"ebd20d78-27fd-4e3f-9748-ba26953f62e2\",\"type\":\"DaysTicker\"},{\"id\":\"83467309-f0d9-43e5-a1e9-83de1e1c5761\",\"type\":\"DaysTicker\"},{\"id\":\"8a542b34-118d-4b79-b075-f648b8663cea\",\"type\":\"DaysTicker\"},{\"id\":\"850f284e-65ca-4ee5-aeef-7f4198c1b0db\",\"type\":\"MonthsTicker\"},{\"id\":\"9fa7ed64-5990-4af3-b87f-3f3a80a86768\",\"type\":\"MonthsTicker\"},{\"id\":\"adbe5705-2c82-4177-8ce4-b603daccbc0c\",\"type\":\"MonthsTicker\"},{\"id\":\"401425aa-c544-4f09-a569-96c9bc4d7cec\",\"type\":\"MonthsTicker\"},{\"id\":\"d69d1991-791f-4277-8a73-ba529a17ea83\",\"type\":\"YearsTicker\"}]},\"id\":\"2915daac-58b8-448f-8c0d-df2da9c31219\",\"type\":\"DatetimeTicker\"},{\"attributes\":{\"formatter\":{\"id\":\"4a78a9dc-3340-4e76-be9c-844be71ba828\",\"type\":\"BasicTickFormatter\"},\"plot\":{\"id\":\"45af6c68-f3f4-4397-9b74-1f729c227c2a\",\"subtype\":\"Figure\",\"type\":\"Plot\"},\"ticker\":{\"id\":\"f4a16435-a27e-46b0-b7d8-41cff6be65e4\",\"type\":\"BasicTicker\"}},\"id\":\"aa06e641-c2b2-461c-b82c-cb5611f854f0\",\"type\":\"LinearAxis\"},{\"attributes\":{\"source\":{\"id\":\"2c7bd8c5-516e-48e2-bc99-39d1e972b339\",\"type\":\"ColumnDataSource\"}},\"id\":\"995cc1fc-f252-4f19-9633-e63117b479f1\",\"type\":\"CDSView\"},{\"attributes\":{},\"id\":\"f4a16435-a27e-46b0-b7d8-41cff6be65e4\",\"type\":\"BasicTicker\"},{\"attributes\":{\"dimension\":1,\"plot\":{\"id\":\"45af6c68-f3f4-4397-9b74-1f729c227c2a\",\"subtype\":\"Figure\",\"type\":\"Plot\"},\"ticker\":{\"id\":\"f4a16435-a27e-46b0-b7d8-41cff6be65e4\",\"type\":\"BasicTicker\"}},\"id\":\"0c716ccb-5c0e-47f8-81e4-5129c7202b7a\",\"type\":\"Grid\"},{\"attributes\":{\"callback\":null},\"id\":\"796ce8f6-f620-477c-890e-2ac005def170\",\"type\":\"HoverTool\"},{\"attributes\":{\"bottom_units\":\"screen\",\"fill_alpha\":{\"value\":0.5},\"fill_color\":{\"value\":\"lightgrey\"},\"left_units\":\"screen\",\"level\":\"overlay\",\"line_alpha\":{\"value\":1.0},\"line_color\":{\"value\":\"black\"},\"line_dash\":[4,4],\"line_width\":{\"value\":2},\"plot\":null,\"render_mode\":\"css\",\"right_units\":\"screen\",\"top_units\":\"screen\"},\"id\":\"8f01c774-235e-4f94-86f4-fb30a3ff3433\",\"type\":\"BoxAnnotation\"},{\"attributes\":{},\"id\":\"bd7e3269-393a-4c0b-9a17-a1be48eb1f72\",\"type\":\"PanTool\"},{\"attributes\":{},\"id\":\"9d3184b2-41f6-4625-9a9c-2ed77c6c3242\",\"type\":\"WheelZoomTool\"},{\"attributes\":{\"overlay\":{\"id\":\"8f01c774-235e-4f94-86f4-fb30a3ff3433\",\"type\":\"BoxAnnotation\"}},\"id\":\"f8adb779-f428-42d7-b187-f5a60ba2a71a\",\"type\":\"BoxZoomTool\"},{\"attributes\":{},\"id\":\"d5feaf5a-5013-462f-878c-b53403b23a36\",\"type\":\"ResetTool\"},{\"attributes\":{\"callback\":null,\"column_names\":[\"x0\",\"y0\",\"x1\",\"y1\"],\"data\":{\"x0\":{\"__ndarray__\":\"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\",\"dtype\":\"float64\",\"shape\":[416]},\"x1\":{\"__ndarray__\":\"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\",\"dtype\":\"float64\",\"shape\":[416]},\"y0\":{\"__ndarray__\":\"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\",\"dtype\":\"float64\",\"shape\":[416]},\"y1\":{\"__ndarray__\":\"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\",\"dtype\":\"float64\",\"shape\":[416]}}},\"id\":\"2c7bd8c5-516e-48e2-bc99-39d1e972b339\",\"type\":\"ColumnDataSource\"}],\"root_ids\":[\"45af6c68-f3f4-4397-9b74-1f729c227c2a\"]},\"title\":\"Bokeh Application\",\"version\":\"0.12.10\"}};\n",
       "    var render_items = [{\"docid\":\"6d2a9180-4d7c-44fe-bf3e-76495486dfa5\",\"elementid\":\"31fcd1b9-3739-43c5-94c4-841a241bedf5\",\"modelid\":\"45af6c68-f3f4-4397-9b74-1f729c227c2a\"}];\n",
       "\n",
       "    root.Bokeh.embed.embed_items(docs_json, render_items);\n",
       "  }\n",
       "\n",
       "  if (root.Bokeh !== undefined) {\n",
       "    embed_document(root);\n",
       "  } else {\n",
       "    var attempts = 0;\n",
       "    var timer = setInterval(function(root) {\n",
       "      if (root.Bokeh !== undefined) {\n",
       "        embed_document(root);\n",
       "        clearInterval(timer);\n",
       "      }\n",
       "      attempts++;\n",
       "      if (attempts > 100) {\n",
       "        console.log(\"Bokeh: ERROR: Unable to embed document because BokehJS library is missing\")\n",
       "        clearInterval(timer);\n",
       "      }\n",
       "    }, 10, root)\n",
       "  }\n",
       "})(window);"
      ],
      "application/vnd.bokehjs_exec.v0+json": ""
     },
     "metadata": {
      "application/vnd.bokehjs_exec.v0+json": {
       "id": "45af6c68-f3f4-4397-9b74-1f729c227c2a"
      }
     },
     "output_type": "display_data"
    }
   ],
   "source": [
    "tools = \"hover, pan, wheel_zoom, box_zoom, reset\"\n",
    "\n",
    "p = figure(x_axis_type='datetime', width=800, height=500, tools = tools, title='アップルの株価')\n",
    "\n",
    "inc = apple_w['close'] > apple_w['open']\n",
    "dec = apple_w['close'] < apple_w['open']\n",
    "w = 24 * 60 * 60 * 10000\n",
    "\n",
    "p.segment(apple_w.index, apple_w['high'], apple_w.index, apple_w['low'], color='black')\n",
    "p.vbar(apple_w.index[inc], w, apple_w['close'][inc], apple_w['open'][inc], fill_color='red', line_color='black')\n",
    "p.vbar(apple_w.index[dec], w, apple_w['close'][dec], apple_w['open'][dec], fill_color='blue', line_color='black')\n",
    "\n",
    "show(p)"
   ]
  },
  {
   "cell_type": "markdown",
   "metadata": {},
   "source": [
    "## 26週の移動平均線を足してみる"
   ]
  },
  {
   "cell_type": "code",
   "execution_count": 8,
   "metadata": {
    "collapsed": true
   },
   "outputs": [],
   "source": [
    "apple_w['26_w'] = apple_w['close'].rolling(26).mean()"
   ]
  },
  {
   "cell_type": "code",
   "execution_count": 9,
   "metadata": {},
   "outputs": [
    {
     "data": {
      "text/html": [
       "\n",
       "<div class=\"bk-root\">\n",
       "    <div class=\"bk-plotdiv\" id=\"6b409d9c-5ebe-4fc5-9412-f2feea7d46c0\"></div>\n",
       "</div>"
      ]
     },
     "metadata": {},
     "output_type": "display_data"
    },
    {
     "data": {
      "application/javascript": [
       "(function(root) {\n",
       "  function embed_document(root) {\n",
       "    var docs_json = {\"f6cfe17f-ba8d-4065-ab63-10507d10493f\":{\"roots\":{\"references\":[{\"attributes\":{\"days\":[1,2,3,4,5,6,7,8,9,10,11,12,13,14,15,16,17,18,19,20,21,22,23,24,25,26,27,28,29,30,31]},\"id\":\"bae33478-7c9d-42d2-b410-936934e59a13\",\"type\":\"DaysTicker\"},{\"attributes\":{\"days\":[1,4,7,10,13,16,19,22,25,28]},\"id\":\"83abb06f-352d-4715-879e-adbbc17d3d22\",\"type\":\"DaysTicker\"},{\"attributes\":{\"days\":[1,8,15,22]},\"id\":\"c8db08b3-fe46-4112-8169-8690854d60b0\",\"type\":\"DaysTicker\"},{\"attributes\":{\"days\":[1,15]},\"id\":\"cc24950c-97a7-4b4c-981b-d9a54a84dc08\",\"type\":\"DaysTicker\"},{\"attributes\":{\"months\":[0,1,2,3,4,5,6,7,8,9,10,11]},\"id\":\"ef51f523-36f4-4243-bd99-20286d6dfbad\",\"type\":\"MonthsTicker\"},{\"attributes\":{\"months\":[0,2,4,6,8,10]},\"id\":\"9a962020-7844-4e2f-a3df-e576fa7f68a8\",\"type\":\"MonthsTicker\"},{\"attributes\":{\"months\":[0,4,8]},\"id\":\"62348fe7-2a7d-46d0-9a28-4402f3288ddd\",\"type\":\"MonthsTicker\"},{\"attributes\":{\"months\":[0,6]},\"id\":\"68df6bcb-11bc-4b04-bb79-4c7179203011\",\"type\":\"MonthsTicker\"},{\"attributes\":{},\"id\":\"a59b75fe-ed6b-40df-b257-161a161320eb\",\"type\":\"YearsTicker\"},{\"attributes\":{\"callback\":null},\"id\":\"283b6e1f-a0da-40be-92eb-003c9444e156\",\"type\":\"DataRange1d\"},{\"attributes\":{\"callback\":null,\"column_names\":[\"x\",\"top\",\"bottom\"],\"data\":{\"bottom\":{\"__ndarray__\":\"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\",\"dtype\":\"float64\",\"shape\":[222]},\"top\":{\"__ndarray__\":\"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\",\"dtype\":\"float64\",\"shape\":[222]},\"x\":{\"__ndarray__\":\"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\",\"dtype\":\"float64\",\"shape\":[222]}}},\"id\":\"b470eab3-cc8f-43b4-b5ff-b375bd430b06\",\"type\":\"ColumnDataSource\"},{\"attributes\":{\"bottom\":{\"field\":\"bottom\"},\"fill_color\":{\"value\":\"red\"},\"top\":{\"field\":\"top\"},\"width\":{\"value\":864000000},\"x\":{\"field\":\"x\"}},\"id\":\"b7a538ac-f6d5-49ab-b851-fe3de1a32684\",\"type\":\"VBar\"},{\"attributes\":{\"bottom\":{\"field\":\"bottom\"},\"fill_alpha\":{\"value\":0.1},\"fill_color\":{\"value\":\"#1f77b4\"},\"line_alpha\":{\"value\":0.1},\"line_color\":{\"value\":\"#1f77b4\"},\"top\":{\"field\":\"top\"},\"width\":{\"value\":864000000},\"x\":{\"field\":\"x\"}},\"id\":\"cf8a08d7-1d05-44e1-af3a-2e8b67993126\",\"type\":\"VBar\"},{\"attributes\":{\"data_source\":{\"id\":\"b470eab3-cc8f-43b4-b5ff-b375bd430b06\",\"type\":\"ColumnDataSource\"},\"glyph\":{\"id\":\"b7a538ac-f6d5-49ab-b851-fe3de1a32684\",\"type\":\"VBar\"},\"hover_glyph\":null,\"muted_glyph\":null,\"nonselection_glyph\":{\"id\":\"cf8a08d7-1d05-44e1-af3a-2e8b67993126\",\"type\":\"VBar\"},\"selection_glyph\":null,\"view\":{\"id\":\"593d250f-5b32-482a-84b3-0c9258a765da\",\"type\":\"CDSView\"}},\"id\":\"9c9f338c-426b-41b0-bb3a-58070409c036\",\"type\":\"GlyphRenderer\"},{\"attributes\":{\"source\":{\"id\":\"b470eab3-cc8f-43b4-b5ff-b375bd430b06\",\"type\":\"ColumnDataSource\"}},\"id\":\"593d250f-5b32-482a-84b3-0c9258a765da\",\"type\":\"CDSView\"},{\"attributes\":{\"line_alpha\":{\"value\":0.1},\"line_color\":{\"value\":\"#1f77b4\"},\"x0\":{\"field\":\"x0\"},\"x1\":{\"field\":\"x1\"},\"y0\":{\"field\":\"y0\"},\"y1\":{\"field\":\"y1\"}},\"id\":\"14d7486c-1ad6-4c06-9399-f0f77461af3b\",\"type\":\"Segment\"},{\"attributes\":{\"data_source\":{\"id\":\"4dd8942a-1bb1-48ac-9702-b5a7af95cfe3\",\"type\":\"ColumnDataSource\"},\"glyph\":{\"id\":\"fbe6c5c8-53de-4875-a11b-6d091dafafb7\",\"type\":\"Line\"},\"hover_glyph\":null,\"muted_glyph\":null,\"nonselection_glyph\":{\"id\":\"2c2174d6-8a90-4f62-a608-cf212acd5fff\",\"type\":\"Line\"},\"selection_glyph\":null,\"view\":{\"id\":\"50b38f81-e9d5-487c-aba9-ae835ef5631b\",\"type\":\"CDSView\"}},\"id\":\"4d111b99-06db-40b0-a6d4-83ea33ec4444\",\"type\":\"GlyphRenderer\"},{\"attributes\":{\"callback\":null,\"column_names\":[\"x\",\"top\",\"bottom\"],\"data\":{\"bottom\":{\"__ndarray__\":\"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\",\"dtype\":\"float64\",\"shape\":[194]},\"top\":{\"__ndarray__\":\"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\",\"dtype\":\"float64\",\"shape\":[194]},\"x\":{\"__ndarray__\":\"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\",\"dtype\":\"float64\",\"shape\":[194]}}},\"id\":\"77edbbcf-a5f1-4940-b116-6e25b96365b5\",\"type\":\"ColumnDataSource\"},{\"attributes\":{\"bottom\":{\"field\":\"bottom\"},\"fill_color\":{\"value\":\"blue\"},\"top\":{\"field\":\"top\"},\"width\":{\"value\":864000000},\"x\":{\"field\":\"x\"}},\"id\":\"1ff593a2-168c-4529-8c58-7ed0a4662387\",\"type\":\"VBar\"},{\"attributes\":{\"bottom\":{\"field\":\"bottom\"},\"fill_alpha\":{\"value\":0.1},\"fill_color\":{\"value\":\"#1f77b4\"},\"line_alpha\":{\"value\":0.1},\"line_color\":{\"value\":\"#1f77b4\"},\"top\":{\"field\":\"top\"},\"width\":{\"value\":864000000},\"x\":{\"field\":\"x\"}},\"id\":\"650280e3-7990-4546-8d7a-6367f095e2a3\",\"type\":\"VBar\"},{\"attributes\":{\"data_source\":{\"id\":\"77edbbcf-a5f1-4940-b116-6e25b96365b5\",\"type\":\"ColumnDataSource\"},\"glyph\":{\"id\":\"1ff593a2-168c-4529-8c58-7ed0a4662387\",\"type\":\"VBar\"},\"hover_glyph\":null,\"muted_glyph\":null,\"nonselection_glyph\":{\"id\":\"650280e3-7990-4546-8d7a-6367f095e2a3\",\"type\":\"VBar\"},\"selection_glyph\":null,\"view\":{\"id\":\"ceb21d36-f36a-444c-a696-899a6addd866\",\"type\":\"CDSView\"}},\"id\":\"2cdb745e-69b5-4282-96ab-58b583b34c59\",\"type\":\"GlyphRenderer\"},{\"attributes\":{\"source\":{\"id\":\"77edbbcf-a5f1-4940-b116-6e25b96365b5\",\"type\":\"ColumnDataSource\"}},\"id\":\"ceb21d36-f36a-444c-a696-899a6addd866\",\"type\":\"CDSView\"},{\"attributes\":{},\"id\":\"2f231347-525e-4f0a-9ab6-c310f01bf3b8\",\"type\":\"BasicTickFormatter\"},{\"attributes\":{\"callback\":null,\"column_names\":[\"x\",\"y\"],\"data\":{\"x\":{\"__ndarray__\":\"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\",\"dtype\":\"float64\",\"shape\":[416]},\"y\":{\"__ndarray__\":\"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\",\"dtype\":\"float64\",\"shape\":[416]}}},\"id\":\"4dd8942a-1bb1-48ac-9702-b5a7af95cfe3\",\"type\":\"ColumnDataSource\"},{\"attributes\":{},\"id\":\"b1c54974-93ae-4f5d-acc7-4b4baad60a3e\",\"type\":\"ResetTool\"},{\"attributes\":{\"dimension\":1,\"plot\":{\"id\":\"a6b20e55-1832-464c-b26a-df698e4cc659\",\"subtype\":\"Figure\",\"type\":\"Plot\"},\"ticker\":{\"id\":\"7ff864d6-6019-4865-941c-d6614b5b9a3f\",\"type\":\"BasicTicker\"}},\"id\":\"2d0e4af6-4e75-45b1-8abe-a4f2f245db52\",\"type\":\"Grid\"},{\"attributes\":{\"source\":{\"id\":\"4dd8942a-1bb1-48ac-9702-b5a7af95cfe3\",\"type\":\"ColumnDataSource\"}},\"id\":\"50b38f81-e9d5-487c-aba9-ae835ef5631b\",\"type\":\"CDSView\"},{\"attributes\":{\"line_color\":{\"value\":\"pink\"},\"x\":{\"field\":\"x\"},\"y\":{\"field\":\"y\"}},\"id\":\"fbe6c5c8-53de-4875-a11b-6d091dafafb7\",\"type\":\"Line\"},{\"attributes\":{\"data_source\":{\"id\":\"87f7e28e-6f62-45c7-a84f-259fc8626564\",\"type\":\"ColumnDataSource\"},\"glyph\":{\"id\":\"6346156c-8600-4958-984a-5441fc2277b7\",\"type\":\"Segment\"},\"hover_glyph\":null,\"muted_glyph\":null,\"nonselection_glyph\":{\"id\":\"14d7486c-1ad6-4c06-9399-f0f77461af3b\",\"type\":\"Segment\"},\"selection_glyph\":null,\"view\":{\"id\":\"9052ad49-4faa-4729-9c63-0558de23a6b0\",\"type\":\"CDSView\"}},\"id\":\"307c8889-dfc3-4608-843c-c13fbb6181c3\",\"type\":\"GlyphRenderer\"},{\"attributes\":{\"line_alpha\":{\"value\":0.1},\"line_color\":{\"value\":\"#1f77b4\"},\"x\":{\"field\":\"x\"},\"y\":{\"field\":\"y\"}},\"id\":\"2c2174d6-8a90-4f62-a608-cf212acd5fff\",\"type\":\"Line\"},{\"attributes\":{\"base\":24,\"mantissas\":[1,2,4,6,8,12],\"max_interval\":43200000.0,\"min_interval\":3600000.0,\"num_minor_ticks\":0},\"id\":\"20e4b424-3c6c-446a-bb8c-f23b30b7e30b\",\"type\":\"AdaptiveTicker\"},{\"attributes\":{\"mantissas\":[1,2,5],\"max_interval\":500.0,\"num_minor_ticks\":0},\"id\":\"8936f3e2-c63b-414a-8eb8-f0f409c1b5a3\",\"type\":\"AdaptiveTicker\"},{\"attributes\":{},\"id\":\"6fc449a1-f13b-4d43-9633-41afa7ec40a0\",\"type\":\"DatetimeTickFormatter\"},{\"attributes\":{\"source\":{\"id\":\"87f7e28e-6f62-45c7-a84f-259fc8626564\",\"type\":\"ColumnDataSource\"}},\"id\":\"9052ad49-4faa-4729-9c63-0558de23a6b0\",\"type\":\"CDSView\"},{\"attributes\":{\"callback\":null,\"column_names\":[\"x0\",\"y0\",\"x1\",\"y1\"],\"data\":{\"x0\":{\"__ndarray__\":\"AAAAsxdfckIAAEB7WGFyQgAAgEOZY3JCAADAC9plckIAAADUGmhyQgAAQJxbanJCAACAZJxsckIAAMAs3W5yQgAAAPUdcXJCAABAvV5zckIAAICFn3VyQgAAwE3gd3JCAAAAFiF6ckIAAEDeYXxyQgAAgKaifnJCAADAbuOAckIAAAA3JINyQgAAQP9khXJCAACAx6WHckIAAMCP5olyQgAAAFgnjHJCAABAIGiOckIAAIDoqJByQgAAwLDpknJCAAAAeSqVckIAAEBBa5dyQgAAgAmsmXJCAADA0eybckIAAACaLZ5yQgAAQGJuoHJCAACAKq+ickIAAMDy76RyQgAAALswp3JCAABAg3GpckIAAIBLsqtyQgAAwBPzrXJCAAAA3DOwckIAAECkdLJyQgAAgGy1tHJCAADANPa2ckIAAAD9NrlyQgAAQMV3u3JCAACAjbi9ckIAAMBV+b9yQgAAAB46wnJCAABA5nrEckIAAICuu8ZyQgAAwHb8yHJCAAAAPz3LckIAAEAHfs1yQgAAgM++z3JCAADAl//RckIAAABgQNRyQgAAQCiB1nJCAACA8MHYckIAAMC4AttyQgAAAIFD3XJCAABASYTfckIAAIARxeFyQgAAwNkF5HJCAAAAokbmckIAAEBqh+hyQgAAgDLI6nJCAADA+gjtckIAAADDSe9yQgAAQIuK8XJCAACAU8vzckIAAMAbDPZyQgAAAORM+HJCAABArI36ckIAAIB0zvxyQgAAwDwP/3JCAAAABVABc0IAAEDNkANzQgAAgJXRBXNCAADAXRIIc0IAAAAmUwpzQgAAQO6TDHNCAACAttQOc0IAAMB+FRFzQgAAAEdWE3NCAABAD5cVc0IAAIDX1xdzQgAAwJ8YGnNCAAAAaFkcc0IAAEAwmh5zQgAAgPjaIHNCAADAwBsjc0IAAACJXCVzQgAAQFGdJ3NCAACAGd4pc0IAAMDhHixzQgAAAKpfLnNCAABAcqAwc0IAAIA64TJzQgAAwAIiNXNCAAAAy2I3c0IAAECTozlzQgAAgFvkO3NCAADAIyU+c0IAAADsZUBzQgAAQLSmQnNCAACAfOdEc0IAAMBEKEdzQgAAAA1pSXNCAABA1alLc0IAAICd6k1zQgAAwGUrUHNCAAAALmxSc0IAAED2rFRzQgAAgL7tVnNCAADAhi5Zc0IAAABPb1tzQgAAQBewXXNCAACA3/Bfc0IAAMCnMWJzQgAAAHByZHNCAABAOLNmc0IAAIAA9GhzQgAAwMg0a3NCAAAAkXVtc0IAAEBZtm9zQgAAgCH3cXNCAADA6Td0c0IAAACyeHZzQgAAQHq5eHNCAACAQvp6c0IAAMAKO31zQgAAANN7f3NCAABAm7yBc0IAAIBj/YNzQgAAwCs+hnNCAAAA9H6Ic0IAAEC8v4pzQgAAgIQAjXNCAADATEGPc0IAAAAVgpFzQgAAQN3Ck3NCAACApQOWc0IAAMBtRJhzQgAAADaFmnNCAABA/sWcc0IAAIDGBp9zQgAAwI5HoXNCAAAAV4ijc0IAAEAfyaVzQgAAgOcJqHNCAADAr0qqc0IAAAB4i6xzQgAAQEDMrnNCAACACA2xc0IAAMDQTbNzQgAAAJmOtXNCAABAYc+3c0IAAIApELpzQgAAwPFQvHNCAAAAupG+c0IAAECC0sBzQgAAgEoTw3NCAADAElTFc0IAAADblMdzQgAAQKPVyXNCAACAaxbMc0IAAMAzV85zQgAAAPyX0HNCAABAxNjSc0IAAICMGdVzQgAAwFRa13NCAAAAHZvZc0IAAEDl29tzQgAAgK0c3nNCAADAdV3gc0IAAAA+nuJzQgAAQAbf5HNCAACAzh/nc0IAAMCWYOlzQgAAAF+h63NCAABAJ+Ltc0IAAIDvIvBzQgAAwLdj8nNCAAAAgKT0c0IAAEBI5fZzQgAAgBAm+XNCAADA2Gb7c0IAAAChp/1zQgAAQGno/3NCAACAMSkCdEIAAMD5aQR0QgAAAMKqBnRCAABAiusIdEIAAIBSLAt0QgAAwBptDXRCAAAA460PdEIAAECr7hF0QgAAgHMvFHRCAADAO3AWdEIAAAAEsRh0QgAAQMzxGnRCAACAlDIddEIAAMBccx90QgAAACW0IXRCAABA7fQjdEIAAIC1NSZ0QgAAwH12KHRCAAAARrcqdEIAAEAO+Cx0QgAAgNY4L3RCAADAnnkxdEIAAABnujN0QgAAQC/7NXRCAACA9zs4dEIAAMC/fDp0QgAAAIi9PHRCAABAUP4+dEIAAIAYP0F0QgAAwOB/Q3RCAAAAqcBFdEIAAEBxAUh0QgAAgDlCSnRCAADAAYNMdEIAAADKw050QgAAQJIEUXRCAACAWkVTdEIAAMAihlV0QgAAAOvGV3RCAABAswdadEIAAIB7SFx0QgAAwEOJXnRCAAAADMpgdEIAAEDUCmN0QgAAgJxLZXRCAADAZIxndEIAAAAtzWl0QgAAQPUNbHRCAACAvU5udEIAAMCFj3B0QgAAAE7QcnRCAABAFhF1dEIAAIDeUXd0QgAAwKaSeXRCAAAAb9N7dEIAAEA3FH50QgAAgP9UgHRCAADAx5WCdEIAAACQ1oR0QgAAQFgXh3RCAACAIFiJdEIAAMDomIt0QgAAALHZjXRCAABAeRqQdEIAAIBBW5J0QgAAwAmclHRCAAAA0tyWdEIAAECaHZl0QgAAgGJem3RCAADAKp+ddEIAAADz3590QgAAQLsgonRCAACAg2GkdEIAAMBLoqZ0QgAAABTjqHRCAABA3COrdEIAAICkZK10QgAAwGylr3RCAAAANeaxdEIAAED9JrR0QgAAgMVntnRCAADAjai4dEIAAABW6bp0QgAAQB4qvXRCAACA5mq/dEIAAMCuq8F0QgAAAHfsw3RCAABAPy3GdEIAAIAHbsh0QgAAwM+uynRCAAAAmO/MdEIAAEBgMM90QgAAgChx0XRCAADA8LHTdEIAAAC58tV0QgAAQIEz2HRCAACASXTadEIAAMARtdx0QgAAANr13nRCAABAojbhdEIAAIBqd+N0QgAAwDK45XRCAAAA+/jndEIAAEDDOep0QgAAgIt67HRCAADAU7vudEIAAAAc/PB0QgAAQOQ883RCAACArH31dEIAAMB0vvd0QgAAAD3/+XRCAABABUD8dEIAAIDNgP50QgAAwJXBAHVCAAAAXgIDdUIAAEAmQwV1QgAAgO6DB3VCAADAtsQJdUIAAAB/BQx1QgAAQEdGDnVCAACAD4cQdUIAAMDXxxJ1QgAAAKAIFXVCAABAaEkXdUIAAIAwihl1QgAAwPjKG3VCAAAAwQsedUIAAECJTCB1QgAAgFGNInVCAADAGc4kdUIAAADiDid1QgAAQKpPKXVCAACAcpArdUIAAMA60S11QgAAAAMSMHVCAABAy1IydUIAAICTkzR1QgAAwFvUNnVCAAAAJBU5dUIAAEDsVTt1QgAAgLSWPXVCAADAfNc/dUIAAABFGEJ1QgAAQA1ZRHVCAACA1ZlGdUIAAMCd2kh1QgAAAGYbS3VCAABALlxNdUIAAID2nE91QgAAwL7dUXVCAAAAhx5UdUIAAEBPX1Z1QgAAgBegWHVCAADA3+BadUIAAACoIV11QgAAQHBiX3VCAACAOKNhdUIAAMAA5GN1QgAAAMkkZnVCAABAkWVodUIAAIBZpmp1QgAAwCHnbHVCAAAA6idvdUIAAECyaHF1QgAAgHqpc3VCAADAQup1dUIAAAALK3h1QgAAQNNrenVCAACAm6x8dUIAAMBj7X51QgAAACwugXVCAABA9G6DdUIAAIC8r4V1QgAAwITwh3VCAAAATTGKdUIAAEAVcox1QgAAgN2yjnVCAADApfOQdUIAAABuNJN1QgAAQDZ1lXVCAACA/rWXdUIAAMDG9pl1QgAAAI83nHVCAABAV3iedUIAAIAfuaB1QgAAwOf5onVCAAAAsDqldUIAAEB4e6d1QgAAgEC8qXVCAADACP2rdUIAAADRPa51QgAAQJl+sHVCAACAYb+ydUIAAMApALV1QgAAAPJAt3VCAABAuoG5dUIAAICCwrt1QgAAwEoDvnVCAAAAE0TAdUIAAEDbhMJ1QgAAgKPFxHVCAADAawbHdUIAAAA0R8l1QgAAQPyHy3VCAACAxMjNdUIAAMCMCdB1QgAAAFVK0nVCAABAHYvUdUIAAIDly9Z1QgAAwK0M2XVCAAAAdk3bdUIAAEA+jt11QgAAgAbP33VCAADAzg/idUIAAACXUOR1QgAAQF+R5nVCAACAJ9LodUIAAMDvEut1QgAAALhT7XVCAABAgJTvdUIAAIBI1fF1QgAAwBAW9HVCAAAA2Vb2dUIAAEChl/h1QgAAgGnY+nVCAADAMRn9dUIAAAD6Wf91QgAAQMKaAXZCAACAitsDdkIAAMBSHAZ2Qg==\",\"dtype\":\"float64\",\"shape\":[416]},\"x1\":{\"__ndarray__\":\"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\",\"dtype\":\"float64\",\"shape\":[416]},\"y0\":{\"__ndarray__\":\"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\",\"dtype\":\"float64\",\"shape\":[416]},\"y1\":{\"__ndarray__\":\"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\",\"dtype\":\"float64\",\"shape\":[416]}}},\"id\":\"87f7e28e-6f62-45c7-a84f-259fc8626564\",\"type\":\"ColumnDataSource\"},{\"attributes\":{\"plot\":null,\"text\":\"\\u30a2\\u30c3\\u30d7\\u30eb\\u306e\\u682a\\u4fa1\"},\"id\":\"634021d9-0925-445a-add9-8f754d9e142b\",\"type\":\"Title\"},{\"attributes\":{\"plot\":{\"id\":\"a6b20e55-1832-464c-b26a-df698e4cc659\",\"subtype\":\"Figure\",\"type\":\"Plot\"},\"ticker\":{\"id\":\"f4feea85-81ce-4826-9825-2a96a584d08e\",\"type\":\"DatetimeTicker\"}},\"id\":\"dc37b9cb-a298-4e1f-98e7-9a9774178946\",\"type\":\"Grid\"},{\"attributes\":{\"below\":[{\"id\":\"783bd58f-7c08-4f02-908b-6ed51f2f2c05\",\"type\":\"DatetimeAxis\"}],\"left\":[{\"id\":\"3f1d4b60-e650-44b5-86df-475c29054ebe\",\"type\":\"LinearAxis\"}],\"plot_height\":500,\"plot_width\":800,\"renderers\":[{\"id\":\"783bd58f-7c08-4f02-908b-6ed51f2f2c05\",\"type\":\"DatetimeAxis\"},{\"id\":\"dc37b9cb-a298-4e1f-98e7-9a9774178946\",\"type\":\"Grid\"},{\"id\":\"3f1d4b60-e650-44b5-86df-475c29054ebe\",\"type\":\"LinearAxis\"},{\"id\":\"2d0e4af6-4e75-45b1-8abe-a4f2f245db52\",\"type\":\"Grid\"},{\"id\":\"7f2b6fc4-20b1-4c09-9867-f3ca64f02fb1\",\"type\":\"BoxAnnotation\"},{\"id\":\"307c8889-dfc3-4608-843c-c13fbb6181c3\",\"type\":\"GlyphRenderer\"},{\"id\":\"9c9f338c-426b-41b0-bb3a-58070409c036\",\"type\":\"GlyphRenderer\"},{\"id\":\"2cdb745e-69b5-4282-96ab-58b583b34c59\",\"type\":\"GlyphRenderer\"},{\"id\":\"4d111b99-06db-40b0-a6d4-83ea33ec4444\",\"type\":\"GlyphRenderer\"}],\"title\":{\"id\":\"634021d9-0925-445a-add9-8f754d9e142b\",\"type\":\"Title\"},\"toolbar\":{\"id\":\"d80be32c-538f-43e6-b412-3cacdc8744c3\",\"type\":\"Toolbar\"},\"x_range\":{\"id\":\"d9d13292-662d-4fde-9e9d-f37a49dedadd\",\"type\":\"DataRange1d\"},\"x_scale\":{\"id\":\"3283199d-afc0-4c00-912c-c64e3ae43798\",\"type\":\"LinearScale\"},\"y_range\":{\"id\":\"283b6e1f-a0da-40be-92eb-003c9444e156\",\"type\":\"DataRange1d\"},\"y_scale\":{\"id\":\"b8933e81-5286-47e5-8533-685eaec8901f\",\"type\":\"LinearScale\"}},\"id\":\"a6b20e55-1832-464c-b26a-df698e4cc659\",\"subtype\":\"Figure\",\"type\":\"Plot\"},{\"attributes\":{\"num_minor_ticks\":5,\"tickers\":[{\"id\":\"8936f3e2-c63b-414a-8eb8-f0f409c1b5a3\",\"type\":\"AdaptiveTicker\"},{\"id\":\"6fe496c7-33f7-42d8-a265-0b20a9b243ba\",\"type\":\"AdaptiveTicker\"},{\"id\":\"20e4b424-3c6c-446a-bb8c-f23b30b7e30b\",\"type\":\"AdaptiveTicker\"},{\"id\":\"bae33478-7c9d-42d2-b410-936934e59a13\",\"type\":\"DaysTicker\"},{\"id\":\"83abb06f-352d-4715-879e-adbbc17d3d22\",\"type\":\"DaysTicker\"},{\"id\":\"c8db08b3-fe46-4112-8169-8690854d60b0\",\"type\":\"DaysTicker\"},{\"id\":\"cc24950c-97a7-4b4c-981b-d9a54a84dc08\",\"type\":\"DaysTicker\"},{\"id\":\"ef51f523-36f4-4243-bd99-20286d6dfbad\",\"type\":\"MonthsTicker\"},{\"id\":\"9a962020-7844-4e2f-a3df-e576fa7f68a8\",\"type\":\"MonthsTicker\"},{\"id\":\"62348fe7-2a7d-46d0-9a28-4402f3288ddd\",\"type\":\"MonthsTicker\"},{\"id\":\"68df6bcb-11bc-4b04-bb79-4c7179203011\",\"type\":\"MonthsTicker\"},{\"id\":\"a59b75fe-ed6b-40df-b257-161a161320eb\",\"type\":\"YearsTicker\"}]},\"id\":\"f4feea85-81ce-4826-9825-2a96a584d08e\",\"type\":\"DatetimeTicker\"},{\"attributes\":{\"formatter\":{\"id\":\"2f231347-525e-4f0a-9ab6-c310f01bf3b8\",\"type\":\"BasicTickFormatter\"},\"plot\":{\"id\":\"a6b20e55-1832-464c-b26a-df698e4cc659\",\"subtype\":\"Figure\",\"type\":\"Plot\"},\"ticker\":{\"id\":\"7ff864d6-6019-4865-941c-d6614b5b9a3f\",\"type\":\"BasicTicker\"}},\"id\":\"3f1d4b60-e650-44b5-86df-475c29054ebe\",\"type\":\"LinearAxis\"},{\"attributes\":{\"callback\":null},\"id\":\"d9d13292-662d-4fde-9e9d-f37a49dedadd\",\"type\":\"DataRange1d\"},{\"attributes\":{\"formatter\":{\"id\":\"6fc449a1-f13b-4d43-9633-41afa7ec40a0\",\"type\":\"DatetimeTickFormatter\"},\"plot\":{\"id\":\"a6b20e55-1832-464c-b26a-df698e4cc659\",\"subtype\":\"Figure\",\"type\":\"Plot\"},\"ticker\":{\"id\":\"f4feea85-81ce-4826-9825-2a96a584d08e\",\"type\":\"DatetimeTicker\"}},\"id\":\"783bd58f-7c08-4f02-908b-6ed51f2f2c05\",\"type\":\"DatetimeAxis\"},{\"attributes\":{},\"id\":\"3283199d-afc0-4c00-912c-c64e3ae43798\",\"type\":\"LinearScale\"},{\"attributes\":{\"overlay\":{\"id\":\"7f2b6fc4-20b1-4c09-9867-f3ca64f02fb1\",\"type\":\"BoxAnnotation\"}},\"id\":\"27e013de-2941-42bc-972b-6b1709200e1d\",\"type\":\"BoxZoomTool\"},{\"attributes\":{},\"id\":\"7ff864d6-6019-4865-941c-d6614b5b9a3f\",\"type\":\"BasicTicker\"},{\"attributes\":{},\"id\":\"b8933e81-5286-47e5-8533-685eaec8901f\",\"type\":\"LinearScale\"},{\"attributes\":{\"active_drag\":\"auto\",\"active_inspect\":\"auto\",\"active_scroll\":\"auto\",\"active_tap\":\"auto\",\"tools\":[{\"id\":\"58f46bc8-ebc6-41fa-9a99-e404d5649b70\",\"type\":\"HoverTool\"},{\"id\":\"5060c203-e760-46c8-944e-52bcbfa2bf9a\",\"type\":\"PanTool\"},{\"id\":\"8d5a5233-f7e6-472b-b955-b990034c4387\",\"type\":\"WheelZoomTool\"},{\"id\":\"27e013de-2941-42bc-972b-6b1709200e1d\",\"type\":\"BoxZoomTool\"},{\"id\":\"b1c54974-93ae-4f5d-acc7-4b4baad60a3e\",\"type\":\"ResetTool\"}]},\"id\":\"d80be32c-538f-43e6-b412-3cacdc8744c3\",\"type\":\"Toolbar\"},{\"attributes\":{\"base\":60,\"mantissas\":[1,2,5,10,15,20,30],\"max_interval\":1800000.0,\"min_interval\":1000.0,\"num_minor_ticks\":0},\"id\":\"6fe496c7-33f7-42d8-a265-0b20a9b243ba\",\"type\":\"AdaptiveTicker\"},{\"attributes\":{},\"id\":\"8d5a5233-f7e6-472b-b955-b990034c4387\",\"type\":\"WheelZoomTool\"},{\"attributes\":{},\"id\":\"5060c203-e760-46c8-944e-52bcbfa2bf9a\",\"type\":\"PanTool\"},{\"attributes\":{\"callback\":null},\"id\":\"58f46bc8-ebc6-41fa-9a99-e404d5649b70\",\"type\":\"HoverTool\"},{\"attributes\":{\"bottom_units\":\"screen\",\"fill_alpha\":{\"value\":0.5},\"fill_color\":{\"value\":\"lightgrey\"},\"left_units\":\"screen\",\"level\":\"overlay\",\"line_alpha\":{\"value\":1.0},\"line_color\":{\"value\":\"black\"},\"line_dash\":[4,4],\"line_width\":{\"value\":2},\"plot\":null,\"render_mode\":\"css\",\"right_units\":\"screen\",\"top_units\":\"screen\"},\"id\":\"7f2b6fc4-20b1-4c09-9867-f3ca64f02fb1\",\"type\":\"BoxAnnotation\"},{\"attributes\":{\"x0\":{\"field\":\"x0\"},\"x1\":{\"field\":\"x1\"},\"y0\":{\"field\":\"y0\"},\"y1\":{\"field\":\"y1\"}},\"id\":\"6346156c-8600-4958-984a-5441fc2277b7\",\"type\":\"Segment\"}],\"root_ids\":[\"a6b20e55-1832-464c-b26a-df698e4cc659\"]},\"title\":\"Bokeh Application\",\"version\":\"0.12.10\"}};\n",
       "    var render_items = [{\"docid\":\"f6cfe17f-ba8d-4065-ab63-10507d10493f\",\"elementid\":\"6b409d9c-5ebe-4fc5-9412-f2feea7d46c0\",\"modelid\":\"a6b20e55-1832-464c-b26a-df698e4cc659\"}];\n",
       "\n",
       "    root.Bokeh.embed.embed_items(docs_json, render_items);\n",
       "  }\n",
       "\n",
       "  if (root.Bokeh !== undefined) {\n",
       "    embed_document(root);\n",
       "  } else {\n",
       "    var attempts = 0;\n",
       "    var timer = setInterval(function(root) {\n",
       "      if (root.Bokeh !== undefined) {\n",
       "        embed_document(root);\n",
       "        clearInterval(timer);\n",
       "      }\n",
       "      attempts++;\n",
       "      if (attempts > 100) {\n",
       "        console.log(\"Bokeh: ERROR: Unable to embed document because BokehJS library is missing\")\n",
       "        clearInterval(timer);\n",
       "      }\n",
       "    }, 10, root)\n",
       "  }\n",
       "})(window);"
      ],
      "application/vnd.bokehjs_exec.v0+json": ""
     },
     "metadata": {
      "application/vnd.bokehjs_exec.v0+json": {
       "id": "a6b20e55-1832-464c-b26a-df698e4cc659"
      }
     },
     "output_type": "display_data"
    }
   ],
   "source": [
    "tools = \"hover, pan, wheel_zoom, box_zoom, reset\"\n",
    "\n",
    "p = figure(x_axis_type='datetime', width=800, height=500, tools = tools, title='アップルの株価')\n",
    "\n",
    "inc = apple_w['close'] > apple_w['open']\n",
    "dec = apple_w['close'] < apple_w['open']\n",
    "w = 24 * 60 * 60 * 10000\n",
    "\n",
    "p.segment(apple_w.index, apple_w['high'], apple_w.index, apple_w['low'], color='black')\n",
    "p.vbar(apple_w.index[inc], w, apple_w['close'][inc], apple_w['open'][inc], fill_color='red', line_color='black')\n",
    "p.vbar(apple_w.index[dec], w, apple_w['close'][dec], apple_w['open'][dec], fill_color='blue', line_color='black')\n",
    "\n",
    "p.line(apple_w.index, apple_w['26_w'], line_color='pink')\n",
    "\n",
    "show(p)"
   ]
  },
  {
   "cell_type": "code",
   "execution_count": 10,
   "metadata": {},
   "outputs": [],
   "source": [
    "apple_w['chg'] = apple_w['close'].pct_change()"
   ]
  },
  {
   "cell_type": "code",
   "execution_count": 11,
   "metadata": {},
   "outputs": [
    {
     "data": {
      "text/html": [
       "<div>\n",
       "<style>\n",
       "    .dataframe thead tr:only-child th {\n",
       "        text-align: right;\n",
       "    }\n",
       "\n",
       "    .dataframe thead th {\n",
       "        text-align: left;\n",
       "    }\n",
       "\n",
       "    .dataframe tbody tr th {\n",
       "        vertical-align: top;\n",
       "    }\n",
       "</style>\n",
       "<table border=\"1\" class=\"dataframe\">\n",
       "  <thead>\n",
       "    <tr style=\"text-align: right;\">\n",
       "      <th></th>\n",
       "      <th>open</th>\n",
       "      <th>high</th>\n",
       "      <th>low</th>\n",
       "      <th>close</th>\n",
       "      <th>26_w</th>\n",
       "      <th>chg</th>\n",
       "    </tr>\n",
       "    <tr>\n",
       "      <th>Date</th>\n",
       "      <th></th>\n",
       "      <th></th>\n",
       "      <th></th>\n",
       "      <th></th>\n",
       "      <th></th>\n",
       "      <th></th>\n",
       "    </tr>\n",
       "  </thead>\n",
       "  <tbody>\n",
       "    <tr>\n",
       "      <th>2010-01-03</th>\n",
       "      <td>30.447144</td>\n",
       "      <td>30.478571</td>\n",
       "      <td>30.080000</td>\n",
       "      <td>30.104286</td>\n",
       "      <td>NaN</td>\n",
       "      <td>NaN</td>\n",
       "    </tr>\n",
       "    <tr>\n",
       "      <th>2010-01-10</th>\n",
       "      <td>30.490000</td>\n",
       "      <td>30.798571</td>\n",
       "      <td>29.864286</td>\n",
       "      <td>30.282858</td>\n",
       "      <td>NaN</td>\n",
       "      <td>0.005932</td>\n",
       "    </tr>\n",
       "    <tr>\n",
       "      <th>2010-01-17</th>\n",
       "      <td>30.400000</td>\n",
       "      <td>30.428572</td>\n",
       "      <td>29.157143</td>\n",
       "      <td>29.418571</td>\n",
       "      <td>NaN</td>\n",
       "      <td>-0.028540</td>\n",
       "    </tr>\n",
       "    <tr>\n",
       "      <th>2010-01-24</th>\n",
       "      <td>29.761429</td>\n",
       "      <td>30.792856</td>\n",
       "      <td>28.165714</td>\n",
       "      <td>28.250000</td>\n",
       "      <td>NaN</td>\n",
       "      <td>-0.039722</td>\n",
       "    </tr>\n",
       "    <tr>\n",
       "      <th>2010-01-31</th>\n",
       "      <td>28.930000</td>\n",
       "      <td>30.530001</td>\n",
       "      <td>27.178572</td>\n",
       "      <td>27.437143</td>\n",
       "      <td>NaN</td>\n",
       "      <td>-0.028774</td>\n",
       "    </tr>\n",
       "  </tbody>\n",
       "</table>\n",
       "</div>"
      ],
      "text/plain": [
       "                 open       high        low      close  26_w       chg\n",
       "Date                                                                  \n",
       "2010-01-03  30.447144  30.478571  30.080000  30.104286   NaN       NaN\n",
       "2010-01-10  30.490000  30.798571  29.864286  30.282858   NaN  0.005932\n",
       "2010-01-17  30.400000  30.428572  29.157143  29.418571   NaN -0.028540\n",
       "2010-01-24  29.761429  30.792856  28.165714  28.250000   NaN -0.039722\n",
       "2010-01-31  28.930000  30.530001  27.178572  27.437143   NaN -0.028774"
      ]
     },
     "execution_count": 11,
     "metadata": {},
     "output_type": "execute_result"
    }
   ],
   "source": [
    "apple_w.head()"
   ]
  },
  {
   "cell_type": "code",
   "execution_count": 12,
   "metadata": {},
   "outputs": [
    {
     "data": {
      "text/plain": [
       "Timedelta('2906 days 00:00:00')"
      ]
     },
     "execution_count": 12,
     "metadata": {},
     "output_type": "execute_result"
    }
   ],
   "source": [
    "apple.index[-1] - apple.index[0]"
   ]
  },
  {
   "cell_type": "code",
   "execution_count": 13,
   "metadata": {
    "collapsed": true
   },
   "outputs": [],
   "source": [
    "ap_dt = apple_w.index[-1] - apple_w.index[0]"
   ]
  },
  {
   "cell_type": "code",
   "execution_count": 14,
   "metadata": {
    "collapsed": true
   },
   "outputs": [],
   "source": [
    "year = timedelta(days = 365) # 1年の日数"
   ]
  },
  {
   "cell_type": "code",
   "execution_count": 15,
   "metadata": {},
   "outputs": [
    {
     "data": {
      "text/plain": [
       "7.958904109589041"
      ]
     },
     "execution_count": 15,
     "metadata": {},
     "output_type": "execute_result"
    }
   ],
   "source": [
    "ap_dt / year"
   ]
  },
  {
   "cell_type": "code",
   "execution_count": 16,
   "metadata": {
    "collapsed": true
   },
   "outputs": [],
   "source": [
    "ap_yr = ap_dt / year  # データを読み込んだ期間を年で出す"
   ]
  },
  {
   "cell_type": "code",
   "execution_count": 17,
   "metadata": {
    "collapsed": true
   },
   "outputs": [],
   "source": [
    "rets = (1 + ((apple_w.iloc[-1, 4] - apple_w.iloc[0, 4])/ apple_w.iloc[0, 4])) **(1 / ap_yr) - 1 # アップル株の年率リターン"
   ]
  },
  {
   "cell_type": "code",
   "execution_count": 18,
   "metadata": {},
   "outputs": [
    {
     "data": {
      "text/plain": [
       "nan"
      ]
     },
     "execution_count": 18,
     "metadata": {},
     "output_type": "execute_result"
    }
   ],
   "source": [
    "rets "
   ]
  },
  {
   "cell_type": "code",
   "execution_count": 19,
   "metadata": {},
   "outputs": [
    {
     "data": {
      "text/plain": [
       "nan"
      ]
     },
     "execution_count": 19,
     "metadata": {},
     "output_type": "execute_result"
    }
   ],
   "source": [
    "(apple_w.iloc[-1, 4] - apple_w.iloc[0, 4]) / apple_w.iloc[0, 4]"
   ]
  },
  {
   "cell_type": "code",
   "execution_count": 20,
   "metadata": {
    "collapsed": true
   },
   "outputs": [],
   "source": [
    "vol = apple_w['chg'].std() * np.sqrt(52) # 年率の標準偏差を求める"
   ]
  },
  {
   "cell_type": "code",
   "execution_count": 21,
   "metadata": {},
   "outputs": [
    {
     "data": {
      "text/plain": [
       "0.26883454780405314"
      ]
     },
     "execution_count": 21,
     "metadata": {},
     "output_type": "execute_result"
    }
   ],
   "source": [
    "vol"
   ]
  },
  {
   "cell_type": "code",
   "execution_count": 22,
   "metadata": {
    "collapsed": true
   },
   "outputs": [],
   "source": [
    "rol_vol = apple_w['chg'].rolling(52).std() * np.sqrt(52)"
   ]
  },
  {
   "cell_type": "code",
   "execution_count": 23,
   "metadata": {},
   "outputs": [
    {
     "data": {
      "text/plain": [
       "<matplotlib.axes._subplots.AxesSubplot at 0x116fb3470>"
      ]
     },
     "execution_count": 23,
     "metadata": {},
     "output_type": "execute_result"
    },
    {
     "data": {
      "image/png": "[encoded data removed]",
      "text/plain": [
       "<matplotlib.figure.Figure at 0x116f58f98>"
      ]
     },
     "metadata": {},
     "output_type": "display_data"
    }
   ],
   "source": [
    "rol_vol.plot(title='AAPL std')"
   ]
  },
  {
   "cell_type": "markdown",
   "metadata": {},
   "source": [
    "## 資産間のcorrelationを求める\n",
    "* アップルと日経平均株価で求めてみる"
   ]
  },
  {
   "cell_type": "code",
   "execution_count": 24,
   "metadata": {},
   "outputs": [],
   "source": [
    "nky = pdr.get_data_yahoo('^N225')"
   ]
  },
  {
   "cell_type": "code",
   "execution_count": 25,
   "metadata": {
    "scrolled": true
   },
   "outputs": [
    {
     "data": {
      "text/html": [
       "<div>\n",
       "<style>\n",
       "    .dataframe thead tr:only-child th {\n",
       "        text-align: right;\n",
       "    }\n",
       "\n",
       "    .dataframe thead th {\n",
       "        text-align: left;\n",
       "    }\n",
       "\n",
       "    .dataframe tbody tr th {\n",
       "        vertical-align: top;\n",
       "    }\n",
       "</style>\n",
       "<table border=\"1\" class=\"dataframe\">\n",
       "  <thead>\n",
       "    <tr style=\"text-align: right;\">\n",
       "      <th></th>\n",
       "      <th>Open</th>\n",
       "      <th>High</th>\n",
       "      <th>Low</th>\n",
       "      <th>Close</th>\n",
       "      <th>Adj Close</th>\n",
       "      <th>Volume</th>\n",
       "    </tr>\n",
       "    <tr>\n",
       "      <th>Date</th>\n",
       "      <th></th>\n",
       "      <th></th>\n",
       "      <th></th>\n",
       "      <th></th>\n",
       "      <th></th>\n",
       "      <th></th>\n",
       "    </tr>\n",
       "  </thead>\n",
       "  <tbody>\n",
       "    <tr>\n",
       "      <th>2010-01-04</th>\n",
       "      <td>10609.339844</td>\n",
       "      <td>10694.490234</td>\n",
       "      <td>10608.139648</td>\n",
       "      <td>10654.790039</td>\n",
       "      <td>10654.790039</td>\n",
       "      <td>104400.0</td>\n",
       "    </tr>\n",
       "    <tr>\n",
       "      <th>2010-01-05</th>\n",
       "      <td>10719.440430</td>\n",
       "      <td>10791.040039</td>\n",
       "      <td>10655.570313</td>\n",
       "      <td>10681.830078</td>\n",
       "      <td>10681.830078</td>\n",
       "      <td>166200.0</td>\n",
       "    </tr>\n",
       "    <tr>\n",
       "      <th>2010-01-06</th>\n",
       "      <td>10709.549805</td>\n",
       "      <td>10768.610352</td>\n",
       "      <td>10661.169922</td>\n",
       "      <td>10731.450195</td>\n",
       "      <td>10731.450195</td>\n",
       "      <td>181800.0</td>\n",
       "    </tr>\n",
       "    <tr>\n",
       "      <th>2010-01-07</th>\n",
       "      <td>10742.750000</td>\n",
       "      <td>10774.000000</td>\n",
       "      <td>10636.669922</td>\n",
       "      <td>10681.660156</td>\n",
       "      <td>10681.660156</td>\n",
       "      <td>182600.0</td>\n",
       "    </tr>\n",
       "    <tr>\n",
       "      <th>2010-01-08</th>\n",
       "      <td>10743.299805</td>\n",
       "      <td>10816.450195</td>\n",
       "      <td>10677.559570</td>\n",
       "      <td>10798.320313</td>\n",
       "      <td>10798.320313</td>\n",
       "      <td>211800.0</td>\n",
       "    </tr>\n",
       "  </tbody>\n",
       "</table>\n",
       "</div>"
      ],
      "text/plain": [
       "                    Open          High           Low         Close  \\\n",
       "Date                                                                 \n",
       "2010-01-04  10609.339844  10694.490234  10608.139648  10654.790039   \n",
       "2010-01-05  10719.440430  10791.040039  10655.570313  10681.830078   \n",
       "2010-01-06  10709.549805  10768.610352  10661.169922  10731.450195   \n",
       "2010-01-07  10742.750000  10774.000000  10636.669922  10681.660156   \n",
       "2010-01-08  10743.299805  10816.450195  10677.559570  10798.320313   \n",
       "\n",
       "               Adj Close    Volume  \n",
       "Date                                \n",
       "2010-01-04  10654.790039  104400.0  \n",
       "2010-01-05  10681.830078  166200.0  \n",
       "2010-01-06  10731.450195  181800.0  \n",
       "2010-01-07  10681.660156  182600.0  \n",
       "2010-01-08  10798.320313  211800.0  "
      ]
     },
     "execution_count": 25,
     "metadata": {},
     "output_type": "execute_result"
    }
   ],
   "source": [
    "nky.head()"
   ]
  },
  {
   "cell_type": "code",
   "execution_count": 26,
   "metadata": {
    "collapsed": true
   },
   "outputs": [],
   "source": [
    "nky_w = nky.resample('W').last()\n",
    "nky_w['chg'] = nky_w['Adj Close'].pct_change()\n",
    "change = pd.concat([apple_w['chg'], nky_w['chg']], axis=1) # concatはデータフレーム同士を結合したりする時に使う"
   ]
  },
  {
   "cell_type": "code",
   "execution_count": 27,
   "metadata": {
    "scrolled": true
   },
   "outputs": [
    {
     "data": {
      "text/html": [
       "<div>\n",
       "<style>\n",
       "    .dataframe thead tr:only-child th {\n",
       "        text-align: right;\n",
       "    }\n",
       "\n",
       "    .dataframe thead th {\n",
       "        text-align: left;\n",
       "    }\n",
       "\n",
       "    .dataframe tbody tr th {\n",
       "        vertical-align: top;\n",
       "    }\n",
       "</style>\n",
       "<table border=\"1\" class=\"dataframe\">\n",
       "  <thead>\n",
       "    <tr style=\"text-align: right;\">\n",
       "      <th></th>\n",
       "      <th>chg</th>\n",
       "      <th>chg</th>\n",
       "    </tr>\n",
       "    <tr>\n",
       "      <th>Date</th>\n",
       "      <th></th>\n",
       "      <th></th>\n",
       "    </tr>\n",
       "  </thead>\n",
       "  <tbody>\n",
       "    <tr>\n",
       "      <th>2017-11-19</th>\n",
       "      <td>-0.025877</td>\n",
       "      <td>-0.012549</td>\n",
       "    </tr>\n",
       "    <tr>\n",
       "      <th>2017-11-26</th>\n",
       "      <td>0.028328</td>\n",
       "      <td>0.006878</td>\n",
       "    </tr>\n",
       "    <tr>\n",
       "      <th>2017-12-03</th>\n",
       "      <td>-0.022404</td>\n",
       "      <td>0.011892</td>\n",
       "    </tr>\n",
       "    <tr>\n",
       "      <th>2017-12-10</th>\n",
       "      <td>-0.009822</td>\n",
       "      <td>-0.000348</td>\n",
       "    </tr>\n",
       "    <tr>\n",
       "      <th>2017-12-17</th>\n",
       "      <td>0.027160</td>\n",
       "      <td>-0.011304</td>\n",
       "    </tr>\n",
       "  </tbody>\n",
       "</table>\n",
       "</div>"
      ],
      "text/plain": [
       "                 chg       chg\n",
       "Date                          \n",
       "2017-11-19 -0.025877 -0.012549\n",
       "2017-11-26  0.028328  0.006878\n",
       "2017-12-03 -0.022404  0.011892\n",
       "2017-12-10 -0.009822 -0.000348\n",
       "2017-12-17  0.027160 -0.011304"
      ]
     },
     "execution_count": 27,
     "metadata": {},
     "output_type": "execute_result"
    }
   ],
   "source": [
    "change.tail()"
   ]
  },
  {
   "cell_type": "code",
   "execution_count": 28,
   "metadata": {
    "collapsed": true
   },
   "outputs": [],
   "source": [
    "change.columns = ['apple', 'nky']"
   ]
  },
  {
   "cell_type": "code",
   "execution_count": 29,
   "metadata": {
    "collapsed": true
   },
   "outputs": [],
   "source": [
    "change = change.dropna()"
   ]
  },
  {
   "cell_type": "code",
   "execution_count": 30,
   "metadata": {},
   "outputs": [
    {
     "data": {
      "text/html": [
       "<div>\n",
       "<style>\n",
       "    .dataframe thead tr:only-child th {\n",
       "        text-align: right;\n",
       "    }\n",
       "\n",
       "    .dataframe thead th {\n",
       "        text-align: left;\n",
       "    }\n",
       "\n",
       "    .dataframe tbody tr th {\n",
       "        vertical-align: top;\n",
       "    }\n",
       "</style>\n",
       "<table border=\"1\" class=\"dataframe\">\n",
       "  <thead>\n",
       "    <tr style=\"text-align: right;\">\n",
       "      <th></th>\n",
       "      <th>apple</th>\n",
       "      <th>nky</th>\n",
       "    </tr>\n",
       "  </thead>\n",
       "  <tbody>\n",
       "    <tr>\n",
       "      <th>apple</th>\n",
       "      <td>1.000000</td>\n",
       "      <td>0.328517</td>\n",
       "    </tr>\n",
       "    <tr>\n",
       "      <th>nky</th>\n",
       "      <td>0.328517</td>\n",
       "      <td>1.000000</td>\n",
       "    </tr>\n",
       "  </tbody>\n",
       "</table>\n",
       "</div>"
      ],
      "text/plain": [
       "          apple       nky\n",
       "apple  1.000000  0.328517\n",
       "nky    0.328517  1.000000"
      ]
     },
     "execution_count": 30,
     "metadata": {},
     "output_type": "execute_result"
    }
   ],
   "source": [
    "change.corr() #"
   ]
  },
  {
   "cell_type": "code",
   "execution_count": 31,
   "metadata": {
    "collapsed": true
   },
   "outputs": [],
   "source": [
    "change['corr_52w'] = change['apple'].rolling(52).corr(change['nky'])"
   ]
  },
  {
   "cell_type": "code",
   "execution_count": 32,
   "metadata": {},
   "outputs": [
    {
     "data": {
      "text/plain": [
       "<matplotlib.axes._subplots.AxesSubplot at 0x117e61e48>"
      ]
     },
     "execution_count": 32,
     "metadata": {},
     "output_type": "execute_result"
    },
    {
     "data": {
      "image/png": "[encoded data removed]",
      "text/plain": [
       "<matplotlib.figure.Figure at 0x117f2b630>"
      ]
     },
     "metadata": {},
     "output_type": "display_data"
    }
   ],
   "source": [
    "change['corr_52w'].plot()"
   ]
  },
  {
   "cell_type": "markdown",
   "metadata": {},
   "source": [
    "### matplotlibの日本語豆腐化問題\n",
    "フォントを入れれば解決できるらしいが面倒くさいので、bokehに走る！   \n",
    "でもgithubでbokeh表示してくれないかも。"
   ]
  },
  {
   "cell_type": "code",
   "execution_count": 33,
   "metadata": {},
   "outputs": [
    {
     "data": {
      "text/plain": [
       "<matplotlib.axes._subplots.AxesSubplot at 0x11b7b6f98>"
      ]
     },
     "execution_count": 33,
     "metadata": {},
     "output_type": "execute_result"
    },
    {
     "data": {
      "image/png": "[encoded data removed]",
      "text/plain": [
       "<matplotlib.figure.Figure at 0x116f58390>"
      ]
     },
     "metadata": {},
     "output_type": "display_data"
    }
   ],
   "source": [
    "change['corr_52w'].dropna().plot(figsize=(10,7), title='アップルと日経平均株価の相関')"
   ]
  },
  {
   "cell_type": "code",
   "execution_count": 34,
   "metadata": {},
   "outputs": [
    {
     "data": {
      "text/html": [
       "\n",
       "<div class=\"bk-root\">\n",
       "    <div class=\"bk-plotdiv\" id=\"169b17eb-be69-42ee-a529-4f22257b84ca\"></div>\n",
       "</div>"
      ]
     },
     "metadata": {},
     "output_type": "display_data"
    },
    {
     "data": {
      "application/javascript": [
       "(function(root) {\n",
       "  function embed_document(root) {\n",
       "    var docs_json = {\"49487be2-5db6-4362-9f88-10f436e066c9\":{\"roots\":{\"references\":[{\"attributes\":{},\"id\":\"830a1e4a-c4ac-4da4-b7ed-c2d25d2e56a1\",\"type\":\"PanTool\"},{\"attributes\":{},\"id\":\"61289698-6f38-429d-93fa-7609a962164c\",\"type\":\"LinearScale\"},{\"attributes\":{\"days\":[1,4,7,10,13,16,19,22,25,28]},\"id\":\"7b3f51c8-7eac-4780-9625-8135c04ddc79\",\"type\":\"DaysTicker\"},{\"attributes\":{\"days\":[1,8,15,22]},\"id\":\"9b57c647-e80f-4b25-b4f8-5edd5f0b0fd3\",\"type\":\"DaysTicker\"},{\"attributes\":{\"active_drag\":\"auto\",\"active_inspect\":\"auto\",\"active_scroll\":\"auto\",\"active_tap\":\"auto\",\"tools\":[{\"id\":\"830a1e4a-c4ac-4da4-b7ed-c2d25d2e56a1\",\"type\":\"PanTool\"},{\"id\":\"4a197584-3907-42b7-8a1c-c212a4b5a8f6\",\"type\":\"WheelZoomTool\"},{\"id\":\"8531cc49-f5ec-4311-b90e-a7b1037c305b\",\"type\":\"BoxZoomTool\"},{\"id\":\"03d30e67-a378-456b-b451-9b9a2c27802b\",\"type\":\"SaveTool\"},{\"id\":\"635225a7-0305-4ca9-8f53-c20e3b4e284d\",\"type\":\"ResetTool\"},{\"id\":\"ce20ec89-959b-4a48-be52-52bf67bf0aee\",\"type\":\"HelpTool\"}]},\"id\":\"a38ef31f-38ad-48fb-ba03-31756d891ce6\",\"type\":\"Toolbar\"},{\"attributes\":{\"days\":[1,2,3,4,5,6,7,8,9,10,11,12,13,14,15,16,17,18,19,20,21,22,23,24,25,26,27,28,29,30,31]},\"id\":\"866ab83d-3e8f-4bf0-ae47-b9f07e56a6ca\",\"type\":\"DaysTicker\"},{\"attributes\":{\"callback\":null},\"id\":\"7d2fe4d4-eb39-405e-a991-0bc17b9cd6d7\",\"type\":\"DataRange1d\"},{\"attributes\":{\"months\":[0,4,8]},\"id\":\"9ff66d9c-a940-4de1-b79a-ee935602fd77\",\"type\":\"MonthsTicker\"},{\"attributes\":{\"months\":[0,6]},\"id\":\"c48fd8d0-3bba-4135-be70-e505b80e9c04\",\"type\":\"MonthsTicker\"},{\"attributes\":{\"data_source\":{\"id\":\"bebaa359-467d-4a8c-bda2-01d1b3af1251\",\"type\":\"ColumnDataSource\"},\"glyph\":{\"id\":\"b2fa8f7b-630e-4a01-ab77-2844af955af3\",\"type\":\"Line\"},\"hover_glyph\":null,\"muted_glyph\":null,\"nonselection_glyph\":{\"id\":\"9b09e0ff-0452-4280-b39b-4b6849a23636\",\"type\":\"Line\"},\"selection_glyph\":null,\"view\":{\"id\":\"d7eaded0-5edd-4861-b60c-60f85b674351\",\"type\":\"CDSView\"}},\"id\":\"eafa363f-a7f0-4ba3-a18b-727934150cfc\",\"type\":\"GlyphRenderer\"},{\"attributes\":{\"months\":[0,2,4,6,8,10]},\"id\":\"e1776016-aa19-4dad-88cb-338672eea09b\",\"type\":\"MonthsTicker\"},{\"attributes\":{},\"id\":\"17b114ab-61fa-4e2e-9cf1-fecb32721849\",\"type\":\"BasicTicker\"},{\"attributes\":{},\"id\":\"542d1bb5-e4b1-4397-9606-b32226bd37e5\",\"type\":\"LinearScale\"},{\"attributes\":{\"callback\":null},\"id\":\"fdfa67df-c6aa-4052-bde8-22adddf1ea00\",\"type\":\"DataRange1d\"},{\"attributes\":{\"dimension\":1,\"plot\":{\"id\":\"511afdaf-d120-419e-973e-ee19960a90c3\",\"subtype\":\"Figure\",\"type\":\"Plot\"},\"ticker\":{\"id\":\"17b114ab-61fa-4e2e-9cf1-fecb32721849\",\"type\":\"BasicTicker\"}},\"id\":\"059cf8d8-5955-444c-8932-32ece65c2277\",\"type\":\"Grid\"},{\"attributes\":{\"bottom_units\":\"screen\",\"fill_alpha\":{\"value\":0.5},\"fill_color\":{\"value\":\"lightgrey\"},\"left_units\":\"screen\",\"level\":\"overlay\",\"line_alpha\":{\"value\":1.0},\"line_color\":{\"value\":\"black\"},\"line_dash\":[4,4],\"line_width\":{\"value\":2},\"plot\":null,\"render_mode\":\"css\",\"right_units\":\"screen\",\"top_units\":\"screen\"},\"id\":\"40205764-21ce-4bd9-ad71-fbc738f46fa0\",\"type\":\"BoxAnnotation\"},{\"attributes\":{\"source\":{\"id\":\"bebaa359-467d-4a8c-bda2-01d1b3af1251\",\"type\":\"ColumnDataSource\"}},\"id\":\"d7eaded0-5edd-4861-b60c-60f85b674351\",\"type\":\"CDSView\"},{\"attributes\":{\"line_alpha\":{\"value\":0.1},\"line_color\":{\"value\":\"#1f77b4\"},\"x\":{\"field\":\"x\"},\"y\":{\"field\":\"y\"}},\"id\":\"9b09e0ff-0452-4280-b39b-4b6849a23636\",\"type\":\"Line\"},{\"attributes\":{},\"id\":\"635225a7-0305-4ca9-8f53-c20e3b4e284d\",\"type\":\"ResetTool\"},{\"attributes\":{\"below\":[{\"id\":\"70fe60f1-3875-45b1-8752-05342ddd5ae8\",\"type\":\"DatetimeAxis\"}],\"left\":[{\"id\":\"5fd2a9d3-9e80-405a-85eb-4980cce83d0b\",\"type\":\"LinearAxis\"}],\"plot_height\":500,\"plot_width\":800,\"renderers\":[{\"id\":\"70fe60f1-3875-45b1-8752-05342ddd5ae8\",\"type\":\"DatetimeAxis\"},{\"id\":\"b539c645-3221-4d1a-a7a7-8f4ab417e80b\",\"type\":\"Grid\"},{\"id\":\"5fd2a9d3-9e80-405a-85eb-4980cce83d0b\",\"type\":\"LinearAxis\"},{\"id\":\"059cf8d8-5955-444c-8932-32ece65c2277\",\"type\":\"Grid\"},{\"id\":\"40205764-21ce-4bd9-ad71-fbc738f46fa0\",\"type\":\"BoxAnnotation\"},{\"id\":\"eafa363f-a7f0-4ba3-a18b-727934150cfc\",\"type\":\"GlyphRenderer\"}],\"title\":{\"id\":\"7141dfe9-c0fa-48fe-9d37-7bf79095f6bc\",\"type\":\"Title\"},\"toolbar\":{\"id\":\"a38ef31f-38ad-48fb-ba03-31756d891ce6\",\"type\":\"Toolbar\"},\"x_range\":{\"id\":\"7d2fe4d4-eb39-405e-a991-0bc17b9cd6d7\",\"type\":\"DataRange1d\"},\"x_scale\":{\"id\":\"542d1bb5-e4b1-4397-9606-b32226bd37e5\",\"type\":\"LinearScale\"},\"y_range\":{\"id\":\"fdfa67df-c6aa-4052-bde8-22adddf1ea00\",\"type\":\"DataRange1d\"},\"y_scale\":{\"id\":\"61289698-6f38-429d-93fa-7609a962164c\",\"type\":\"LinearScale\"}},\"id\":\"511afdaf-d120-419e-973e-ee19960a90c3\",\"subtype\":\"Figure\",\"type\":\"Plot\"},{\"attributes\":{\"days\":[1,15]},\"id\":\"989bbd0b-a59b-4701-b18c-ca5bb85207a3\",\"type\":\"DaysTicker\"},{\"attributes\":{\"months\":[0,1,2,3,4,5,6,7,8,9,10,11]},\"id\":\"52c1162d-3b86-4523-9ff5-f1f79916e793\",\"type\":\"MonthsTicker\"},{\"attributes\":{\"plot\":null,\"text\":\"\\u30a2\\u30c3\\u30d7\\u30eb\\u3068\\u65e5\\u7d4c\\u5e73\\u5747\\u682a\\u4fa1\\u306e\\u76f8\\u95a2\"},\"id\":\"7141dfe9-c0fa-48fe-9d37-7bf79095f6bc\",\"type\":\"Title\"},{\"attributes\":{},\"id\":\"be074c3c-b08f-484b-aa78-821f4097a786\",\"type\":\"BasicTickFormatter\"},{\"attributes\":{\"num_minor_ticks\":5,\"tickers\":[{\"id\":\"0457191e-0825-4edf-8d55-0230a733537f\",\"type\":\"AdaptiveTicker\"},{\"id\":\"405f9d4b-3826-4509-b93e-893b097971dd\",\"type\":\"AdaptiveTicker\"},{\"id\":\"daadba0e-1af9-4fff-8fb1-b2c187fea7d4\",\"type\":\"AdaptiveTicker\"},{\"id\":\"866ab83d-3e8f-4bf0-ae47-b9f07e56a6ca\",\"type\":\"DaysTicker\"},{\"id\":\"7b3f51c8-7eac-4780-9625-8135c04ddc79\",\"type\":\"DaysTicker\"},{\"id\":\"9b57c647-e80f-4b25-b4f8-5edd5f0b0fd3\",\"type\":\"DaysTicker\"},{\"id\":\"989bbd0b-a59b-4701-b18c-ca5bb85207a3\",\"type\":\"DaysTicker\"},{\"id\":\"52c1162d-3b86-4523-9ff5-f1f79916e793\",\"type\":\"MonthsTicker\"},{\"id\":\"e1776016-aa19-4dad-88cb-338672eea09b\",\"type\":\"MonthsTicker\"},{\"id\":\"9ff66d9c-a940-4de1-b79a-ee935602fd77\",\"type\":\"MonthsTicker\"},{\"id\":\"c48fd8d0-3bba-4135-be70-e505b80e9c04\",\"type\":\"MonthsTicker\"},{\"id\":\"32e20a60-f47e-4d9d-a7b9-04c272e1721c\",\"type\":\"YearsTicker\"}]},\"id\":\"3fc215cf-1661-4b31-9351-291149678dba\",\"type\":\"DatetimeTicker\"},{\"attributes\":{\"formatter\":{\"id\":\"be074c3c-b08f-484b-aa78-821f4097a786\",\"type\":\"BasicTickFormatter\"},\"plot\":{\"id\":\"511afdaf-d120-419e-973e-ee19960a90c3\",\"subtype\":\"Figure\",\"type\":\"Plot\"},\"ticker\":{\"id\":\"17b114ab-61fa-4e2e-9cf1-fecb32721849\",\"type\":\"BasicTicker\"}},\"id\":\"5fd2a9d3-9e80-405a-85eb-4980cce83d0b\",\"type\":\"LinearAxis\"},{\"attributes\":{},\"id\":\"03d30e67-a378-456b-b451-9b9a2c27802b\",\"type\":\"SaveTool\"},{\"attributes\":{\"line_color\":{\"value\":\"blue\"},\"x\":{\"field\":\"x\"},\"y\":{\"field\":\"y\"}},\"id\":\"b2fa8f7b-630e-4a01-ab77-2844af955af3\",\"type\":\"Line\"},{\"attributes\":{},\"id\":\"ce20ec89-959b-4a48-be52-52bf67bf0aee\",\"type\":\"HelpTool\"},{\"attributes\":{},\"id\":\"32e20a60-f47e-4d9d-a7b9-04c272e1721c\",\"type\":\"YearsTicker\"},{\"attributes\":{\"mantissas\":[1,2,5],\"max_interval\":500.0,\"num_minor_ticks\":0},\"id\":\"0457191e-0825-4edf-8d55-0230a733537f\",\"type\":\"AdaptiveTicker\"},{\"attributes\":{\"formatter\":{\"id\":\"ddb67922-88e0-4b6b-946e-2fdbc479feef\",\"type\":\"DatetimeTickFormatter\"},\"plot\":{\"id\":\"511afdaf-d120-419e-973e-ee19960a90c3\",\"subtype\":\"Figure\",\"type\":\"Plot\"},\"ticker\":{\"id\":\"3fc215cf-1661-4b31-9351-291149678dba\",\"type\":\"DatetimeTicker\"}},\"id\":\"70fe60f1-3875-45b1-8752-05342ddd5ae8\",\"type\":\"DatetimeAxis\"},{\"attributes\":{\"base\":60,\"mantissas\":[1,2,5,10,15,20,30],\"max_interval\":1800000.0,\"min_interval\":1000.0,\"num_minor_ticks\":0},\"id\":\"405f9d4b-3826-4509-b93e-893b097971dd\",\"type\":\"AdaptiveTicker\"},{\"attributes\":{},\"id\":\"ddb67922-88e0-4b6b-946e-2fdbc479feef\",\"type\":\"DatetimeTickFormatter\"},{\"attributes\":{\"base\":24,\"mantissas\":[1,2,4,6,8,12],\"max_interval\":43200000.0,\"min_interval\":3600000.0,\"num_minor_ticks\":0},\"id\":\"daadba0e-1af9-4fff-8fb1-b2c187fea7d4\",\"type\":\"AdaptiveTicker\"},{\"attributes\":{\"plot\":{\"id\":\"511afdaf-d120-419e-973e-ee19960a90c3\",\"subtype\":\"Figure\",\"type\":\"Plot\"},\"ticker\":{\"id\":\"3fc215cf-1661-4b31-9351-291149678dba\",\"type\":\"DatetimeTicker\"}},\"id\":\"b539c645-3221-4d1a-a7a7-8f4ab417e80b\",\"type\":\"Grid\"},{\"attributes\":{\"overlay\":{\"id\":\"40205764-21ce-4bd9-ad71-fbc738f46fa0\",\"type\":\"BoxAnnotation\"}},\"id\":\"8531cc49-f5ec-4311-b90e-a7b1037c305b\",\"type\":\"BoxZoomTool\"},{\"attributes\":{\"callback\":null,\"column_names\":[\"x\",\"y\"],\"data\":{\"x\":{\"__ndarray__\":\"AACAQ5ljckIAAMAL2mVyQgAAANQaaHJCAABAnFtqckIAAIBknGxyQgAAwCzdbnJCAAAA9R1xckIAAEC9XnNyQgAAgIWfdXJCAADATeB3ckIAAAAWIXpyQgAAQN5hfHJCAACApqJ+ckIAAMBu44ByQgAAADckg3JCAABA/2SFckIAAIDHpYdyQgAAwI/miXJCAAAAWCeMckIAAEAgaI5yQgAAgOiokHJCAADAsOmSckIAAAB5KpVyQgAAQEFrl3JCAACACayZckIAAMDR7JtyQgAAAJotnnJCAABAYm6gckIAAIAqr6JyQgAAwPLvpHJCAAAAuzCnckIAAECDcalyQgAAgEuyq3JCAADAE/OtckIAAADcM7ByQgAAQKR0snJCAACAbLW0ckIAAMA09rZyQgAAAP02uXJCAABAxXe7ckIAAICNuL1yQgAAwFX5v3JCAAAAHjrCckIAAEDmesRyQgAAgK67xnJCAADAdvzIckIAAAA/PctyQgAAQAd+zXJCAACAz77PckIAAMCX/9FyQgAAAGBA1HJCAABAKIHWckIAAIDwwdhyQgAAwLgC23JCAAAAgUPdckIAAEBJhN9yQgAAgBHF4XJCAADA2QXkckIAAACiRuZyQgAAQGqH6HJCAACAMsjqckIAAMD6CO1yQgAAAMNJ73JCAABAi4rxckIAAIBTy/NyQgAAwBsM9nJCAAAA5Ez4ckIAAECsjfpyQgAAgHTO/HJCAADAPA//ckIAAAAFUAFzQgAAQM2QA3NCAACAldEFc0IAAMBdEghzQgAAACZTCnNCAABA7pMMc0IAAIC21A5zQgAAwH4VEXNCAAAAR1YTc0IAAEAPlxVzQgAAgNfXF3NCAADAnxgac0IAAABoWRxzQgAAQDCaHnNCAACA+Nogc0IAAMDAGyNzQgAAAIlcJXNCAABAUZ0nc0IAAIAZ3ilzQgAAwOEeLHNCAAAAql8uc0IAAEByoDBzQgAAgDrhMnNCAADAAiI1c0IAAADLYjdzQgAAQJOjOXNCAACAW+Q7c0IAAMAjJT5zQgAAAOxlQHNCAABAtKZCc0IAAIB850RzQgAAwEQoR3NCAAAADWlJc0IAAEDVqUtzQgAAgJ3qTXNCAADAZStQc0IAAAAubFJzQgAAQPasVHNCAACAvu1Wc0IAAMCGLllzQgAAAE9vW3NCAABAF7Bdc0IAAIDf8F9zQgAAwKcxYnNCAAAAcHJkc0IAAEA4s2ZzQgAAgAD0aHNCAADAyDRrc0IAAACRdW1zQgAAQFm2b3NCAACAIfdxc0IAAMDpN3RzQgAAALJ4dnNCAABAerl4c0IAAIBC+npzQgAAwAo7fXNCAAAA03t/c0IAAECbvIFzQgAAgGP9g3NCAADAKz6Gc0IAAAD0fohzQgAAQLy/inNCAACAhACNc0IAAMBMQY9zQgAAABWCkXNCAABA3cKTc0IAAIClA5ZzQgAAwG1EmHNCAAAANoWac0IAAED+xZxzQgAAgMYGn3NCAADAjkehc0IAAABXiKNzQgAAQB/JpXNCAACA5wmoc0IAAMCvSqpzQgAAAHiLrHNCAABAQMyuc0IAAIAIDbFzQgAAwNBNs3NCAAAAmY61c0IAAEBhz7dzQgAAgCkQunNCAADA8VC8c0IAAAC6kb5zQgAAQILSwHNCAACAShPDc0IAAMASVMVzQgAAANuUx3NCAABAo9XJc0IAAIBrFsxzQgAAwDNXznNCAAAA/JfQc0IAAEDE2NJzQgAAgIwZ1XNCAADAVFrXc0IAAAAdm9lzQgAAQOXb23NCAACArRzec0IAAMB1XeBzQgAAAD6e4nNCAABABt/kc0IAAIDOH+dzQgAAwJZg6XNCAAAAX6Hrc0IAAEAn4u1zQgAAgO8i8HNCAADAt2Pyc0IAAACApPRzQgAAQEjl9nNCAACAECb5c0IAAMDYZvtzQgAAAKGn/XNCAABAaej/c0IAAIAxKQJ0QgAAwPlpBHRCAAAAwqoGdEIAAECK6wh0QgAAgFIsC3RCAADAGm0NdEIAAADjrQ90QgAAQKvuEXRCAACAcy8UdEIAAMA7cBZ0QgAAAASxGHRCAABAzPEadEIAAICUMh10QgAAwFxzH3RCAAAAJbQhdEIAAEDt9CN0QgAAgLU1JnRCAADAfXYodEIAAABGtyp0QgAAQA74LHRCAACA1jgvdEIAAMCeeTF0QgAAAGe6M3RCAABAL/s1dEIAAID3Ozh0QgAAwL98OnRCAAAAiL08dEIAAEBQ/j50QgAAgBg/QXRCAADA4H9DdEIAAACpwEV0QgAAQHEBSHRCAACAOUJKdEIAAMABg0x0QgAAAMrDTnRCAABAkgRRdEIAAIBaRVN0QgAAwCKGVXRCAAAA68ZXdEIAAECzB1p0QgAAgHtIXHRCAADAQ4ledEIAAAAMymB0QgAAQNQKY3RCAACAnEtldEIAAMBkjGd0QgAAAC3NaXRCAABA9Q1sdEIAAIC9Tm50QgAAwIWPcHRCAAAATtBydEIAAEAWEXV0QgAAgN5Rd3RCAADAppJ5dEIAAABv03t0QgAAQDcUfnRCAACA/1SAdEIAAMDHlYJ0QgAAAJDWhHRCAABAWBeHdEIAAIAgWIl0QgAAwOiYi3RCAAAAsdmNdEIAAEB5GpB0QgAAgEFbknRCAADACZyUdEIAAADS3JZ0QgAAQJodmXRCAACAYl6bdEIAAMAqn510QgAAAPPfn3RCAABAuyCidEIAAICDYaR0QgAAwEuipnRCAAAAFOOodEIAAEDcI6t0QgAAgKRkrXRCAADAbKWvdEIAAAA15rF0QgAAQP0mtHRCAACAxWe2dEIAAMCNqLh0QgAAAFbpunRCAABAHiq9dEIAAIDmar90QgAAwK6rwXRCAAAAd+zDdEIAAEA/LcZ0QgAAgAduyHRCAADAz67KdEIAAACY78x0QgAAQGAwz3RCAACAKHHRdEIAAMDwsdN0QgAAALny1XRCAABAgTPYdEIAAIBJdNp0QgAAwBG13HRCAAAA2vXedEIAAECiNuF0QgAAgGp343RCAADAMrjldEIAAAD7+Od0QgAAQMM56nRCAACAi3rsdEIAAMBTu+50QgAAABz88HRCAABA5DzzdEIAAICsffV0QgAAwHS+93RCAAAAPf/5dEIAAEAFQPx0QgAAgM2A/nRCAADAlcEAdUIAAABeAgN1QgAAQCZDBXVCAACA7oMHdUIAAMC2xAl1QgAAAH8FDHVCAABAR0YOdUIAAIAPhxB1QgAAwNfHEnVCAAAAoAgVdUIAAEBoSRd1QgAAgDCKGXVCAADA+MobdUIAAADBCx51QgAAQIlMIHVCAACAUY0idUIAAMAZziR1QgAAAOIOJ3VCAABAqk8pdUIAAIBykCt1QgAAwDrRLXVCAAAAAxIwdUIAAEDLUjJ1QgAAgJOTNHVCAADAW9Q2dUIAAAAkFTl1QgAAQOxVO3VCAACAtJY9dUIAAMB81z91QgAAAEUYQnVCAABADVlEdUIAAIDVmUZ1QgAAwJ3aSHVCAAAAZhtLdUIAAEAuXE11QgAAgPacT3VCAADAvt1RdUIAAACHHlR1QgAAQE9fVnVCAACAF6BYdUIAAMDf4Fp1QgAAAKghXXVCAABAcGJfdUIAAIA4o2F1QgAAwADkY3VCAAAAySRmdUIAAECRZWh1QgAAgFmmanVCAADAIedsdUIAAADqJ291QgAAQLJocXVCAACAeqlzdUIAAMBC6nV1QgAAAAsreHVCAABA02t6dUIAAICbrHx1QgAAwGPtfnVCAAAALC6BdUIAAED0boN1QgAAgLyvhXVCAADAhPCHdUIAAABNMYp1QgAAQBVyjHVCAACA3bKOdUIAAMCl85B1QgAAAG40k3VCAABANnWVdUIAAID+tZd1QgAAwMb2mXVCAAAAjzecdUIAAEBXeJ51QgAAgB+5oHVCAADA5/midUIAAACwOqV1QgAAQHh7p3VCAACAQLypdUIAAMAI/at1QgAAANE9rnVCAABAmX6wdUIAAIBhv7J1QgAAwCkAtXVCAAAA8kC3dUIAAEC6gbl1QgAAgILCu3VCAADASgO+dUIAAAATRMB1QgAAQNuEwnVCAACAo8XEdUIAAMBrBsd1QgAAADRHyXVCAABA/IfLdUIAAIDEyM11QgAAwIwJ0HVCAAAAVUrSdUIAAEAdi9R1QgAAgOXL1nVCAADArQzZdUIAAAB2Tdt1QgAAQD6O3XVCAACABs/fdUIAAMDOD+J1QgAAAJdQ5HVCAABAX5HmdUIAAIAn0uh1QgAAwO8S63VCAAAAuFPtdUIAAECAlO91QgAAgEjV8XVCAADAEBb0dUIAAADZVvZ1QgAAQKGX+HVCAACAadj6dUIAAMAxGf11QgAAAPpZ/3VCAABAwpoBdkIAAICK2wN2QgAAwFIcBnZC\",\"dtype\":\"float64\",\"shape\":[414]},\"y\":{\"__ndarray__\":\"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\",\"dtype\":\"float64\",\"shape\":[414]}}},\"id\":\"bebaa359-467d-4a8c-bda2-01d1b3af1251\",\"type\":\"ColumnDataSource\"},{\"attributes\":{},\"id\":\"4a197584-3907-42b7-8a1c-c212a4b5a8f6\",\"type\":\"WheelZoomTool\"}],\"root_ids\":[\"511afdaf-d120-419e-973e-ee19960a90c3\"]},\"title\":\"Bokeh Application\",\"version\":\"0.12.10\"}};\n",
       "    var render_items = [{\"docid\":\"49487be2-5db6-4362-9f88-10f436e066c9\",\"elementid\":\"169b17eb-be69-42ee-a529-4f22257b84ca\",\"modelid\":\"511afdaf-d120-419e-973e-ee19960a90c3\"}];\n",
       "\n",
       "    root.Bokeh.embed.embed_items(docs_json, render_items);\n",
       "  }\n",
       "\n",
       "  if (root.Bokeh !== undefined) {\n",
       "    embed_document(root);\n",
       "  } else {\n",
       "    var attempts = 0;\n",
       "    var timer = setInterval(function(root) {\n",
       "      if (root.Bokeh !== undefined) {\n",
       "        embed_document(root);\n",
       "        clearInterval(timer);\n",
       "      }\n",
       "      attempts++;\n",
       "      if (attempts > 100) {\n",
       "        console.log(\"Bokeh: ERROR: Unable to embed document because BokehJS library is missing\")\n",
       "        clearInterval(timer);\n",
       "      }\n",
       "    }, 10, root)\n",
       "  }\n",
       "})(window);"
      ],
      "application/vnd.bokehjs_exec.v0+json": ""
     },
     "metadata": {
      "application/vnd.bokehjs_exec.v0+json": {
       "id": "511afdaf-d120-419e-973e-ee19960a90c3"
      }
     },
     "output_type": "display_data"
    }
   ],
   "source": [
    "p = figure(x_axis_type='datetime', width=800, height=500, title='アップルと日経平均株価の相関')\n",
    "\n",
    "p.line(change.index, change['corr_52w'], color='blue')\n",
    "\n",
    "show(p)"
   ]
  },
  {
   "cell_type": "markdown",
   "metadata": {},
   "source": [
    "## ちなみに\n",
    "* githubにjupyter notebook + bokehのチャートを共有しようとすると出てきません。\n",
    "* bokehがjavascriptで動いているからのようです。\n",
    "* そのためnbviewerでnotebookをhtmlとして出力する必要があります。\n",
    "* nbviewer  https://nbviewer.jupyter.org/\n",
    "* jupyter notebook, pandas , matplotlib, bokeh をよく知れる本  \n",
    "### PythonユーザのためのJupyter[実践]入門    \n",
    "  https://www.amazon.co.jp/Python%E3%83%A6%E3%83%BC%E3%82%B6%E3%81%AE%E3%81%9F%E3%82%81%E3%81%AEJupyter-%E5%AE%9F%E8%B7%B5-%E5%85%A5%E9%96%80-%E6%B1%A0%E5%86%85-%E5%AD%9D%E5%95%93/dp/4774192236/ref=sr_1_1?ie=UTF8&qid=1513042698&sr=8-1&keywords=jupyter"
   ]
  },
  {
   "cell_type": "markdown",
   "metadata": {},
   "source": [
    "## ポートフォリオ\n",
    "\n",
    "* 色々な資産を組み合わせて作ります。\n",
    "* ただ単に組み合わせるだけでなく、できるだけ低いリスクで大きなリターンを得られることを目指します。  \n",
    "* そのために必要なのが、\n",
    "     * リターン\n",
    "     * リスク\n",
    "     * 相関\n",
    "です。そのためにその計算方法を先に見ました。    \n",
    "    \n",
    "#### でも今回は計算しません。   \n",
    "→ 理由   \n",
    "    債券のパフォーマンスを見られる指数がネットでは見られない。       \n",
    "    \n",
    "なので、我々の年金を運用するGPIFのサイトの資料を使います。    \n",
    "GPIFのサイト   \n",
    "http://www.gpif.go.jp/     \n",
    "基本ポートフォリオ    \n",
    "http://www.gpif.go.jp/operation/foundation/portfolio.html    \n",
    "ポートフォリオの中期計画の変更    \n",
    "http://www.gpif.go.jp/operation/foundation/pdf/midterm_plan_change.pdf"
   ]
  },
  {
   "cell_type": "markdown",
   "metadata": {},
   "source": [
    "### 国内債券、国内株式、外国債券、外国株、短期資産"
   ]
  },
  {
   "cell_type": "code",
   "execution_count": 35,
   "metadata": {
    "collapsed": true
   },
   "outputs": [],
   "source": [
    "rets = [0.03, 0.048, 0.032, 0.05, 0.019]    # リターン（年率）\n",
    "vols = [0.065, 0.2248, 0.129, 0.2248, 0.039]   # 標準偏差（リスク）\n"
   ]
  },
  {
   "cell_type": "code",
   "execution_count": 36,
   "metadata": {
    "collapsed": true
   },
   "outputs": [],
   "source": [
    "corrs = [[1, 0.199, -0.025, 0.001, 0.504],\n",
    "        [0.199, 1, -0.063, 0.494, 0.096],\n",
    "        [-0.025, -0.063, 1, 0.577, 0.009],\n",
    "        [0.001, 0.494, 0.577, 1, -0.022],\n",
    "        [0.504, 0.096, 0.009, -0.022, 1]]  # 相関係数"
   ]
  },
  {
   "cell_type": "markdown",
   "metadata": {
    "collapsed": true
   },
   "source": [
    "# まずは相関係数を共分散に直します\n",
    "* 理由　参考にしている　@ryoshi81さんの記事で相関係数を使わずに共分散を使っているため。\n",
    "* 相関係数を使ったやり方を調べるのが面倒でした。すみません。\n",
    "* 相関係数（x, y) = 共分散(x, y) / (標準偏差x * 標準偏差y) "
   ]
  },
  {
   "cell_type": "code",
   "execution_count": 37,
   "metadata": {},
   "outputs": [
    {
     "data": {
      "text/plain": [
       "[1, 0.199, -0.025, 0.001, 0.504]"
      ]
     },
     "execution_count": 37,
     "metadata": {},
     "output_type": "execute_result"
    }
   ],
   "source": [
    "corrs[0]"
   ]
  },
  {
   "cell_type": "code",
   "execution_count": 38,
   "metadata": {
    "collapsed": true
   },
   "outputs": [],
   "source": [
    "a1 = []\n",
    "a2 = []\n",
    "a3 = []\n",
    "a4 = []\n",
    "a5 = []"
   ]
  },
  {
   "cell_type": "code",
   "execution_count": 39,
   "metadata": {
    "collapsed": true
   },
   "outputs": [],
   "source": [
    "def testi(k=0.065, box = a1, volla=vols): #共分散作る関数\n",
    "    for i in range(len(volla)):\n",
    "        box.append(k*volla[i])"
   ]
  },
  {
   "cell_type": "code",
   "execution_count": 40,
   "metadata": {
    "collapsed": true
   },
   "outputs": [],
   "source": [
    "testi(k=0.065, box= a1)\n",
    "testi(k=0.2248, box= a2)\n",
    "testi(k=0.129, box= a3)\n",
    "testi(k=0.2248, box= a4)\n",
    "testi(k=0.039, box= a5)"
   ]
  },
  {
   "cell_type": "code",
   "execution_count": 41,
   "metadata": {},
   "outputs": [
    {
     "name": "stdout",
     "output_type": "stream",
     "text": [
      "[0.0042250000000000005, 0.014612, 0.008385, 0.014612, 0.002535] [0.014612, 0.05053504, 0.0289992, 0.05053504, 0.0087672] [0.008385, 0.0289992, 0.016641, 0.0289992, 0.005031] [0.014612, 0.05053504, 0.0289992, 0.05053504, 0.0087672] [0.002535, 0.0087672, 0.005031, 0.0087672, 0.001521]\n"
     ]
    }
   ],
   "source": [
    "print(a1, a2, a3, a4, a5)"
   ]
  },
  {
   "cell_type": "code",
   "execution_count": 42,
   "metadata": {
    "collapsed": true
   },
   "outputs": [],
   "source": [
    "covp = [np.array(a1) * np.array(corrs[0]), np.array(a2) * np.array(corrs[1]), \\\n",
    "        np.array(a3) * np.array(corrs[2]), np.array(a4) * np.array(corrs[3]), \\\n",
    "        np.array(a5) * np.array(corrs[4])]"
   ]
  },
  {
   "cell_type": "code",
   "execution_count": 43,
   "metadata": {
    "collapsed": true
   },
   "outputs": [],
   "source": [
    "covp = np.array(covp)"
   ]
  },
  {
   "cell_type": "code",
   "execution_count": 44,
   "metadata": {},
   "outputs": [
    {
     "data": {
      "text/plain": [
       "array([[  4.22500000e-03,   2.90778800e-03,  -2.09625000e-04,\n",
       "          1.46120000e-05,   1.27764000e-03],\n",
       "       [  2.90778800e-03,   5.05350400e-02,  -1.82694960e-03,\n",
       "          2.49643098e-02,   8.41651200e-04],\n",
       "       [ -2.09625000e-04,  -1.82694960e-03,   1.66410000e-02,\n",
       "          1.67325384e-02,   4.52790000e-05],\n",
       "       [  1.46120000e-05,   2.49643098e-02,   1.67325384e-02,\n",
       "          5.05350400e-02,  -1.92878400e-04],\n",
       "       [  1.27764000e-03,   8.41651200e-04,   4.52790000e-05,\n",
       "         -1.92878400e-04,   1.52100000e-03]])"
      ]
     },
     "execution_count": 44,
     "metadata": {},
     "output_type": "execute_result"
    }
   ],
   "source": [
    "covp"
   ]
  },
  {
   "cell_type": "code",
   "execution_count": 45,
   "metadata": {
    "collapsed": true
   },
   "outputs": [],
   "source": [
    "def min_fanc_var(weights):\n",
    "    return np.dot(weights.T, np.dot(covp, weights))  # 最小化する目的関数を作る"
   ]
  },
  {
   "cell_type": "code",
   "execution_count": 46,
   "metadata": {
    "collapsed": true
   },
   "outputs": [],
   "source": [
    "x0 = [1. / len(rets)] * len(rets)  # 初期解　　最初に全部の資産に同じ比率で投資するってのを作っています"
   ]
  },
  {
   "cell_type": "code",
   "execution_count": 47,
   "metadata": {},
   "outputs": [
    {
     "data": {
      "text/plain": [
       "[0.2, 0.2, 0.2, 0.2, 0.2]"
      ]
     },
     "execution_count": 47,
     "metadata": {},
     "output_type": "execute_result"
    }
   ],
   "source": [
    "x0"
   ]
  },
  {
   "cell_type": "code",
   "execution_count": 48,
   "metadata": {
    "collapsed": true
   },
   "outputs": [],
   "source": [
    "bnds = [(0, None)] * len(rets)  # 投資の上限下限を決めています。マイナスにならないようにしている。ので資産配分が１００％以上にもなりません。"
   ]
  },
  {
   "cell_type": "code",
   "execution_count": 49,
   "metadata": {},
   "outputs": [
    {
     "data": {
      "text/plain": [
       "[(0, None), (0, None), (0, None), (0, None), (0, None)]"
      ]
     },
     "execution_count": 49,
     "metadata": {},
     "output_type": "execute_result"
    }
   ],
   "source": [
    "bnds"
   ]
  },
  {
   "cell_type": "code",
   "execution_count": 50,
   "metadata": {
    "collapsed": true
   },
   "outputs": [],
   "source": [
    "max_ret = np.array(rets).max().round(3)\n",
    "min_ret = np.array(rets).min().round(3)\n",
    "trets = np.linspace(min_ret, max_ret, 100)"
   ]
  },
  {
   "cell_type": "code",
   "execution_count": 51,
   "metadata": {},
   "outputs": [
    {
     "data": {
      "text/plain": [
       "array([ 0.019     ,  0.01931313,  0.01962626,  0.01993939,  0.02025253,\n",
       "        0.02056566,  0.02087879,  0.02119192,  0.02150505,  0.02181818,\n",
       "        0.02213131,  0.02244444,  0.02275758,  0.02307071,  0.02338384,\n",
       "        0.02369697,  0.0240101 ,  0.02432323,  0.02463636,  0.02494949,\n",
       "        0.02526263,  0.02557576,  0.02588889,  0.02620202,  0.02651515,\n",
       "        0.02682828,  0.02714141,  0.02745455,  0.02776768,  0.02808081,\n",
       "        0.02839394,  0.02870707,  0.0290202 ,  0.02933333,  0.02964646,\n",
       "        0.0299596 ,  0.03027273,  0.03058586,  0.03089899,  0.03121212,\n",
       "        0.03152525,  0.03183838,  0.03215152,  0.03246465,  0.03277778,\n",
       "        0.03309091,  0.03340404,  0.03371717,  0.0340303 ,  0.03434343,\n",
       "        0.03465657,  0.0349697 ,  0.03528283,  0.03559596,  0.03590909,\n",
       "        0.03622222,  0.03653535,  0.03684848,  0.03716162,  0.03747475,\n",
       "        0.03778788,  0.03810101,  0.03841414,  0.03872727,  0.0390404 ,\n",
       "        0.03935354,  0.03966667,  0.0399798 ,  0.04029293,  0.04060606,\n",
       "        0.04091919,  0.04123232,  0.04154545,  0.04185859,  0.04217172,\n",
       "        0.04248485,  0.04279798,  0.04311111,  0.04342424,  0.04373737,\n",
       "        0.04405051,  0.04436364,  0.04467677,  0.0449899 ,  0.04530303,\n",
       "        0.04561616,  0.04592929,  0.04624242,  0.04655556,  0.04686869,\n",
       "        0.04718182,  0.04749495,  0.04780808,  0.04812121,  0.04843434,\n",
       "        0.04874747,  0.04906061,  0.04937374,  0.04968687,  0.05      ])"
      ]
     },
     "execution_count": 51,
     "metadata": {},
     "output_type": "execute_result"
    }
   ],
   "source": [
    "trets"
   ]
  },
  {
   "cell_type": "code",
   "execution_count": 52,
   "metadata": {
    "collapsed": true
   },
   "outputs": [],
   "source": [
    "tvols = []\n",
    "for tret in trets:\n",
    "    cons = [{'type': 'eq', 'fun': lambda x: np.sum(x) - 1},\n",
    "           {'type': 'ineq', 'fun': lambda x: np.sum(rets * x) - tret}]\n",
    "    res = sco.minimize(fun = min_fanc_var, x0 = x0, method='SLSQP', bounds=bnds, constraints = cons)\n",
    "    tvols.append(np.sqrt(res['fun']))\n",
    "    \n",
    "tvols = np.array(tvols)"
   ]
  },
  {
   "cell_type": "code",
   "execution_count": 53,
   "metadata": {},
   "outputs": [
    {
     "data": {
      "text/html": [
       "\n",
       "<div class=\"bk-root\">\n",
       "    <div class=\"bk-plotdiv\" id=\"118ecd61-2fe7-4d3d-ad66-8a05ede956e4\"></div>\n",
       "</div>"
      ]
     },
     "metadata": {},
     "output_type": "display_data"
    },
    {
     "data": {
      "application/javascript": [
       "(function(root) {\n",
       "  function embed_document(root) {\n",
       "    var docs_json = {\"8c720c6f-8228-4020-b2ed-d68f021d4e4a\":{\"roots\":{\"references\":[{\"attributes\":{\"axis_label\":\"\\u30dd\\u30fc\\u30c8\\u30d5\\u30a9\\u30ea\\u30aa\\u306e\\u30ea\\u30b9\\u30af\\uff08\\u30dc\\u30e9\\u30c6\\u30a3\\u30ea\\u30c6\\u30a3\\uff09\",\"formatter\":{\"id\":\"b02340d1-ba1f-4879-b018-230143b10e04\",\"type\":\"BasicTickFormatter\"},\"plot\":{\"id\":\"84f80def-e6f9-4772-99e1-dcc46d4decb2\",\"subtype\":\"Figure\",\"type\":\"Plot\"},\"ticker\":{\"id\":\"4917ac2c-e7b8-40c1-a1ba-646675fae67a\",\"type\":\"BasicTicker\"}},\"id\":\"ea715716-e910-4183-9dc8-58bd001b4730\",\"type\":\"LinearAxis\"},{\"attributes\":{\"callback\":null},\"id\":\"8b39dd93-8bf7-4a88-be67-b1e0aa626e92\",\"type\":\"DataRange1d\"},{\"attributes\":{},\"id\":\"07c87734-6a53-4b27-9552-f3a146fb475b\",\"type\":\"BasicTicker\"},{\"attributes\":{},\"id\":\"f551d981-7eb2-4264-a8a6-4add087882ab\",\"type\":\"LinearScale\"},{\"attributes\":{\"below\":[{\"id\":\"ea715716-e910-4183-9dc8-58bd001b4730\",\"type\":\"LinearAxis\"}],\"left\":[{\"id\":\"b724abe0-71b2-444d-b8e1-3840cf84d26f\",\"type\":\"LinearAxis\"}],\"plot_height\":500,\"plot_width\":800,\"renderers\":[{\"id\":\"ea715716-e910-4183-9dc8-58bd001b4730\",\"type\":\"LinearAxis\"},{\"id\":\"d6ef076c-796c-42a4-b5fb-9330dc623339\",\"type\":\"Grid\"},{\"id\":\"b724abe0-71b2-444d-b8e1-3840cf84d26f\",\"type\":\"LinearAxis\"},{\"id\":\"8868490c-fc76-49e9-bd15-52377ff9ea27\",\"type\":\"Grid\"},{\"id\":\"842319a8-d383-4b4d-9850-51a73b364081\",\"type\":\"BoxAnnotation\"},{\"id\":\"fa41ed6f-1c6e-432f-bacd-8b6d70582cfc\",\"type\":\"GlyphRenderer\"}],\"title\":{\"id\":\"c0cda3c9-6542-4568-ae88-8bdb6a2059b9\",\"type\":\"Title\"},\"toolbar\":{\"id\":\"47600ebb-660f-4388-bf2a-c42df93306ad\",\"type\":\"Toolbar\"},\"x_range\":{\"id\":\"94d6996f-11c5-440e-b81b-2f9b4196cd4b\",\"type\":\"DataRange1d\"},\"x_scale\":{\"id\":\"e8f0870d-10d5-41fb-b824-fb13c80bd229\",\"type\":\"LinearScale\"},\"y_range\":{\"id\":\"8b39dd93-8bf7-4a88-be67-b1e0aa626e92\",\"type\":\"DataRange1d\"},\"y_scale\":{\"id\":\"f551d981-7eb2-4264-a8a6-4add087882ab\",\"type\":\"LinearScale\"}},\"id\":\"84f80def-e6f9-4772-99e1-dcc46d4decb2\",\"subtype\":\"Figure\",\"type\":\"Plot\"},{\"attributes\":{\"axis_label\":\"\\u30dd\\u30fc\\u30c8\\u30d5\\u30a9\\u30ea\\u30aa\\u306e\\u30ea\\u30bf\\u30fc\\u30f3\",\"formatter\":{\"id\":\"8c2719b2-2a7c-48f6-9b95-00a18de694ca\",\"type\":\"BasicTickFormatter\"},\"plot\":{\"id\":\"84f80def-e6f9-4772-99e1-dcc46d4decb2\",\"subtype\":\"Figure\",\"type\":\"Plot\"},\"ticker\":{\"id\":\"07c87734-6a53-4b27-9552-f3a146fb475b\",\"type\":\"BasicTicker\"}},\"id\":\"b724abe0-71b2-444d-b8e1-3840cf84d26f\",\"type\":\"LinearAxis\"},{\"attributes\":{\"callback\":null},\"id\":\"94d6996f-11c5-440e-b81b-2f9b4196cd4b\",\"type\":\"DataRange1d\"},{\"attributes\":{\"active_drag\":\"auto\",\"active_inspect\":\"auto\",\"active_scroll\":\"auto\",\"active_tap\":\"auto\",\"tools\":[{\"id\":\"470989c7-0972-4abc-a817-d41b7fe85ca0\",\"type\":\"PanTool\"},{\"id\":\"feada57f-3c85-4ad2-b4b5-31619540f463\",\"type\":\"WheelZoomTool\"},{\"id\":\"fbccfbd4-e147-41e3-8c62-3de87f3948db\",\"type\":\"BoxZoomTool\"},{\"id\":\"8a50f512-adbc-471b-9ecf-918a6ae55961\",\"type\":\"SaveTool\"},{\"id\":\"ee9b0769-70dd-46d0-80ab-dbf507e1b8eb\",\"type\":\"ResetTool\"},{\"id\":\"2af26397-dfa3-4439-80d0-b33c4d5a3dc6\",\"type\":\"HelpTool\"}]},\"id\":\"47600ebb-660f-4388-bf2a-c42df93306ad\",\"type\":\"Toolbar\"},{\"attributes\":{},\"id\":\"8c2719b2-2a7c-48f6-9b95-00a18de694ca\",\"type\":\"BasicTickFormatter\"},{\"attributes\":{},\"id\":\"470989c7-0972-4abc-a817-d41b7fe85ca0\",\"type\":\"PanTool\"},{\"attributes\":{},\"id\":\"2af26397-dfa3-4439-80d0-b33c4d5a3dc6\",\"type\":\"HelpTool\"},{\"attributes\":{\"bottom_units\":\"screen\",\"fill_alpha\":{\"value\":0.5},\"fill_color\":{\"value\":\"lightgrey\"},\"left_units\":\"screen\",\"level\":\"overlay\",\"line_alpha\":{\"value\":1.0},\"line_color\":{\"value\":\"black\"},\"line_dash\":[4,4],\"line_width\":{\"value\":2},\"plot\":null,\"render_mode\":\"css\",\"right_units\":\"screen\",\"top_units\":\"screen\"},\"id\":\"842319a8-d383-4b4d-9850-51a73b364081\",\"type\":\"BoxAnnotation\"},{\"attributes\":{\"dimension\":1,\"plot\":{\"id\":\"84f80def-e6f9-4772-99e1-dcc46d4decb2\",\"subtype\":\"Figure\",\"type\":\"Plot\"},\"ticker\":{\"id\":\"07c87734-6a53-4b27-9552-f3a146fb475b\",\"type\":\"BasicTicker\"}},\"id\":\"8868490c-fc76-49e9-bd15-52377ff9ea27\",\"type\":\"Grid\"},{\"attributes\":{\"callback\":null,\"column_names\":[\"x\",\"y\"],\"data\":{\"x\":{\"__ndarray__\":\"NBy/rUP7oj80HL+tQ/uiPzQcv61D+6I/NBy/rUP7oj80HL+tQ/uiPzQcv61D+6I/NBy/rUP7oj/SSD1UcvuiP2LGtcfE/qI/AkTVkR0Ioz8JZmeTlhejP8JPijwNLaM/FK06UltIoz9N0qKQWmmjPz0N3Y0QkKM/DthwYxW8oz9BwL8ade2jPyD4vc6sJKQ/h9m/JntgpD/ir0PJRaCkPwLbtIi15aQ/r4FywT5XpT+MiyrXGJWlPxn9icqh2aU/+N9y6Roopj/i0RBMtYGmP58Kj9MF4aY/Mkq5L5VQpz+tadfYkamnP1JI2MAUG6g/09SpYFZ6qD8J5wAro92oP30MY9DYTak/UlN191TAqT+853J2SzWqPz4U0l1krKo/LULxM6glqz8VAgvN4qGrP1szLQmKH6w/9x41wfCcrD/K06fLbh6tPx0wVWFroa0/X6DqW+Ilrj8x1X9Tx6uuP26ozjEhP68/i+vDCevlrz+o7N9j/jqwP9YlHV0gmbA/aOicjHf+sD9k1VLVuWqxP1/tI5lV3bE/3KBwydNVsj/VFhhxw9OyP6cIPUK6VrM/IziLwVTesz+NAYX+P2q0P53GZmEP+rQ/x+sSpt6OtT90tkS6TyS2P5hUrkM3vrY/gNtfsv5atz9oF2VzY/q3PwYwPYZQnLg/DCNy0U9AuT/IIPkN/ea5P5LhjfdLkLo/olM6/gU8uz8d5813/um7P0HSSHIMmrw/+Ma3WwpMvT8857Tp1f+9P+E+TO9Otb4//V8FvVhsvz8/P+lHbBLAP+VscuBab8A/62Bk1ezMwD9zLJi3FyvBP6IGmebRicE/orWEghLpwT/NKLNV0UjCP2OavckGqcI/hSod16sJwz+He6r8uWrDPyN24C8rzMM/rIt/1vktxD9Bzhi6IJDEPx/K6wKb8sQ/QCrWLmRVxT/HFBMIeLjFP8P7iqPSG8Y/NBlxV3B/xj/bsUG4TePGPziL5ZFnR8c/0Ao+5bqrxz8SYerjRBDIPyr//+oCdcg/dcIugvLZyD/8ilKBcHPJP4Sx3hNmyMo/b5HeEz/GzD8=\",\"dtype\":\"float64\",\"shape\":[100]},\"y\":{\"__ndarray__\":\"2/l+arx0kz/pNX5N0saTP/dxfTDoGJQ/BK58E/5qlD8S6nv2E72UPyAme9kpD5U/LmJ6vD9hlT88nnmfVbOVP0raeIJrBZY/WBZ4ZYFXlj9lUndIl6mWP3OOdiut+5Y/gcp1DsNNlz+PBnXx2J+XP5xCdNTu8Zc/qn5ztwREmD+4unKaGpaYP8b2cX0w6Jg/1DJxYEY6mT/ibnBDXIyZP/CqbyZy3pk//uZuCYgwmj8LI27snYKaPxlfbc+z1Jo/J5tssskmmz8012uV33ibP0ITa3j1yps/UE9qWwsdnD9ei2k+IW+cP2zHaCE3wZw/egNoBE0TnT+IP2fnYmWdP5Z7Zsp4t50/pLdlrY4Jnj+x82SQpFueP78vZHO6rZ4/zWtjVtD/nj/ap2I55lGfP+jjYRz8o58/9h9h/xH2nz8CLjDxEySgPwnMr+IeTaA/EGov1Cl2oD8XCK/FNJ+gPx6mLrc/yKA/JUSuqErxoD8s4i2aVRqhPzKArYtgQ6E/Oh4tfWtsoT9AvKxudpWhP0daLGCBvqE/TvirUYznoT9VlitDlxCiP1w0qzSiOaI/Y9IqJq1ioj9qcKoXuIuiP3AOKgnDtKI/eKyp+s3doj9+Sins2AajP4boqN3jL6M/jIYoz+5Yoz+UJKjA+YGjP5rCJ7IEq6M/oWCnow/Uoz+o/iaVGv2jP6+cpoYlJqQ/tjomeDBPpD+82KVpO3ikP8R2JVtGoaQ/yhSlTFHKpD/SsiQ+XPOkP9hQpC9nHKU/4O4jIXJFpT/mjKMSfW6lP+0qIwSIl6U/9Mii9ZLApT/7ZiLnnemlPwIFotioEqY/CaMhyrM7pj8QQaG7vmSmPxbfIK3JjaY/Hn2gntS2pj8kGyCQ39+mPyy5n4HqCKc/Mlcfc/Uxpz859Z5kAFunP0CTHlYLhKc/RzGeRxatpz9Ozx05IdanP1VtnSos/6c/XAsdHDcoqD9iqZwNQlGoP2pHHP9Meqg/cOWb8FejqD94gxviYsyoP34hm9Nt9ag/hr8axXgeqT+MXZq2g0epP5P7GaiOcKk/mpmZmZmZqT8=\",\"dtype\":\"float64\",\"shape\":[100]}}},\"id\":\"d6d99233-388e-4225-a3a4-5d7532006991\",\"type\":\"ColumnDataSource\"},{\"attributes\":{\"line_color\":{\"value\":\"blue\"},\"line_width\":{\"value\":3},\"x\":{\"field\":\"x\"},\"y\":{\"field\":\"y\"}},\"id\":\"8a8a914a-197c-4560-bb7a-a3a2a3bbd519\",\"type\":\"Line\"},{\"attributes\":{\"data_source\":{\"id\":\"d6d99233-388e-4225-a3a4-5d7532006991\",\"type\":\"ColumnDataSource\"},\"glyph\":{\"id\":\"8a8a914a-197c-4560-bb7a-a3a2a3bbd519\",\"type\":\"Line\"},\"hover_glyph\":null,\"muted_glyph\":null,\"nonselection_glyph\":{\"id\":\"951e1787-5fd4-4e45-a5f8-e958c5ebb7d8\",\"type\":\"Line\"},\"selection_glyph\":null,\"view\":{\"id\":\"f5529959-8e92-4eb9-b05e-83e59946fee7\",\"type\":\"CDSView\"}},\"id\":\"fa41ed6f-1c6e-432f-bacd-8b6d70582cfc\",\"type\":\"GlyphRenderer\"},{\"attributes\":{\"plot\":{\"id\":\"84f80def-e6f9-4772-99e1-dcc46d4decb2\",\"subtype\":\"Figure\",\"type\":\"Plot\"},\"ticker\":{\"id\":\"4917ac2c-e7b8-40c1-a1ba-646675fae67a\",\"type\":\"BasicTicker\"}},\"id\":\"d6ef076c-796c-42a4-b5fb-9330dc623339\",\"type\":\"Grid\"},{\"attributes\":{},\"id\":\"feada57f-3c85-4ad2-b4b5-31619540f463\",\"type\":\"WheelZoomTool\"},{\"attributes\":{},\"id\":\"e8f0870d-10d5-41fb-b824-fb13c80bd229\",\"type\":\"LinearScale\"},{\"attributes\":{\"line_alpha\":{\"value\":0.1},\"line_color\":{\"value\":\"#1f77b4\"},\"line_width\":{\"value\":3},\"x\":{\"field\":\"x\"},\"y\":{\"field\":\"y\"}},\"id\":\"951e1787-5fd4-4e45-a5f8-e958c5ebb7d8\",\"type\":\"Line\"},{\"attributes\":{},\"id\":\"b02340d1-ba1f-4879-b018-230143b10e04\",\"type\":\"BasicTickFormatter\"},{\"attributes\":{\"plot\":null,\"text\":\"\\u4eee\\u60f3\\u30dd\\u30fc\\u30c8\\u30d5\\u30a9\\u30ea\\u30aa\\u306e\\u30ea\\u30b9\\u30af\\u3068\\u30ea\\u30bf\\u30fc\\u30f3\"},\"id\":\"c0cda3c9-6542-4568-ae88-8bdb6a2059b9\",\"type\":\"Title\"},{\"attributes\":{\"overlay\":{\"id\":\"842319a8-d383-4b4d-9850-51a73b364081\",\"type\":\"BoxAnnotation\"}},\"id\":\"fbccfbd4-e147-41e3-8c62-3de87f3948db\",\"type\":\"BoxZoomTool\"},{\"attributes\":{},\"id\":\"8a50f512-adbc-471b-9ecf-918a6ae55961\",\"type\":\"SaveTool\"},{\"attributes\":{},\"id\":\"ee9b0769-70dd-46d0-80ab-dbf507e1b8eb\",\"type\":\"ResetTool\"},{\"attributes\":{\"source\":{\"id\":\"d6d99233-388e-4225-a3a4-5d7532006991\",\"type\":\"ColumnDataSource\"}},\"id\":\"f5529959-8e92-4eb9-b05e-83e59946fee7\",\"type\":\"CDSView\"},{\"attributes\":{},\"id\":\"4917ac2c-e7b8-40c1-a1ba-646675fae67a\",\"type\":\"BasicTicker\"}],\"root_ids\":[\"84f80def-e6f9-4772-99e1-dcc46d4decb2\"]},\"title\":\"Bokeh Application\",\"version\":\"0.12.10\"}};\n",
       "    var render_items = [{\"docid\":\"8c720c6f-8228-4020-b2ed-d68f021d4e4a\",\"elementid\":\"118ecd61-2fe7-4d3d-ad66-8a05ede956e4\",\"modelid\":\"84f80def-e6f9-4772-99e1-dcc46d4decb2\"}];\n",
       "\n",
       "    root.Bokeh.embed.embed_items(docs_json, render_items);\n",
       "  }\n",
       "\n",
       "  if (root.Bokeh !== undefined) {\n",
       "    embed_document(root);\n",
       "  } else {\n",
       "    var attempts = 0;\n",
       "    var timer = setInterval(function(root) {\n",
       "      if (root.Bokeh !== undefined) {\n",
       "        embed_document(root);\n",
       "        clearInterval(timer);\n",
       "      }\n",
       "      attempts++;\n",
       "      if (attempts > 100) {\n",
       "        console.log(\"Bokeh: ERROR: Unable to embed document because BokehJS library is missing\")\n",
       "        clearInterval(timer);\n",
       "      }\n",
       "    }, 10, root)\n",
       "  }\n",
       "})(window);"
      ],
      "application/vnd.bokehjs_exec.v0+json": ""
     },
     "metadata": {
      "application/vnd.bokehjs_exec.v0+json": {
       "id": "84f80def-e6f9-4772-99e1-dcc46d4decb2"
      }
     },
     "output_type": "display_data"
    }
   ],
   "source": [
    "p = figure(width=800, height=500, title='仮想ポートフォリオのリスクとリターン')\n",
    "p.line(tvols, trets, line_color='blue', line_width=3)\n",
    "p.xaxis.axis_label='ポートフォリオのリスク（ボラティリティ）'\n",
    "p.yaxis.axis_label='ポートフォリオのリターン'\n",
    "show(p)"
   ]
  },
  {
   "cell_type": "markdown",
   "metadata": {},
   "source": [
    "## 分散投資\n",
    "* さて、これで色々な資産をどんな割合で持ったらどんな感じのリスクリターンになりそうか作れるようになりました。\n",
    "* これで資産の１％を酔っ払いに支払う必要がなくなりました。\n",
    "* リターンを増やすためにすべきことは何でしょうか？\n",
    "* 答えは分散投資です。\n",
    "* 資産の分散と時間の分散が重要です。\n",
    "* 資産の分散の概念を見てみましょう。"
   ]
  },
  {
   "cell_type": "code",
   "execution_count": 54,
   "metadata": {
    "collapsed": true
   },
   "outputs": [],
   "source": [
    "rets1 = [0.03, 0.048, 0.032, 0.05, 0.019, 0.04]       # 先程の資産に１つ足す　６資産に\n",
    "vols1 = [0.065, 0.2248, 0.129, 0.2248, 0.039, 0.08]"
   ]
  },
  {
   "cell_type": "code",
   "execution_count": 55,
   "metadata": {
    "collapsed": true
   },
   "outputs": [],
   "source": [
    "corrs1 = [[1, 0.199, -0.025, 0.001, 0.504, 0.8],\n",
    "        [0.199, 1, -0.063, 0.494, 0.096, 0.9],\n",
    "        [-0.025, -0.063, 1, 0.577, 0.009, 0.8],\n",
    "        [0.001, 0.494, 0.577, 1, -0.022, 0.9],\n",
    "        [0.504, 0.096, 0.009, -0.022, 1, 0.8],\n",
    "        [0.8, 0.9, 0.8, 0.9, 0.8, 1.0 ]]    "
   ]
  },
  {
   "cell_type": "code",
   "execution_count": 56,
   "metadata": {
    "collapsed": true
   },
   "outputs": [],
   "source": [
    "b1 = []\n",
    "b2 = []\n",
    "b3 = []\n",
    "b4 = []\n",
    "b5 = []\n",
    "b6 = []"
   ]
  },
  {
   "cell_type": "code",
   "execution_count": 57,
   "metadata": {
    "collapsed": true
   },
   "outputs": [],
   "source": [
    "testi(k=vols1[0], box = b1, volla=vols1)\n",
    "testi(k=vols1[1], box = b2, volla=vols1)\n",
    "testi(k=vols1[2], box = b3, volla=vols1)\n",
    "testi(k=vols1[3], box = b4, volla=vols1)\n",
    "testi(k=vols1[4], box = b5, volla=vols1)\n",
    "testi(k=vols1[5], box = b6, volla=vols1)"
   ]
  },
  {
   "cell_type": "code",
   "execution_count": 58,
   "metadata": {
    "collapsed": true
   },
   "outputs": [],
   "source": [
    "b1 = np.array(b1)\n",
    "b2 = np.array(b2)\n",
    "b3 = np.array(b3)\n",
    "b4 = np.array(b4)\n",
    "b5 = np.array(b5)\n",
    "b6 = np.array(b6)"
   ]
  },
  {
   "cell_type": "code",
   "execution_count": 59,
   "metadata": {
    "collapsed": true
   },
   "outputs": [],
   "source": [
    "covp1 = [b1 * np.array(corrs1[0]), b2 * np.array(corrs1[1]), b3 * np.array(corrs1[2]), \\\n",
    "        b4 * np.array(corrs1[3]), b5 * np.array(corrs1[4]), b6 * np.array(corrs1[5])]"
   ]
  },
  {
   "cell_type": "code",
   "execution_count": 60,
   "metadata": {
    "collapsed": true
   },
   "outputs": [],
   "source": [
    "covp1 = np.array(covp1)"
   ]
  },
  {
   "cell_type": "code",
   "execution_count": 61,
   "metadata": {
    "collapsed": true
   },
   "outputs": [],
   "source": [
    "def min_func_var1(weights):\n",
    "    return np.dot(weights.T, np.dot(covp1, weights))\n",
    "\n",
    "x1 = [1. / len(rets1)] * len(rets1)\n",
    "bnds1 = [(0, None)] * len(rets1)\n",
    "max_rets1 = np.array(rets1).max().round(3)\n",
    "min_rets1 = np.array(rets1).min().round(3)\n",
    "trets1 = np.linspace(min_rets1, max_rets1, 100)"
   ]
  },
  {
   "cell_type": "code",
   "execution_count": 62,
   "metadata": {
    "collapsed": true
   },
   "outputs": [],
   "source": [
    "tvols1 = []\n",
    "for tret1 in trets1:\n",
    "    cons = [{'type': 'eq', 'fun': lambda x: np.sum(x) - 1},\n",
    "           {'type': 'ineq', 'fun': lambda x: np.sum(rets1 * x) - tret1}]\n",
    "    res = sco.minimize(fun = min_func_var1, x0 = x1, method='SLSQP', bounds=bnds1, constraints = cons)\n",
    "    tvols1.append(np.sqrt(res['fun']))\n",
    "    \n",
    "tvols1 = np.array(tvols1)"
   ]
  },
  {
   "cell_type": "code",
   "execution_count": 63,
   "metadata": {},
   "outputs": [
    {
     "data": {
      "text/html": [
       "\n",
       "<div class=\"bk-root\">\n",
       "    <div class=\"bk-plotdiv\" id=\"bf227c85-1e93-4c72-b598-38009ba04e06\"></div>\n",
       "</div>"
      ]
     },
     "metadata": {},
     "output_type": "display_data"
    },
    {
     "data": {
      "application/javascript": [
       "(function(root) {\n",
       "  function embed_document(root) {\n",
       "    var docs_json = {\"2b382d6c-ed7c-48a8-af35-539cbaba0b40\":{\"roots\":{\"references\":[{\"attributes\":{\"plot\":{\"id\":\"2f27ee90-6423-403f-be50-be4b1327a692\",\"subtype\":\"Figure\",\"type\":\"Plot\"},\"ticker\":{\"id\":\"085b313b-b76e-40ba-9e24-a92635dbc41a\",\"type\":\"BasicTicker\"}},\"id\":\"20a0466b-569f-43eb-abf4-1cdd3018c825\",\"type\":\"Grid\"},{\"attributes\":{\"data_source\":{\"id\":\"98cf4007-1145-4688-8497-ab31b4d3ec08\",\"type\":\"ColumnDataSource\"},\"glyph\":{\"id\":\"4bbbadab-2e33-4f07-8615-b1f1b798f4e3\",\"type\":\"Line\"},\"hover_glyph\":null,\"muted_glyph\":null,\"nonselection_glyph\":{\"id\":\"27deeaba-427e-4392-bd70-fbac61e43cac\",\"type\":\"Line\"},\"selection_glyph\":null,\"view\":{\"id\":\"a92de618-e332-48de-b217-0330d724f182\",\"type\":\"CDSView\"}},\"id\":\"f5c56e91-d0fa-4778-9d99-77a9bb063ba7\",\"type\":\"GlyphRenderer\"},{\"attributes\":{},\"id\":\"1bff29eb-7cc5-4a7a-880c-2f309d32c312\",\"type\":\"BasicTicker\"},{\"attributes\":{},\"id\":\"1052b622-638f-4384-a302-b24f9ab96a1d\",\"type\":\"PanTool\"},{\"attributes\":{\"source\":{\"id\":\"98cf4007-1145-4688-8497-ab31b4d3ec08\",\"type\":\"ColumnDataSource\"}},\"id\":\"a92de618-e332-48de-b217-0330d724f182\",\"type\":\"CDSView\"},{\"attributes\":{\"source\":{\"id\":\"a5d07fcb-c7e6-4b7f-8a88-b34a42edeb61\",\"type\":\"ColumnDataSource\"}},\"id\":\"8cc59121-c82a-4395-9fe1-d40017159e42\",\"type\":\"CDSView\"},{\"attributes\":{\"items\":[{\"id\":\"804272fb-7075-4a6d-bbf6-49d8d01847d9\",\"type\":\"LegendItem\"},{\"id\":\"ffd137ec-969b-4ccd-999a-4ba9df45ed2a\",\"type\":\"LegendItem\"}],\"location\":\"top_left\",\"plot\":{\"id\":\"2f27ee90-6423-403f-be50-be4b1327a692\",\"subtype\":\"Figure\",\"type\":\"Plot\"}},\"id\":\"764d3669-f123-4bbb-9ab8-0ef5dc174343\",\"type\":\"Legend\"},{\"attributes\":{\"dimension\":1,\"plot\":{\"id\":\"2f27ee90-6423-403f-be50-be4b1327a692\",\"subtype\":\"Figure\",\"type\":\"Plot\"},\"ticker\":{\"id\":\"1bff29eb-7cc5-4a7a-880c-2f309d32c312\",\"type\":\"BasicTicker\"}},\"id\":\"b9d198c4-a2e2-4641-9b54-c24b26f7b63f\",\"type\":\"Grid\"},{\"attributes\":{},\"id\":\"f5eb0400-c61d-4b30-a65a-9d8eb14d3163\",\"type\":\"BasicTickFormatter\"},{\"attributes\":{\"axis_label\":\"\\u30dd\\u30fc\\u30c8\\u30d5\\u30a9\\u30ea\\u30aa\\u306e\\u30ea\\u30bf\\u30fc\\u30f3\",\"formatter\":{\"id\":\"3c563fd8-1207-4775-b236-1efc18d6e45d\",\"type\":\"BasicTickFormatter\"},\"plot\":{\"id\":\"2f27ee90-6423-403f-be50-be4b1327a692\",\"subtype\":\"Figure\",\"type\":\"Plot\"},\"ticker\":{\"id\":\"1bff29eb-7cc5-4a7a-880c-2f309d32c312\",\"type\":\"BasicTicker\"}},\"id\":\"e3f19968-7c33-4fcd-82df-ca026ffa386c\",\"type\":\"LinearAxis\"},{\"attributes\":{\"overlay\":{\"id\":\"3e0ccc02-dff6-420f-8209-322958275574\",\"type\":\"BoxAnnotation\"}},\"id\":\"0add84bb-2e50-4397-95ba-4a1f9b0ff003\",\"type\":\"BoxZoomTool\"},{\"attributes\":{\"line_alpha\":{\"value\":0.1},\"line_color\":{\"value\":\"#1f77b4\"},\"line_width\":{\"value\":3},\"x\":{\"field\":\"x\"},\"y\":{\"field\":\"y\"}},\"id\":\"27deeaba-427e-4392-bd70-fbac61e43cac\",\"type\":\"Line\"},{\"attributes\":{\"bottom_units\":\"screen\",\"fill_alpha\":{\"value\":0.5},\"fill_color\":{\"value\":\"lightgrey\"},\"left_units\":\"screen\",\"level\":\"overlay\",\"line_alpha\":{\"value\":1.0},\"line_color\":{\"value\":\"black\"},\"line_dash\":[4,4],\"line_width\":{\"value\":2},\"plot\":null,\"render_mode\":\"css\",\"right_units\":\"screen\",\"top_units\":\"screen\"},\"id\":\"3e0ccc02-dff6-420f-8209-322958275574\",\"type\":\"BoxAnnotation\"},{\"attributes\":{},\"id\":\"c620ba8d-5f26-4930-a685-455f2a8c479a\",\"type\":\"HelpTool\"},{\"attributes\":{},\"id\":\"3c563fd8-1207-4775-b236-1efc18d6e45d\",\"type\":\"BasicTickFormatter\"},{\"attributes\":{},\"id\":\"78c6e95f-3942-4c29-bb0a-c561ab729ffe\",\"type\":\"SaveTool\"},{\"attributes\":{},\"id\":\"ee7c0984-acce-4476-aa75-566a2bf636a7\",\"type\":\"WheelZoomTool\"},{\"attributes\":{\"callback\":null,\"column_names\":[\"x\",\"y\"],\"data\":{\"x\":{\"__ndarray__\":\"2Uph9LX7oj/ZSmH0tfuiP9lKYfS1+6I/2Uph9LX7oj/ZSmH0tfuiP9lKYfS1+6I/2Uph9LX7oj9+UW3FivuiP8YI9eeW/6I/IAMughoIoz8j99u5mBejPzmWvcuBLaM/jqPwKXFIoz/JZHWaRGmjP69azAffj6M/5TNzH3y8oz8vmOtJn+2jP8Jph1coJKQ/eC5S70RgpD9F5UG0dq2kP3Gqu9wE5qQ/CAvAX3YvpT+Hv7B525GlP/J0vTDA2aU/iZB14Woypj8wd+JGpH+mPz1AuVx+4KY/KqDC8exFpz+qMUQBEqunP2zTeKeTFqg/7r7lzRGCqD/mx9r+e/CoP+Oqt9CtVqk/RED9tri/qT8Zii2vszOqP+Tg2jSpqao/q3uLv44iqz+OX/xk+berPyUT1jiIOqw/y2Z1J3DIrD8lUwKvF5KuP5CTWB+9Fa8/unD4a1uWrz9cStRKHwuwPyybUAnQSbA/QLSj8ryHsD/1L+AlU8SwP21eV+JcALE/D/e6UsEusT/U5Hi4k2exP35JjNskJ7E/cHgIkYxWsT/9jLyvE4axPwcYzW61tbE/dASA+XDlsT/3t7GCRRWyPwcB9UYyRbI/0NhYiTZ1sj89zGB9UqWyPyrV9fqT1bI/mbNHBuMFsz+48UvDazazP26vNVdvaLM/V2Emb+Kbsz8e3/zcudCzPyvpFpvqBrQ/Tck41mk+tD9W8sjqLHe0PzuaVYnuaLU//hVN8+xttj8TqKYpzXi3P8ZA1kf7hbg/0vKxeF6RuT/Q/CZAJpu6P+C53PyAo7s/e/qhHpaqvD9FCaV4h7C9P/+8oDRytb4/06E5oG+5vz+9aCDqSl7AP3DLrxZ838A/xymEIaNgwT8MLWz92eDBP2BF0UlMYcI/LfNeau7hwj9xKdkTwGDDPzcHOek64MM/T9sREn9fxD8P82t2kN7EP2xoFaByXcU/wavwxSjcxT/GWNHTtVrGPz8CsnQc2cY/MaBsGF9Xxz/OKmf8f9XHP/MGliyBU8g/uoM8i2TRyD99br9+cHPJPxdlzQhmyMo/BE1C/D7GzD8=\",\"dtype\":\"float64\",\"shape\":[100]},\"y\":{\"__ndarray__\":\"2/l+arx0kz/pNX5N0saTP/dxfTDoGJQ/BK58E/5qlD8S6nv2E72UPyAme9kpD5U/LmJ6vD9hlT88nnmfVbOVP0raeIJrBZY/WBZ4ZYFXlj9lUndIl6mWP3OOdiut+5Y/gcp1DsNNlz+PBnXx2J+XP5xCdNTu8Zc/qn5ztwREmD+4unKaGpaYP8b2cX0w6Jg/1DJxYEY6mT/ibnBDXIyZP/CqbyZy3pk//uZuCYgwmj8LI27snYKaPxlfbc+z1Jo/J5tssskmmz8012uV33ibP0ITa3j1yps/UE9qWwsdnD9ei2k+IW+cP2zHaCE3wZw/egNoBE0TnT+IP2fnYmWdP5Z7Zsp4t50/pLdlrY4Jnj+x82SQpFueP78vZHO6rZ4/zWtjVtD/nj/ap2I55lGfP+jjYRz8o58/9h9h/xH2nz8CLjDxEySgPwnMr+IeTaA/EGov1Cl2oD8XCK/FNJ+gPx6mLrc/yKA/JUSuqErxoD8s4i2aVRqhPzKArYtgQ6E/Oh4tfWtsoT9AvKxudpWhP0daLGCBvqE/TvirUYznoT9VlitDlxCiP1w0qzSiOaI/Y9IqJq1ioj9qcKoXuIuiP3AOKgnDtKI/eKyp+s3doj9+Sins2AajP4boqN3jL6M/jIYoz+5Yoz+UJKjA+YGjP5rCJ7IEq6M/oWCnow/Uoz+o/iaVGv2jP6+cpoYlJqQ/tjomeDBPpD+82KVpO3ikP8R2JVtGoaQ/yhSlTFHKpD/SsiQ+XPOkP9hQpC9nHKU/4O4jIXJFpT/mjKMSfW6lP+0qIwSIl6U/9Mii9ZLApT/7ZiLnnemlPwIFotioEqY/CaMhyrM7pj8QQaG7vmSmPxbfIK3JjaY/Hn2gntS2pj8kGyCQ39+mPyy5n4HqCKc/Mlcfc/Uxpz859Z5kAFunP0CTHlYLhKc/RzGeRxatpz9Ozx05IdanP1VtnSos/6c/XAsdHDcoqD9iqZwNQlGoP2pHHP9Meqg/cOWb8FejqD94gxviYsyoP34hm9Nt9ag/hr8axXgeqT+MXZq2g0epP5P7GaiOcKk/mpmZmZmZqT8=\",\"dtype\":\"float64\",\"shape\":[100]}}},\"id\":\"a5d07fcb-c7e6-4b7f-8a88-b34a42edeb61\",\"type\":\"ColumnDataSource\"},{\"attributes\":{},\"id\":\"c41e48dd-a18c-4b2f-a208-d1a01cb8dbdf\",\"type\":\"ResetTool\"},{\"attributes\":{},\"id\":\"219ed3be-c93c-4922-b2cb-cb22a8f4bd13\",\"type\":\"LinearScale\"},{\"attributes\":{\"label\":{\"value\":\"5\\u8cc7\\u7523\"},\"renderers\":[{\"id\":\"f5c56e91-d0fa-4778-9d99-77a9bb063ba7\",\"type\":\"GlyphRenderer\"}]},\"id\":\"804272fb-7075-4a6d-bbf6-49d8d01847d9\",\"type\":\"LegendItem\"},{\"attributes\":{\"line_color\":{\"value\":\"green\"},\"line_width\":{\"value\":3},\"x\":{\"field\":\"x\"},\"y\":{\"field\":\"y\"}},\"id\":\"1eae45d3-d0c7-440c-86e3-511b61ccbb46\",\"type\":\"Line\"},{\"attributes\":{\"callback\":null},\"id\":\"c41f1217-1b38-4b3a-be77-609bf49102f2\",\"type\":\"DataRange1d\"},{\"attributes\":{\"data_source\":{\"id\":\"a5d07fcb-c7e6-4b7f-8a88-b34a42edeb61\",\"type\":\"ColumnDataSource\"},\"glyph\":{\"id\":\"1eae45d3-d0c7-440c-86e3-511b61ccbb46\",\"type\":\"Line\"},\"hover_glyph\":null,\"muted_glyph\":null,\"nonselection_glyph\":{\"id\":\"0756b714-b74c-41cd-b508-3f88bd142595\",\"type\":\"Line\"},\"selection_glyph\":null,\"view\":{\"id\":\"8cc59121-c82a-4395-9fe1-d40017159e42\",\"type\":\"CDSView\"}},\"id\":\"622e425d-dae3-4954-af6c-4aa1f946a46e\",\"type\":\"GlyphRenderer\"},{\"attributes\":{},\"id\":\"085b313b-b76e-40ba-9e24-a92635dbc41a\",\"type\":\"BasicTicker\"},{\"attributes\":{},\"id\":\"16283dea-bebb-40ac-99f4-14cfdb923ff3\",\"type\":\"LinearScale\"},{\"attributes\":{\"label\":{\"value\":\"6\\u8cc7\\u7523\\uff08\\u9ad8\\u76f8\\u95a2\\uff09\"},\"renderers\":[{\"id\":\"622e425d-dae3-4954-af6c-4aa1f946a46e\",\"type\":\"GlyphRenderer\"}]},\"id\":\"ffd137ec-969b-4ccd-999a-4ba9df45ed2a\",\"type\":\"LegendItem\"},{\"attributes\":{\"below\":[{\"id\":\"7ecf6f17-0a49-4059-a29b-3ecb82c37a75\",\"type\":\"LinearAxis\"}],\"left\":[{\"id\":\"e3f19968-7c33-4fcd-82df-ca026ffa386c\",\"type\":\"LinearAxis\"}],\"plot_height\":500,\"plot_width\":800,\"renderers\":[{\"id\":\"7ecf6f17-0a49-4059-a29b-3ecb82c37a75\",\"type\":\"LinearAxis\"},{\"id\":\"20a0466b-569f-43eb-abf4-1cdd3018c825\",\"type\":\"Grid\"},{\"id\":\"e3f19968-7c33-4fcd-82df-ca026ffa386c\",\"type\":\"LinearAxis\"},{\"id\":\"b9d198c4-a2e2-4641-9b54-c24b26f7b63f\",\"type\":\"Grid\"},{\"id\":\"3e0ccc02-dff6-420f-8209-322958275574\",\"type\":\"BoxAnnotation\"},{\"id\":\"764d3669-f123-4bbb-9ab8-0ef5dc174343\",\"type\":\"Legend\"},{\"id\":\"f5c56e91-d0fa-4778-9d99-77a9bb063ba7\",\"type\":\"GlyphRenderer\"},{\"id\":\"622e425d-dae3-4954-af6c-4aa1f946a46e\",\"type\":\"GlyphRenderer\"}],\"title\":{\"id\":\"b98dc06c-a1e3-47ed-812b-813132b1cfcd\",\"type\":\"Title\"},\"toolbar\":{\"id\":\"dd86f26b-15d5-4cdb-a65e-3438015cd94b\",\"type\":\"Toolbar\"},\"x_range\":{\"id\":\"fe7a7068-523e-40ed-a0fd-78975d7df0cd\",\"type\":\"DataRange1d\"},\"x_scale\":{\"id\":\"219ed3be-c93c-4922-b2cb-cb22a8f4bd13\",\"type\":\"LinearScale\"},\"y_range\":{\"id\":\"c41f1217-1b38-4b3a-be77-609bf49102f2\",\"type\":\"DataRange1d\"},\"y_scale\":{\"id\":\"16283dea-bebb-40ac-99f4-14cfdb923ff3\",\"type\":\"LinearScale\"}},\"id\":\"2f27ee90-6423-403f-be50-be4b1327a692\",\"subtype\":\"Figure\",\"type\":\"Plot\"},{\"attributes\":{\"line_alpha\":{\"value\":0.1},\"line_color\":{\"value\":\"#1f77b4\"},\"line_width\":{\"value\":3},\"x\":{\"field\":\"x\"},\"y\":{\"field\":\"y\"}},\"id\":\"0756b714-b74c-41cd-b508-3f88bd142595\",\"type\":\"Line\"},{\"attributes\":{\"active_drag\":\"auto\",\"active_inspect\":\"auto\",\"active_scroll\":\"auto\",\"active_tap\":\"auto\",\"tools\":[{\"id\":\"1052b622-638f-4384-a302-b24f9ab96a1d\",\"type\":\"PanTool\"},{\"id\":\"ee7c0984-acce-4476-aa75-566a2bf636a7\",\"type\":\"WheelZoomTool\"},{\"id\":\"0add84bb-2e50-4397-95ba-4a1f9b0ff003\",\"type\":\"BoxZoomTool\"},{\"id\":\"78c6e95f-3942-4c29-bb0a-c561ab729ffe\",\"type\":\"SaveTool\"},{\"id\":\"c41e48dd-a18c-4b2f-a208-d1a01cb8dbdf\",\"type\":\"ResetTool\"},{\"id\":\"c620ba8d-5f26-4930-a685-455f2a8c479a\",\"type\":\"HelpTool\"}]},\"id\":\"dd86f26b-15d5-4cdb-a65e-3438015cd94b\",\"type\":\"Toolbar\"},{\"attributes\":{\"callback\":null},\"id\":\"fe7a7068-523e-40ed-a0fd-78975d7df0cd\",\"type\":\"DataRange1d\"},{\"attributes\":{\"plot\":null,\"text\":\"\\u30dd\\u30fc\\u30c8\\u30d5\\u30a9\\u30ea\\u30aa\\u306e\\u30ea\\u30b9\\u30af\\u3068\\u30ea\\u30bf\\u30fc\\u30f3\"},\"id\":\"b98dc06c-a1e3-47ed-812b-813132b1cfcd\",\"type\":\"Title\"},{\"attributes\":{\"axis_label\":\"\\u30dd\\u30fc\\u30c8\\u30d5\\u30a9\\u30ea\\u30aa\\u306e\\u30ea\\u30b9\\u30af\",\"formatter\":{\"id\":\"f5eb0400-c61d-4b30-a65a-9d8eb14d3163\",\"type\":\"BasicTickFormatter\"},\"plot\":{\"id\":\"2f27ee90-6423-403f-be50-be4b1327a692\",\"subtype\":\"Figure\",\"type\":\"Plot\"},\"ticker\":{\"id\":\"085b313b-b76e-40ba-9e24-a92635dbc41a\",\"type\":\"BasicTicker\"}},\"id\":\"7ecf6f17-0a49-4059-a29b-3ecb82c37a75\",\"type\":\"LinearAxis\"},{\"attributes\":{\"line_color\":{\"value\":\"blue\"},\"line_width\":{\"value\":3},\"x\":{\"field\":\"x\"},\"y\":{\"field\":\"y\"}},\"id\":\"4bbbadab-2e33-4f07-8615-b1f1b798f4e3\",\"type\":\"Line\"},{\"attributes\":{\"callback\":null,\"column_names\":[\"x\",\"y\"],\"data\":{\"x\":{\"__ndarray__\":\"NBy/rUP7oj80HL+tQ/uiPzQcv61D+6I/NBy/rUP7oj80HL+tQ/uiPzQcv61D+6I/NBy/rUP7oj/SSD1UcvuiP2LGtcfE/qI/AkTVkR0Ioz8JZmeTlhejP8JPijwNLaM/FK06UltIoz9N0qKQWmmjPz0N3Y0QkKM/DthwYxW8oz9BwL8ade2jPyD4vc6sJKQ/h9m/JntgpD/ir0PJRaCkPwLbtIi15aQ/r4FywT5XpT+MiyrXGJWlPxn9icqh2aU/+N9y6Roopj/i0RBMtYGmP58Kj9MF4aY/Mkq5L5VQpz+tadfYkamnP1JI2MAUG6g/09SpYFZ6qD8J5wAro92oP30MY9DYTak/UlN191TAqT+853J2SzWqPz4U0l1krKo/LULxM6glqz8VAgvN4qGrP1szLQmKH6w/9x41wfCcrD/K06fLbh6tPx0wVWFroa0/X6DqW+Ilrj8x1X9Tx6uuP26ozjEhP68/i+vDCevlrz+o7N9j/jqwP9YlHV0gmbA/aOicjHf+sD9k1VLVuWqxP1/tI5lV3bE/3KBwydNVsj/VFhhxw9OyP6cIPUK6VrM/IziLwVTesz+NAYX+P2q0P53GZmEP+rQ/x+sSpt6OtT90tkS6TyS2P5hUrkM3vrY/gNtfsv5atz9oF2VzY/q3PwYwPYZQnLg/DCNy0U9AuT/IIPkN/ea5P5LhjfdLkLo/olM6/gU8uz8d5813/um7P0HSSHIMmrw/+Ma3WwpMvT8857Tp1f+9P+E+TO9Otb4//V8FvVhsvz8/P+lHbBLAP+VscuBab8A/62Bk1ezMwD9zLJi3FyvBP6IGmebRicE/orWEghLpwT/NKLNV0UjCP2OavckGqcI/hSod16sJwz+He6r8uWrDPyN24C8rzMM/rIt/1vktxD9Bzhi6IJDEPx/K6wKb8sQ/QCrWLmRVxT/HFBMIeLjFP8P7iqPSG8Y/NBlxV3B/xj/bsUG4TePGPziL5ZFnR8c/0Ao+5bqrxz8SYerjRBDIPyr//+oCdcg/dcIugvLZyD/8ilKBcHPJP4Sx3hNmyMo/b5HeEz/GzD8=\",\"dtype\":\"float64\",\"shape\":[100]},\"y\":{\"__ndarray__\":\"2/l+arx0kz/pNX5N0saTP/dxfTDoGJQ/BK58E/5qlD8S6nv2E72UPyAme9kpD5U/LmJ6vD9hlT88nnmfVbOVP0raeIJrBZY/WBZ4ZYFXlj9lUndIl6mWP3OOdiut+5Y/gcp1DsNNlz+PBnXx2J+XP5xCdNTu8Zc/qn5ztwREmD+4unKaGpaYP8b2cX0w6Jg/1DJxYEY6mT/ibnBDXIyZP/CqbyZy3pk//uZuCYgwmj8LI27snYKaPxlfbc+z1Jo/J5tssskmmz8012uV33ibP0ITa3j1yps/UE9qWwsdnD9ei2k+IW+cP2zHaCE3wZw/egNoBE0TnT+IP2fnYmWdP5Z7Zsp4t50/pLdlrY4Jnj+x82SQpFueP78vZHO6rZ4/zWtjVtD/nj/ap2I55lGfP+jjYRz8o58/9h9h/xH2nz8CLjDxEySgPwnMr+IeTaA/EGov1Cl2oD8XCK/FNJ+gPx6mLrc/yKA/JUSuqErxoD8s4i2aVRqhPzKArYtgQ6E/Oh4tfWtsoT9AvKxudpWhP0daLGCBvqE/TvirUYznoT9VlitDlxCiP1w0qzSiOaI/Y9IqJq1ioj9qcKoXuIuiP3AOKgnDtKI/eKyp+s3doj9+Sins2AajP4boqN3jL6M/jIYoz+5Yoz+UJKjA+YGjP5rCJ7IEq6M/oWCnow/Uoz+o/iaVGv2jP6+cpoYlJqQ/tjomeDBPpD+82KVpO3ikP8R2JVtGoaQ/yhSlTFHKpD/SsiQ+XPOkP9hQpC9nHKU/4O4jIXJFpT/mjKMSfW6lP+0qIwSIl6U/9Mii9ZLApT/7ZiLnnemlPwIFotioEqY/CaMhyrM7pj8QQaG7vmSmPxbfIK3JjaY/Hn2gntS2pj8kGyCQ39+mPyy5n4HqCKc/Mlcfc/Uxpz859Z5kAFunP0CTHlYLhKc/RzGeRxatpz9Ozx05IdanP1VtnSos/6c/XAsdHDcoqD9iqZwNQlGoP2pHHP9Meqg/cOWb8FejqD94gxviYsyoP34hm9Nt9ag/hr8axXgeqT+MXZq2g0epP5P7GaiOcKk/mpmZmZmZqT8=\",\"dtype\":\"float64\",\"shape\":[100]}}},\"id\":\"98cf4007-1145-4688-8497-ab31b4d3ec08\",\"type\":\"ColumnDataSource\"}],\"root_ids\":[\"2f27ee90-6423-403f-be50-be4b1327a692\"]},\"title\":\"Bokeh Application\",\"version\":\"0.12.10\"}};\n",
       "    var render_items = [{\"docid\":\"2b382d6c-ed7c-48a8-af35-539cbaba0b40\",\"elementid\":\"bf227c85-1e93-4c72-b598-38009ba04e06\",\"modelid\":\"2f27ee90-6423-403f-be50-be4b1327a692\"}];\n",
       "\n",
       "    root.Bokeh.embed.embed_items(docs_json, render_items);\n",
       "  }\n",
       "\n",
       "  if (root.Bokeh !== undefined) {\n",
       "    embed_document(root);\n",
       "  } else {\n",
       "    var attempts = 0;\n",
       "    var timer = setInterval(function(root) {\n",
       "      if (root.Bokeh !== undefined) {\n",
       "        embed_document(root);\n",
       "        clearInterval(timer);\n",
       "      }\n",
       "      attempts++;\n",
       "      if (attempts > 100) {\n",
       "        console.log(\"Bokeh: ERROR: Unable to embed document because BokehJS library is missing\")\n",
       "        clearInterval(timer);\n",
       "      }\n",
       "    }, 10, root)\n",
       "  }\n",
       "})(window);"
      ],
      "application/vnd.bokehjs_exec.v0+json": ""
     },
     "metadata": {
      "application/vnd.bokehjs_exec.v0+json": {
       "id": "2f27ee90-6423-403f-be50-be4b1327a692"
      }
     },
     "output_type": "display_data"
    }
   ],
   "source": [
    "p = figure(width=800, height=500, title='ポートフォリオのリスクとリターン')\n",
    "p.line(tvols, trets, color='blue', line_width=3, legend='5資産')\n",
    "p.line(tvols1, trets1, color='green', line_width=3, legend='6資産（高相関）')\n",
    "p.xaxis.axis_label = 'ポートフォリオのリスク'\n",
    "p.yaxis.axis_label = 'ポートフォリオのリターン'\n",
    "p.legend.location='top_left'\n",
    "show(p)"
   ]
  },
  {
   "cell_type": "code",
   "execution_count": 64,
   "metadata": {
    "collapsed": true
   },
   "outputs": [],
   "source": [
    "corrs2 = [[1, 0.199, -0.025, 0.001, 0.504, 0.1],\n",
    "        [0.199, 1, -0.063, 0.494, 0.096, 0.2],\n",
    "        [-0.025, -0.063, 1, 0.577, 0.009, 0.1],\n",
    "        [0.001, 0.494, 0.577, 1, -0.022, 0.2],\n",
    "        [0.504, 0.096, 0.009, -0.022, 1, 0.1],\n",
    "        [0.1, 0.2, 0.1, 0.2, 0.1, 1.0 ]]  "
   ]
  },
  {
   "cell_type": "code",
   "execution_count": 65,
   "metadata": {
    "collapsed": true
   },
   "outputs": [],
   "source": [
    "covp2 = [b1 * np.array(corrs2[0]), b2 * np.array(corrs2[1]), b3 * np.array(corrs2[2]), \\\n",
    "        b4 * np.array(corrs2[3]), b5 * np.array(corrs2[4]), b6 * np.array(corrs2[5])]"
   ]
  },
  {
   "cell_type": "code",
   "execution_count": 66,
   "metadata": {
    "collapsed": true
   },
   "outputs": [],
   "source": [
    "covp2 = np.array(covp2)"
   ]
  },
  {
   "cell_type": "code",
   "execution_count": 67,
   "metadata": {
    "collapsed": true
   },
   "outputs": [],
   "source": [
    "def min_func_var2(weights):\n",
    "    return np.dot(weights.T, np.dot(covp2, weights))"
   ]
  },
  {
   "cell_type": "code",
   "execution_count": 68,
   "metadata": {
    "collapsed": true
   },
   "outputs": [],
   "source": [
    "tvols2 = []\n",
    "for tret1 in trets1:\n",
    "    cons = [{'type': 'eq', 'fun': lambda x: np.sum(x) - 1},\n",
    "           {'type': 'ineq', 'fun': lambda x: np.sum(rets1 * x) - tret1}]\n",
    "    res = sco.minimize(fun = min_func_var2, x0 = x1, method='SLSQP', bounds=bnds1, constraints = cons)\n",
    "    tvols2.append(np.sqrt(res['fun']))\n",
    "    \n",
    "tvols2 = np.array(tvols2)"
   ]
  },
  {
   "cell_type": "code",
   "execution_count": 69,
   "metadata": {},
   "outputs": [
    {
     "data": {
      "text/html": [
       "\n",
       "<div class=\"bk-root\">\n",
       "    <div class=\"bk-plotdiv\" id=\"ed1d798f-aa02-4878-a812-de76ec9c43fd\"></div>\n",
       "</div>"
      ]
     },
     "metadata": {},
     "output_type": "display_data"
    },
    {
     "data": {
      "application/javascript": [
       "(function(root) {\n",
       "  function embed_document(root) {\n",
       "    var docs_json = {\"bf4ef6ad-5155-4ace-b1d3-8f8d93a8b338\":{\"roots\":{\"references\":[{\"attributes\":{\"below\":[{\"id\":\"4fcce09a-335c-456e-b63e-7237f8c0a65c\",\"type\":\"LinearAxis\"}],\"left\":[{\"id\":\"b5bc32e9-daa7-416f-81f0-cf70135df9ec\",\"type\":\"LinearAxis\"}],\"plot_height\":500,\"plot_width\":800,\"renderers\":[{\"id\":\"4fcce09a-335c-456e-b63e-7237f8c0a65c\",\"type\":\"LinearAxis\"},{\"id\":\"b8856817-4cc1-4a36-9999-f3c6381528b7\",\"type\":\"Grid\"},{\"id\":\"b5bc32e9-daa7-416f-81f0-cf70135df9ec\",\"type\":\"LinearAxis\"},{\"id\":\"07770a66-4d9b-43d0-ab9d-58022a660db4\",\"type\":\"Grid\"},{\"id\":\"dee2a774-6514-4242-93ca-164d5ed7db5d\",\"type\":\"BoxAnnotation\"},{\"id\":\"6cb91541-a27e-4462-ae0a-7a01d65021dd\",\"type\":\"Legend\"},{\"id\":\"1e4b6ae9-72f6-4618-a40b-a6cb093971f7\",\"type\":\"GlyphRenderer\"},{\"id\":\"5e08577b-144b-4ae5-92d4-fd9cdbd1c863\",\"type\":\"GlyphRenderer\"},{\"id\":\"fb249fd7-3a4d-4fc4-ae22-15b331b39acc\",\"type\":\"GlyphRenderer\"}],\"title\":{\"id\":\"c610595f-d3b4-4dd3-9093-f8a757bcf0a5\",\"type\":\"Title\"},\"toolbar\":{\"id\":\"e2aeafa6-6beb-4174-a3e5-4840aa57a3c9\",\"type\":\"Toolbar\"},\"x_range\":{\"id\":\"3b3044cc-8060-48e4-bea2-ad0585b58870\",\"type\":\"DataRange1d\"},\"x_scale\":{\"id\":\"5ea7ca01-2feb-4a63-88d1-291e748fd0c8\",\"type\":\"LinearScale\"},\"y_range\":{\"id\":\"ba309437-68a7-430a-8eda-375347fa5dc1\",\"type\":\"DataRange1d\"},\"y_scale\":{\"id\":\"05ebcce9-a8ee-4689-a6ab-05ef9ddfa246\",\"type\":\"LinearScale\"}},\"id\":\"e49ceb7d-d272-45cc-bcad-827d62c92d57\",\"subtype\":\"Figure\",\"type\":\"Plot\"},{\"attributes\":{},\"id\":\"d3a4b714-b81a-4dad-b7b4-7a397d92090d\",\"type\":\"SaveTool\"},{\"attributes\":{\"plot\":null,\"text\":\"\\u30dd\\u30fc\\u30c8\\u30d5\\u30a9\\u30ea\\u30aa\\u306e\\u30ea\\u30b9\\u30af\\u3068\\u30ea\\u30bf\\u30fc\\u30f3\"},\"id\":\"c610595f-d3b4-4dd3-9093-f8a757bcf0a5\",\"type\":\"Title\"},{\"attributes\":{\"callback\":null},\"id\":\"3b3044cc-8060-48e4-bea2-ad0585b58870\",\"type\":\"DataRange1d\"},{\"attributes\":{},\"id\":\"5ea7ca01-2feb-4a63-88d1-291e748fd0c8\",\"type\":\"LinearScale\"},{\"attributes\":{\"active_drag\":\"auto\",\"active_inspect\":\"auto\",\"active_scroll\":\"auto\",\"active_tap\":\"auto\",\"tools\":[{\"id\":\"3f668354-6cce-434c-ac3d-4ece35f901f7\",\"type\":\"PanTool\"},{\"id\":\"cab146d1-6b92-47c3-82cc-e65a274deed9\",\"type\":\"WheelZoomTool\"},{\"id\":\"73c48a31-959b-4dab-b195-cab14c8ffbd1\",\"type\":\"BoxZoomTool\"},{\"id\":\"d3a4b714-b81a-4dad-b7b4-7a397d92090d\",\"type\":\"SaveTool\"},{\"id\":\"feb7008a-d23e-4d79-a8a7-4567bb70b8cd\",\"type\":\"ResetTool\"},{\"id\":\"4d4f2907-d1f4-4597-a0d5-21cf558b6fb9\",\"type\":\"HelpTool\"}]},\"id\":\"e2aeafa6-6beb-4174-a3e5-4840aa57a3c9\",\"type\":\"Toolbar\"},{\"attributes\":{\"callback\":null},\"id\":\"ba309437-68a7-430a-8eda-375347fa5dc1\",\"type\":\"DataRange1d\"},{\"attributes\":{\"source\":{\"id\":\"a798f82b-d4cf-4f61-9358-1ba7a7a9b6b3\",\"type\":\"ColumnDataSource\"}},\"id\":\"607fde34-2abf-4e80-abba-adbdf7035680\",\"type\":\"CDSView\"},{\"attributes\":{},\"id\":\"05ebcce9-a8ee-4689-a6ab-05ef9ddfa246\",\"type\":\"LinearScale\"},{\"attributes\":{\"plot\":{\"id\":\"e49ceb7d-d272-45cc-bcad-827d62c92d57\",\"subtype\":\"Figure\",\"type\":\"Plot\"},\"ticker\":{\"id\":\"fe37b43b-244e-47a0-a582-1316858dc6a9\",\"type\":\"BasicTicker\"}},\"id\":\"b8856817-4cc1-4a36-9999-f3c6381528b7\",\"type\":\"Grid\"},{\"attributes\":{},\"id\":\"1c02c4da-fa3d-40c6-a790-16a8ead1ee21\",\"type\":\"BasicTickFormatter\"},{\"attributes\":{\"axis_label\":\"\\u30dd\\u30fc\\u30c8\\u30d5\\u30a9\\u30ea\\u30aa\\u306e\\u30ea\\u30bf\\u30fc\\u30f3\",\"formatter\":{\"id\":\"1c02c4da-fa3d-40c6-a790-16a8ead1ee21\",\"type\":\"BasicTickFormatter\"},\"plot\":{\"id\":\"e49ceb7d-d272-45cc-bcad-827d62c92d57\",\"subtype\":\"Figure\",\"type\":\"Plot\"},\"ticker\":{\"id\":\"fe37b43b-244e-47a0-a582-1316858dc6a9\",\"type\":\"BasicTicker\"}},\"id\":\"4fcce09a-335c-456e-b63e-7237f8c0a65c\",\"type\":\"LinearAxis\"},{\"attributes\":{\"items\":[{\"id\":\"631ebf5d-a9ee-4490-9d01-ee425cd1f571\",\"type\":\"LegendItem\"},{\"id\":\"3a6257fc-2b2c-4f3f-9d9b-d2e486f133e6\",\"type\":\"LegendItem\"},{\"id\":\"e39ffd84-ca14-4086-a1cd-76e3beba49d1\",\"type\":\"LegendItem\"}],\"location\":\"top_left\",\"plot\":{\"id\":\"e49ceb7d-d272-45cc-bcad-827d62c92d57\",\"subtype\":\"Figure\",\"type\":\"Plot\"}},\"id\":\"6cb91541-a27e-4462-ae0a-7a01d65021dd\",\"type\":\"Legend\"},{\"attributes\":{},\"id\":\"fe37b43b-244e-47a0-a582-1316858dc6a9\",\"type\":\"BasicTicker\"},{\"attributes\":{\"formatter\":{\"id\":\"f5571879-d12f-40cd-846f-cf432a4c54fd\",\"type\":\"BasicTickFormatter\"},\"plot\":{\"id\":\"e49ceb7d-d272-45cc-bcad-827d62c92d57\",\"subtype\":\"Figure\",\"type\":\"Plot\"},\"ticker\":{\"id\":\"284af541-e2a6-44dc-b609-b01f23437ea7\",\"type\":\"BasicTicker\"}},\"id\":\"b5bc32e9-daa7-416f-81f0-cf70135df9ec\",\"type\":\"LinearAxis\"},{\"attributes\":{},\"id\":\"284af541-e2a6-44dc-b609-b01f23437ea7\",\"type\":\"BasicTicker\"},{\"attributes\":{\"dimension\":1,\"plot\":{\"id\":\"e49ceb7d-d272-45cc-bcad-827d62c92d57\",\"subtype\":\"Figure\",\"type\":\"Plot\"},\"ticker\":{\"id\":\"284af541-e2a6-44dc-b609-b01f23437ea7\",\"type\":\"BasicTicker\"}},\"id\":\"07770a66-4d9b-43d0-ab9d-58022a660db4\",\"type\":\"Grid\"},{\"attributes\":{\"bottom_units\":\"screen\",\"fill_alpha\":{\"value\":0.5},\"fill_color\":{\"value\":\"lightgrey\"},\"left_units\":\"screen\",\"level\":\"overlay\",\"line_alpha\":{\"value\":1.0},\"line_color\":{\"value\":\"black\"},\"line_dash\":[4,4],\"line_width\":{\"value\":2},\"plot\":null,\"render_mode\":\"css\",\"right_units\":\"screen\",\"top_units\":\"screen\"},\"id\":\"dee2a774-6514-4242-93ca-164d5ed7db5d\",\"type\":\"BoxAnnotation\"},{\"attributes\":{},\"id\":\"f5571879-d12f-40cd-846f-cf432a4c54fd\",\"type\":\"BasicTickFormatter\"},{\"attributes\":{},\"id\":\"3f668354-6cce-434c-ac3d-4ece35f901f7\",\"type\":\"PanTool\"},{\"attributes\":{},\"id\":\"4d4f2907-d1f4-4597-a0d5-21cf558b6fb9\",\"type\":\"HelpTool\"},{\"attributes\":{},\"id\":\"cab146d1-6b92-47c3-82cc-e65a274deed9\",\"type\":\"WheelZoomTool\"},{\"attributes\":{\"line_alpha\":{\"value\":0.1},\"line_color\":{\"value\":\"#1f77b4\"},\"line_width\":{\"value\":3},\"x\":{\"field\":\"x\"},\"y\":{\"field\":\"y\"}},\"id\":\"acea648d-06e3-45b9-aa4d-3547c117be90\",\"type\":\"Line\"},{\"attributes\":{\"overlay\":{\"id\":\"dee2a774-6514-4242-93ca-164d5ed7db5d\",\"type\":\"BoxAnnotation\"}},\"id\":\"73c48a31-959b-4dab-b195-cab14c8ffbd1\",\"type\":\"BoxZoomTool\"},{\"attributes\":{\"data_source\":{\"id\":\"d22a83b6-238c-413c-831e-0d7eeb485a25\",\"type\":\"ColumnDataSource\"},\"glyph\":{\"id\":\"67b09bf7-07ec-40f7-aa8e-8e81d12f2999\",\"type\":\"Line\"},\"hover_glyph\":null,\"muted_glyph\":null,\"nonselection_glyph\":{\"id\":\"83ea939e-dff3-439d-9dd6-36e35f52bba8\",\"type\":\"Line\"},\"selection_glyph\":null,\"view\":{\"id\":\"806000f7-0bee-4744-95d8-86d5b8de02d6\",\"type\":\"CDSView\"}},\"id\":\"fb249fd7-3a4d-4fc4-ae22-15b331b39acc\",\"type\":\"GlyphRenderer\"},{\"attributes\":{\"label\":{\"value\":\"\\uff16\\u8cc7\\u7523\\uff08\\u9ad8\\u76f8\\u95a2\\uff09\"},\"renderers\":[{\"id\":\"5e08577b-144b-4ae5-92d4-fd9cdbd1c863\",\"type\":\"GlyphRenderer\"}]},\"id\":\"3a6257fc-2b2c-4f3f-9d9b-d2e486f133e6\",\"type\":\"LegendItem\"},{\"attributes\":{\"data_source\":{\"id\":\"a798f82b-d4cf-4f61-9358-1ba7a7a9b6b3\",\"type\":\"ColumnDataSource\"},\"glyph\":{\"id\":\"c8c3dd4c-7055-45a3-aba5-936c6e963fa2\",\"type\":\"Line\"},\"hover_glyph\":null,\"muted_glyph\":null,\"nonselection_glyph\":{\"id\":\"af7223cc-898e-4466-a31a-e85a0bfb391d\",\"type\":\"Line\"},\"selection_glyph\":null,\"view\":{\"id\":\"607fde34-2abf-4e80-abba-adbdf7035680\",\"type\":\"CDSView\"}},\"id\":\"1e4b6ae9-72f6-4618-a40b-a6cb093971f7\",\"type\":\"GlyphRenderer\"},{\"attributes\":{\"line_color\":{\"value\":\"green\"},\"line_width\":{\"value\":3},\"x\":{\"field\":\"x\"},\"y\":{\"field\":\"y\"}},\"id\":\"20d7867a-0726-4212-86f8-a2ef4508eb2c\",\"type\":\"Line\"},{\"attributes\":{\"line_alpha\":{\"value\":0.1},\"line_color\":{\"value\":\"#1f77b4\"},\"line_width\":{\"value\":3},\"x\":{\"field\":\"x\"},\"y\":{\"field\":\"y\"}},\"id\":\"af7223cc-898e-4466-a31a-e85a0bfb391d\",\"type\":\"Line\"},{\"attributes\":{\"callback\":null,\"column_names\":[\"x\",\"y\"],\"data\":{\"x\":{\"__ndarray__\":\"g903LdQGoj+D3Tct1AaiP4PdNy3UBqI/g903LdQGoj+D3Tct1AaiP4PdNy3UBqI/g903LdQGoj+D3Tct1AaiP4PdNy3UBqI/g903LdQGoj+D3Tct1AaiP4PdNy3UBqI/g903LdQGoj+D3Tct1AaiP4PdNy3UBqI/2eovpk8Ioj8ORb62SWeiP7XiRZHka6I/tzQtQl90oj9oMZZnl4CiPy30Pml7kKI/jv1ea++joj8t0eqxMbyiP+YUWKjW1qI/4ujoIgT1oj9MKzyhuRajP+XU1nXFO6M/DZMN+99joz+S5oqKHZCjP+Ivi5LqtqM/UXtZEUH/oz9Xe2W98iekP7lAe2gJYKQ/8urRPcGXpD+FaAG/3sikP9QMdKSFA6U/0xB1nnNDpT9kRjGyKoWlP6wnRGxAz6U/d4aDgv8cpj+u0TPgyGumP5eFkqQ3vKY/4ex0EP0Ppz8A7SZzQGSnPyDCZZGmu6c/wAo0RUgWqD9UZpqoSHOoP9KvTv2Y0qg/F6JpuyY0qT8OJkYs25epP2rX5P6N/ak/jjzgEStlqj9pVToOoc2qP5eDfsNN9Ko/rLoQ2C9rqz+YvmR6bPCrPwlGLuxOiKw/kYVi/IQcrT9fX4FV6bWtPxpfKP/2Uq4/UwoIFHn/rj+RXadvurOvP8NMhZyoN7A/m2LU7uOYsD+Dj/lTVf2wP1uViJ/bZLE/2/7nAO3RsT8HC6rJ4kGyP6t2mfMatLI/xvnnDNopsz9o07oARqKzP9at3mRHHbQ/9ye9V+6atD/kqK+iWhu1P6dXQlCVq7U/7Tgzp+5atj8561XFgh+3P3SarNSv/rc/LmoxTyXzuD9MOY9/ivq5P7eVwci2Ers/V17tnbY5vD8QGn0uzG29PyLiQkttrb4/La2TqD/3vz8Wyz0tCqXAPx7XNodxUsE/mcMEtWIDwj8Z6ehdebfCP21QYwZebsM/Q5FCVcQnxD9rF0WPaePEP1GR2T8TocU/ekGTGY5gxj+c2dkBrSHHP6AikShI5Mc/Szd5aDyoyD+ibr9+cHPJP/5kzQhmyMo/y0wZFD/GzD8=\",\"dtype\":\"float64\",\"shape\":[100]},\"y\":{\"__ndarray__\":\"2/l+arx0kz/pNX5N0saTP/dxfTDoGJQ/BK58E/5qlD8S6nv2E72UPyAme9kpD5U/LmJ6vD9hlT88nnmfVbOVP0raeIJrBZY/WBZ4ZYFXlj9lUndIl6mWP3OOdiut+5Y/gcp1DsNNlz+PBnXx2J+XP5xCdNTu8Zc/qn5ztwREmD+4unKaGpaYP8b2cX0w6Jg/1DJxYEY6mT/ibnBDXIyZP/CqbyZy3pk//uZuCYgwmj8LI27snYKaPxlfbc+z1Jo/J5tssskmmz8012uV33ibP0ITa3j1yps/UE9qWwsdnD9ei2k+IW+cP2zHaCE3wZw/egNoBE0TnT+IP2fnYmWdP5Z7Zsp4t50/pLdlrY4Jnj+x82SQpFueP78vZHO6rZ4/zWtjVtD/nj/ap2I55lGfP+jjYRz8o58/9h9h/xH2nz8CLjDxEySgPwnMr+IeTaA/EGov1Cl2oD8XCK/FNJ+gPx6mLrc/yKA/JUSuqErxoD8s4i2aVRqhPzKArYtgQ6E/Oh4tfWtsoT9AvKxudpWhP0daLGCBvqE/TvirUYznoT9VlitDlxCiP1w0qzSiOaI/Y9IqJq1ioj9qcKoXuIuiP3AOKgnDtKI/eKyp+s3doj9+Sins2AajP4boqN3jL6M/jIYoz+5Yoz+UJKjA+YGjP5rCJ7IEq6M/oWCnow/Uoz+o/iaVGv2jP6+cpoYlJqQ/tjomeDBPpD+82KVpO3ikP8R2JVtGoaQ/yhSlTFHKpD/SsiQ+XPOkP9hQpC9nHKU/4O4jIXJFpT/mjKMSfW6lP+0qIwSIl6U/9Mii9ZLApT/7ZiLnnemlPwIFotioEqY/CaMhyrM7pj8QQaG7vmSmPxbfIK3JjaY/Hn2gntS2pj8kGyCQ39+mPyy5n4HqCKc/Mlcfc/Uxpz859Z5kAFunP0CTHlYLhKc/RzGeRxatpz9Ozx05IdanP1VtnSos/6c/XAsdHDcoqD9iqZwNQlGoP2pHHP9Meqg/cOWb8FejqD94gxviYsyoP34hm9Nt9ag/hr8axXgeqT+MXZq2g0epP5P7GaiOcKk/mpmZmZmZqT8=\",\"dtype\":\"float64\",\"shape\":[100]}}},\"id\":\"d22a83b6-238c-413c-831e-0d7eeb485a25\",\"type\":\"ColumnDataSource\"},{\"attributes\":{\"label\":{\"value\":\"\\uff16\\u8cc7\\u7523\\uff08\\u4f4e\\u76f8\\u95a2)\"},\"renderers\":[{\"id\":\"fb249fd7-3a4d-4fc4-ae22-15b331b39acc\",\"type\":\"GlyphRenderer\"}]},\"id\":\"e39ffd84-ca14-4086-a1cd-76e3beba49d1\",\"type\":\"LegendItem\"},{\"attributes\":{\"source\":{\"id\":\"1faa6863-2fc7-433f-9af4-0f124331ffda\",\"type\":\"ColumnDataSource\"}},\"id\":\"f71d4883-22e0-4fce-a96c-ecef0d788f54\",\"type\":\"CDSView\"},{\"attributes\":{\"callback\":null,\"column_names\":[\"x\",\"y\"],\"data\":{\"x\":{\"__ndarray__\":\"2Uph9LX7oj/ZSmH0tfuiP9lKYfS1+6I/2Uph9LX7oj/ZSmH0tfuiP9lKYfS1+6I/2Uph9LX7oj9+UW3FivuiP8YI9eeW/6I/IAMughoIoz8j99u5mBejPzmWvcuBLaM/jqPwKXFIoz/JZHWaRGmjP69azAffj6M/5TNzH3y8oz8vmOtJn+2jP8Jph1coJKQ/eC5S70RgpD9F5UG0dq2kP3Gqu9wE5qQ/CAvAX3YvpT+Hv7B525GlP/J0vTDA2aU/iZB14Woypj8wd+JGpH+mPz1AuVx+4KY/KqDC8exFpz+qMUQBEqunP2zTeKeTFqg/7r7lzRGCqD/mx9r+e/CoP+Oqt9CtVqk/RED9tri/qT8Zii2vszOqP+Tg2jSpqao/q3uLv44iqz+OX/xk+berPyUT1jiIOqw/y2Z1J3DIrD8lUwKvF5KuP5CTWB+9Fa8/unD4a1uWrz9cStRKHwuwPyybUAnQSbA/QLSj8ryHsD/1L+AlU8SwP21eV+JcALE/D/e6UsEusT/U5Hi4k2exP35JjNskJ7E/cHgIkYxWsT/9jLyvE4axPwcYzW61tbE/dASA+XDlsT/3t7GCRRWyPwcB9UYyRbI/0NhYiTZ1sj89zGB9UqWyPyrV9fqT1bI/mbNHBuMFsz+48UvDazazP26vNVdvaLM/V2Emb+Kbsz8e3/zcudCzPyvpFpvqBrQ/Tck41mk+tD9W8sjqLHe0PzuaVYnuaLU//hVN8+xttj8TqKYpzXi3P8ZA1kf7hbg/0vKxeF6RuT/Q/CZAJpu6P+C53PyAo7s/e/qhHpaqvD9FCaV4h7C9P/+8oDRytb4/06E5oG+5vz+9aCDqSl7AP3DLrxZ838A/xymEIaNgwT8MLWz92eDBP2BF0UlMYcI/LfNeau7hwj9xKdkTwGDDPzcHOek64MM/T9sREn9fxD8P82t2kN7EP2xoFaByXcU/wavwxSjcxT/GWNHTtVrGPz8CsnQc2cY/MaBsGF9Xxz/OKmf8f9XHP/MGliyBU8g/uoM8i2TRyD99br9+cHPJPxdlzQhmyMo/BE1C/D7GzD8=\",\"dtype\":\"float64\",\"shape\":[100]},\"y\":{\"__ndarray__\":\"2/l+arx0kz/pNX5N0saTP/dxfTDoGJQ/BK58E/5qlD8S6nv2E72UPyAme9kpD5U/LmJ6vD9hlT88nnmfVbOVP0raeIJrBZY/WBZ4ZYFXlj9lUndIl6mWP3OOdiut+5Y/gcp1DsNNlz+PBnXx2J+XP5xCdNTu8Zc/qn5ztwREmD+4unKaGpaYP8b2cX0w6Jg/1DJxYEY6mT/ibnBDXIyZP/CqbyZy3pk//uZuCYgwmj8LI27snYKaPxlfbc+z1Jo/J5tssskmmz8012uV33ibP0ITa3j1yps/UE9qWwsdnD9ei2k+IW+cP2zHaCE3wZw/egNoBE0TnT+IP2fnYmWdP5Z7Zsp4t50/pLdlrY4Jnj+x82SQpFueP78vZHO6rZ4/zWtjVtD/nj/ap2I55lGfP+jjYRz8o58/9h9h/xH2nz8CLjDxEySgPwnMr+IeTaA/EGov1Cl2oD8XCK/FNJ+gPx6mLrc/yKA/JUSuqErxoD8s4i2aVRqhPzKArYtgQ6E/Oh4tfWtsoT9AvKxudpWhP0daLGCBvqE/TvirUYznoT9VlitDlxCiP1w0qzSiOaI/Y9IqJq1ioj9qcKoXuIuiP3AOKgnDtKI/eKyp+s3doj9+Sins2AajP4boqN3jL6M/jIYoz+5Yoz+UJKjA+YGjP5rCJ7IEq6M/oWCnow/Uoz+o/iaVGv2jP6+cpoYlJqQ/tjomeDBPpD+82KVpO3ikP8R2JVtGoaQ/yhSlTFHKpD/SsiQ+XPOkP9hQpC9nHKU/4O4jIXJFpT/mjKMSfW6lP+0qIwSIl6U/9Mii9ZLApT/7ZiLnnemlPwIFotioEqY/CaMhyrM7pj8QQaG7vmSmPxbfIK3JjaY/Hn2gntS2pj8kGyCQ39+mPyy5n4HqCKc/Mlcfc/Uxpz859Z5kAFunP0CTHlYLhKc/RzGeRxatpz9Ozx05IdanP1VtnSos/6c/XAsdHDcoqD9iqZwNQlGoP2pHHP9Meqg/cOWb8FejqD94gxviYsyoP34hm9Nt9ag/hr8axXgeqT+MXZq2g0epP5P7GaiOcKk/mpmZmZmZqT8=\",\"dtype\":\"float64\",\"shape\":[100]}}},\"id\":\"1faa6863-2fc7-433f-9af4-0f124331ffda\",\"type\":\"ColumnDataSource\"},{\"attributes\":{},\"id\":\"feb7008a-d23e-4d79-a8a7-4567bb70b8cd\",\"type\":\"ResetTool\"},{\"attributes\":{\"line_alpha\":{\"value\":0.1},\"line_color\":{\"value\":\"#1f77b4\"},\"line_width\":{\"value\":3},\"x\":{\"field\":\"x\"},\"y\":{\"field\":\"y\"}},\"id\":\"83ea939e-dff3-439d-9dd6-36e35f52bba8\",\"type\":\"Line\"},{\"attributes\":{\"data_source\":{\"id\":\"1faa6863-2fc7-433f-9af4-0f124331ffda\",\"type\":\"ColumnDataSource\"},\"glyph\":{\"id\":\"20d7867a-0726-4212-86f8-a2ef4508eb2c\",\"type\":\"Line\"},\"hover_glyph\":null,\"muted_glyph\":null,\"nonselection_glyph\":{\"id\":\"acea648d-06e3-45b9-aa4d-3547c117be90\",\"type\":\"Line\"},\"selection_glyph\":null,\"view\":{\"id\":\"f71d4883-22e0-4fce-a96c-ecef0d788f54\",\"type\":\"CDSView\"}},\"id\":\"5e08577b-144b-4ae5-92d4-fd9cdbd1c863\",\"type\":\"GlyphRenderer\"},{\"attributes\":{\"line_color\":{\"value\":\"red\"},\"line_width\":{\"value\":3},\"x\":{\"field\":\"x\"},\"y\":{\"field\":\"y\"}},\"id\":\"67b09bf7-07ec-40f7-aa8e-8e81d12f2999\",\"type\":\"Line\"},{\"attributes\":{\"callback\":null,\"column_names\":[\"x\",\"y\"],\"data\":{\"x\":{\"__ndarray__\":\"NBy/rUP7oj80HL+tQ/uiPzQcv61D+6I/NBy/rUP7oj80HL+tQ/uiPzQcv61D+6I/NBy/rUP7oj/SSD1UcvuiP2LGtcfE/qI/AkTVkR0Ioz8JZmeTlhejP8JPijwNLaM/FK06UltIoz9N0qKQWmmjPz0N3Y0QkKM/DthwYxW8oz9BwL8ade2jPyD4vc6sJKQ/h9m/JntgpD/ir0PJRaCkPwLbtIi15aQ/r4FywT5XpT+MiyrXGJWlPxn9icqh2aU/+N9y6Roopj/i0RBMtYGmP58Kj9MF4aY/Mkq5L5VQpz+tadfYkamnP1JI2MAUG6g/09SpYFZ6qD8J5wAro92oP30MY9DYTak/UlN191TAqT+853J2SzWqPz4U0l1krKo/LULxM6glqz8VAgvN4qGrP1szLQmKH6w/9x41wfCcrD/K06fLbh6tPx0wVWFroa0/X6DqW+Ilrj8x1X9Tx6uuP26ozjEhP68/i+vDCevlrz+o7N9j/jqwP9YlHV0gmbA/aOicjHf+sD9k1VLVuWqxP1/tI5lV3bE/3KBwydNVsj/VFhhxw9OyP6cIPUK6VrM/IziLwVTesz+NAYX+P2q0P53GZmEP+rQ/x+sSpt6OtT90tkS6TyS2P5hUrkM3vrY/gNtfsv5atz9oF2VzY/q3PwYwPYZQnLg/DCNy0U9AuT/IIPkN/ea5P5LhjfdLkLo/olM6/gU8uz8d5813/um7P0HSSHIMmrw/+Ma3WwpMvT8857Tp1f+9P+E+TO9Otb4//V8FvVhsvz8/P+lHbBLAP+VscuBab8A/62Bk1ezMwD9zLJi3FyvBP6IGmebRicE/orWEghLpwT/NKLNV0UjCP2OavckGqcI/hSod16sJwz+He6r8uWrDPyN24C8rzMM/rIt/1vktxD9Bzhi6IJDEPx/K6wKb8sQ/QCrWLmRVxT/HFBMIeLjFP8P7iqPSG8Y/NBlxV3B/xj/bsUG4TePGPziL5ZFnR8c/0Ao+5bqrxz8SYerjRBDIPyr//+oCdcg/dcIugvLZyD/8ilKBcHPJP4Sx3hNmyMo/b5HeEz/GzD8=\",\"dtype\":\"float64\",\"shape\":[100]},\"y\":{\"__ndarray__\":\"2/l+arx0kz/pNX5N0saTP/dxfTDoGJQ/BK58E/5qlD8S6nv2E72UPyAme9kpD5U/LmJ6vD9hlT88nnmfVbOVP0raeIJrBZY/WBZ4ZYFXlj9lUndIl6mWP3OOdiut+5Y/gcp1DsNNlz+PBnXx2J+XP5xCdNTu8Zc/qn5ztwREmD+4unKaGpaYP8b2cX0w6Jg/1DJxYEY6mT/ibnBDXIyZP/CqbyZy3pk//uZuCYgwmj8LI27snYKaPxlfbc+z1Jo/J5tssskmmz8012uV33ibP0ITa3j1yps/UE9qWwsdnD9ei2k+IW+cP2zHaCE3wZw/egNoBE0TnT+IP2fnYmWdP5Z7Zsp4t50/pLdlrY4Jnj+x82SQpFueP78vZHO6rZ4/zWtjVtD/nj/ap2I55lGfP+jjYRz8o58/9h9h/xH2nz8CLjDxEySgPwnMr+IeTaA/EGov1Cl2oD8XCK/FNJ+gPx6mLrc/yKA/JUSuqErxoD8s4i2aVRqhPzKArYtgQ6E/Oh4tfWtsoT9AvKxudpWhP0daLGCBvqE/TvirUYznoT9VlitDlxCiP1w0qzSiOaI/Y9IqJq1ioj9qcKoXuIuiP3AOKgnDtKI/eKyp+s3doj9+Sins2AajP4boqN3jL6M/jIYoz+5Yoz+UJKjA+YGjP5rCJ7IEq6M/oWCnow/Uoz+o/iaVGv2jP6+cpoYlJqQ/tjomeDBPpD+82KVpO3ikP8R2JVtGoaQ/yhSlTFHKpD/SsiQ+XPOkP9hQpC9nHKU/4O4jIXJFpT/mjKMSfW6lP+0qIwSIl6U/9Mii9ZLApT/7ZiLnnemlPwIFotioEqY/CaMhyrM7pj8QQaG7vmSmPxbfIK3JjaY/Hn2gntS2pj8kGyCQ39+mPyy5n4HqCKc/Mlcfc/Uxpz859Z5kAFunP0CTHlYLhKc/RzGeRxatpz9Ozx05IdanP1VtnSos/6c/XAsdHDcoqD9iqZwNQlGoP2pHHP9Meqg/cOWb8FejqD94gxviYsyoP34hm9Nt9ag/hr8axXgeqT+MXZq2g0epP5P7GaiOcKk/mpmZmZmZqT8=\",\"dtype\":\"float64\",\"shape\":[100]}}},\"id\":\"a798f82b-d4cf-4f61-9358-1ba7a7a9b6b3\",\"type\":\"ColumnDataSource\"},{\"attributes\":{\"line_color\":{\"value\":\"blue\"},\"line_width\":{\"value\":3},\"x\":{\"field\":\"x\"},\"y\":{\"field\":\"y\"}},\"id\":\"c8c3dd4c-7055-45a3-aba5-936c6e963fa2\",\"type\":\"Line\"},{\"attributes\":{\"source\":{\"id\":\"d22a83b6-238c-413c-831e-0d7eeb485a25\",\"type\":\"ColumnDataSource\"}},\"id\":\"806000f7-0bee-4744-95d8-86d5b8de02d6\",\"type\":\"CDSView\"},{\"attributes\":{\"label\":{\"value\":\"\\uff15\\u8cc7\\u7523\"},\"renderers\":[{\"id\":\"1e4b6ae9-72f6-4618-a40b-a6cb093971f7\",\"type\":\"GlyphRenderer\"}]},\"id\":\"631ebf5d-a9ee-4490-9d01-ee425cd1f571\",\"type\":\"LegendItem\"}],\"root_ids\":[\"e49ceb7d-d272-45cc-bcad-827d62c92d57\"]},\"title\":\"Bokeh Application\",\"version\":\"0.12.10\"}};\n",
       "    var render_items = [{\"docid\":\"bf4ef6ad-5155-4ace-b1d3-8f8d93a8b338\",\"elementid\":\"ed1d798f-aa02-4878-a812-de76ec9c43fd\",\"modelid\":\"e49ceb7d-d272-45cc-bcad-827d62c92d57\"}];\n",
       "\n",
       "    root.Bokeh.embed.embed_items(docs_json, render_items);\n",
       "  }\n",
       "\n",
       "  if (root.Bokeh !== undefined) {\n",
       "    embed_document(root);\n",
       "  } else {\n",
       "    var attempts = 0;\n",
       "    var timer = setInterval(function(root) {\n",
       "      if (root.Bokeh !== undefined) {\n",
       "        embed_document(root);\n",
       "        clearInterval(timer);\n",
       "      }\n",
       "      attempts++;\n",
       "      if (attempts > 100) {\n",
       "        console.log(\"Bokeh: ERROR: Unable to embed document because BokehJS library is missing\")\n",
       "        clearInterval(timer);\n",
       "      }\n",
       "    }, 10, root)\n",
       "  }\n",
       "})(window);"
      ],
      "application/vnd.bokehjs_exec.v0+json": ""
     },
     "metadata": {
      "application/vnd.bokehjs_exec.v0+json": {
       "id": "e49ceb7d-d272-45cc-bcad-827d62c92d57"
      }
     },
     "output_type": "display_data"
    }
   ],
   "source": [
    "p = figure(width = 800, height=500, title='ポートフォリオのリスクとリターン')\n",
    "p.line(tvols, trets, color='blue', line_width=3, legend='５資産')\n",
    "p.line(tvols1, trets1, color='green', line_width=3, legend='６資産（高相関）')\n",
    "p.line(tvols2, trets1, color='red', line_width=3, legend='６資産（低相関)')\n",
    "p.xaxis.axis_label='ポートフォリオのリスク'\n",
    "p.xaxis.axis_label='ポートフォリオのリターン'\n",
    "p.legend.location='top_left'\n",
    "show(p)"
   ]
  },
  {
   "cell_type": "code",
   "execution_count": 70,
   "metadata": {},
   "outputs": [
    {
     "data": {
      "text/html": [
       "\n",
       "<div class=\"bk-root\">\n",
       "    <div class=\"bk-plotdiv\" id=\"db6b5c7c-329e-4299-945d-08774fa4b041\"></div>\n",
       "</div>"
      ]
     },
     "metadata": {},
     "output_type": "display_data"
    },
    {
     "data": {
      "application/javascript": [
       "(function(root) {\n",
       "  function embed_document(root) {\n",
       "    var docs_json = {\"4d5a6ea7-779a-4d45-a7ab-207f8a5e8e41\":{\"roots\":{\"references\":[{\"attributes\":{\"formatter\":{\"id\":\"a0b9737f-2b66-4ac5-a6df-85382162ffb5\",\"type\":\"BasicTickFormatter\"},\"plot\":{\"id\":\"ef90c213-2599-4ec9-ac9a-a476948b62ef\",\"subtype\":\"Figure\",\"type\":\"Plot\"},\"ticker\":{\"id\":\"b6b8afb0-c84b-4148-a180-8e900c6fc728\",\"type\":\"BasicTicker\"}},\"id\":\"080e61df-6a3d-4d0e-91cf-9be371ebf769\",\"type\":\"LinearAxis\"},{\"attributes\":{\"source\":{\"id\":\"a165eab8-3b9e-4bdb-b2aa-94186540934f\",\"type\":\"ColumnDataSource\"}},\"id\":\"ce3c78d2-e143-47e1-8f1f-e8c47a3fd369\",\"type\":\"CDSView\"},{\"attributes\":{},\"id\":\"3d256cee-7851-44f9-a3e6-25f7bef413cf\",\"type\":\"HelpTool\"},{\"attributes\":{\"line_color\":{\"value\":\"green\"},\"line_width\":{\"value\":3},\"x\":{\"field\":\"x\"},\"y\":{\"field\":\"y\"}},\"id\":\"81929573-0630-4233-bd6f-4537b70d0127\",\"type\":\"Line\"},{\"attributes\":{},\"id\":\"a0b9737f-2b66-4ac5-a6df-85382162ffb5\",\"type\":\"BasicTickFormatter\"},{\"attributes\":{},\"id\":\"846b8216-8762-442c-8141-5d796d5956e1\",\"type\":\"BasicTickFormatter\"},{\"attributes\":{\"line_alpha\":{\"value\":0.1},\"line_color\":{\"value\":\"#1f77b4\"},\"line_width\":{\"value\":3},\"x\":{\"field\":\"x\"},\"y\":{\"field\":\"y\"}},\"id\":\"6276ff13-bfb4-4f24-bcc7-08c440ed4389\",\"type\":\"Line\"},{\"attributes\":{\"label\":{\"value\":\"\\uff15\\u8cc7\\u7523\"},\"renderers\":[{\"id\":\"743279ea-9261-4c56-8515-dcd566112bc8\",\"type\":\"GlyphRenderer\"}]},\"id\":\"b8e1d949-1f5f-411f-8e0e-665dd69f9feb\",\"type\":\"LegendItem\"},{\"attributes\":{\"items\":[{\"id\":\"b8e1d949-1f5f-411f-8e0e-665dd69f9feb\",\"type\":\"LegendItem\"},{\"id\":\"2965e6a3-ab4c-4d55-acaf-5921d332dc7d\",\"type\":\"LegendItem\"},{\"id\":\"8a8eab6b-3dea-4722-850c-7ed0a70aebcc\",\"type\":\"LegendItem\"}],\"location\":\"top_left\",\"plot\":{\"id\":\"ef90c213-2599-4ec9-ac9a-a476948b62ef\",\"subtype\":\"Figure\",\"type\":\"Plot\"}},\"id\":\"10c6a90a-df6b-4813-a7e8-56ebd6196950\",\"type\":\"Legend\"},{\"attributes\":{\"below\":[{\"id\":\"6d2d4d00-aa00-4049-8d65-16158cf0bbb5\",\"type\":\"LinearAxis\"}],\"left\":[{\"id\":\"080e61df-6a3d-4d0e-91cf-9be371ebf769\",\"type\":\"LinearAxis\"}],\"plot_height\":500,\"plot_width\":800,\"renderers\":[{\"id\":\"6d2d4d00-aa00-4049-8d65-16158cf0bbb5\",\"type\":\"LinearAxis\"},{\"id\":\"db934000-1d43-4045-90b3-364eae57777c\",\"type\":\"Grid\"},{\"id\":\"080e61df-6a3d-4d0e-91cf-9be371ebf769\",\"type\":\"LinearAxis\"},{\"id\":\"198d8bcc-a5b7-42d8-8bc8-5cf153bb3f84\",\"type\":\"Grid\"},{\"id\":\"e3e49e34-5fb4-4a24-82ab-f6f625ea5bbb\",\"type\":\"BoxAnnotation\"},{\"id\":\"10c6a90a-df6b-4813-a7e8-56ebd6196950\",\"type\":\"Legend\"},{\"id\":\"743279ea-9261-4c56-8515-dcd566112bc8\",\"type\":\"GlyphRenderer\"},{\"id\":\"0540b7af-fb29-40fe-8bd9-3a43e775c24c\",\"type\":\"GlyphRenderer\"},{\"id\":\"7bd00dc4-9cfa-4104-84fb-203626565561\",\"type\":\"GlyphRenderer\"},{\"id\":\"b5b74649-828c-470d-b029-7e08caf06e80\",\"type\":\"GlyphRenderer\"}],\"title\":{\"id\":\"2a704ca4-7782-4f75-83d0-a7a884bb4037\",\"type\":\"Title\"},\"toolbar\":{\"id\":\"ea8d4df3-d122-43a6-a3f1-4e9a90c6efdf\",\"type\":\"Toolbar\"},\"x_range\":{\"id\":\"5e36237c-a87f-4672-bc81-d5196fde83f0\",\"type\":\"DataRange1d\"},\"x_scale\":{\"id\":\"0145f1e7-0278-42e1-a1a3-39d5e710738c\",\"type\":\"LinearScale\"},\"y_range\":{\"id\":\"66f1b600-a21c-4740-8890-df3a6820af18\",\"type\":\"DataRange1d\"},\"y_scale\":{\"id\":\"f731db71-6b94-401d-989e-dabd10a25a9d\",\"type\":\"LinearScale\"}},\"id\":\"ef90c213-2599-4ec9-ac9a-a476948b62ef\",\"subtype\":\"Figure\",\"type\":\"Plot\"},{\"attributes\":{\"data_source\":{\"id\":\"a165eab8-3b9e-4bdb-b2aa-94186540934f\",\"type\":\"ColumnDataSource\"},\"glyph\":{\"id\":\"cfa6fd8c-f22f-468e-98ac-e7d61d238115\",\"type\":\"Line\"},\"hover_glyph\":null,\"muted_glyph\":null,\"nonselection_glyph\":{\"id\":\"9556b82d-4a9e-4000-870e-847adfd8a7ba\",\"type\":\"Line\"},\"selection_glyph\":null,\"view\":{\"id\":\"ce3c78d2-e143-47e1-8f1f-e8c47a3fd369\",\"type\":\"CDSView\"}},\"id\":\"743279ea-9261-4c56-8515-dcd566112bc8\",\"type\":\"GlyphRenderer\"},{\"attributes\":{\"active_drag\":\"auto\",\"active_inspect\":\"auto\",\"active_scroll\":\"auto\",\"active_tap\":\"auto\",\"tools\":[{\"id\":\"e8a0fe99-c85c-4ef9-b169-06f077be4e9d\",\"type\":\"PanTool\"},{\"id\":\"aebd1222-22b3-46c0-95f7-d8cb63242ffd\",\"type\":\"WheelZoomTool\"},{\"id\":\"8dfed8db-e843-4368-b3d2-0f2f5d34133c\",\"type\":\"BoxZoomTool\"},{\"id\":\"9dc36103-42e8-4d75-a61b-91207087c69c\",\"type\":\"SaveTool\"},{\"id\":\"1a7661be-9967-4466-a01a-fa4004696780\",\"type\":\"ResetTool\"},{\"id\":\"3d256cee-7851-44f9-a3e6-25f7bef413cf\",\"type\":\"HelpTool\"}]},\"id\":\"ea8d4df3-d122-43a6-a3f1-4e9a90c6efdf\",\"type\":\"Toolbar\"},{\"attributes\":{\"bottom_units\":\"screen\",\"fill_alpha\":{\"value\":0.5},\"fill_color\":{\"value\":\"lightgrey\"},\"left_units\":\"screen\",\"level\":\"overlay\",\"line_alpha\":{\"value\":1.0},\"line_color\":{\"value\":\"black\"},\"line_dash\":[4,4],\"line_width\":{\"value\":2},\"plot\":null,\"render_mode\":\"css\",\"right_units\":\"screen\",\"top_units\":\"screen\"},\"id\":\"e3e49e34-5fb4-4a24-82ab-f6f625ea5bbb\",\"type\":\"BoxAnnotation\"},{\"attributes\":{\"data_source\":{\"id\":\"309d036c-d2d9-4269-bff2-204eaf3ba049\",\"type\":\"ColumnDataSource\"},\"glyph\":{\"id\":\"81929573-0630-4233-bd6f-4537b70d0127\",\"type\":\"Line\"},\"hover_glyph\":null,\"muted_glyph\":null,\"nonselection_glyph\":{\"id\":\"6276ff13-bfb4-4f24-bcc7-08c440ed4389\",\"type\":\"Line\"},\"selection_glyph\":null,\"view\":{\"id\":\"ff715ca0-5e8b-489a-92ac-dc400789c527\",\"type\":\"CDSView\"}},\"id\":\"0540b7af-fb29-40fe-8bd9-3a43e775c24c\",\"type\":\"GlyphRenderer\"},{\"attributes\":{\"callback\":null},\"id\":\"66f1b600-a21c-4740-8890-df3a6820af18\",\"type\":\"DataRange1d\"},{\"attributes\":{\"plot\":null,\"text\":\"\\u30dd\\u30fc\\u30c8\\u30d5\\u30a9\\u30ea\\u30aa\\u306e\\u30ea\\u30b9\\u30af\\u3068\\u30ea\\u30bf\\u30fc\\u30f3\"},\"id\":\"2a704ca4-7782-4f75-83d0-a7a884bb4037\",\"type\":\"Title\"},{\"attributes\":{\"dimension\":1,\"plot\":{\"id\":\"ef90c213-2599-4ec9-ac9a-a476948b62ef\",\"subtype\":\"Figure\",\"type\":\"Plot\"},\"ticker\":{\"id\":\"b6b8afb0-c84b-4148-a180-8e900c6fc728\",\"type\":\"BasicTicker\"}},\"id\":\"198d8bcc-a5b7-42d8-8bc8-5cf153bb3f84\",\"type\":\"Grid\"},{\"attributes\":{\"label\":{\"value\":\"\\uff16\\u8cc7\\u7523\\uff08\\u9ad8\\u76f8\\u95a2\\uff09\"},\"renderers\":[{\"id\":\"0540b7af-fb29-40fe-8bd9-3a43e775c24c\",\"type\":\"GlyphRenderer\"}]},\"id\":\"2965e6a3-ab4c-4d55-acaf-5921d332dc7d\",\"type\":\"LegendItem\"},{\"attributes\":{\"callback\":null,\"column_names\":[\"x\",\"y\"],\"data\":{\"x\":{\"__ndarray__\":\"NBy/rUP7oj80HL+tQ/uiPzQcv61D+6I/NBy/rUP7oj80HL+tQ/uiPzQcv61D+6I/NBy/rUP7oj/SSD1UcvuiP2LGtcfE/qI/AkTVkR0Ioz8JZmeTlhejP8JPijwNLaM/FK06UltIoz9N0qKQWmmjPz0N3Y0QkKM/DthwYxW8oz9BwL8ade2jPyD4vc6sJKQ/h9m/JntgpD/ir0PJRaCkPwLbtIi15aQ/r4FywT5XpT+MiyrXGJWlPxn9icqh2aU/+N9y6Roopj/i0RBMtYGmP58Kj9MF4aY/Mkq5L5VQpz+tadfYkamnP1JI2MAUG6g/09SpYFZ6qD8J5wAro92oP30MY9DYTak/UlN191TAqT+853J2SzWqPz4U0l1krKo/LULxM6glqz8VAgvN4qGrP1szLQmKH6w/9x41wfCcrD/K06fLbh6tPx0wVWFroa0/X6DqW+Ilrj8x1X9Tx6uuP26ozjEhP68/i+vDCevlrz+o7N9j/jqwP9YlHV0gmbA/aOicjHf+sD9k1VLVuWqxP1/tI5lV3bE/3KBwydNVsj/VFhhxw9OyP6cIPUK6VrM/IziLwVTesz+NAYX+P2q0P53GZmEP+rQ/x+sSpt6OtT90tkS6TyS2P5hUrkM3vrY/gNtfsv5atz9oF2VzY/q3PwYwPYZQnLg/DCNy0U9AuT/IIPkN/ea5P5LhjfdLkLo/olM6/gU8uz8d5813/um7P0HSSHIMmrw/+Ma3WwpMvT8857Tp1f+9P+E+TO9Otb4//V8FvVhsvz8/P+lHbBLAP+VscuBab8A/62Bk1ezMwD9zLJi3FyvBP6IGmebRicE/orWEghLpwT/NKLNV0UjCP2OavckGqcI/hSod16sJwz+He6r8uWrDPyN24C8rzMM/rIt/1vktxD9Bzhi6IJDEPx/K6wKb8sQ/QCrWLmRVxT/HFBMIeLjFP8P7iqPSG8Y/NBlxV3B/xj/bsUG4TePGPziL5ZFnR8c/0Ao+5bqrxz8SYerjRBDIPyr//+oCdcg/dcIugvLZyD/8ilKBcHPJP4Sx3hNmyMo/b5HeEz/GzD8=\",\"dtype\":\"float64\",\"shape\":[100]},\"y\":{\"__ndarray__\":\"2/l+arx0kz/pNX5N0saTP/dxfTDoGJQ/BK58E/5qlD8S6nv2E72UPyAme9kpD5U/LmJ6vD9hlT88nnmfVbOVP0raeIJrBZY/WBZ4ZYFXlj9lUndIl6mWP3OOdiut+5Y/gcp1DsNNlz+PBnXx2J+XP5xCdNTu8Zc/qn5ztwREmD+4unKaGpaYP8b2cX0w6Jg/1DJxYEY6mT/ibnBDXIyZP/CqbyZy3pk//uZuCYgwmj8LI27snYKaPxlfbc+z1Jo/J5tssskmmz8012uV33ibP0ITa3j1yps/UE9qWwsdnD9ei2k+IW+cP2zHaCE3wZw/egNoBE0TnT+IP2fnYmWdP5Z7Zsp4t50/pLdlrY4Jnj+x82SQpFueP78vZHO6rZ4/zWtjVtD/nj/ap2I55lGfP+jjYRz8o58/9h9h/xH2nz8CLjDxEySgPwnMr+IeTaA/EGov1Cl2oD8XCK/FNJ+gPx6mLrc/yKA/JUSuqErxoD8s4i2aVRqhPzKArYtgQ6E/Oh4tfWtsoT9AvKxudpWhP0daLGCBvqE/TvirUYznoT9VlitDlxCiP1w0qzSiOaI/Y9IqJq1ioj9qcKoXuIuiP3AOKgnDtKI/eKyp+s3doj9+Sins2AajP4boqN3jL6M/jIYoz+5Yoz+UJKjA+YGjP5rCJ7IEq6M/oWCnow/Uoz+o/iaVGv2jP6+cpoYlJqQ/tjomeDBPpD+82KVpO3ikP8R2JVtGoaQ/yhSlTFHKpD/SsiQ+XPOkP9hQpC9nHKU/4O4jIXJFpT/mjKMSfW6lP+0qIwSIl6U/9Mii9ZLApT/7ZiLnnemlPwIFotioEqY/CaMhyrM7pj8QQaG7vmSmPxbfIK3JjaY/Hn2gntS2pj8kGyCQ39+mPyy5n4HqCKc/Mlcfc/Uxpz859Z5kAFunP0CTHlYLhKc/RzGeRxatpz9Ozx05IdanP1VtnSos/6c/XAsdHDcoqD9iqZwNQlGoP2pHHP9Meqg/cOWb8FejqD94gxviYsyoP34hm9Nt9ag/hr8axXgeqT+MXZq2g0epP5P7GaiOcKk/mpmZmZmZqT8=\",\"dtype\":\"float64\",\"shape\":[100]}}},\"id\":\"a165eab8-3b9e-4bdb-b2aa-94186540934f\",\"type\":\"ColumnDataSource\"},{\"attributes\":{},\"id\":\"9dc36103-42e8-4d75-a61b-91207087c69c\",\"type\":\"SaveTool\"},{\"attributes\":{},\"id\":\"0145f1e7-0278-42e1-a1a3-39d5e710738c\",\"type\":\"LinearScale\"},{\"attributes\":{\"callback\":null,\"column_names\":[\"x\",\"y\"],\"data\":{\"x\":{\"__ndarray__\":\"g903LdQGoj+D3Tct1AaiP4PdNy3UBqI/g903LdQGoj+D3Tct1AaiP4PdNy3UBqI/g903LdQGoj+D3Tct1AaiP4PdNy3UBqI/g903LdQGoj+D3Tct1AaiP4PdNy3UBqI/g903LdQGoj+D3Tct1AaiP4PdNy3UBqI/2eovpk8Ioj8ORb62SWeiP7XiRZHka6I/tzQtQl90oj9oMZZnl4CiPy30Pml7kKI/jv1ea++joj8t0eqxMbyiP+YUWKjW1qI/4ujoIgT1oj9MKzyhuRajP+XU1nXFO6M/DZMN+99joz+S5oqKHZCjP+Ivi5LqtqM/UXtZEUH/oz9Xe2W98iekP7lAe2gJYKQ/8urRPcGXpD+FaAG/3sikP9QMdKSFA6U/0xB1nnNDpT9kRjGyKoWlP6wnRGxAz6U/d4aDgv8cpj+u0TPgyGumP5eFkqQ3vKY/4ex0EP0Ppz8A7SZzQGSnPyDCZZGmu6c/wAo0RUgWqD9UZpqoSHOoP9KvTv2Y0qg/F6JpuyY0qT8OJkYs25epP2rX5P6N/ak/jjzgEStlqj9pVToOoc2qP5eDfsNN9Ko/rLoQ2C9rqz+YvmR6bPCrPwlGLuxOiKw/kYVi/IQcrT9fX4FV6bWtPxpfKP/2Uq4/UwoIFHn/rj+RXadvurOvP8NMhZyoN7A/m2LU7uOYsD+Dj/lTVf2wP1uViJ/bZLE/2/7nAO3RsT8HC6rJ4kGyP6t2mfMatLI/xvnnDNopsz9o07oARqKzP9at3mRHHbQ/9ye9V+6atD/kqK+iWhu1P6dXQlCVq7U/7Tgzp+5atj8561XFgh+3P3SarNSv/rc/LmoxTyXzuD9MOY9/ivq5P7eVwci2Ers/V17tnbY5vD8QGn0uzG29PyLiQkttrb4/La2TqD/3vz8Wyz0tCqXAPx7XNodxUsE/mcMEtWIDwj8Z6ehdebfCP21QYwZebsM/Q5FCVcQnxD9rF0WPaePEP1GR2T8TocU/ekGTGY5gxj+c2dkBrSHHP6AikShI5Mc/Szd5aDyoyD+ibr9+cHPJP/5kzQhmyMo/y0wZFD/GzD8=\",\"dtype\":\"float64\",\"shape\":[100]},\"y\":{\"__ndarray__\":\"2/l+arx0kz/pNX5N0saTP/dxfTDoGJQ/BK58E/5qlD8S6nv2E72UPyAme9kpD5U/LmJ6vD9hlT88nnmfVbOVP0raeIJrBZY/WBZ4ZYFXlj9lUndIl6mWP3OOdiut+5Y/gcp1DsNNlz+PBnXx2J+XP5xCdNTu8Zc/qn5ztwREmD+4unKaGpaYP8b2cX0w6Jg/1DJxYEY6mT/ibnBDXIyZP/CqbyZy3pk//uZuCYgwmj8LI27snYKaPxlfbc+z1Jo/J5tssskmmz8012uV33ibP0ITa3j1yps/UE9qWwsdnD9ei2k+IW+cP2zHaCE3wZw/egNoBE0TnT+IP2fnYmWdP5Z7Zsp4t50/pLdlrY4Jnj+x82SQpFueP78vZHO6rZ4/zWtjVtD/nj/ap2I55lGfP+jjYRz8o58/9h9h/xH2nz8CLjDxEySgPwnMr+IeTaA/EGov1Cl2oD8XCK/FNJ+gPx6mLrc/yKA/JUSuqErxoD8s4i2aVRqhPzKArYtgQ6E/Oh4tfWtsoT9AvKxudpWhP0daLGCBvqE/TvirUYznoT9VlitDlxCiP1w0qzSiOaI/Y9IqJq1ioj9qcKoXuIuiP3AOKgnDtKI/eKyp+s3doj9+Sins2AajP4boqN3jL6M/jIYoz+5Yoz+UJKjA+YGjP5rCJ7IEq6M/oWCnow/Uoz+o/iaVGv2jP6+cpoYlJqQ/tjomeDBPpD+82KVpO3ikP8R2JVtGoaQ/yhSlTFHKpD/SsiQ+XPOkP9hQpC9nHKU/4O4jIXJFpT/mjKMSfW6lP+0qIwSIl6U/9Mii9ZLApT/7ZiLnnemlPwIFotioEqY/CaMhyrM7pj8QQaG7vmSmPxbfIK3JjaY/Hn2gntS2pj8kGyCQ39+mPyy5n4HqCKc/Mlcfc/Uxpz859Z5kAFunP0CTHlYLhKc/RzGeRxatpz9Ozx05IdanP1VtnSos/6c/XAsdHDcoqD9iqZwNQlGoP2pHHP9Meqg/cOWb8FejqD94gxviYsyoP34hm9Nt9ag/hr8axXgeqT+MXZq2g0epP5P7GaiOcKk/mpmZmZmZqT8=\",\"dtype\":\"float64\",\"shape\":[100]}}},\"id\":\"04e0bfbb-eaab-4e7f-a90a-aec7543e8693\",\"type\":\"ColumnDataSource\"},{\"attributes\":{},\"id\":\"167d727f-bdc2-426a-ade5-93bd3a9c4ecc\",\"type\":\"BasicTicker\"},{\"attributes\":{\"line_alpha\":{\"value\":0.1},\"line_color\":{\"value\":\"#1f77b4\"},\"line_width\":{\"value\":3},\"x\":{\"field\":\"x\"},\"y\":{\"field\":\"y\"}},\"id\":\"b5cfb03e-36a1-47f7-a5ab-a008d7ad9794\",\"type\":\"Line\"},{\"attributes\":{\"line_color\":{\"value\":\"red\"},\"line_width\":{\"value\":3},\"x\":{\"field\":\"x\"},\"y\":{\"field\":\"y\"}},\"id\":\"9ea9cd34-9612-47a9-95e6-93c6def99a10\",\"type\":\"Line\"},{\"attributes\":{},\"id\":\"e8a0fe99-c85c-4ef9-b169-06f077be4e9d\",\"type\":\"PanTool\"},{\"attributes\":{},\"id\":\"f731db71-6b94-401d-989e-dabd10a25a9d\",\"type\":\"LinearScale\"},{\"attributes\":{\"data_source\":{\"id\":\"04e0bfbb-eaab-4e7f-a90a-aec7543e8693\",\"type\":\"ColumnDataSource\"},\"glyph\":{\"id\":\"9ea9cd34-9612-47a9-95e6-93c6def99a10\",\"type\":\"Line\"},\"hover_glyph\":null,\"muted_glyph\":null,\"nonselection_glyph\":{\"id\":\"b5cfb03e-36a1-47f7-a5ab-a008d7ad9794\",\"type\":\"Line\"},\"selection_glyph\":null,\"view\":{\"id\":\"7e8311b6-d3e5-4b59-b447-b91ca6a6456f\",\"type\":\"CDSView\"}},\"id\":\"7bd00dc4-9cfa-4104-84fb-203626565561\",\"type\":\"GlyphRenderer\"},{\"attributes\":{\"source\":{\"id\":\"309d036c-d2d9-4269-bff2-204eaf3ba049\",\"type\":\"ColumnDataSource\"}},\"id\":\"ff715ca0-5e8b-489a-92ac-dc400789c527\",\"type\":\"CDSView\"},{\"attributes\":{\"fill_alpha\":{\"value\":0.1},\"fill_color\":{\"value\":\"#1f77b4\"},\"line_alpha\":{\"value\":0.1},\"line_color\":{\"value\":\"#1f77b4\"},\"line_width\":{\"value\":4},\"x\":{\"field\":\"x\"},\"y\":{\"field\":\"y\"}},\"id\":\"0f0aa6a8-56fa-4acd-adad-45d8920f7322\",\"type\":\"Cross\"},{\"attributes\":{\"overlay\":{\"id\":\"e3e49e34-5fb4-4a24-82ab-f6f625ea5bbb\",\"type\":\"BoxAnnotation\"}},\"id\":\"8dfed8db-e843-4368-b3d2-0f2f5d34133c\",\"type\":\"BoxZoomTool\"},{\"attributes\":{},\"id\":\"1a7661be-9967-4466-a01a-fa4004696780\",\"type\":\"ResetTool\"},{\"attributes\":{},\"id\":\"b6b8afb0-c84b-4148-a180-8e900c6fc728\",\"type\":\"BasicTicker\"},{\"attributes\":{\"source\":{\"id\":\"3c67a6dc-d7c9-4c88-8edf-41cef3a13173\",\"type\":\"ColumnDataSource\"}},\"id\":\"afdac71a-8c80-4992-9f99-65be0f5097f4\",\"type\":\"CDSView\"},{\"attributes\":{\"source\":{\"id\":\"04e0bfbb-eaab-4e7f-a90a-aec7543e8693\",\"type\":\"ColumnDataSource\"}},\"id\":\"7e8311b6-d3e5-4b59-b447-b91ca6a6456f\",\"type\":\"CDSView\"},{\"attributes\":{\"data_source\":{\"id\":\"3c67a6dc-d7c9-4c88-8edf-41cef3a13173\",\"type\":\"ColumnDataSource\"},\"glyph\":{\"id\":\"fb60964d-accd-492f-8fc3-f7bef2d50473\",\"type\":\"Cross\"},\"hover_glyph\":null,\"muted_glyph\":null,\"nonselection_glyph\":{\"id\":\"0f0aa6a8-56fa-4acd-adad-45d8920f7322\",\"type\":\"Cross\"},\"selection_glyph\":null,\"view\":{\"id\":\"afdac71a-8c80-4992-9f99-65be0f5097f4\",\"type\":\"CDSView\"}},\"id\":\"b5b74649-828c-470d-b029-7e08caf06e80\",\"type\":\"GlyphRenderer\"},{\"attributes\":{\"label\":{\"value\":\"\\uff16\\u8cc7\\u7523\\uff08\\u4f4e\\u76f8\\u95a2)\"},\"renderers\":[{\"id\":\"7bd00dc4-9cfa-4104-84fb-203626565561\",\"type\":\"GlyphRenderer\"}]},\"id\":\"8a8eab6b-3dea-4722-850c-7ed0a70aebcc\",\"type\":\"LegendItem\"},{\"attributes\":{\"callback\":null,\"column_names\":[\"x\",\"y\"],\"data\":{\"x\":{\"__ndarray__\":\"2Uph9LX7oj/ZSmH0tfuiP9lKYfS1+6I/2Uph9LX7oj/ZSmH0tfuiP9lKYfS1+6I/2Uph9LX7oj9+UW3FivuiP8YI9eeW/6I/IAMughoIoz8j99u5mBejPzmWvcuBLaM/jqPwKXFIoz/JZHWaRGmjP69azAffj6M/5TNzH3y8oz8vmOtJn+2jP8Jph1coJKQ/eC5S70RgpD9F5UG0dq2kP3Gqu9wE5qQ/CAvAX3YvpT+Hv7B525GlP/J0vTDA2aU/iZB14Woypj8wd+JGpH+mPz1AuVx+4KY/KqDC8exFpz+qMUQBEqunP2zTeKeTFqg/7r7lzRGCqD/mx9r+e/CoP+Oqt9CtVqk/RED9tri/qT8Zii2vszOqP+Tg2jSpqao/q3uLv44iqz+OX/xk+berPyUT1jiIOqw/y2Z1J3DIrD8lUwKvF5KuP5CTWB+9Fa8/unD4a1uWrz9cStRKHwuwPyybUAnQSbA/QLSj8ryHsD/1L+AlU8SwP21eV+JcALE/D/e6UsEusT/U5Hi4k2exP35JjNskJ7E/cHgIkYxWsT/9jLyvE4axPwcYzW61tbE/dASA+XDlsT/3t7GCRRWyPwcB9UYyRbI/0NhYiTZ1sj89zGB9UqWyPyrV9fqT1bI/mbNHBuMFsz+48UvDazazP26vNVdvaLM/V2Emb+Kbsz8e3/zcudCzPyvpFpvqBrQ/Tck41mk+tD9W8sjqLHe0PzuaVYnuaLU//hVN8+xttj8TqKYpzXi3P8ZA1kf7hbg/0vKxeF6RuT/Q/CZAJpu6P+C53PyAo7s/e/qhHpaqvD9FCaV4h7C9P/+8oDRytb4/06E5oG+5vz+9aCDqSl7AP3DLrxZ838A/xymEIaNgwT8MLWz92eDBP2BF0UlMYcI/LfNeau7hwj9xKdkTwGDDPzcHOek64MM/T9sREn9fxD8P82t2kN7EP2xoFaByXcU/wavwxSjcxT/GWNHTtVrGPz8CsnQc2cY/MaBsGF9Xxz/OKmf8f9XHP/MGliyBU8g/uoM8i2TRyD99br9+cHPJPxdlzQhmyMo/BE1C/D7GzD8=\",\"dtype\":\"float64\",\"shape\":[100]},\"y\":{\"__ndarray__\":\"2/l+arx0kz/pNX5N0saTP/dxfTDoGJQ/BK58E/5qlD8S6nv2E72UPyAme9kpD5U/LmJ6vD9hlT88nnmfVbOVP0raeIJrBZY/WBZ4ZYFXlj9lUndIl6mWP3OOdiut+5Y/gcp1DsNNlz+PBnXx2J+XP5xCdNTu8Zc/qn5ztwREmD+4unKaGpaYP8b2cX0w6Jg/1DJxYEY6mT/ibnBDXIyZP/CqbyZy3pk//uZuCYgwmj8LI27snYKaPxlfbc+z1Jo/J5tssskmmz8012uV33ibP0ITa3j1yps/UE9qWwsdnD9ei2k+IW+cP2zHaCE3wZw/egNoBE0TnT+IP2fnYmWdP5Z7Zsp4t50/pLdlrY4Jnj+x82SQpFueP78vZHO6rZ4/zWtjVtD/nj/ap2I55lGfP+jjYRz8o58/9h9h/xH2nz8CLjDxEySgPwnMr+IeTaA/EGov1Cl2oD8XCK/FNJ+gPx6mLrc/yKA/JUSuqErxoD8s4i2aVRqhPzKArYtgQ6E/Oh4tfWtsoT9AvKxudpWhP0daLGCBvqE/TvirUYznoT9VlitDlxCiP1w0qzSiOaI/Y9IqJq1ioj9qcKoXuIuiP3AOKgnDtKI/eKyp+s3doj9+Sins2AajP4boqN3jL6M/jIYoz+5Yoz+UJKjA+YGjP5rCJ7IEq6M/oWCnow/Uoz+o/iaVGv2jP6+cpoYlJqQ/tjomeDBPpD+82KVpO3ikP8R2JVtGoaQ/yhSlTFHKpD/SsiQ+XPOkP9hQpC9nHKU/4O4jIXJFpT/mjKMSfW6lP+0qIwSIl6U/9Mii9ZLApT/7ZiLnnemlPwIFotioEqY/CaMhyrM7pj8QQaG7vmSmPxbfIK3JjaY/Hn2gntS2pj8kGyCQ39+mPyy5n4HqCKc/Mlcfc/Uxpz859Z5kAFunP0CTHlYLhKc/RzGeRxatpz9Ozx05IdanP1VtnSos/6c/XAsdHDcoqD9iqZwNQlGoP2pHHP9Meqg/cOWb8FejqD94gxviYsyoP34hm9Nt9ag/hr8axXgeqT+MXZq2g0epP5P7GaiOcKk/mpmZmZmZqT8=\",\"dtype\":\"float64\",\"shape\":[100]}}},\"id\":\"309d036c-d2d9-4269-bff2-204eaf3ba049\",\"type\":\"ColumnDataSource\"},{\"attributes\":{},\"id\":\"aebd1222-22b3-46c0-95f7-d8cb63242ffd\",\"type\":\"WheelZoomTool\"},{\"attributes\":{\"plot\":{\"id\":\"ef90c213-2599-4ec9-ac9a-a476948b62ef\",\"subtype\":\"Figure\",\"type\":\"Plot\"},\"ticker\":{\"id\":\"167d727f-bdc2-426a-ade5-93bd3a9c4ecc\",\"type\":\"BasicTicker\"}},\"id\":\"db934000-1d43-4045-90b3-364eae57777c\",\"type\":\"Grid\"},{\"attributes\":{\"fill_color\":{\"value\":\"black\"},\"line_width\":{\"value\":4},\"x\":{\"field\":\"x\"},\"y\":{\"field\":\"y\"}},\"id\":\"fb60964d-accd-492f-8fc3-f7bef2d50473\",\"type\":\"Cross\"},{\"attributes\":{\"axis_label\":\"\\u30dd\\u30fc\\u30c8\\u30d5\\u30a9\\u30ea\\u30aa\\u306e\\u30ea\\u30bf\\u30fc\\u30f3\",\"formatter\":{\"id\":\"846b8216-8762-442c-8141-5d796d5956e1\",\"type\":\"BasicTickFormatter\"},\"plot\":{\"id\":\"ef90c213-2599-4ec9-ac9a-a476948b62ef\",\"subtype\":\"Figure\",\"type\":\"Plot\"},\"ticker\":{\"id\":\"167d727f-bdc2-426a-ade5-93bd3a9c4ecc\",\"type\":\"BasicTicker\"}},\"id\":\"6d2d4d00-aa00-4049-8d65-16158cf0bbb5\",\"type\":\"LinearAxis\"},{\"attributes\":{\"callback\":null,\"column_names\":[\"x\",\"y\"],\"data\":{\"x\":[0.065,0.2248,0.129,0.2248,0.039,0.08],\"y\":[0.03,0.048,0.032,0.05,0.019,0.04]}},\"id\":\"3c67a6dc-d7c9-4c88-8edf-41cef3a13173\",\"type\":\"ColumnDataSource\"},{\"attributes\":{\"callback\":null},\"id\":\"5e36237c-a87f-4672-bc81-d5196fde83f0\",\"type\":\"DataRange1d\"},{\"attributes\":{\"line_alpha\":{\"value\":0.1},\"line_color\":{\"value\":\"#1f77b4\"},\"line_width\":{\"value\":3},\"x\":{\"field\":\"x\"},\"y\":{\"field\":\"y\"}},\"id\":\"9556b82d-4a9e-4000-870e-847adfd8a7ba\",\"type\":\"Line\"},{\"attributes\":{\"line_color\":{\"value\":\"blue\"},\"line_width\":{\"value\":3},\"x\":{\"field\":\"x\"},\"y\":{\"field\":\"y\"}},\"id\":\"cfa6fd8c-f22f-468e-98ac-e7d61d238115\",\"type\":\"Line\"}],\"root_ids\":[\"ef90c213-2599-4ec9-ac9a-a476948b62ef\"]},\"title\":\"Bokeh Application\",\"version\":\"0.12.10\"}};\n",
       "    var render_items = [{\"docid\":\"4d5a6ea7-779a-4d45-a7ab-207f8a5e8e41\",\"elementid\":\"db6b5c7c-329e-4299-945d-08774fa4b041\",\"modelid\":\"ef90c213-2599-4ec9-ac9a-a476948b62ef\"}];\n",
       "\n",
       "    root.Bokeh.embed.embed_items(docs_json, render_items);\n",
       "  }\n",
       "\n",
       "  if (root.Bokeh !== undefined) {\n",
       "    embed_document(root);\n",
       "  } else {\n",
       "    var attempts = 0;\n",
       "    var timer = setInterval(function(root) {\n",
       "      if (root.Bokeh !== undefined) {\n",
       "        embed_document(root);\n",
       "        clearInterval(timer);\n",
       "      }\n",
       "      attempts++;\n",
       "      if (attempts > 100) {\n",
       "        console.log(\"Bokeh: ERROR: Unable to embed document because BokehJS library is missing\")\n",
       "        clearInterval(timer);\n",
       "      }\n",
       "    }, 10, root)\n",
       "  }\n",
       "})(window);"
      ],
      "application/vnd.bokehjs_exec.v0+json": ""
     },
     "metadata": {
      "application/vnd.bokehjs_exec.v0+json": {
       "id": "ef90c213-2599-4ec9-ac9a-a476948b62ef"
      }
     },
     "output_type": "display_data"
    }
   ],
   "source": [
    "p = figure(width = 800, height=500, title='ポートフォリオのリスクとリターン')\n",
    "p.line(tvols, trets, color='blue', line_width=3, legend='５資産')\n",
    "p.line(tvols1, trets1, color='green', line_width=3, legend='６資産（高相関）')\n",
    "p.line(tvols2, trets1, color='red', line_width=3, legend='６資産（低相関)')\n",
    "p.cross(vols1, rets1, color='black', line_width=4)\n",
    "p.xaxis.axis_label='ポートフォリオのリスク'\n",
    "p.xaxis.axis_label='ポートフォリオのリターン'\n",
    "p.legend.location='top_left'\n",
    "show(p)"
   ]
  },
  {
   "cell_type": "code",
   "execution_count": null,
   "metadata": {
    "collapsed": true
   },
   "outputs": [],
   "source": []
  },
  {
   "cell_type": "code",
   "execution_count": null,
   "metadata": {
    "collapsed": true
   },
   "outputs": [],
   "source": []
  }
 ],
 "metadata": {
  "kernelspec": {
   "display_name": "Python 3",
   "language": "python",
   "name": "python3"
  },
  "language_info": {
   "codemirror_mode": {
    "name": "ipython",
    "version": 3
   },
   "file_extension": ".py",
   "mimetype": "text/x-python",
   "name": "python",
   "nbconvert_exporter": "python",
   "pygments_lexer": "ipython3",
   "version": "3.6.1"
  }
 },
 "nbformat": 4,
 "nbformat_minor": 2
}
