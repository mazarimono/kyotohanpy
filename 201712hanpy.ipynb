{
 "cells": [
  {
   "cell_type": "code",
   "execution_count": 1,
   "metadata": {},
   "outputs": [
    {
     "data": {
      "text/html": [
       "\n",
       "    <div class=\"bk-root\">\n",
       "        <a href=\"https://bokeh.pydata.org\" target=\"_blank\" class=\"bk-logo bk-logo-small bk-logo-notebook\"></a>\n",
       "        <span id=\"ad29aea6-33ad-4d9d-88ff-941f1673e8ab\">Loading BokehJS ...</span>\n",
       "    </div>"
      ]
     },
     "metadata": {},
     "output_type": "display_data"
    },
    {
     "data": {
      "application/javascript": [
       "\n",
       "(function(root) {\n",
       "  function now() {\n",
       "    return new Date();\n",
       "  }\n",
       "\n",
       "  var force = true;\n",
       "\n",
       "  if (typeof (root._bokeh_onload_callbacks) === \"undefined\" || force === true) {\n",
       "    root._bokeh_onload_callbacks = [];\n",
       "    root._bokeh_is_loading = undefined;\n",
       "  }\n",
       "\n",
       "  var JS_MIME_TYPE = 'application/javascript';\n",
       "  var HTML_MIME_TYPE = 'text/html';\n",
       "  var EXEC_MIME_TYPE = 'application/vnd.bokehjs_exec.v0+json';\n",
       "  var CLASS_NAME = 'output_bokeh rendered_html';\n",
       "\n",
       "  /**\n",
       "   * Render data to the DOM node\n",
       "   */\n",
       "  function render(props, node) {\n",
       "    var script = document.createElement(\"script\");\n",
       "    node.appendChild(script);\n",
       "  }\n",
       "\n",
       "  /**\n",
       "   * Handle when an output is cleared or removed\n",
       "   */\n",
       "  function handleClearOutput(event, handle) {\n",
       "    var cell = handle.cell;\n",
       "\n",
       "    var id = cell.output_area._bokeh_element_id;\n",
       "    var server_id = cell.output_area._bokeh_server_id;\n",
       "    // Clean up Bokeh references\n",
       "    if (id !== undefined) {\n",
       "      Bokeh.index[id].model.document.clear();\n",
       "      delete Bokeh.index[id];\n",
       "    }\n",
       "\n",
       "    if (server_id !== undefined) {\n",
       "      // Clean up Bokeh references\n",
       "      var cmd = \"from bokeh.io.state import curstate; print(curstate().uuid_to_server['\" + server_id + \"'].get_sessions()[0].document.roots[0]._id)\";\n",
       "      cell.notebook.kernel.execute(cmd, {\n",
       "        iopub: {\n",
       "          output: function(msg) {\n",
       "            var element_id = msg.content.text.trim();\n",
       "            Bokeh.index[element_id].model.document.clear();\n",
       "            delete Bokeh.index[element_id];\n",
       "          }\n",
       "        }\n",
       "      });\n",
       "      // Destroy server and session\n",
       "      var cmd = \"import bokeh.io.notebook as ion; ion.destroy_server('\" + server_id + \"')\";\n",
       "      cell.notebook.kernel.execute(cmd);\n",
       "    }\n",
       "  }\n",
       "\n",
       "  /**\n",
       "   * Handle when a new output is added\n",
       "   */\n",
       "  function handleAddOutput(event, handle) {\n",
       "    var output_area = handle.output_area;\n",
       "    var output = handle.output;\n",
       "\n",
       "    // limit handleAddOutput to display_data with EXEC_MIME_TYPE content only\n",
       "    if ((output.output_type != \"display_data\") || (!output.data.hasOwnProperty(EXEC_MIME_TYPE))) {\n",
       "      return\n",
       "    }\n",
       "\n",
       "    var toinsert = output_area.element.find(`.${CLASS_NAME.split(' ')[0]}`);\n",
       "\n",
       "    if (output.metadata[EXEC_MIME_TYPE][\"id\"] !== undefined) {\n",
       "      toinsert[0].firstChild.textContent = output.data[JS_MIME_TYPE];\n",
       "      // store reference to embed id on output_area\n",
       "      output_area._bokeh_element_id = output.metadata[EXEC_MIME_TYPE][\"id\"];\n",
       "    }\n",
       "    if (output.metadata[EXEC_MIME_TYPE][\"server_id\"] !== undefined) {\n",
       "      var bk_div = document.createElement(\"div\");\n",
       "      bk_div.innerHTML = output.data[HTML_MIME_TYPE];\n",
       "      var script_attrs = bk_div.children[0].attributes;\n",
       "      for (var i = 0; i < script_attrs.length; i++) {\n",
       "        toinsert[0].firstChild.setAttribute(script_attrs[i].name, script_attrs[i].value);\n",
       "      }\n",
       "      // store reference to server id on output_area\n",
       "      output_area._bokeh_server_id = output.metadata[EXEC_MIME_TYPE][\"server_id\"];\n",
       "    }\n",
       "  }\n",
       "\n",
       "  function register_renderer(events, OutputArea) {\n",
       "\n",
       "    function append_mime(data, metadata, element) {\n",
       "      // create a DOM node to render to\n",
       "      var toinsert = this.create_output_subarea(\n",
       "        metadata,\n",
       "        CLASS_NAME,\n",
       "        EXEC_MIME_TYPE\n",
       "      );\n",
       "      this.keyboard_manager.register_events(toinsert);\n",
       "      // Render to node\n",
       "      var props = {data: data, metadata: metadata[EXEC_MIME_TYPE]};\n",
       "      render(props, toinsert[0]);\n",
       "      element.append(toinsert);\n",
       "      return toinsert\n",
       "    }\n",
       "\n",
       "    /* Handle when an output is cleared or removed */\n",
       "    events.on('clear_output.CodeCell', handleClearOutput);\n",
       "    events.on('delete.Cell', handleClearOutput);\n",
       "\n",
       "    /* Handle when a new output is added */\n",
       "    events.on('output_added.OutputArea', handleAddOutput);\n",
       "\n",
       "    /**\n",
       "     * Register the mime type and append_mime function with output_area\n",
       "     */\n",
       "    OutputArea.prototype.register_mime_type(EXEC_MIME_TYPE, append_mime, {\n",
       "      /* Is output safe? */\n",
       "      safe: true,\n",
       "      /* Index of renderer in `output_area.display_order` */\n",
       "      index: 0\n",
       "    });\n",
       "  }\n",
       "\n",
       "  // register the mime type if in Jupyter Notebook environment and previously unregistered\n",
       "  if (root.Jupyter !== undefined) {\n",
       "    var events = require('base/js/events');\n",
       "    var OutputArea = require('notebook/js/outputarea').OutputArea;\n",
       "\n",
       "    if (OutputArea.prototype.mime_types().indexOf(EXEC_MIME_TYPE) == -1) {\n",
       "      register_renderer(events, OutputArea);\n",
       "    }\n",
       "  }\n",
       "\n",
       "  \n",
       "  if (typeof (root._bokeh_timeout) === \"undefined\" || force === true) {\n",
       "    root._bokeh_timeout = Date.now() + 5000;\n",
       "    root._bokeh_failed_load = false;\n",
       "  }\n",
       "\n",
       "  var NB_LOAD_WARNING = {'data': {'text/html':\n",
       "     \"<div style='background-color: #fdd'>\\n\"+\n",
       "     \"<p>\\n\"+\n",
       "     \"BokehJS does not appear to have successfully loaded. If loading BokehJS from CDN, this \\n\"+\n",
       "     \"may be due to a slow or bad network connection. Possible fixes:\\n\"+\n",
       "     \"</p>\\n\"+\n",
       "     \"<ul>\\n\"+\n",
       "     \"<li>re-rerun `output_notebook()` to attempt to load from CDN again, or</li>\\n\"+\n",
       "     \"<li>use INLINE resources instead, as so:</li>\\n\"+\n",
       "     \"</ul>\\n\"+\n",
       "     \"<code>\\n\"+\n",
       "     \"from bokeh.resources import INLINE\\n\"+\n",
       "     \"output_notebook(resources=INLINE)\\n\"+\n",
       "     \"</code>\\n\"+\n",
       "     \"</div>\"}};\n",
       "\n",
       "  function display_loaded() {\n",
       "    var el = document.getElementById(\"ad29aea6-33ad-4d9d-88ff-941f1673e8ab\");\n",
       "    if (el != null) {\n",
       "      el.textContent = \"BokehJS is loading...\";\n",
       "    }\n",
       "    if (root.Bokeh !== undefined) {\n",
       "      if (el != null) {\n",
       "        el.textContent = \"BokehJS \" + root.Bokeh.version + \" successfully loaded.\";\n",
       "      }\n",
       "    } else if (Date.now() < root._bokeh_timeout) {\n",
       "      setTimeout(display_loaded, 100)\n",
       "    }\n",
       "  }\n",
       "\n",
       "\n",
       "  function run_callbacks() {\n",
       "    try {\n",
       "      root._bokeh_onload_callbacks.forEach(function(callback) { callback() });\n",
       "    }\n",
       "    finally {\n",
       "      delete root._bokeh_onload_callbacks\n",
       "    }\n",
       "    console.info(\"Bokeh: all callbacks have finished\");\n",
       "  }\n",
       "\n",
       "  function load_libs(js_urls, callback) {\n",
       "    root._bokeh_onload_callbacks.push(callback);\n",
       "    if (root._bokeh_is_loading > 0) {\n",
       "      console.log(\"Bokeh: BokehJS is being loaded, scheduling callback at\", now());\n",
       "      return null;\n",
       "    }\n",
       "    if (js_urls == null || js_urls.length === 0) {\n",
       "      run_callbacks();\n",
       "      return null;\n",
       "    }\n",
       "    console.log(\"Bokeh: BokehJS not loaded, scheduling load and callback at\", now());\n",
       "    root._bokeh_is_loading = js_urls.length;\n",
       "    for (var i = 0; i < js_urls.length; i++) {\n",
       "      var url = js_urls[i];\n",
       "      var s = document.createElement('script');\n",
       "      s.src = url;\n",
       "      s.async = false;\n",
       "      s.onreadystatechange = s.onload = function() {\n",
       "        root._bokeh_is_loading--;\n",
       "        if (root._bokeh_is_loading === 0) {\n",
       "          console.log(\"Bokeh: all BokehJS libraries loaded\");\n",
       "          run_callbacks()\n",
       "        }\n",
       "      };\n",
       "      s.onerror = function() {\n",
       "        console.warn(\"failed to load library \" + url);\n",
       "      };\n",
       "      console.log(\"Bokeh: injecting script tag for BokehJS library: \", url);\n",
       "      document.getElementsByTagName(\"head\")[0].appendChild(s);\n",
       "    }\n",
       "  };var element = document.getElementById(\"ad29aea6-33ad-4d9d-88ff-941f1673e8ab\");\n",
       "  if (element == null) {\n",
       "    console.log(\"Bokeh: ERROR: autoload.js configured with elementid 'ad29aea6-33ad-4d9d-88ff-941f1673e8ab' but no matching script tag was found. \")\n",
       "    return false;\n",
       "  }\n",
       "\n",
       "  var js_urls = [\"https://cdn.pydata.org/bokeh/release/bokeh-0.12.10.min.js\", \"https://cdn.pydata.org/bokeh/release/bokeh-widgets-0.12.10.min.js\", \"https://cdn.pydata.org/bokeh/release/bokeh-tables-0.12.10.min.js\", \"https://cdn.pydata.org/bokeh/release/bokeh-gl-0.12.10.min.js\"];\n",
       "\n",
       "  var inline_js = [\n",
       "    function(Bokeh) {\n",
       "      Bokeh.set_log_level(\"info\");\n",
       "    },\n",
       "    \n",
       "    function(Bokeh) {\n",
       "      \n",
       "    },\n",
       "    function(Bokeh) {\n",
       "      console.log(\"Bokeh: injecting CSS: https://cdn.pydata.org/bokeh/release/bokeh-0.12.10.min.css\");\n",
       "      Bokeh.embed.inject_css(\"https://cdn.pydata.org/bokeh/release/bokeh-0.12.10.min.css\");\n",
       "      console.log(\"Bokeh: injecting CSS: https://cdn.pydata.org/bokeh/release/bokeh-widgets-0.12.10.min.css\");\n",
       "      Bokeh.embed.inject_css(\"https://cdn.pydata.org/bokeh/release/bokeh-widgets-0.12.10.min.css\");\n",
       "      console.log(\"Bokeh: injecting CSS: https://cdn.pydata.org/bokeh/release/bokeh-tables-0.12.10.min.css\");\n",
       "      Bokeh.embed.inject_css(\"https://cdn.pydata.org/bokeh/release/bokeh-tables-0.12.10.min.css\");\n",
       "    }\n",
       "  ];\n",
       "\n",
       "  function run_inline_js() {\n",
       "    \n",
       "    if ((root.Bokeh !== undefined) || (force === true)) {\n",
       "      for (var i = 0; i < inline_js.length; i++) {\n",
       "        inline_js[i].call(root, root.Bokeh);\n",
       "      }if (force === true) {\n",
       "        display_loaded();\n",
       "      }} else if (Date.now() < root._bokeh_timeout) {\n",
       "      setTimeout(run_inline_js, 100);\n",
       "    } else if (!root._bokeh_failed_load) {\n",
       "      console.log(\"Bokeh: BokehJS failed to load within specified timeout.\");\n",
       "      root._bokeh_failed_load = true;\n",
       "    } else if (force !== true) {\n",
       "      var cell = $(document.getElementById(\"ad29aea6-33ad-4d9d-88ff-941f1673e8ab\")).parents('.cell').data().cell;\n",
       "      cell.output_area.append_execute_result(NB_LOAD_WARNING)\n",
       "    }\n",
       "\n",
       "  }\n",
       "\n",
       "  if (root._bokeh_is_loading === 0) {\n",
       "    console.log(\"Bokeh: BokehJS loaded, going straight to plotting\");\n",
       "    run_inline_js();\n",
       "  } else {\n",
       "    load_libs(js_urls, function() {\n",
       "      console.log(\"Bokeh: BokehJS plotting callback run at\", now());\n",
       "      run_inline_js();\n",
       "    });\n",
       "  }\n",
       "}(window));"
      ],
      "application/vnd.bokehjs_load.v0+json": "\n(function(root) {\n  function now() {\n    return new Date();\n  }\n\n  var force = true;\n\n  if (typeof (root._bokeh_onload_callbacks) === \"undefined\" || force === true) {\n    root._bokeh_onload_callbacks = [];\n    root._bokeh_is_loading = undefined;\n  }\n\n  \n\n  \n  if (typeof (root._bokeh_timeout) === \"undefined\" || force === true) {\n    root._bokeh_timeout = Date.now() + 5000;\n    root._bokeh_failed_load = false;\n  }\n\n  var NB_LOAD_WARNING = {'data': {'text/html':\n     \"<div style='background-color: #fdd'>\\n\"+\n     \"<p>\\n\"+\n     \"BokehJS does not appear to have successfully loaded. If loading BokehJS from CDN, this \\n\"+\n     \"may be due to a slow or bad network connection. Possible fixes:\\n\"+\n     \"</p>\\n\"+\n     \"<ul>\\n\"+\n     \"<li>re-rerun `output_notebook()` to attempt to load from CDN again, or</li>\\n\"+\n     \"<li>use INLINE resources instead, as so:</li>\\n\"+\n     \"</ul>\\n\"+\n     \"<code>\\n\"+\n     \"from bokeh.resources import INLINE\\n\"+\n     \"output_notebook(resources=INLINE)\\n\"+\n     \"</code>\\n\"+\n     \"</div>\"}};\n\n  function display_loaded() {\n    var el = document.getElementById(\"ad29aea6-33ad-4d9d-88ff-941f1673e8ab\");\n    if (el != null) {\n      el.textContent = \"BokehJS is loading...\";\n    }\n    if (root.Bokeh !== undefined) {\n      if (el != null) {\n        el.textContent = \"BokehJS \" + root.Bokeh.version + \" successfully loaded.\";\n      }\n    } else if (Date.now() < root._bokeh_timeout) {\n      setTimeout(display_loaded, 100)\n    }\n  }\n\n\n  function run_callbacks() {\n    try {\n      root._bokeh_onload_callbacks.forEach(function(callback) { callback() });\n    }\n    finally {\n      delete root._bokeh_onload_callbacks\n    }\n    console.info(\"Bokeh: all callbacks have finished\");\n  }\n\n  function load_libs(js_urls, callback) {\n    root._bokeh_onload_callbacks.push(callback);\n    if (root._bokeh_is_loading > 0) {\n      console.log(\"Bokeh: BokehJS is being loaded, scheduling callback at\", now());\n      return null;\n    }\n    if (js_urls == null || js_urls.length === 0) {\n      run_callbacks();\n      return null;\n    }\n    console.log(\"Bokeh: BokehJS not loaded, scheduling load and callback at\", now());\n    root._bokeh_is_loading = js_urls.length;\n    for (var i = 0; i < js_urls.length; i++) {\n      var url = js_urls[i];\n      var s = document.createElement('script');\n      s.src = url;\n      s.async = false;\n      s.onreadystatechange = s.onload = function() {\n        root._bokeh_is_loading--;\n        if (root._bokeh_is_loading === 0) {\n          console.log(\"Bokeh: all BokehJS libraries loaded\");\n          run_callbacks()\n        }\n      };\n      s.onerror = function() {\n        console.warn(\"failed to load library \" + url);\n      };\n      console.log(\"Bokeh: injecting script tag for BokehJS library: \", url);\n      document.getElementsByTagName(\"head\")[0].appendChild(s);\n    }\n  };var element = document.getElementById(\"ad29aea6-33ad-4d9d-88ff-941f1673e8ab\");\n  if (element == null) {\n    console.log(\"Bokeh: ERROR: autoload.js configured with elementid 'ad29aea6-33ad-4d9d-88ff-941f1673e8ab' but no matching script tag was found. \")\n    return false;\n  }\n\n  var js_urls = [\"https://cdn.pydata.org/bokeh/release/bokeh-0.12.10.min.js\", \"https://cdn.pydata.org/bokeh/release/bokeh-widgets-0.12.10.min.js\", \"https://cdn.pydata.org/bokeh/release/bokeh-tables-0.12.10.min.js\", \"https://cdn.pydata.org/bokeh/release/bokeh-gl-0.12.10.min.js\"];\n\n  var inline_js = [\n    function(Bokeh) {\n      Bokeh.set_log_level(\"info\");\n    },\n    \n    function(Bokeh) {\n      \n    },\n    function(Bokeh) {\n      console.log(\"Bokeh: injecting CSS: https://cdn.pydata.org/bokeh/release/bokeh-0.12.10.min.css\");\n      Bokeh.embed.inject_css(\"https://cdn.pydata.org/bokeh/release/bokeh-0.12.10.min.css\");\n      console.log(\"Bokeh: injecting CSS: https://cdn.pydata.org/bokeh/release/bokeh-widgets-0.12.10.min.css\");\n      Bokeh.embed.inject_css(\"https://cdn.pydata.org/bokeh/release/bokeh-widgets-0.12.10.min.css\");\n      console.log(\"Bokeh: injecting CSS: https://cdn.pydata.org/bokeh/release/bokeh-tables-0.12.10.min.css\");\n      Bokeh.embed.inject_css(\"https://cdn.pydata.org/bokeh/release/bokeh-tables-0.12.10.min.css\");\n    }\n  ];\n\n  function run_inline_js() {\n    \n    if ((root.Bokeh !== undefined) || (force === true)) {\n      for (var i = 0; i < inline_js.length; i++) {\n        inline_js[i].call(root, root.Bokeh);\n      }if (force === true) {\n        display_loaded();\n      }} else if (Date.now() < root._bokeh_timeout) {\n      setTimeout(run_inline_js, 100);\n    } else if (!root._bokeh_failed_load) {\n      console.log(\"Bokeh: BokehJS failed to load within specified timeout.\");\n      root._bokeh_failed_load = true;\n    } else if (force !== true) {\n      var cell = $(document.getElementById(\"ad29aea6-33ad-4d9d-88ff-941f1673e8ab\")).parents('.cell').data().cell;\n      cell.output_area.append_execute_result(NB_LOAD_WARNING)\n    }\n\n  }\n\n  if (root._bokeh_is_loading === 0) {\n    console.log(\"Bokeh: BokehJS loaded, going straight to plotting\");\n    run_inline_js();\n  } else {\n    load_libs(js_urls, function() {\n      console.log(\"Bokeh: BokehJS plotting callback run at\", now());\n      run_inline_js();\n    });\n  }\n}(window));"
     },
     "metadata": {},
     "output_type": "display_data"
    }
   ],
   "source": [
    "import pandas as pd                         # pandas \n",
    "import pandas_datareader.data as pdr        # 株価などのdataを引っ張れる\n",
    "from datetime import datetime               # 日時を扱う\n",
    "from datetime import timedelta\n",
    "import numpy as np                          # ちょっとした計算をする\n",
    "import scipy.optimize as sco                # 最適化する\n",
    "from bokeh.io import output_notebook        # グラフを作る（）\n",
    "from bokeh.plotting import figure, show     # グラフを作る\n",
    "%matplotlib inline\n",
    "output_notebook()"
   ]
  },
  {
   "cell_type": "markdown",
   "metadata": {},
   "source": [
    "## 長期運用の資産配分をPythonを使ってやってみよう\n",
    "   \n",
    "### 皆さん自分の資産運用してますか？\n",
    "* 年金とか頼ってないですよね？   \n",
    "ZEROHEDGE [\"The Ponzi Scheme That's Over ×100 The Size Of Madoff.\"](http://www.zerohedge.com/news/2017-11-10/ponzi-scheme-thats-over-100x-size-madoff)\n",
    "* Ponzi Scheme == ネズミ講  \n",
    "* Madoff == [バーナンド・マドフ](https://www.google.co.jp/search?q=%E3%83%90%E3%83%BC%E3%83%8A%E3%83%B3%E3%83%89+%E3%83%9E%E3%83%89%E3%83%95&oq=%E3%83%90%E3%83%BC%E3%83%8A%E3%83%B3%E3%83%89%E3%80%80%E3%83%9E%E3%83%89%E3%83%95&aqs=chrome..69i57j0l5.7523j0j4&sourceid=chrome&ie=UTF-8)   \n",
    "  年１０％儲かる絶対的な投資法を見つけたと言って６５０億ドル（７兆円）集めた。   \n",
    "  自分で証券会社を作って、NASDAQの会長もやっていたため信用力があった。\n",
    "* その１００倍のネズミ講って何？　 == 年金(pension fund)\n",
    "\n",
    "### ロボアドバイザーとか頼ってみる？\n",
    "* グーグルの一番に推してくる[Wealth Navi](https://invest.wealthnavi.com/simulation?_ga=2.39836323.1452126704.1512784495-1105591666.1512784495&_gac=1.222479849.1512784495.CjwKCAiAjanRBRByEiwAKGyjZWrJ-AgrnjPLBZR7K-8NTcRKlQJG2Z-5kMVS4WtKgJyO-6WF6vJB6RoCP0sQAvD_BwE)\n",
    "* まぁ手数料をたくさん払うより良いかもしれない。\n",
    "* しかし、酔っぱらいみたいな質問して適当に資産配分を推し進めてきます。\n",
    "* そんなものに頼れない。でも金融屋はもっと信用できない！\n",
    "\n",
    "# じゃあ自分で作ってみれば？？？\n",
    "\n",
    "\n",
    "### 参考にするのは東京のfinpyで発表があったものです。  \n",
    "* Scipyで２次計画問題を解く　　〜ポートフォリオ最適化の例   \n",
    "https://qiita.com/ryoshi81/items/b323a363e5442a15db6d\n",
    "* これに債券を加えたり妄想資産を追加したりしてみます。\n",
    "* 自分で作ってコストを抑えよう！　長期投資でネックとなるのは資産配分とコストです！\n",
    "   \n",
    "   \n",
    "## 自分で資産のリスク／リターンを計算する\n",
    "### 株だけを見てみる\n",
    "* pandas_datareaderを使って株価を取得する\n",
    "* ローソク足を作る\n",
    "* リスクやリターンを作る(年率)\n",
    "* 資産間の相関を見る\n",
    "\n",
    "### アセット・アロケーションを取り扱う\n",
    "* ポートフォリオ"
   ]
  },
  {
   "cell_type": "markdown",
   "metadata": {},
   "source": [
    "pandas datareader ドキュメント   \n",
    "https://pandas-datareader.readthedocs.io/en/latest/"
   ]
  },
  {
   "cell_type": "code",
   "execution_count": 2,
   "metadata": {},
   "outputs": [],
   "source": [
    "apple = pdr.get_data_yahoo('AAPL')"
   ]
  },
  {
   "cell_type": "code",
   "execution_count": 3,
   "metadata": {
    "scrolled": true
   },
   "outputs": [
    {
     "data": {
      "text/html": [
       "<div>\n",
       "<style>\n",
       "    .dataframe thead tr:only-child th {\n",
       "        text-align: right;\n",
       "    }\n",
       "\n",
       "    .dataframe thead th {\n",
       "        text-align: left;\n",
       "    }\n",
       "\n",
       "    .dataframe tbody tr th {\n",
       "        vertical-align: top;\n",
       "    }\n",
       "</style>\n",
       "<table border=\"1\" class=\"dataframe\">\n",
       "  <thead>\n",
       "    <tr style=\"text-align: right;\">\n",
       "      <th></th>\n",
       "      <th>Open</th>\n",
       "      <th>High</th>\n",
       "      <th>Low</th>\n",
       "      <th>Close</th>\n",
       "      <th>Adj Close</th>\n",
       "      <th>Volume</th>\n",
       "    </tr>\n",
       "    <tr>\n",
       "      <th>Date</th>\n",
       "      <th></th>\n",
       "      <th></th>\n",
       "      <th></th>\n",
       "      <th></th>\n",
       "      <th></th>\n",
       "      <th></th>\n",
       "    </tr>\n",
       "  </thead>\n",
       "  <tbody>\n",
       "    <tr>\n",
       "      <th>2009-12-31</th>\n",
       "      <td>30.447144</td>\n",
       "      <td>30.478571</td>\n",
       "      <td>30.080000</td>\n",
       "      <td>30.104286</td>\n",
       "      <td>26.986492</td>\n",
       "      <td>88102700</td>\n",
       "    </tr>\n",
       "    <tr>\n",
       "      <th>2010-01-04</th>\n",
       "      <td>30.490000</td>\n",
       "      <td>30.642857</td>\n",
       "      <td>30.340000</td>\n",
       "      <td>30.572857</td>\n",
       "      <td>27.406532</td>\n",
       "      <td>123432400</td>\n",
       "    </tr>\n",
       "    <tr>\n",
       "      <th>2010-01-05</th>\n",
       "      <td>30.657143</td>\n",
       "      <td>30.798571</td>\n",
       "      <td>30.464285</td>\n",
       "      <td>30.625713</td>\n",
       "      <td>27.453915</td>\n",
       "      <td>150476200</td>\n",
       "    </tr>\n",
       "    <tr>\n",
       "      <th>2010-01-06</th>\n",
       "      <td>30.625713</td>\n",
       "      <td>30.747143</td>\n",
       "      <td>30.107143</td>\n",
       "      <td>30.138571</td>\n",
       "      <td>27.017223</td>\n",
       "      <td>138040000</td>\n",
       "    </tr>\n",
       "    <tr>\n",
       "      <th>2010-01-07</th>\n",
       "      <td>30.250000</td>\n",
       "      <td>30.285715</td>\n",
       "      <td>29.864286</td>\n",
       "      <td>30.082857</td>\n",
       "      <td>26.967278</td>\n",
       "      <td>119282800</td>\n",
       "    </tr>\n",
       "  </tbody>\n",
       "</table>\n",
       "</div>"
      ],
      "text/plain": [
       "                 Open       High        Low      Close  Adj Close     Volume\n",
       "Date                                                                        \n",
       "2009-12-31  30.447144  30.478571  30.080000  30.104286  26.986492   88102700\n",
       "2010-01-04  30.490000  30.642857  30.340000  30.572857  27.406532  123432400\n",
       "2010-01-05  30.657143  30.798571  30.464285  30.625713  27.453915  150476200\n",
       "2010-01-06  30.625713  30.747143  30.107143  30.138571  27.017223  138040000\n",
       "2010-01-07  30.250000  30.285715  29.864286  30.082857  26.967278  119282800"
      ]
     },
     "execution_count": 3,
     "metadata": {},
     "output_type": "execute_result"
    }
   ],
   "source": [
    "apple.head()"
   ]
  },
  {
   "cell_type": "code",
   "execution_count": 4,
   "metadata": {},
   "outputs": [
    {
     "data": {
      "text/plain": [
       "pandas.core.indexes.datetimes.DatetimeIndex"
      ]
     },
     "execution_count": 4,
     "metadata": {},
     "output_type": "execute_result"
    }
   ],
   "source": [
    "type(apple.index)"
   ]
  },
  {
   "cell_type": "code",
   "execution_count": 5,
   "metadata": {
    "collapsed": true
   },
   "outputs": [],
   "source": [
    "apple_w = apple.resample('W').last()\n",
    "apple_w.index = pd.to_datetime(apple_w.index)"
   ]
  },
  {
   "cell_type": "code",
   "execution_count": 6,
   "metadata": {
    "scrolled": true
   },
   "outputs": [
    {
     "data": {
      "text/html": [
       "<div>\n",
       "<style>\n",
       "    .dataframe thead tr:only-child th {\n",
       "        text-align: right;\n",
       "    }\n",
       "\n",
       "    .dataframe thead th {\n",
       "        text-align: left;\n",
       "    }\n",
       "\n",
       "    .dataframe tbody tr th {\n",
       "        vertical-align: top;\n",
       "    }\n",
       "</style>\n",
       "<table border=\"1\" class=\"dataframe\">\n",
       "  <thead>\n",
       "    <tr style=\"text-align: right;\">\n",
       "      <th></th>\n",
       "      <th>Open</th>\n",
       "      <th>High</th>\n",
       "      <th>Low</th>\n",
       "      <th>Close</th>\n",
       "      <th>Adj Close</th>\n",
       "      <th>Volume</th>\n",
       "    </tr>\n",
       "    <tr>\n",
       "      <th>Date</th>\n",
       "      <th></th>\n",
       "      <th></th>\n",
       "      <th></th>\n",
       "      <th></th>\n",
       "      <th></th>\n",
       "      <th></th>\n",
       "    </tr>\n",
       "  </thead>\n",
       "  <tbody>\n",
       "    <tr>\n",
       "      <th>2017-11-19</th>\n",
       "      <td>171.039993</td>\n",
       "      <td>171.389999</td>\n",
       "      <td>169.639999</td>\n",
       "      <td>170.149994</td>\n",
       "      <td>170.149994</td>\n",
       "      <td>21899500</td>\n",
       "    </tr>\n",
       "    <tr>\n",
       "      <th>2017-11-26</th>\n",
       "      <td>175.100006</td>\n",
       "      <td>175.500000</td>\n",
       "      <td>174.649994</td>\n",
       "      <td>174.970001</td>\n",
       "      <td>174.970001</td>\n",
       "      <td>14026700</td>\n",
       "    </tr>\n",
       "    <tr>\n",
       "      <th>2017-12-03</th>\n",
       "      <td>169.949997</td>\n",
       "      <td>171.669998</td>\n",
       "      <td>168.500000</td>\n",
       "      <td>171.050003</td>\n",
       "      <td>171.050003</td>\n",
       "      <td>39759300</td>\n",
       "    </tr>\n",
       "    <tr>\n",
       "      <th>2017-12-10</th>\n",
       "      <td>170.490005</td>\n",
       "      <td>171.000000</td>\n",
       "      <td>168.820007</td>\n",
       "      <td>169.369995</td>\n",
       "      <td>169.369995</td>\n",
       "      <td>23355200</td>\n",
       "    </tr>\n",
       "    <tr>\n",
       "      <th>2017-12-17</th>\n",
       "      <td>172.399994</td>\n",
       "      <td>173.130005</td>\n",
       "      <td>171.649994</td>\n",
       "      <td>172.220001</td>\n",
       "      <td>172.220001</td>\n",
       "      <td>19928796</td>\n",
       "    </tr>\n",
       "  </tbody>\n",
       "</table>\n",
       "</div>"
      ],
      "text/plain": [
       "                  Open        High         Low       Close   Adj Close  \\\n",
       "Date                                                                     \n",
       "2017-11-19  171.039993  171.389999  169.639999  170.149994  170.149994   \n",
       "2017-11-26  175.100006  175.500000  174.649994  174.970001  174.970001   \n",
       "2017-12-03  169.949997  171.669998  168.500000  171.050003  171.050003   \n",
       "2017-12-10  170.490005  171.000000  168.820007  169.369995  169.369995   \n",
       "2017-12-17  172.399994  173.130005  171.649994  172.220001  172.220001   \n",
       "\n",
       "              Volume  \n",
       "Date                  \n",
       "2017-11-19  21899500  \n",
       "2017-11-26  14026700  \n",
       "2017-12-03  39759300  \n",
       "2017-12-10  23355200  \n",
       "2017-12-17  19928796  "
      ]
     },
     "execution_count": 6,
     "metadata": {},
     "output_type": "execute_result"
    }
   ],
   "source": [
    "apple_w.tail()"
   ]
  },
  {
   "cell_type": "code",
   "execution_count": 7,
   "metadata": {
    "scrolled": false
   },
   "outputs": [
    {
     "data": {
      "text/html": [
       "\n",
       "<div class=\"bk-root\">\n",
       "    <div class=\"bk-plotdiv\" id=\"da287f1f-b073-41f2-85dc-0e813fd7d230\"></div>\n",
       "</div>"
      ]
     },
     "metadata": {},
     "output_type": "display_data"
    },
    {
     "data": {
      "application/javascript": [
       "(function(root) {\n",
       "  function embed_document(root) {\n",
       "    var docs_json = {\"abf24539-a88a-430b-816a-3b28d38df7f0\":{\"roots\":{\"references\":[{\"attributes\":{\"base\":24,\"mantissas\":[1,2,4,6,8,12],\"max_interval\":43200000.0,\"min_interval\":3600000.0,\"num_minor_ticks\":0},\"id\":\"e5109132-9994-48ed-8006-23831ec26673\",\"type\":\"AdaptiveTicker\"},{\"attributes\":{\"days\":[1,2,3,4,5,6,7,8,9,10,11,12,13,14,15,16,17,18,19,20,21,22,23,24,25,26,27,28,29,30,31]},\"id\":\"4510ddb3-7ffa-4207-aa0d-589f381de7fa\",\"type\":\"DaysTicker\"},{\"attributes\":{},\"id\":\"67ed17d0-bcbb-4f94-adac-a710b9e6274d\",\"type\":\"DatetimeTickFormatter\"},{\"attributes\":{\"days\":[1,4,7,10,13,16,19,22,25,28]},\"id\":\"7cd4ea19-0ad1-4f45-b27b-60a001294a33\",\"type\":\"DaysTicker\"},{\"attributes\":{\"months\":[0,2,4,6,8,10]},\"id\":\"b233d945-7787-4c3a-903d-f047d5d65a9e\",\"type\":\"MonthsTicker\"},{\"attributes\":{},\"id\":\"113cbc01-ebd6-4092-a4fd-379edc4451f2\",\"type\":\"BasicTickFormatter\"},{\"attributes\":{\"formatter\":{\"id\":\"67ed17d0-bcbb-4f94-adac-a710b9e6274d\",\"type\":\"DatetimeTickFormatter\"},\"plot\":{\"id\":\"5e80439e-047f-4eb2-8ccb-aaa6a04d5328\",\"subtype\":\"Figure\",\"type\":\"Plot\"},\"ticker\":{\"id\":\"61eab245-53a2-4212-b9f2-73c8ef2d7d2f\",\"type\":\"DatetimeTicker\"}},\"id\":\"5be1e55a-4bd4-42e5-951b-d9620c3a74f8\",\"type\":\"DatetimeAxis\"},{\"attributes\":{\"months\":[0,4,8]},\"id\":\"30c17769-4e92-470a-a878-03690da11c49\",\"type\":\"MonthsTicker\"},{\"attributes\":{},\"id\":\"affe54fd-5d46-4dd8-bc93-2fe694ed3bf8\",\"type\":\"PanTool\"},{\"attributes\":{\"months\":[0,6]},\"id\":\"3d54c060-0213-4982-9f04-c388d34a1156\",\"type\":\"MonthsTicker\"},{\"attributes\":{\"formatter\":{\"id\":\"113cbc01-ebd6-4092-a4fd-379edc4451f2\",\"type\":\"BasicTickFormatter\"},\"plot\":{\"id\":\"5e80439e-047f-4eb2-8ccb-aaa6a04d5328\",\"subtype\":\"Figure\",\"type\":\"Plot\"},\"ticker\":{\"id\":\"058c467b-43cd-4d36-a216-1ec56c4106d5\",\"type\":\"BasicTicker\"}},\"id\":\"942b19ca-bdd9-4cb9-9aa1-cbed24bb397c\",\"type\":\"LinearAxis\"},{\"attributes\":{},\"id\":\"53e32876-8ae7-4a72-bc31-82d1c3e1fb2c\",\"type\":\"YearsTicker\"},{\"attributes\":{},\"id\":\"68064ef6-a5a8-4fe7-9745-79cad04d7540\",\"type\":\"LinearScale\"},{\"attributes\":{\"dimension\":1,\"plot\":{\"id\":\"5e80439e-047f-4eb2-8ccb-aaa6a04d5328\",\"subtype\":\"Figure\",\"type\":\"Plot\"},\"ticker\":{\"id\":\"058c467b-43cd-4d36-a216-1ec56c4106d5\",\"type\":\"BasicTicker\"}},\"id\":\"3f5edd9c-0748-4a09-9f59-da635abe98ff\",\"type\":\"Grid\"},{\"attributes\":{},\"id\":\"058c467b-43cd-4d36-a216-1ec56c4106d5\",\"type\":\"BasicTicker\"},{\"attributes\":{\"num_minor_ticks\":5,\"tickers\":[{\"id\":\"e6b43d36-9d89-497b-9a22-15fd9b53c586\",\"type\":\"AdaptiveTicker\"},{\"id\":\"7ebcca43-82c5-4674-8046-39d2cdda100d\",\"type\":\"AdaptiveTicker\"},{\"id\":\"e5109132-9994-48ed-8006-23831ec26673\",\"type\":\"AdaptiveTicker\"},{\"id\":\"4510ddb3-7ffa-4207-aa0d-589f381de7fa\",\"type\":\"DaysTicker\"},{\"id\":\"7cd4ea19-0ad1-4f45-b27b-60a001294a33\",\"type\":\"DaysTicker\"},{\"id\":\"f80d9ba7-8705-46fc-8056-26a951dfc783\",\"type\":\"DaysTicker\"},{\"id\":\"f83074fb-12dc-4726-bf99-0a148371f668\",\"type\":\"DaysTicker\"},{\"id\":\"cb6c835d-20b8-4ee2-a8bd-2cc2a5ce9a41\",\"type\":\"MonthsTicker\"},{\"id\":\"b233d945-7787-4c3a-903d-f047d5d65a9e\",\"type\":\"MonthsTicker\"},{\"id\":\"30c17769-4e92-470a-a878-03690da11c49\",\"type\":\"MonthsTicker\"},{\"id\":\"3d54c060-0213-4982-9f04-c388d34a1156\",\"type\":\"MonthsTicker\"},{\"id\":\"53e32876-8ae7-4a72-bc31-82d1c3e1fb2c\",\"type\":\"YearsTicker\"}]},\"id\":\"61eab245-53a2-4212-b9f2-73c8ef2d7d2f\",\"type\":\"DatetimeTicker\"},{\"attributes\":{\"plot\":{\"id\":\"5e80439e-047f-4eb2-8ccb-aaa6a04d5328\",\"subtype\":\"Figure\",\"type\":\"Plot\"},\"ticker\":{\"id\":\"61eab245-53a2-4212-b9f2-73c8ef2d7d2f\",\"type\":\"DatetimeTicker\"}},\"id\":\"036b35e9-5df2-4557-bb0b-821e1c08ce9a\",\"type\":\"Grid\"},{\"attributes\":{\"callback\":null,\"column_names\":[\"x\",\"top\",\"bottom\"],\"data\":{\"bottom\":{\"__ndarray__\":\"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\",\"dtype\":\"float64\",\"shape\":[197]},\"top\":{\"__ndarray__\":\"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\",\"dtype\":\"float64\",\"shape\":[197]},\"x\":{\"__ndarray__\":\"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\",\"dtype\":\"float64\",\"shape\":[197]}}},\"id\":\"211f178d-564c-4860-b337-37934f1a6440\",\"type\":\"ColumnDataSource\"},{\"attributes\":{},\"id\":\"0da0ff72-a292-43a8-acfc-16a31efbf13e\",\"type\":\"WheelZoomTool\"},{\"attributes\":{\"bottom\":{\"field\":\"bottom\"},\"fill_color\":{\"value\":\"red\"},\"top\":{\"field\":\"top\"},\"width\":{\"value\":864000000},\"x\":{\"field\":\"x\"}},\"id\":\"d4a23ae4-9ed4-46ed-9ea4-3e17859419e3\",\"type\":\"VBar\"},{\"attributes\":{\"overlay\":{\"id\":\"1ae11f15-54bd-4e97-b32d-8968c2cb2eb6\",\"type\":\"BoxAnnotation\"}},\"id\":\"1738fec7-4095-4395-8ca6-d98ff80a45a5\",\"type\":\"BoxZoomTool\"},{\"attributes\":{\"callback\":null},\"id\":\"8fa03a68-167e-4ed6-b417-cf379fc47542\",\"type\":\"DataRange1d\"},{\"attributes\":{\"bottom\":{\"field\":\"bottom\"},\"fill_alpha\":{\"value\":0.1},\"fill_color\":{\"value\":\"#1f77b4\"},\"line_alpha\":{\"value\":0.1},\"line_color\":{\"value\":\"#1f77b4\"},\"top\":{\"field\":\"top\"},\"width\":{\"value\":864000000},\"x\":{\"field\":\"x\"}},\"id\":\"996c4892-792a-4feb-9c8a-f54cb83770c2\",\"type\":\"VBar\"},{\"attributes\":{\"data_source\":{\"id\":\"211f178d-564c-4860-b337-37934f1a6440\",\"type\":\"ColumnDataSource\"},\"glyph\":{\"id\":\"d4a23ae4-9ed4-46ed-9ea4-3e17859419e3\",\"type\":\"VBar\"},\"hover_glyph\":null,\"muted_glyph\":null,\"nonselection_glyph\":{\"id\":\"996c4892-792a-4feb-9c8a-f54cb83770c2\",\"type\":\"VBar\"},\"selection_glyph\":null,\"view\":{\"id\":\"278659aa-28f9-4ff1-b2d5-85e398d51902\",\"type\":\"CDSView\"}},\"id\":\"656355d5-62e1-4d1b-ad8c-133a76e34bbf\",\"type\":\"GlyphRenderer\"},{\"attributes\":{\"bottom_units\":\"screen\",\"fill_alpha\":{\"value\":0.5},\"fill_color\":{\"value\":\"lightgrey\"},\"left_units\":\"screen\",\"level\":\"overlay\",\"line_alpha\":{\"value\":1.0},\"line_color\":{\"value\":\"black\"},\"line_dash\":[4,4],\"line_width\":{\"value\":2},\"plot\":null,\"render_mode\":\"css\",\"right_units\":\"screen\",\"top_units\":\"screen\"},\"id\":\"1ae11f15-54bd-4e97-b32d-8968c2cb2eb6\",\"type\":\"BoxAnnotation\"},{\"attributes\":{\"source\":{\"id\":\"211f178d-564c-4860-b337-37934f1a6440\",\"type\":\"ColumnDataSource\"}},\"id\":\"278659aa-28f9-4ff1-b2d5-85e398d51902\",\"type\":\"CDSView\"},{\"attributes\":{\"data_source\":{\"id\":\"5694311e-00ba-49e9-954d-559e5ba26941\",\"type\":\"ColumnDataSource\"},\"glyph\":{\"id\":\"6a6773ab-cbb6-4141-9229-3e739ebf5eee\",\"type\":\"Segment\"},\"hover_glyph\":null,\"muted_glyph\":null,\"nonselection_glyph\":{\"id\":\"fd0c8dfe-94bc-4353-88f0-ed607d98e307\",\"type\":\"Segment\"},\"selection_glyph\":null,\"view\":{\"id\":\"8946e02a-05f7-4962-9903-efac680dd1cb\",\"type\":\"CDSView\"}},\"id\":\"60f54526-d478-4366-b6c3-e217d9048a92\",\"type\":\"GlyphRenderer\"},{\"attributes\":{\"callback\":null},\"id\":\"732be1af-0b4a-4f7e-8d84-44215d8189ef\",\"type\":\"HoverTool\"},{\"attributes\":{\"mantissas\":[1,2,5],\"max_interval\":500.0,\"num_minor_ticks\":0},\"id\":\"e6b43d36-9d89-497b-9a22-15fd9b53c586\",\"type\":\"AdaptiveTicker\"},{\"attributes\":{\"callback\":null},\"id\":\"46dda08d-f461-4d3e-a738-fd7f1ee121be\",\"type\":\"DataRange1d\"},{\"attributes\":{\"callback\":null,\"column_names\":[\"x\",\"top\",\"bottom\"],\"data\":{\"bottom\":{\"__ndarray__\":\"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\",\"dtype\":\"float64\",\"shape\":[219]},\"top\":{\"__ndarray__\":\"P26/fLIaPkDVDRR4J2s9QAAAAAAAQDxA4qyImuhvO0Duyi4YXM88QJvkR/yKL0BAAAAAAADAP0CqmEo/4dpAQDMa+bziq0FA+zvbozemQkALCRhd3thAQECDTZ1HIUJAI028AzxZQkB2acNhaUhCQCzVBbzMDENAjCyZY3mjQUBqFf2hmdlBQPhvXpz4ykFAey3ovTFCQUAQtAJDVqtDQH/DRIMULkRASBPvAE/2RUC5N79hon9FQIrMXODypkZAs/LLYIwARkC+MQQAx+hFQEIEHEKV5kZA0t9L4UEdR0CrzmqBPQpHQEgT7wBPVkdANGWnH9QBSECrzmqBPQpJQPsFu2HbtklAE2OZfomeR0B002achpxIQA1Uxr/P7kdA0/TZAddjR0As1QW8zAxJQNo5zQLtwkhAmYBfI0lSSEDnjZPCvPFHQNGUnX5QR0dAayqLwi7gRkCb5Ef8ik9HQLMo7KLor0pAi+HqAIjtSkAZcmw9Q25JQDawVYLFt0pAtD16w332SkDe/fFetTxLQP60UZ0OakpAsyjsougPTECR2y+frJZMQHYzox8NeUtAL6GCwwvISkB9eJYgI/hJQAJLrmLx1UtAnC/2XnwFTkANVMa/z+5RQGoV/aGZSVVAahX9oZlpVUCL4eoAiJ1VQJDbL5+sdlRABfpEniSJVUAAAAAAADBUQPOrOUAw8VJAkQvO4O8UVEB2M6MfDQlUQKRuZ195o1VAINJvXweVVUB7Lei9McJXQKzj+KHSAFlA7GzIPzPTV0ATY5l+iU5XQAAbECGux1VAscItH0mSVUBqFf2hmZlUQA05tp4h51RAnnqkwW0LU0CRC87g7zRSQF2mJsEbM1JAscItH0nSUkAg0m9fB5VSQOxRuB6Fa09Ab9kh/mEzUEBUHAdeLW9QQE4NNJ9zv05ApzgOvFqeT0Bk0AmhgzpOQNQq+kMzs05ALlbUYBoSUEBVTKWfcC1QQHUeFf938k5AfZOmQdEPUEA2sFWCxbdOQAb6RJ4kiU1ArOP4odLQTUDXo3A9CndOQGTQCaGDWk5A4C2QoPg6UEAm4UIeweRRQFpG6j2VZlFApIl3gCfLUUBj0Amhg5pQQO2cZoF2sVBATz3S4LY9UUD68CxBRkBRQL4xBADHyFJAq7NaYI+SUkDKarqe6L9SQINsWb4uAFRADoRkARPNU0Cs4/ih0gBUQC5W1GAaUlNA+dUcIJgIU0CJsUy/RE9TQEG5bd+jgFNAv0aSIFyPUkCxwi0fScJSQCf20D5Wy1JA/s9hvrzxUkBbW3heKr1SQM3K9iFvLFNAkPY/wFr+UkCeeqTBbZtWQJD2P8BaDldAavrsgOvRVkCrzmqBPbpWQJYFE38UzldAAAAAAACgWUBVTKWfcD1ZQAAAAAAAAFtAlgUTfxQeXUDsUbgehbtdQAAAAAAAwFxA176AXrhuW0Bq+uyA6/FbQFZntcAeVVtAQblt36MAXEC/RpIgXH9aQKvOaoE9Sl1A7FG4HoW7XUBWZ7XAHsVfQMydmWC4DmBAluoCXmamX0BVMZV+wuVeQGoV/aGZeV9AAAAAAADQXkAAAAAAADBfQDV9dsD1SGBAQblt36MYYEA1fXbA9UhgQBSTN8DMFGBAqphKP+HKX0CW6gJeZqZfQAAAAAAAsF9AAAAAAAAgX0DsbMg/M1NeQEG5bd+jcFpAVUyln3CtXECrs1pgj8JbQAAAAAAA4F1A0/TZAddDXkBVMZV+whVcQNP02QHXc11A7FG4HoVLXEBq+uyA64FaQGr67IDrAVtAQblt36NQWkBVTKWfcD1YQClBf6FHgVdAv0aSIFx/V0CrzmqBPTpYQKqYSj/helpAq85qgT0qW0CW6gJeZnZbQL9GkiBcb1dAlgUTfxQuV0BWZ7XAHtVXQGr67IDrsVhAq85qgT2qWEAtCyb+KLxaQADl795RyFlAqphKP+G6XEBVTKWfcC1cQNP02QHXg1xAAOXv3lFoXUCW6gJeZiZdQJYFE38UblxAlgUTfxT+XEAUrkfhevRcQKuzWmCPwl1AAAAAAAAAXkAUkzfAzHxeQN8Vwf/Wg2BAIM8u33pkYUAMPPcern9hQCDPLt96lGFAVme1wB71YUCqmEo/4ephQHY25J+ZoWFAQblt36PIYUAUkzfAzPRhQGr67IDrIWNA4DDRIIUzY0C/RpIgXJ9iQEG5bd+jyGFAQblt36MAYkAAAAAAALBiQAAAAAAAsGNAdjbkn5mBZEAh6j4AKdRjQAAAAAAAiGNAAAAAAACQZUBVTKWfcNVlQBSTN8DMRGVAy4KJPwrfZUDfFcH/1itlQMuCiT8Kh2VA\",\"dtype\":\"float64\",\"shape\":[219]},\"x\":{\"__ndarray__\":\"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\",\"dtype\":\"float64\",\"shape\":[219]}}},\"id\":\"c51406ff-24d6-4f43-b8fe-5c7c14317194\",\"type\":\"ColumnDataSource\"},{\"attributes\":{},\"id\":\"4a04bdb9-be8a-4cbc-b46c-37718519f633\",\"type\":\"ResetTool\"},{\"attributes\":{},\"id\":\"f5d2ee0c-0b0d-41fa-99b8-efd4b9caec10\",\"type\":\"LinearScale\"},{\"attributes\":{\"bottom\":{\"field\":\"bottom\"},\"fill_color\":{\"value\":\"blue\"},\"top\":{\"field\":\"top\"},\"width\":{\"value\":864000000},\"x\":{\"field\":\"x\"}},\"id\":\"3ee65cc8-a75f-4aa1-ab99-17907d970cbb\",\"type\":\"VBar\"},{\"attributes\":{\"bottom\":{\"field\":\"bottom\"},\"fill_alpha\":{\"value\":0.1},\"fill_color\":{\"value\":\"#1f77b4\"},\"line_alpha\":{\"value\":0.1},\"line_color\":{\"value\":\"#1f77b4\"},\"top\":{\"field\":\"top\"},\"width\":{\"value\":864000000},\"x\":{\"field\":\"x\"}},\"id\":\"6a8b1f62-6606-4ded-80b4-baf08519f07e\",\"type\":\"VBar\"},{\"attributes\":{\"data_source\":{\"id\":\"c51406ff-24d6-4f43-b8fe-5c7c14317194\",\"type\":\"ColumnDataSource\"},\"glyph\":{\"id\":\"3ee65cc8-a75f-4aa1-ab99-17907d970cbb\",\"type\":\"VBar\"},\"hover_glyph\":null,\"muted_glyph\":null,\"nonselection_glyph\":{\"id\":\"6a8b1f62-6606-4ded-80b4-baf08519f07e\",\"type\":\"VBar\"},\"selection_glyph\":null,\"view\":{\"id\":\"7dc674d6-22c5-411f-b153-d9dc796d275c\",\"type\":\"CDSView\"}},\"id\":\"d075aa7d-3b2e-4480-a66b-a975e4a13050\",\"type\":\"GlyphRenderer\"},{\"attributes\":{\"source\":{\"id\":\"c51406ff-24d6-4f43-b8fe-5c7c14317194\",\"type\":\"ColumnDataSource\"}},\"id\":\"7dc674d6-22c5-411f-b153-d9dc796d275c\",\"type\":\"CDSView\"},{\"attributes\":{\"line_alpha\":{\"value\":0.1},\"line_color\":{\"value\":\"#1f77b4\"},\"x0\":{\"field\":\"x0\"},\"x1\":{\"field\":\"x1\"},\"y0\":{\"field\":\"y0\"},\"y1\":{\"field\":\"y1\"}},\"id\":\"fd0c8dfe-94bc-4353-88f0-ed607d98e307\",\"type\":\"Segment\"},{\"attributes\":{\"x0\":{\"field\":\"x0\"},\"x1\":{\"field\":\"x1\"},\"y0\":{\"field\":\"y0\"},\"y1\":{\"field\":\"y1\"}},\"id\":\"6a6773ab-cbb6-4141-9229-3e739ebf5eee\",\"type\":\"Segment\"},{\"attributes\":{\"months\":[0,1,2,3,4,5,6,7,8,9,10,11]},\"id\":\"cb6c835d-20b8-4ee2-a8bd-2cc2a5ce9a41\",\"type\":\"MonthsTicker\"},{\"attributes\":{\"below\":[{\"id\":\"5be1e55a-4bd4-42e5-951b-d9620c3a74f8\",\"type\":\"DatetimeAxis\"}],\"left\":[{\"id\":\"942b19ca-bdd9-4cb9-9aa1-cbed24bb397c\",\"type\":\"LinearAxis\"}],\"plot_height\":500,\"plot_width\":800,\"renderers\":[{\"id\":\"5be1e55a-4bd4-42e5-951b-d9620c3a74f8\",\"type\":\"DatetimeAxis\"},{\"id\":\"036b35e9-5df2-4557-bb0b-821e1c08ce9a\",\"type\":\"Grid\"},{\"id\":\"942b19ca-bdd9-4cb9-9aa1-cbed24bb397c\",\"type\":\"LinearAxis\"},{\"id\":\"3f5edd9c-0748-4a09-9f59-da635abe98ff\",\"type\":\"Grid\"},{\"id\":\"1ae11f15-54bd-4e97-b32d-8968c2cb2eb6\",\"type\":\"BoxAnnotation\"},{\"id\":\"60f54526-d478-4366-b6c3-e217d9048a92\",\"type\":\"GlyphRenderer\"},{\"id\":\"656355d5-62e1-4d1b-ad8c-133a76e34bbf\",\"type\":\"GlyphRenderer\"},{\"id\":\"d075aa7d-3b2e-4480-a66b-a975e4a13050\",\"type\":\"GlyphRenderer\"}],\"title\":{\"id\":\"c8dc475e-256a-40d5-92fc-a6d70185cda0\",\"type\":\"Title\"},\"toolbar\":{\"id\":\"b40b7d99-71ba-44b2-afd3-1019b516104a\",\"type\":\"Toolbar\"},\"x_range\":{\"id\":\"8fa03a68-167e-4ed6-b417-cf379fc47542\",\"type\":\"DataRange1d\"},\"x_scale\":{\"id\":\"68064ef6-a5a8-4fe7-9745-79cad04d7540\",\"type\":\"LinearScale\"},\"y_range\":{\"id\":\"46dda08d-f461-4d3e-a738-fd7f1ee121be\",\"type\":\"DataRange1d\"},\"y_scale\":{\"id\":\"f5d2ee0c-0b0d-41fa-99b8-efd4b9caec10\",\"type\":\"LinearScale\"}},\"id\":\"5e80439e-047f-4eb2-8ccb-aaa6a04d5328\",\"subtype\":\"Figure\",\"type\":\"Plot\"},{\"attributes\":{\"days\":[1,15]},\"id\":\"f83074fb-12dc-4726-bf99-0a148371f668\",\"type\":\"DaysTicker\"},{\"attributes\":{\"source\":{\"id\":\"5694311e-00ba-49e9-954d-559e5ba26941\",\"type\":\"ColumnDataSource\"}},\"id\":\"8946e02a-05f7-4962-9903-efac680dd1cb\",\"type\":\"CDSView\"},{\"attributes\":{\"callback\":null,\"column_names\":[\"x0\",\"y0\",\"x1\",\"y1\"],\"data\":{\"x0\":{\"__ndarray__\":\"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\",\"dtype\":\"float64\",\"shape\":[416]},\"x1\":{\"__ndarray__\":\"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\",\"dtype\":\"float64\",\"shape\":[416]},\"y0\":{\"__ndarray__\":\"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\",\"dtype\":\"float64\",\"shape\":[416]},\"y1\":{\"__ndarray__\":\"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\",\"dtype\":\"float64\",\"shape\":[416]}}},\"id\":\"5694311e-00ba-49e9-954d-559e5ba26941\",\"type\":\"ColumnDataSource\"},{\"attributes\":{\"plot\":null,\"text\":\"\\u30a2\\u30c3\\u30d7\\u30eb\\u306e\\u682a\\u4fa1\"},\"id\":\"c8dc475e-256a-40d5-92fc-a6d70185cda0\",\"type\":\"Title\"},{\"attributes\":{\"active_drag\":\"auto\",\"active_inspect\":\"auto\",\"active_scroll\":\"auto\",\"active_tap\":\"auto\",\"tools\":[{\"id\":\"732be1af-0b4a-4f7e-8d84-44215d8189ef\",\"type\":\"HoverTool\"},{\"id\":\"affe54fd-5d46-4dd8-bc93-2fe694ed3bf8\",\"type\":\"PanTool\"},{\"id\":\"0da0ff72-a292-43a8-acfc-16a31efbf13e\",\"type\":\"WheelZoomTool\"},{\"id\":\"1738fec7-4095-4395-8ca6-d98ff80a45a5\",\"type\":\"BoxZoomTool\"},{\"id\":\"4a04bdb9-be8a-4cbc-b46c-37718519f633\",\"type\":\"ResetTool\"}]},\"id\":\"b40b7d99-71ba-44b2-afd3-1019b516104a\",\"type\":\"Toolbar\"},{\"attributes\":{\"base\":60,\"mantissas\":[1,2,5,10,15,20,30],\"max_interval\":1800000.0,\"min_interval\":1000.0,\"num_minor_ticks\":0},\"id\":\"7ebcca43-82c5-4674-8046-39d2cdda100d\",\"type\":\"AdaptiveTicker\"},{\"attributes\":{\"days\":[1,8,15,22]},\"id\":\"f80d9ba7-8705-46fc-8056-26a951dfc783\",\"type\":\"DaysTicker\"}],\"root_ids\":[\"5e80439e-047f-4eb2-8ccb-aaa6a04d5328\"]},\"title\":\"Bokeh Application\",\"version\":\"0.12.10\"}};\n",
       "    var render_items = [{\"docid\":\"abf24539-a88a-430b-816a-3b28d38df7f0\",\"elementid\":\"da287f1f-b073-41f2-85dc-0e813fd7d230\",\"modelid\":\"5e80439e-047f-4eb2-8ccb-aaa6a04d5328\"}];\n",
       "\n",
       "    root.Bokeh.embed.embed_items(docs_json, render_items);\n",
       "  }\n",
       "\n",
       "  if (root.Bokeh !== undefined) {\n",
       "    embed_document(root);\n",
       "  } else {\n",
       "    var attempts = 0;\n",
       "    var timer = setInterval(function(root) {\n",
       "      if (root.Bokeh !== undefined) {\n",
       "        embed_document(root);\n",
       "        clearInterval(timer);\n",
       "      }\n",
       "      attempts++;\n",
       "      if (attempts > 100) {\n",
       "        console.log(\"Bokeh: ERROR: Unable to embed document because BokehJS library is missing\")\n",
       "        clearInterval(timer);\n",
       "      }\n",
       "    }, 10, root)\n",
       "  }\n",
       "})(window);"
      ],
      "application/vnd.bokehjs_exec.v0+json": ""
     },
     "metadata": {
      "application/vnd.bokehjs_exec.v0+json": {
       "id": "5e80439e-047f-4eb2-8ccb-aaa6a04d5328"
      }
     },
     "output_type": "display_data"
    }
   ],
   "source": [
    "tools = \"hover, pan, wheel_zoom, box_zoom, reset\"\n",
    "\n",
    "p = figure(x_axis_type='datetime', width=800, height=500, tools = tools, title='アップルの株価')\n",
    "\n",
    "inc = apple_w['Close'] > apple_w['Open']\n",
    "dec = apple_w['Close'] < apple_w['Open']\n",
    "w = 24 * 60 * 60 * 10000\n",
    "\n",
    "p.segment(apple_w.index, apple_w['High'], apple_w.index, apple_w['Low'], color='black')\n",
    "p.vbar(apple_w.index[inc], w, apple_w['Close'][inc], apple_w['Open'][inc], fill_color='red', line_color='black')\n",
    "p.vbar(apple_w.index[dec], w, apple_w['Close'][dec], apple_w['Open'][dec], fill_color='blue', line_color='black')\n",
    "\n",
    "show(p)"
   ]
  },
  {
   "cell_type": "markdown",
   "metadata": {},
   "source": [
    "## 26週の移動平均線を足してみる"
   ]
  },
  {
   "cell_type": "code",
   "execution_count": 8,
   "metadata": {
    "collapsed": true
   },
   "outputs": [],
   "source": [
    "apple_w['26_w'] = apple_w['Close'].rolling(26).mean()"
   ]
  },
  {
   "cell_type": "code",
   "execution_count": 9,
   "metadata": {},
   "outputs": [
    {
     "data": {
      "text/html": [
       "\n",
       "<div class=\"bk-root\">\n",
       "    <div class=\"bk-plotdiv\" id=\"c6ae8c7a-8e54-4feb-a8c2-8719c689dbdd\"></div>\n",
       "</div>"
      ]
     },
     "metadata": {},
     "output_type": "display_data"
    },
    {
     "data": {
      "application/javascript": [
       "(function(root) {\n",
       "  function embed_document(root) {\n",
       "    var docs_json = {\"57c53208-b709-44ca-a52b-529935610eba\":{\"roots\":{\"references\":[{\"attributes\":{\"source\":{\"id\":\"d5bae91e-46cf-40b1-a78c-b542faf65ade\",\"type\":\"ColumnDataSource\"}},\"id\":\"8918c2fc-afc0-48a7-80df-615a81d65444\",\"type\":\"CDSView\"},{\"attributes\":{\"x0\":{\"field\":\"x0\"},\"x1\":{\"field\":\"x1\"},\"y0\":{\"field\":\"y0\"},\"y1\":{\"field\":\"y1\"}},\"id\":\"f920fc83-a596-4078-85f5-c41e41647327\",\"type\":\"Segment\"},{\"attributes\":{},\"id\":\"49c57ca7-51bc-4b14-85b7-81bdf55e2d22\",\"type\":\"DatetimeTickFormatter\"},{\"attributes\":{},\"id\":\"1a05c689-26db-4662-9c2e-8bcbbac217ae\",\"type\":\"BasicTickFormatter\"},{\"attributes\":{\"mantissas\":[1,2,5],\"max_interval\":500.0,\"num_minor_ticks\":0},\"id\":\"a87d82af-46f6-416d-a616-43dafcb472f3\",\"type\":\"AdaptiveTicker\"},{\"attributes\":{\"days\":[1,2,3,4,5,6,7,8,9,10,11,12,13,14,15,16,17,18,19,20,21,22,23,24,25,26,27,28,29,30,31]},\"id\":\"f9a2054c-1e35-4cdf-9b23-5dc83b0ef06e\",\"type\":\"DaysTicker\"},{\"attributes\":{\"base\":60,\"mantissas\":[1,2,5,10,15,20,30],\"max_interval\":1800000.0,\"min_interval\":1000.0,\"num_minor_ticks\":0},\"id\":\"bf7eb662-87d6-4ebb-bcbf-1265cf454db2\",\"type\":\"AdaptiveTicker\"},{\"attributes\":{\"base\":24,\"mantissas\":[1,2,4,6,8,12],\"max_interval\":43200000.0,\"min_interval\":3600000.0,\"num_minor_ticks\":0},\"id\":\"3ac67d52-7a40-4601-8ca8-48e2ddfe3ec8\",\"type\":\"AdaptiveTicker\"},{\"attributes\":{\"days\":[1,4,7,10,13,16,19,22,25,28]},\"id\":\"0cdc1859-e6a1-473b-b7b6-18c7f1d3b9cb\",\"type\":\"DaysTicker\"},{\"attributes\":{\"days\":[1,8,15,22]},\"id\":\"bf88fb1b-a3a7-4bee-a0a0-046fdc66da9d\",\"type\":\"DaysTicker\"},{\"attributes\":{\"days\":[1,15]},\"id\":\"27dd47e2-5b98-4e0f-8954-c14aad58a2aa\",\"type\":\"DaysTicker\"},{\"attributes\":{\"months\":[0,1,2,3,4,5,6,7,8,9,10,11]},\"id\":\"0b2dee14-5005-4593-8f38-0e3d853d0594\",\"type\":\"MonthsTicker\"},{\"attributes\":{\"months\":[0,2,4,6,8,10]},\"id\":\"025a5234-efcd-43d7-8bf1-9652a62b8abe\",\"type\":\"MonthsTicker\"},{\"attributes\":{\"months\":[0,4,8]},\"id\":\"eff5cc7e-9fd1-42d0-b465-795a9c097f70\",\"type\":\"MonthsTicker\"},{\"attributes\":{\"months\":[0,6]},\"id\":\"984cf8fe-5d86-41c0-92c0-5e80c369b998\",\"type\":\"MonthsTicker\"},{\"attributes\":{\"below\":[{\"id\":\"a4437d09-92de-4f69-98cf-4b8b5cd226b2\",\"type\":\"DatetimeAxis\"}],\"left\":[{\"id\":\"6743a804-cd6a-4866-9b54-c6f6669f21a7\",\"type\":\"LinearAxis\"}],\"plot_height\":500,\"plot_width\":800,\"renderers\":[{\"id\":\"a4437d09-92de-4f69-98cf-4b8b5cd226b2\",\"type\":\"DatetimeAxis\"},{\"id\":\"fa660af8-af5f-40bb-8a02-83b31fa5d122\",\"type\":\"Grid\"},{\"id\":\"6743a804-cd6a-4866-9b54-c6f6669f21a7\",\"type\":\"LinearAxis\"},{\"id\":\"233ef2e9-c357-49a4-927f-d044a5f13c61\",\"type\":\"Grid\"},{\"id\":\"aa2f29fa-6445-4748-994e-11dca45c9b12\",\"type\":\"BoxAnnotation\"},{\"id\":\"fa694165-9d8d-4fdd-8774-5b73cebfb07f\",\"type\":\"GlyphRenderer\"},{\"id\":\"b4e6ab50-eca4-4a30-b2c0-2deba41660b9\",\"type\":\"GlyphRenderer\"},{\"id\":\"d73722e1-aef7-4834-acb9-56ee8c377214\",\"type\":\"GlyphRenderer\"},{\"id\":\"18372c1a-f90b-4c89-8d18-75fd421cd30c\",\"type\":\"GlyphRenderer\"}],\"title\":{\"id\":\"cf35d5d9-1431-4f85-99d5-69903bbd4596\",\"type\":\"Title\"},\"toolbar\":{\"id\":\"3479d2f3-7a2e-4fa6-97cf-f4fe8efbf948\",\"type\":\"Toolbar\"},\"x_range\":{\"id\":\"bc2be62e-2b7d-4a5a-bc5f-f05b3bad1a2f\",\"type\":\"DataRange1d\"},\"x_scale\":{\"id\":\"b35ce672-5da9-41b8-bb14-f44c2e3f7754\",\"type\":\"LinearScale\"},\"y_range\":{\"id\":\"98a1c9b1-0166-41ef-9e6f-9fe211a9f7e2\",\"type\":\"DataRange1d\"},\"y_scale\":{\"id\":\"57d55911-6cde-4441-9b34-46f6cd3eb36b\",\"type\":\"LinearScale\"}},\"id\":\"aa7a5ba6-1911-40e0-9333-c3a97d366fc0\",\"subtype\":\"Figure\",\"type\":\"Plot\"},{\"attributes\":{},\"id\":\"f59d91f6-247f-45e3-b807-a1c4e972f1a6\",\"type\":\"YearsTicker\"},{\"attributes\":{\"callback\":null,\"column_names\":[\"x\",\"top\",\"bottom\"],\"data\":{\"bottom\":{\"__ndarray__\":\"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\",\"dtype\":\"float64\",\"shape\":[197]},\"top\":{\"__ndarray__\":\"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\",\"dtype\":\"float64\",\"shape\":[197]},\"x\":{\"__ndarray__\":\"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\",\"dtype\":\"float64\",\"shape\":[197]}}},\"id\":\"9df06aee-c3f9-49d0-a1bb-209709dd0a4f\",\"type\":\"ColumnDataSource\"},{\"attributes\":{\"bottom\":{\"field\":\"bottom\"},\"fill_color\":{\"value\":\"red\"},\"top\":{\"field\":\"top\"},\"width\":{\"value\":864000000},\"x\":{\"field\":\"x\"}},\"id\":\"c09966ef-23d2-4f8b-b004-1c0f057625e1\",\"type\":\"VBar\"},{\"attributes\":{\"bottom\":{\"field\":\"bottom\"},\"fill_alpha\":{\"value\":0.1},\"fill_color\":{\"value\":\"#1f77b4\"},\"line_alpha\":{\"value\":0.1},\"line_color\":{\"value\":\"#1f77b4\"},\"top\":{\"field\":\"top\"},\"width\":{\"value\":864000000},\"x\":{\"field\":\"x\"}},\"id\":\"a76f2bd3-311c-437c-ae86-dea0f3eec55f\",\"type\":\"VBar\"},{\"attributes\":{\"data_source\":{\"id\":\"9df06aee-c3f9-49d0-a1bb-209709dd0a4f\",\"type\":\"ColumnDataSource\"},\"glyph\":{\"id\":\"c09966ef-23d2-4f8b-b004-1c0f057625e1\",\"type\":\"VBar\"},\"hover_glyph\":null,\"muted_glyph\":null,\"nonselection_glyph\":{\"id\":\"a76f2bd3-311c-437c-ae86-dea0f3eec55f\",\"type\":\"VBar\"},\"selection_glyph\":null,\"view\":{\"id\":\"f94e6fc9-e35a-4a5d-9197-0f0859dd23bd\",\"type\":\"CDSView\"}},\"id\":\"b4e6ab50-eca4-4a30-b2c0-2deba41660b9\",\"type\":\"GlyphRenderer\"},{\"attributes\":{\"line_alpha\":{\"value\":0.1},\"line_color\":{\"value\":\"#1f77b4\"},\"x0\":{\"field\":\"x0\"},\"x1\":{\"field\":\"x1\"},\"y0\":{\"field\":\"y0\"},\"y1\":{\"field\":\"y1\"}},\"id\":\"baa7960c-063a-49aa-b82c-ce1b23f69bab\",\"type\":\"Segment\"},{\"attributes\":{\"source\":{\"id\":\"9df06aee-c3f9-49d0-a1bb-209709dd0a4f\",\"type\":\"ColumnDataSource\"}},\"id\":\"f94e6fc9-e35a-4a5d-9197-0f0859dd23bd\",\"type\":\"CDSView\"},{\"attributes\":{\"line_color\":{\"value\":\"pink\"},\"x\":{\"field\":\"x\"},\"y\":{\"field\":\"y\"}},\"id\":\"70f63a1a-42cf-4f2d-a8f8-2e8f5db25928\",\"type\":\"Line\"},{\"attributes\":{\"callback\":null,\"column_names\":[\"x\",\"top\",\"bottom\"],\"data\":{\"bottom\":{\"__ndarray__\":\"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\",\"dtype\":\"float64\",\"shape\":[219]},\"top\":{\"__ndarray__\":\"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\",\"dtype\":\"float64\",\"shape\":[219]},\"x\":{\"__ndarray__\":\"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\",\"dtype\":\"float64\",\"shape\":[219]}}},\"id\":\"6165ed0e-d9ff-4712-adfe-f0e439d4124e\",\"type\":\"ColumnDataSource\"},{\"attributes\":{},\"id\":\"b35ce672-5da9-41b8-bb14-f44c2e3f7754\",\"type\":\"LinearScale\"},{\"attributes\":{\"overlay\":{\"id\":\"aa2f29fa-6445-4748-994e-11dca45c9b12\",\"type\":\"BoxAnnotation\"}},\"id\":\"7cf86b58-3f88-4061-b23d-26e64d422346\",\"type\":\"BoxZoomTool\"},{\"attributes\":{\"bottom\":{\"field\":\"bottom\"},\"fill_color\":{\"value\":\"blue\"},\"top\":{\"field\":\"top\"},\"width\":{\"value\":864000000},\"x\":{\"field\":\"x\"}},\"id\":\"f7a77f4f-e668-4776-97d7-481e3c50a362\",\"type\":\"VBar\"},{\"attributes\":{\"bottom\":{\"field\":\"bottom\"},\"fill_alpha\":{\"value\":0.1},\"fill_color\":{\"value\":\"#1f77b4\"},\"line_alpha\":{\"value\":0.1},\"line_color\":{\"value\":\"#1f77b4\"},\"top\":{\"field\":\"top\"},\"width\":{\"value\":864000000},\"x\":{\"field\":\"x\"}},\"id\":\"9ab9fb30-0969-48b9-a0f1-9a2bb4bddedf\",\"type\":\"VBar\"},{\"attributes\":{\"data_source\":{\"id\":\"6165ed0e-d9ff-4712-adfe-f0e439d4124e\",\"type\":\"ColumnDataSource\"},\"glyph\":{\"id\":\"f7a77f4f-e668-4776-97d7-481e3c50a362\",\"type\":\"VBar\"},\"hover_glyph\":null,\"muted_glyph\":null,\"nonselection_glyph\":{\"id\":\"9ab9fb30-0969-48b9-a0f1-9a2bb4bddedf\",\"type\":\"VBar\"},\"selection_glyph\":null,\"view\":{\"id\":\"a1b44a80-1dbd-4dda-9e65-f9fe91df7286\",\"type\":\"CDSView\"}},\"id\":\"d73722e1-aef7-4834-acb9-56ee8c377214\",\"type\":\"GlyphRenderer\"},{\"attributes\":{},\"id\":\"c9b269e8-2b38-4e80-ba8a-6053fab0a70f\",\"type\":\"WheelZoomTool\"},{\"attributes\":{\"source\":{\"id\":\"6165ed0e-d9ff-4712-adfe-f0e439d4124e\",\"type\":\"ColumnDataSource\"}},\"id\":\"a1b44a80-1dbd-4dda-9e65-f9fe91df7286\",\"type\":\"CDSView\"},{\"attributes\":{\"callback\":null,\"column_names\":[\"x\",\"y\"],\"data\":{\"x\":{\"__ndarray__\":\"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\",\"dtype\":\"float64\",\"shape\":[416]},\"y\":{\"__ndarray__\":\"AAAAAAAA+H8AAAAAAAD4fwAAAAAAAPh/AAAAAAAA+H8AAAAAAAD4fwAAAAAAAPh/AAAAAAAA+H8AAAAAAAD4fwAAAAAAAPh/AAAAAAAA+H8AAAAAAAD4fwAAAAAAAPh/AAAAAAAA+H8AAAAAAAD4fwAAAAAAAPh/AAAAAAAA+H8AAAAAAAD4fwAAAAAAAPh/AAAAAAAA+H8AAAAAAAD4fwAAAAAAAPh/AAAAAAAA+H8AAAAAAAD4fwAAAAAAAPh/AAAAAAAA+H+HRzPQqoZAQG7zFzQioEBA8RCjfqPBQEAJL3sHkOBAQDBTQvZMDEFABMb6BiY6QUBUaz5FmmdBQNFJwQLeiUFAiwVtuJqrQUBaCgJZoMVBQHJx4LKh4UFAAiETHoX7QUDIsfUM4SBCQKV/JlkTTEJAmW2cZdBsQkC8ANgXlZFCQNcqe0DxwEJAx4dlELbaQkDF/QEExPZCQJjxcDDsL0NApkRYXwxWQ0CywbcBWYNDQPZv9Sg5rENAxhTPQnbXQ0DQ1io1ngZEQIyS7nNZJ0RA9pJd9V1PREDQ8dHijIREQCyKKUBaukRAKq4q+67/REDACllRpi5FQH4YuMgaZkVADuBQYeCiRUD5PAsfqO5FQMBn9iiiNUZAfFRaC5CARkCv7wnkwcdGQJkJ+i4OBkdAe4aTnfIsR0A/KYjSmFZHQPBkzr86gkdAbs8hwQ6fR0BswenpAKhHQFcrCDZoxkdAgPGYXvnoR0AXHScRvv1HQFHxohiUFEhAK2FtjJ0oSECO8uRUYDhIQGtt4XmpSkhAh/nE6WpOSEAm8dzkK05IQC57cAMbUEhART4Y7KleSEB0o2woQW9IQFHMzRTRekhAW9KMaKSpSECV32ky489IQE5Xmv314khAD+uCEiDxSEAx+4Lo+PRIQKTmCRDiDUlAzsXUrsMXSUCGTlsAsSlJQG7PFnnNWklAbIepluh/SUBwMJsAw5lJQHqgW7oxsklA9epMFa/0SUBAKX2KVxJKQOq3x4zlOEpASjTfTZReSkDwCZPXm31KQMHFOTCLmUpA2sIWJPGrSkDs5vr4ecxKQPlTtYwa/EpAC6k5BdYmS0BEZujN+VxLQCCgh7dliEtAqhxlrHy0S0ALHLhJF9tLQN7llnkU7ktAi6J7+QYWTEAWKySOjVJMQDqm+RJwpExAnJQOsy4LTUBfB/wy0mxNQLr7HB8t5U1AsbLOshxbTkBb39htRd1OQPdPztwgZE9A2sfE25v9T0D2lk/tmFtQQDpTOacHnFBAqCnUgl3bUEBUZepdAiFRQFZSs+QIW1FAxj8b/xCbUUCsar0CutFRQAeaOC2bF1JAaSQUCtdTUkCPTfIjfpVSQNLo4Ehm2VJAsqxvg0MYU0AJ6vJyNVdTQPGjD666l1NA8PMlJtfYU0AHwNYxixlUQEukV2wHSlRAFJmLp+SAVEDcTnOsAK5UQIK/PPtW4VRA5Y8A+toSVUB2+88DEz1VQGHdm0ikbFVARbp8gtCRVUBbuPJkZrZVQJHFK2EnzlVAGYRbss3UVUA8Ucxvad1VQEosBqZf6lVAFm/7qrnqVUBLF0psye5VQNH7i33g51VA2W25bu3mVUA/KLSJKupVQE4yISy18lVA37tB1yfiVUC0NZbTh8tVQI876yV1tVVAFscNnEqbVUDwokatjX9VQH/0noTHYVVA+vqgORo9VUABSk7VAwpVQEvnfREF0VRA5gFaC22dVEB/NglqVVtUQPKD0NijEFRAEVtXYxW+U0Anybkfn2ZTQHIDhOGLD1NAtECYcsq7UkDWbunp3WxSQH6RrcUzHFJAlXe9eufVUUCc8xjCyIhRQOnD+aYYR1FAovfGEIAaUUBP+7jlaflQQMrgvwU22FBA1Y1fvserUEAU4KNEHXxQQCLTQ6j1W1BAT8duTus/UECckLNHtBpQQMH/hMvk5U9A6yBGlNOYT0BKyIZA3VZPQLfQ5vIUIk9AK/2yzNwiT0Aud3HKIilPQOWkx3uyGk9AXoGt71o4T0A+zxPyqltPQGCFt3CUg09ATEoGXVmyT0C+cFt+ScFPQLa1J7wnxU9AthqGslnhT0DGSJjdtgVQQCEMGSbfG1BAhSwLJn5FUECRmzLxvGtQQHiLBvtehFBAEk8wkSOcUEDTw4pIZbxQQCY4Rmyl1lBAbCH2Wgr8UEDn6KvZmyVRQA4Nc8hYUVFAwGlAjwCBUUB0VYiNhLpRQAItrqv35VFA24CUtWQLUkDBfogNFjRSQJ6LBZAJWVJAhQhDzGtmUkCORLnuW31SQBQD6T8CjFJA/LwFe4eUUkCEEnEiQKJSQMKy0qSUrVJA4AaSDpvCUkCPWrLkn9lSQIr95Pqm7FJAJKUqJ8/9UkCvj4e+OwdTQFrLnZngDFNApeB6zgsdU0DUyArnjjZTQDkHTohoTVNAcW1K7ehmU0Bvy4CzFIhTQJYIghgio1NAguYKezfBU0DVOcsJ8d5TQKkHKHao/VNAoS3ymh0bVEC3ghrhVkRUQHlJENFRc1RA34DPD6OdVEBiTkTiB85UQHYyQ5KfClVAnqiluRU9VUD0C68k+W5VQCkLsEmsr1VAJ2TP5O3yVUCuSBH2BCxWQBxNLsbAbVZAQDuaGOOqVkBMvRDmGeZWQLS+GFZOIFdAx/nJaYlhV0CunBlmXJlXQNd75AQ+01dAhNufaLUMWEAEymsCI0tYQDmKIPEUklhAZEaDw9HYWEC/CQQM+h5ZQAfPsj8KV1lAR2r9lnSEWUCnf73l07dZQM7JlpQB7llA11eo76oTWkDAXkk4/zxaQHrUDMxzWVpA35qidCN/WkBlQWyY57JaQKvLqARz7lpA6yCXfhQ2W0B0S9k6cntbQHDhMwdZu1tAtcxQLVz/W0D3MiFyVzVcQBXiEHy7clxAi0Q48h2qXEDRouvlYOlcQApCSQ1KKl1A3E+LnvJsXUCpAABGoqpdQLStn/4z3l1AsWKIKAMMXkDy4/8a7S9eQOZDOKx7V15A6+cS62tzXkAnuLSDBZVeQEyP92Tzv15AJ/EVRm7kXkD5i8EJ1wNfQIBDbfj0LV9A2k9ozbJJX0CBYvtV3YNfQGUMz7Q4oF9AZ1fmimmqX0BMdFC3BKJfQBv9RWelhl9AT79njTVMX0BPa18d3iZfQLapRow1/F5AwKrutB7lXkA0iMlJecZeQBDQFMZzsV5Ae779Ra2MXkAcj2qSzWdeQFSC0CkORl5AStUwcXwqXkAEd319ORNeQHk6ha0TA15Abpq9PqLaXUAQl7MDC7pdQJ9l0P5Ym11AegEk66qDXUCuw0URO2FdQHA6sc2YLl1Ah6amUoQAXUAStxWqYcxcQDq64QOYi1xAlfJlUZ47XEBgva1dzgJcQLQTGODTx1tAZSdTkeeSW0B8k0gW01xbQPYmtP3lRFtA7OyqEpQcW0CyZyBQKw1bQAri9vnA71pAZ9go6zfdWkAv5cJT98ZaQEDVXJEBxlpAiwN0PH29WkCVyuZZj7paQBA200mTmVpAP5snhipaWkD3Vkf3ZxRaQAm6dwKy3llArg5d52ujWUCXeuhqcXhZQDeeid56RFlA9+OwKSghWUABcsKE0QZZQLyGpV7O4lhAUF6H073LWEBLLUNiDctYQIDVkSMdz1hACjoJ61HIWEAUO7ETO9lYQOq/k/Nc+lhApqz31UodWUCAqSt8FD5ZQEqORu3EVllAC6zuQGNiWUBXhv17h2RZQLqtc96uellApLQUJwOMWUClUzRti5NZQB7V6UDWoFlASXyQ2fyzWUBQ+Osg3s5ZQEXYtZoMAFpAajxirronWkDA0Au90FNaQPTZOjhYeFpA/k15LoGUWkDxyFht/rFaQO+2olk211pAe5+SuQQKW0C0PvDg7UJbQLJmb9j8c1tAkqadAz+oW0CLt6vuHdpbQIV0sWmlDlxAZe1AV1A6XEB+zMype29cQKSjD4tpqlxAGSAKZkzrXEDsE3mSdDRdQHHHGgBZg11AVp131/zbXUAWnJHNshleQBUp+/9yXl5A62eBAsypXkArr8Pp3vFeQO9RuB6FK19Ai35KLLVqX0BB4lesYbRfQN0O6rmRC2BA3TjucT1GYEAsJbPAKXtgQEo3CEWirmBAegidBbLmYEDo5Y0qzxFhQMU2tLAtMmFAfPBOYc5WYUAcPvSMg3lhQIgJL57YmWFA7sRO7MS+YUBdOIRNBuRhQBITSKzuBWJASIo8bIsnYkCMMx3GwUZiQDXCISaQYWJAp13A7h1+YkCfbs7Z/JtiQFqDsbP5s2JAbzH5lHTMYkAMCoMyTdpiQIjfKuYs52JAcu+mOOX1YkAzDU+MgwljQOwPfFK4GmNAccc90ZgyY0DCaNW5kU9jQG2srLNsZmNA1k9+XXV7Y0CuZoVov5VjQI9+NJzyqGNAECRABwvCY0BGDsuU5+ZjQA==\",\"dtype\":\"float64\",\"shape\":[416]}}},\"id\":\"eb859a5b-e8fa-4a6f-9974-324949459faa\",\"type\":\"ColumnDataSource\"},{\"attributes\":{},\"id\":\"d1d8482d-4c4c-4c38-80b3-0136602b07f0\",\"type\":\"PanTool\"},{\"attributes\":{},\"id\":\"d308a7e9-1bc8-45c5-b506-624a30d139a0\",\"type\":\"BasicTicker\"},{\"attributes\":{\"line_alpha\":{\"value\":0.1},\"line_color\":{\"value\":\"#1f77b4\"},\"x\":{\"field\":\"x\"},\"y\":{\"field\":\"y\"}},\"id\":\"69eb261b-5f4a-4ec6-88c2-cf83ea2e619f\",\"type\":\"Line\"},{\"attributes\":{\"data_source\":{\"id\":\"eb859a5b-e8fa-4a6f-9974-324949459faa\",\"type\":\"ColumnDataSource\"},\"glyph\":{\"id\":\"70f63a1a-42cf-4f2d-a8f8-2e8f5db25928\",\"type\":\"Line\"},\"hover_glyph\":null,\"muted_glyph\":null,\"nonselection_glyph\":{\"id\":\"69eb261b-5f4a-4ec6-88c2-cf83ea2e619f\",\"type\":\"Line\"},\"selection_glyph\":null,\"view\":{\"id\":\"1ef6aea0-00ac-4d55-8874-732bb17b8658\",\"type\":\"CDSView\"}},\"id\":\"18372c1a-f90b-4c89-8d18-75fd421cd30c\",\"type\":\"GlyphRenderer\"},{\"attributes\":{\"active_drag\":\"auto\",\"active_inspect\":\"auto\",\"active_scroll\":\"auto\",\"active_tap\":\"auto\",\"tools\":[{\"id\":\"82684953-74fd-47ed-a66c-a6ec21d37b47\",\"type\":\"HoverTool\"},{\"id\":\"d1d8482d-4c4c-4c38-80b3-0136602b07f0\",\"type\":\"PanTool\"},{\"id\":\"c9b269e8-2b38-4e80-ba8a-6053fab0a70f\",\"type\":\"WheelZoomTool\"},{\"id\":\"7cf86b58-3f88-4061-b23d-26e64d422346\",\"type\":\"BoxZoomTool\"},{\"id\":\"d09ee1aa-7ccb-4dc1-8426-8bd0b057e253\",\"type\":\"ResetTool\"}]},\"id\":\"3479d2f3-7a2e-4fa6-97cf-f4fe8efbf948\",\"type\":\"Toolbar\"},{\"attributes\":{\"source\":{\"id\":\"eb859a5b-e8fa-4a6f-9974-324949459faa\",\"type\":\"ColumnDataSource\"}},\"id\":\"1ef6aea0-00ac-4d55-8874-732bb17b8658\",\"type\":\"CDSView\"},{\"attributes\":{\"data_source\":{\"id\":\"d5bae91e-46cf-40b1-a78c-b542faf65ade\",\"type\":\"ColumnDataSource\"},\"glyph\":{\"id\":\"f920fc83-a596-4078-85f5-c41e41647327\",\"type\":\"Segment\"},\"hover_glyph\":null,\"muted_glyph\":null,\"nonselection_glyph\":{\"id\":\"baa7960c-063a-49aa-b82c-ce1b23f69bab\",\"type\":\"Segment\"},\"selection_glyph\":null,\"view\":{\"id\":\"8918c2fc-afc0-48a7-80df-615a81d65444\",\"type\":\"CDSView\"}},\"id\":\"fa694165-9d8d-4fdd-8774-5b73cebfb07f\",\"type\":\"GlyphRenderer\"},{\"attributes\":{\"plot\":null,\"text\":\"\\u30a2\\u30c3\\u30d7\\u30eb\\u306e\\u682a\\u4fa1\"},\"id\":\"cf35d5d9-1431-4f85-99d5-69903bbd4596\",\"type\":\"Title\"},{\"attributes\":{\"num_minor_ticks\":5,\"tickers\":[{\"id\":\"a87d82af-46f6-416d-a616-43dafcb472f3\",\"type\":\"AdaptiveTicker\"},{\"id\":\"bf7eb662-87d6-4ebb-bcbf-1265cf454db2\",\"type\":\"AdaptiveTicker\"},{\"id\":\"3ac67d52-7a40-4601-8ca8-48e2ddfe3ec8\",\"type\":\"AdaptiveTicker\"},{\"id\":\"f9a2054c-1e35-4cdf-9b23-5dc83b0ef06e\",\"type\":\"DaysTicker\"},{\"id\":\"0cdc1859-e6a1-473b-b7b6-18c7f1d3b9cb\",\"type\":\"DaysTicker\"},{\"id\":\"bf88fb1b-a3a7-4bee-a0a0-046fdc66da9d\",\"type\":\"DaysTicker\"},{\"id\":\"27dd47e2-5b98-4e0f-8954-c14aad58a2aa\",\"type\":\"DaysTicker\"},{\"id\":\"0b2dee14-5005-4593-8f38-0e3d853d0594\",\"type\":\"MonthsTicker\"},{\"id\":\"025a5234-efcd-43d7-8bf1-9652a62b8abe\",\"type\":\"MonthsTicker\"},{\"id\":\"eff5cc7e-9fd1-42d0-b465-795a9c097f70\",\"type\":\"MonthsTicker\"},{\"id\":\"984cf8fe-5d86-41c0-92c0-5e80c369b998\",\"type\":\"MonthsTicker\"},{\"id\":\"f59d91f6-247f-45e3-b807-a1c4e972f1a6\",\"type\":\"YearsTicker\"}]},\"id\":\"63fd61ec-d094-42d9-8518-32ff8f1b45a0\",\"type\":\"DatetimeTicker\"},{\"attributes\":{\"callback\":null},\"id\":\"82684953-74fd-47ed-a66c-a6ec21d37b47\",\"type\":\"HoverTool\"},{\"attributes\":{},\"id\":\"57d55911-6cde-4441-9b34-46f6cd3eb36b\",\"type\":\"LinearScale\"},{\"attributes\":{\"plot\":{\"id\":\"aa7a5ba6-1911-40e0-9333-c3a97d366fc0\",\"subtype\":\"Figure\",\"type\":\"Plot\"},\"ticker\":{\"id\":\"63fd61ec-d094-42d9-8518-32ff8f1b45a0\",\"type\":\"DatetimeTicker\"}},\"id\":\"fa660af8-af5f-40bb-8a02-83b31fa5d122\",\"type\":\"Grid\"},{\"attributes\":{\"callback\":null},\"id\":\"bc2be62e-2b7d-4a5a-bc5f-f05b3bad1a2f\",\"type\":\"DataRange1d\"},{\"attributes\":{\"callback\":null},\"id\":\"98a1c9b1-0166-41ef-9e6f-9fe211a9f7e2\",\"type\":\"DataRange1d\"},{\"attributes\":{},\"id\":\"d09ee1aa-7ccb-4dc1-8426-8bd0b057e253\",\"type\":\"ResetTool\"},{\"attributes\":{\"formatter\":{\"id\":\"49c57ca7-51bc-4b14-85b7-81bdf55e2d22\",\"type\":\"DatetimeTickFormatter\"},\"plot\":{\"id\":\"aa7a5ba6-1911-40e0-9333-c3a97d366fc0\",\"subtype\":\"Figure\",\"type\":\"Plot\"},\"ticker\":{\"id\":\"63fd61ec-d094-42d9-8518-32ff8f1b45a0\",\"type\":\"DatetimeTicker\"}},\"id\":\"a4437d09-92de-4f69-98cf-4b8b5cd226b2\",\"type\":\"DatetimeAxis\"},{\"attributes\":{\"formatter\":{\"id\":\"1a05c689-26db-4662-9c2e-8bcbbac217ae\",\"type\":\"BasicTickFormatter\"},\"plot\":{\"id\":\"aa7a5ba6-1911-40e0-9333-c3a97d366fc0\",\"subtype\":\"Figure\",\"type\":\"Plot\"},\"ticker\":{\"id\":\"d308a7e9-1bc8-45c5-b506-624a30d139a0\",\"type\":\"BasicTicker\"}},\"id\":\"6743a804-cd6a-4866-9b54-c6f6669f21a7\",\"type\":\"LinearAxis\"},{\"attributes\":{\"dimension\":1,\"plot\":{\"id\":\"aa7a5ba6-1911-40e0-9333-c3a97d366fc0\",\"subtype\":\"Figure\",\"type\":\"Plot\"},\"ticker\":{\"id\":\"d308a7e9-1bc8-45c5-b506-624a30d139a0\",\"type\":\"BasicTicker\"}},\"id\":\"233ef2e9-c357-49a4-927f-d044a5f13c61\",\"type\":\"Grid\"},{\"attributes\":{\"callback\":null,\"column_names\":[\"x0\",\"y0\",\"x1\",\"y1\"],\"data\":{\"x0\":{\"__ndarray__\":\"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\",\"dtype\":\"float64\",\"shape\":[416]},\"x1\":{\"__ndarray__\":\"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\",\"dtype\":\"float64\",\"shape\":[416]},\"y0\":{\"__ndarray__\":\"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\",\"dtype\":\"float64\",\"shape\":[416]},\"y1\":{\"__ndarray__\":\"FK5H4XoUPkAaqIx/n909QClcj8L1aD1ARn2SO2wqPEA2+wPlti07QGjKTj+oQztANvsD5bbtO0B7FK5H4bo8QM7+QLlt2zxAoahsWFOpPkAAAAAAACBAQD9uv3yymj9A1Cr6QzNTQEAAAAAAAKBAQNjuHqD7LEFANrBVgsV3QUCZgF8jSRJDQGKFWz6SpEJAnPnVHCAWQECZgF8jSdJBQJbqAl5mhkBAL2tiga8YQkBN1xNdFzBCQBC0AkNWq0FAdej0vBtjQ0B002achvxCQAdF8wAWX0FABcQkXMg5QkCoOA68Wr5BQBlybD1DTkJACJChYwc1QkCKzFzg8mZCQF3BNuLJykFABfpEniTJQUBv2SH+YdNAQGd/oNy2LUJAMxr5vOKrQkDlDMUdb4xDQPm6DP/pwERAL2tiga8YRED7Bbth27ZEQDy/KEF/x0VA+boM/+ngRUAZqIx/n31FQAAAAAAAoEZATdcTXRewRUCL4eoAiM1FQPmlft5UWkZAxEDXvoCYRkA0Zacf1MFGQLk3v2Gi30ZADmlU4GQVR0Bv2SH+YfNGQAiQoWMHtUdA+aV+3lSaSEDwS/28qVRHQLzmVZ3V0kdAcCTQYFOJSECPkIE8u0BJQELO+/8490hA+boM/+mgSEBnf6Dcto1JQGKFWz6SpEhAmYBfI0mSR0BMwoU8gslIQJ0v9l58hUhAY9AJoYPaR0A2sFWCxVdHQKlNnNzv5EhAdej0vBvDSEA/br98srpIQJvkR/yKT0hAf8NEgxTuR0Cl1CXjGOFHQNKpK5/lbUhAayqLwi5AR0AGD9O+uc9GQMRA176AOEdAB0XzABbfR0DKT6p9OihJQBhd3hyup0lAmIBfI0myS0Bof6Dctm1LQOT3Nv3Z5UlAWLJjIxC7SkBnf6Dctm1JQJg1scBXfEpAVBwHXi2PSkBMwoU8gslKQO7nFORnN0xAnORH/IqPTEAcCMkCJjpLQC9W1GAaUkpATMKFPIKpTUAG+kSeJOlLQGsqi8IuwExA2TnNAu2CTEBvJNBgUylLQIrMXODyxkpAG/M64pDzSUDunGaBdsFLQBlybD1D7ktA3v3xXrUcS0ApXI/C9YhMQC9W1GAa0kxA542TwrzxTUA7vyhBf+dNQJ56pMFt+01A4EigwaayT0BWZ7XAHkVQQC4gtB6+clFAzJpY4CveUUDMtWgB2oVSQINsWb4uYFNA08Q7wJNlU0BihVs+kqRUQGPQCaGDOlVAqphKP+FaVUBoyk4/qENWQIXSF0LOjVVAibFMv0RfVECxwi0fSXJVQImxTL9EL1RATvIjfsUnVEATfqmfN6ZSQLfRAN4C8lNAJuFCHsEEVECxwi0fSVJUQNGUnX5QV1RA2O4eoPuMVECxwi0fSYJUQC0LJv4ofFVATz3S4LZtVUCDonkAi49VQLHdPUD3aVRAByrj32fXVUAva2KBrxhWQLPyy2CM0FZAahX9oZlpV0AF+kSeJHlXQHUeFf93IlhAKUF/oUeRWEA0Spf+JfpYQAAAAAAA0FdAq7NaYI9CV0Ag0m9fB1VWQAdagSGrxVVAnnqkwW0bVUD7Bbth24ZUQAYP0765D1NAAAAAAAAQUkBO8iN+xRdUQL9GkiBcz1RATz3S4LbtUkDGi4Uhcg5SQHYzox8NOVJAB1qBIaslUkCKljyelsdSQHAk0GBTiVJAY9AJoYO6UUCYgF8jSRJPQOxsyD8zA1BABfpEniS5UEDY7h6g+2xQQJbqAl5m5k9AtD16w322TkA9CtejcJ1OQJ56pMFtO09A176AXrguUEAPtAJDVotPQBwIyQIm+k1A+zvbozemTkA0Zacf1IFLQAb6RJ4kKU1AY9AJoYMKUECQ2y+frBZQQG8k0GBTyU5AqYO8Hkx0T0BPPdLgtg1QQEzChTyC6U5AnnqkwW2bTkCW6gJeZiZNQN6yQ/zDxktA+G9enPiqTUCnOA68Wj5OQJzkR/yKT05A+zvbozcGT0BUHAdeLU9QQGjKTj+oM1BAcT/ggQHRUUCdL/ZefNVRQAAAAAAAYFFAg6J5AIt/UUAva2KBr5hQQGKFWz6SpFBApIl3gCcrUUBO8iN+xRdRQJ5flKC/U1FAuTe/YaIPUkBxP+CBAcFSQGKga19AbFJAE2OZfolOUkAn9tA+VrtSQFx2iH/YhFJAs/LLYIyQU0CeRIR/EfxTQIS3ByEgxlNAi/z6ITZ1U0CeeqTBbftTQA6EZAETTVNAg4dp39z3UkCyDdyBOkhTQGKFWz6SdFNAfV2G/3SgUUD5pX7eVHpSQBu9GqA0VFNAmDWxwFe8UkAHWoEhq6VSQGoV/aGZyVJATz3S4LatUkAtCyb+KMxSQGKFWz6SFFNAKBHhXwTzUkB9eJYgI3hSQOAtkKD4ilJAG70aoDQkVEC5N79hog9VQHxI+N7fuVRAsg3cgTroVEDzxklh3qhVQBmNfF7xdVZAqYO8HkwEV0AA5e/eUbhWQGoV/aGZuVZAKUF/oUexVkAUkzfAzExXQL9hokEKt1dAKUF/oUdBV0BBnl2+9ShYQNP02QHXs1dAavrsgOtRV0C/YaJBCjdYQC0LJv4oDFlAFJM3wMyMWUDT9NkB15NYQFZntcAeRVlAAAAAAAAgWUBqFf2hmZlYQKuzWmCPwlhA7GzIPzMTWUDT9NkB1zNYQGr67IDrIVpAVUyln3DNWkDsbMg/MyNbQFVMpZ9wzVtAavrsgOsBXUDsbMg/M4NdQEGeXb71qFxAVme1wB5lW0CrzmqBPepbQEG5bd+jAFxAluoCXmbWWkBVTKWfcI1bQBSTN8DMTFpAavrsgOvhW0CW6gJeZjZdQBSTN8DMnF1AahX9oZlpX0B2NuSfmQFgQAw89x6uB2BAQblt36OQX0BWZ7XAHqVeQKvOaoE9Sl9Aq85qgT26XkAtCyb+KAxfQEG5bd+jUF9AVUyln3AdX0C/RpIgXCdgQOxsyD8zU19Av2GiQQqHX0DMnZlguAZgQBSTN8DMbGBAFJM3wMw8YEDgMNEghQtgQL9hokEKx19AahX9oZmZX0BBuW3fo6BfQClBf6FHcV9AVUyln3BNXkBq+uyA6wlgQGoV/aGZ+V5Aq85qgT06XkAAAAAAAKBcQEG5bd+jgFxAahX9oZlpWkCrs1pgj+JbQEG5bd+jIFtAQblt36PwW0AAGxAhrvdbQClBf6FHgVxA7GzIPzPjWkC/RpIgXF9bQGr67IDroVtAVme1wB4VXUAUkzfAzNxdQAAbECGuJ15AKUF/oUcRXECW6gJeZrZdQJbqAl5mZl1Av2GiQQrHXECW6gJeZjZcQNP02QHXc1pAFJM3wMz8WkAUrkfhejRaQEG5bd+jMFhAv2GiQQrXV0AAGxAhrpdYQJbqAl5mlldALQsm/ihsV0BBuW3fo0BXQOxsyD8z81dAVme1wB4lWEAAGxAhrldZQAAAAAAAYFlALQsm/ihMWkBBnl2+9ThaQBSTN8DMDFtAqphKP+EKW0DXvoBeuG5bQAAbECGuJ1pAQblt36MgV0CW6gJeZvZWQAAAAAAAgFZAKUF/oUehV0AAAAAAANBYQBSTN8DMXFhA176AXrieWEDsbMg/M9NXQGoV/aGZKVdAVme1wB7VV0DsbMg/MwNYQAAAAAAAoFhA0/TZAdeTWEDsUbgehetZQOxRuB6Fi1pAavrsgOvxWkC/YaJBChdbQNP02QHXk1pAFK5H4Xq0WkAA5e/eUchZQKuzWmCPglxA7GzIPzPjW0DsbMg/M/NbQEG5bd+jYFxAAOXv3lFIXUBq+uyA6xFdQBSTN8DMXFxAv2GiQQoHW0DsbMg/M6NaQKvOaoE9altAFJM3wMy8W0CW6gJeZjZbQNP02QHXE1xAahX9oZnpXEBVMZV+wuVcQOxRuB6F21xAlgUTfxQeXUDT9NkB17NdQNe+gF647l1AluoCXmZmXkBWZ7XAHgVgQHY25J+ZgWBA7GzIPzPjYEA1fXbA9ehgQKqYSj/hUmFAIM8u33pUYUAgzy7fenxhQOxsyD8zi2FA9MMI4VHgYUBBuW3fo+hhQHY25J+ZoWFA7GzIPzO7YUBBuW3fo+hhQPTDCOFRWGJAVUyln3BVY0Ah6j4AKRRjQGr67IDrKWNAIM8u33ocY0BBuW3fo0BiQIrJG2BmxmFA4DDRIIUjYkA1fXbA9fhhQBSTN8DM3GFAq7NaYI9qYkAh6j4AKZxiQJYFE38UpmJAlgUTfxR2Y0C371F/PYJjQMuCiT8Kl2NAQblt36PoY0Ah6j4AKXRkQDV9dsD10GNAAAAAAADAY0Bq+uyA69FiQAAAAAAAAGNAavrsgOtRY0BWZ7XAHo1jQMydmWC4fmNAiskbYGbWY0DfFcH/1mNlQEG5bd+jyGVAIM8u33o0ZUAUkzfAzNRlQAAAAAAAEGVAt+9Rfz0aZUAUkzfAzHRlQA==\",\"dtype\":\"float64\",\"shape\":[416]}}},\"id\":\"d5bae91e-46cf-40b1-a78c-b542faf65ade\",\"type\":\"ColumnDataSource\"},{\"attributes\":{\"bottom_units\":\"screen\",\"fill_alpha\":{\"value\":0.5},\"fill_color\":{\"value\":\"lightgrey\"},\"left_units\":\"screen\",\"level\":\"overlay\",\"line_alpha\":{\"value\":1.0},\"line_color\":{\"value\":\"black\"},\"line_dash\":[4,4],\"line_width\":{\"value\":2},\"plot\":null,\"render_mode\":\"css\",\"right_units\":\"screen\",\"top_units\":\"screen\"},\"id\":\"aa2f29fa-6445-4748-994e-11dca45c9b12\",\"type\":\"BoxAnnotation\"}],\"root_ids\":[\"aa7a5ba6-1911-40e0-9333-c3a97d366fc0\"]},\"title\":\"Bokeh Application\",\"version\":\"0.12.10\"}};\n",
       "    var render_items = [{\"docid\":\"57c53208-b709-44ca-a52b-529935610eba\",\"elementid\":\"c6ae8c7a-8e54-4feb-a8c2-8719c689dbdd\",\"modelid\":\"aa7a5ba6-1911-40e0-9333-c3a97d366fc0\"}];\n",
       "\n",
       "    root.Bokeh.embed.embed_items(docs_json, render_items);\n",
       "  }\n",
       "\n",
       "  if (root.Bokeh !== undefined) {\n",
       "    embed_document(root);\n",
       "  } else {\n",
       "    var attempts = 0;\n",
       "    var timer = setInterval(function(root) {\n",
       "      if (root.Bokeh !== undefined) {\n",
       "        embed_document(root);\n",
       "        clearInterval(timer);\n",
       "      }\n",
       "      attempts++;\n",
       "      if (attempts > 100) {\n",
       "        console.log(\"Bokeh: ERROR: Unable to embed document because BokehJS library is missing\")\n",
       "        clearInterval(timer);\n",
       "      }\n",
       "    }, 10, root)\n",
       "  }\n",
       "})(window);"
      ],
      "application/vnd.bokehjs_exec.v0+json": ""
     },
     "metadata": {
      "application/vnd.bokehjs_exec.v0+json": {
       "id": "aa7a5ba6-1911-40e0-9333-c3a97d366fc0"
      }
     },
     "output_type": "display_data"
    }
   ],
   "source": [
    "tools = \"hover, pan, wheel_zoom, box_zoom, reset\"\n",
    "\n",
    "p = figure(x_axis_type='datetime', width=800, height=500, tools = tools, title='アップルの株価')\n",
    "\n",
    "inc = apple_w['Close'] > apple_w['Open']\n",
    "dec = apple_w['Close'] < apple_w['Open']\n",
    "w = 24 * 60 * 60 * 10000\n",
    "\n",
    "p.segment(apple_w.index, apple_w['High'], apple_w.index, apple_w['Low'], color='black')\n",
    "p.vbar(apple_w.index[inc], w, apple_w['Close'][inc], apple_w['Open'][inc], fill_color='red', line_color='black')\n",
    "p.vbar(apple_w.index[dec], w, apple_w['Close'][dec], apple_w['Open'][dec], fill_color='blue', line_color='black')\n",
    "\n",
    "p.line(apple_w.index, apple_w['26_w'], line_color='pink')\n",
    "\n",
    "show(p)"
   ]
  },
  {
   "cell_type": "code",
   "execution_count": 10,
   "metadata": {
    "collapsed": true
   },
   "outputs": [],
   "source": [
    "apple_w['chg'] = apple_w['Close'].pct_change()"
   ]
  },
  {
   "cell_type": "code",
   "execution_count": 11,
   "metadata": {},
   "outputs": [
    {
     "data": {
      "text/html": [
       "<div>\n",
       "<style>\n",
       "    .dataframe thead tr:only-child th {\n",
       "        text-align: right;\n",
       "    }\n",
       "\n",
       "    .dataframe thead th {\n",
       "        text-align: left;\n",
       "    }\n",
       "\n",
       "    .dataframe tbody tr th {\n",
       "        vertical-align: top;\n",
       "    }\n",
       "</style>\n",
       "<table border=\"1\" class=\"dataframe\">\n",
       "  <thead>\n",
       "    <tr style=\"text-align: right;\">\n",
       "      <th></th>\n",
       "      <th>Open</th>\n",
       "      <th>High</th>\n",
       "      <th>Low</th>\n",
       "      <th>Close</th>\n",
       "      <th>Adj Close</th>\n",
       "      <th>Volume</th>\n",
       "      <th>26_w</th>\n",
       "      <th>chg</th>\n",
       "    </tr>\n",
       "    <tr>\n",
       "      <th>Date</th>\n",
       "      <th></th>\n",
       "      <th></th>\n",
       "      <th></th>\n",
       "      <th></th>\n",
       "      <th></th>\n",
       "      <th></th>\n",
       "      <th></th>\n",
       "      <th></th>\n",
       "    </tr>\n",
       "  </thead>\n",
       "  <tbody>\n",
       "    <tr>\n",
       "      <th>2010-01-03</th>\n",
       "      <td>30.447144</td>\n",
       "      <td>30.478571</td>\n",
       "      <td>30.080000</td>\n",
       "      <td>30.104286</td>\n",
       "      <td>26.986492</td>\n",
       "      <td>88102700</td>\n",
       "      <td>NaN</td>\n",
       "      <td>NaN</td>\n",
       "    </tr>\n",
       "    <tr>\n",
       "      <th>2010-01-10</th>\n",
       "      <td>30.042856</td>\n",
       "      <td>30.285715</td>\n",
       "      <td>29.865715</td>\n",
       "      <td>30.282858</td>\n",
       "      <td>27.146566</td>\n",
       "      <td>111902700</td>\n",
       "      <td>NaN</td>\n",
       "      <td>0.005932</td>\n",
       "    </tr>\n",
       "    <tr>\n",
       "      <th>2010-01-17</th>\n",
       "      <td>30.132856</td>\n",
       "      <td>30.228571</td>\n",
       "      <td>29.410000</td>\n",
       "      <td>29.418571</td>\n",
       "      <td>26.371792</td>\n",
       "      <td>148516900</td>\n",
       "      <td>NaN</td>\n",
       "      <td>-0.028540</td>\n",
       "    </tr>\n",
       "    <tr>\n",
       "      <th>2010-01-24</th>\n",
       "      <td>29.540001</td>\n",
       "      <td>29.642857</td>\n",
       "      <td>28.165714</td>\n",
       "      <td>28.250000</td>\n",
       "      <td>25.324244</td>\n",
       "      <td>220441900</td>\n",
       "      <td>NaN</td>\n",
       "      <td>-0.039722</td>\n",
       "    </tr>\n",
       "    <tr>\n",
       "      <th>2010-01-31</th>\n",
       "      <td>28.725714</td>\n",
       "      <td>28.885714</td>\n",
       "      <td>27.178572</td>\n",
       "      <td>27.437143</td>\n",
       "      <td>24.595573</td>\n",
       "      <td>311488100</td>\n",
       "      <td>NaN</td>\n",
       "      <td>-0.028774</td>\n",
       "    </tr>\n",
       "  </tbody>\n",
       "</table>\n",
       "</div>"
      ],
      "text/plain": [
       "                 Open       High        Low      Close  Adj Close     Volume  \\\n",
       "Date                                                                           \n",
       "2010-01-03  30.447144  30.478571  30.080000  30.104286  26.986492   88102700   \n",
       "2010-01-10  30.042856  30.285715  29.865715  30.282858  27.146566  111902700   \n",
       "2010-01-17  30.132856  30.228571  29.410000  29.418571  26.371792  148516900   \n",
       "2010-01-24  29.540001  29.642857  28.165714  28.250000  25.324244  220441900   \n",
       "2010-01-31  28.725714  28.885714  27.178572  27.437143  24.595573  311488100   \n",
       "\n",
       "            26_w       chg  \n",
       "Date                        \n",
       "2010-01-03   NaN       NaN  \n",
       "2010-01-10   NaN  0.005932  \n",
       "2010-01-17   NaN -0.028540  \n",
       "2010-01-24   NaN -0.039722  \n",
       "2010-01-31   NaN -0.028774  "
      ]
     },
     "execution_count": 11,
     "metadata": {},
     "output_type": "execute_result"
    }
   ],
   "source": [
    "apple_w.head()"
   ]
  },
  {
   "cell_type": "code",
   "execution_count": 12,
   "metadata": {},
   "outputs": [
    {
     "data": {
      "text/plain": [
       "Timedelta('2905 days 00:00:00')"
      ]
     },
     "execution_count": 12,
     "metadata": {},
     "output_type": "execute_result"
    }
   ],
   "source": [
    "apple.index[-1] - apple.index[0]"
   ]
  },
  {
   "cell_type": "code",
   "execution_count": 13,
   "metadata": {
    "collapsed": true
   },
   "outputs": [],
   "source": [
    "ap_dt = apple_w.index[-1] - apple_w.index[0]"
   ]
  },
  {
   "cell_type": "code",
   "execution_count": 14,
   "metadata": {
    "collapsed": true
   },
   "outputs": [],
   "source": [
    "year = timedelta(days = 365) # 1年の日数"
   ]
  },
  {
   "cell_type": "code",
   "execution_count": 15,
   "metadata": {},
   "outputs": [
    {
     "data": {
      "text/plain": [
       "7.958904109589041"
      ]
     },
     "execution_count": 15,
     "metadata": {},
     "output_type": "execute_result"
    }
   ],
   "source": [
    "ap_dt / year"
   ]
  },
  {
   "cell_type": "code",
   "execution_count": 16,
   "metadata": {
    "collapsed": true
   },
   "outputs": [],
   "source": [
    "ap_yr = ap_dt / year  # データを読み込んだ期間を年で出す"
   ]
  },
  {
   "cell_type": "code",
   "execution_count": 17,
   "metadata": {
    "collapsed": true
   },
   "outputs": [],
   "source": [
    "rets = (1 + ((apple_w.iloc[-1, 4] - apple_w.iloc[0, 4])/ apple_w.iloc[0, 4])) **(1 / ap_yr) - 1 # アップル株の年率リターン"
   ]
  },
  {
   "cell_type": "code",
   "execution_count": 18,
   "metadata": {},
   "outputs": [
    {
     "data": {
      "text/plain": [
       "0.26222472172825828"
      ]
     },
     "execution_count": 18,
     "metadata": {},
     "output_type": "execute_result"
    }
   ],
   "source": [
    "rets "
   ]
  },
  {
   "cell_type": "code",
   "execution_count": 19,
   "metadata": {},
   "outputs": [
    {
     "data": {
      "text/plain": [
       "5.381711302084021"
      ]
     },
     "execution_count": 19,
     "metadata": {},
     "output_type": "execute_result"
    }
   ],
   "source": [
    "(apple_w.iloc[-1, 4] - apple_w.iloc[0, 4]) / apple_w.iloc[0, 4]"
   ]
  },
  {
   "cell_type": "code",
   "execution_count": 20,
   "metadata": {
    "collapsed": true
   },
   "outputs": [],
   "source": [
    "vol = apple_w['chg'].std() * np.sqrt(52) # 年率の標準偏差を求める"
   ]
  },
  {
   "cell_type": "code",
   "execution_count": 21,
   "metadata": {},
   "outputs": [
    {
     "data": {
      "text/plain": [
       "0.26875208992577648"
      ]
     },
     "execution_count": 21,
     "metadata": {},
     "output_type": "execute_result"
    }
   ],
   "source": [
    "vol"
   ]
  },
  {
   "cell_type": "code",
   "execution_count": 22,
   "metadata": {
    "collapsed": true
   },
   "outputs": [],
   "source": [
    "rol_vol = apple_w['chg'].rolling(52).std() * np.sqrt(52)"
   ]
  },
  {
   "cell_type": "code",
   "execution_count": 23,
   "metadata": {},
   "outputs": [
    {
     "data": {
      "text/plain": [
       "<matplotlib.axes._subplots.AxesSubplot at 0x117a53f28>"
      ]
     },
     "execution_count": 23,
     "metadata": {},
     "output_type": "execute_result"
    },
    {
     "data": {
      "image/png": "[encoded data removed]",
      "text/plain": [
       "<matplotlib.figure.Figure at 0x116bdadd8>"
      ]
     },
     "metadata": {},
     "output_type": "display_data"
    }
   ],
   "source": [
    "rol_vol.plot(title='AAPL std')"
   ]
  },
  {
   "cell_type": "markdown",
   "metadata": {},
   "source": [
    "## 資産間のcorrelationを求める\n",
    "* アップルと日経平均株価で求めてみる"
   ]
  },
  {
   "cell_type": "code",
   "execution_count": 24,
   "metadata": {
    "collapsed": true
   },
   "outputs": [],
   "source": [
    "nky = pdr.get_data_yahoo('^N225')"
   ]
  },
  {
   "cell_type": "code",
   "execution_count": 25,
   "metadata": {
    "scrolled": true
   },
   "outputs": [
    {
     "data": {
      "text/html": [
       "<div>\n",
       "<style>\n",
       "    .dataframe thead tr:only-child th {\n",
       "        text-align: right;\n",
       "    }\n",
       "\n",
       "    .dataframe thead th {\n",
       "        text-align: left;\n",
       "    }\n",
       "\n",
       "    .dataframe tbody tr th {\n",
       "        vertical-align: top;\n",
       "    }\n",
       "</style>\n",
       "<table border=\"1\" class=\"dataframe\">\n",
       "  <thead>\n",
       "    <tr style=\"text-align: right;\">\n",
       "      <th></th>\n",
       "      <th>Open</th>\n",
       "      <th>High</th>\n",
       "      <th>Low</th>\n",
       "      <th>Close</th>\n",
       "      <th>Adj Close</th>\n",
       "      <th>Volume</th>\n",
       "    </tr>\n",
       "    <tr>\n",
       "      <th>Date</th>\n",
       "      <th></th>\n",
       "      <th></th>\n",
       "      <th></th>\n",
       "      <th></th>\n",
       "      <th></th>\n",
       "      <th></th>\n",
       "    </tr>\n",
       "  </thead>\n",
       "  <tbody>\n",
       "    <tr>\n",
       "      <th>2010-01-04</th>\n",
       "      <td>10609.339844</td>\n",
       "      <td>10694.490234</td>\n",
       "      <td>10608.139648</td>\n",
       "      <td>10654.790039</td>\n",
       "      <td>10654.790039</td>\n",
       "      <td>104400.0</td>\n",
       "    </tr>\n",
       "    <tr>\n",
       "      <th>2010-01-05</th>\n",
       "      <td>10719.440430</td>\n",
       "      <td>10791.040039</td>\n",
       "      <td>10655.570313</td>\n",
       "      <td>10681.830078</td>\n",
       "      <td>10681.830078</td>\n",
       "      <td>166200.0</td>\n",
       "    </tr>\n",
       "    <tr>\n",
       "      <th>2010-01-06</th>\n",
       "      <td>10709.549805</td>\n",
       "      <td>10768.610352</td>\n",
       "      <td>10661.169922</td>\n",
       "      <td>10731.450195</td>\n",
       "      <td>10731.450195</td>\n",
       "      <td>181800.0</td>\n",
       "    </tr>\n",
       "    <tr>\n",
       "      <th>2010-01-07</th>\n",
       "      <td>10742.750000</td>\n",
       "      <td>10774.000000</td>\n",
       "      <td>10636.669922</td>\n",
       "      <td>10681.660156</td>\n",
       "      <td>10681.660156</td>\n",
       "      <td>182600.0</td>\n",
       "    </tr>\n",
       "    <tr>\n",
       "      <th>2010-01-08</th>\n",
       "      <td>10743.299805</td>\n",
       "      <td>10816.450195</td>\n",
       "      <td>10677.559570</td>\n",
       "      <td>10798.320313</td>\n",
       "      <td>10798.320313</td>\n",
       "      <td>211800.0</td>\n",
       "    </tr>\n",
       "  </tbody>\n",
       "</table>\n",
       "</div>"
      ],
      "text/plain": [
       "                    Open          High           Low         Close  \\\n",
       "Date                                                                 \n",
       "2010-01-04  10609.339844  10694.490234  10608.139648  10654.790039   \n",
       "2010-01-05  10719.440430  10791.040039  10655.570313  10681.830078   \n",
       "2010-01-06  10709.549805  10768.610352  10661.169922  10731.450195   \n",
       "2010-01-07  10742.750000  10774.000000  10636.669922  10681.660156   \n",
       "2010-01-08  10743.299805  10816.450195  10677.559570  10798.320313   \n",
       "\n",
       "               Adj Close    Volume  \n",
       "Date                                \n",
       "2010-01-04  10654.790039  104400.0  \n",
       "2010-01-05  10681.830078  166200.0  \n",
       "2010-01-06  10731.450195  181800.0  \n",
       "2010-01-07  10681.660156  182600.0  \n",
       "2010-01-08  10798.320313  211800.0  "
      ]
     },
     "execution_count": 25,
     "metadata": {},
     "output_type": "execute_result"
    }
   ],
   "source": [
    "nky.head()"
   ]
  },
  {
   "cell_type": "code",
   "execution_count": 26,
   "metadata": {
    "collapsed": true
   },
   "outputs": [],
   "source": [
    "nky_w = nky.resample('W').last()\n",
    "nky_w['chg'] = nky_w['Adj Close'].pct_change()\n",
    "change = pd.concat([apple_w['chg'], nky_w['chg']], axis=1) # concatはデータフレーム同士を結合したりする時に使う"
   ]
  },
  {
   "cell_type": "code",
   "execution_count": 27,
   "metadata": {
    "scrolled": true
   },
   "outputs": [
    {
     "data": {
      "text/html": [
       "<div>\n",
       "<style>\n",
       "    .dataframe thead tr:only-child th {\n",
       "        text-align: right;\n",
       "    }\n",
       "\n",
       "    .dataframe thead th {\n",
       "        text-align: left;\n",
       "    }\n",
       "\n",
       "    .dataframe tbody tr th {\n",
       "        vertical-align: top;\n",
       "    }\n",
       "</style>\n",
       "<table border=\"1\" class=\"dataframe\">\n",
       "  <thead>\n",
       "    <tr style=\"text-align: right;\">\n",
       "      <th></th>\n",
       "      <th>chg</th>\n",
       "      <th>chg</th>\n",
       "    </tr>\n",
       "    <tr>\n",
       "      <th>Date</th>\n",
       "      <th></th>\n",
       "      <th></th>\n",
       "    </tr>\n",
       "  </thead>\n",
       "  <tbody>\n",
       "    <tr>\n",
       "      <th>2017-11-19</th>\n",
       "      <td>-0.025877</td>\n",
       "      <td>-0.012549</td>\n",
       "    </tr>\n",
       "    <tr>\n",
       "      <th>2017-11-26</th>\n",
       "      <td>0.028328</td>\n",
       "      <td>0.006878</td>\n",
       "    </tr>\n",
       "    <tr>\n",
       "      <th>2017-12-03</th>\n",
       "      <td>-0.022404</td>\n",
       "      <td>0.011892</td>\n",
       "    </tr>\n",
       "    <tr>\n",
       "      <th>2017-12-10</th>\n",
       "      <td>-0.009822</td>\n",
       "      <td>-0.000348</td>\n",
       "    </tr>\n",
       "    <tr>\n",
       "      <th>2017-12-17</th>\n",
       "      <td>0.016827</td>\n",
       "      <td>-0.005113</td>\n",
       "    </tr>\n",
       "  </tbody>\n",
       "</table>\n",
       "</div>"
      ],
      "text/plain": [
       "                 chg       chg\n",
       "Date                          \n",
       "2017-11-19 -0.025877 -0.012549\n",
       "2017-11-26  0.028328  0.006878\n",
       "2017-12-03 -0.022404  0.011892\n",
       "2017-12-10 -0.009822 -0.000348\n",
       "2017-12-17  0.016827 -0.005113"
      ]
     },
     "execution_count": 27,
     "metadata": {},
     "output_type": "execute_result"
    }
   ],
   "source": [
    "change.tail()"
   ]
  },
  {
   "cell_type": "code",
   "execution_count": 28,
   "metadata": {
    "collapsed": true
   },
   "outputs": [],
   "source": [
    "change.columns = ['apple', 'nky']"
   ]
  },
  {
   "cell_type": "code",
   "execution_count": 29,
   "metadata": {
    "collapsed": true
   },
   "outputs": [],
   "source": [
    "change = change.dropna()"
   ]
  },
  {
   "cell_type": "code",
   "execution_count": 30,
   "metadata": {},
   "outputs": [
    {
     "data": {
      "text/html": [
       "<div>\n",
       "<style>\n",
       "    .dataframe thead tr:only-child th {\n",
       "        text-align: right;\n",
       "    }\n",
       "\n",
       "    .dataframe thead th {\n",
       "        text-align: left;\n",
       "    }\n",
       "\n",
       "    .dataframe tbody tr th {\n",
       "        vertical-align: top;\n",
       "    }\n",
       "</style>\n",
       "<table border=\"1\" class=\"dataframe\">\n",
       "  <thead>\n",
       "    <tr style=\"text-align: right;\">\n",
       "      <th></th>\n",
       "      <th>apple</th>\n",
       "      <th>nky</th>\n",
       "    </tr>\n",
       "  </thead>\n",
       "  <tbody>\n",
       "    <tr>\n",
       "      <th>apple</th>\n",
       "      <td>1.000000</td>\n",
       "      <td>0.329196</td>\n",
       "    </tr>\n",
       "    <tr>\n",
       "      <th>nky</th>\n",
       "      <td>0.329196</td>\n",
       "      <td>1.000000</td>\n",
       "    </tr>\n",
       "  </tbody>\n",
       "</table>\n",
       "</div>"
      ],
      "text/plain": [
       "          apple       nky\n",
       "apple  1.000000  0.329196\n",
       "nky    0.329196  1.000000"
      ]
     },
     "execution_count": 30,
     "metadata": {},
     "output_type": "execute_result"
    }
   ],
   "source": [
    "change.corr() #"
   ]
  },
  {
   "cell_type": "code",
   "execution_count": 31,
   "metadata": {},
   "outputs": [],
   "source": [
    "change['corr_52w'] = change['apple'].rolling(52).corr(change['nky'])"
   ]
  },
  {
   "cell_type": "code",
   "execution_count": 32,
   "metadata": {},
   "outputs": [
    {
     "data": {
      "text/plain": [
       "<matplotlib.axes._subplots.AxesSubplot at 0x117b98f60>"
      ]
     },
     "execution_count": 32,
     "metadata": {},
     "output_type": "execute_result"
    },
    {
     "data": {
      "image/png": "[encoded data removed]",
      "text/plain": [
       "<matplotlib.figure.Figure at 0x117b6dcf8>"
      ]
     },
     "metadata": {},
     "output_type": "display_data"
    }
   ],
   "source": [
    "change['corr_52w'].plot()"
   ]
  },
  {
   "cell_type": "markdown",
   "metadata": {},
   "source": [
    "### matplotlibの日本語豆腐化問題\n",
    "フォントを入れれば解決できるらしいが面倒くさいので、bokehに走る！   \n",
    "でもgithubでbokeh表示してくれないかも。"
   ]
  },
  {
   "cell_type": "code",
   "execution_count": 33,
   "metadata": {},
   "outputs": [
    {
     "data": {
      "text/plain": [
       "<matplotlib.axes._subplots.AxesSubplot at 0x11b45ae48>"
      ]
     },
     "execution_count": 33,
     "metadata": {},
     "output_type": "execute_result"
    },
    {
     "data": {
      "image/png": "[encoded data removed]",
      "text/plain": [
       "<matplotlib.figure.Figure at 0x11b399438>"
      ]
     },
     "metadata": {},
     "output_type": "display_data"
    }
   ],
   "source": [
    "change['corr_52w'].dropna().plot(figsize=(10,7), title='アップルと日経平均株価の相関')"
   ]
  },
  {
   "cell_type": "code",
   "execution_count": 34,
   "metadata": {},
   "outputs": [
    {
     "data": {
      "text/html": [
       "\n",
       "<div class=\"bk-root\">\n",
       "    <div class=\"bk-plotdiv\" id=\"65795958-9e7f-4366-8295-73a49f111b09\"></div>\n",
       "</div>"
      ]
     },
     "metadata": {},
     "output_type": "display_data"
    },
    {
     "data": {
      "application/javascript": [
       "(function(root) {\n",
       "  function embed_document(root) {\n",
       "    var docs_json = {\"1cb0cb7f-90ef-4896-9620-5e3d4ec9e4f6\":{\"roots\":{\"references\":[{\"attributes\":{\"months\":[0,2,4,6,8,10]},\"id\":\"df76cb0c-8c0e-4cab-899a-a4cefac04716\",\"type\":\"MonthsTicker\"},{\"attributes\":{\"days\":[1,8,15,22]},\"id\":\"d6c090eb-5583-4d2a-bec0-d9c6137248e5\",\"type\":\"DaysTicker\"},{\"attributes\":{\"overlay\":{\"id\":\"84d85b5c-4c6f-441b-8851-1f4fac4b3851\",\"type\":\"BoxAnnotation\"}},\"id\":\"faae2cce-23e5-43ea-915f-46f733db28f1\",\"type\":\"BoxZoomTool\"},{\"attributes\":{\"days\":[1,15]},\"id\":\"2c2b97e9-8812-4474-a635-21432e37217b\",\"type\":\"DaysTicker\"},{\"attributes\":{\"plot\":{\"id\":\"37958b6b-b307-400d-a5aa-37b545caeff6\",\"subtype\":\"Figure\",\"type\":\"Plot\"},\"ticker\":{\"id\":\"ab3f23e6-6c62-4a86-8b57-85f712bb7b11\",\"type\":\"DatetimeTicker\"}},\"id\":\"70013d75-8ebf-4637-85df-7c4978d080db\",\"type\":\"Grid\"},{\"attributes\":{},\"id\":\"eb906164-bce6-4c37-82f8-c41f91f7be28\",\"type\":\"BasicTicker\"},{\"attributes\":{},\"id\":\"c4bb65fd-ae69-4fdd-a34a-5f35a3569e79\",\"type\":\"ResetTool\"},{\"attributes\":{\"num_minor_ticks\":5,\"tickers\":[{\"id\":\"7ecb48c9-26e0-47ca-97f7-6020870c46d0\",\"type\":\"AdaptiveTicker\"},{\"id\":\"45bbb41f-e795-4a74-b80f-ef546cd9a8bb\",\"type\":\"AdaptiveTicker\"},{\"id\":\"a3fb2d8a-f0b8-4fd5-90f3-339848d2e60f\",\"type\":\"AdaptiveTicker\"},{\"id\":\"993bdece-baa1-4443-8546-dd8197ab3893\",\"type\":\"DaysTicker\"},{\"id\":\"d94fce95-9d9e-4f2f-afd8-b46fef34d616\",\"type\":\"DaysTicker\"},{\"id\":\"d6c090eb-5583-4d2a-bec0-d9c6137248e5\",\"type\":\"DaysTicker\"},{\"id\":\"2c2b97e9-8812-4474-a635-21432e37217b\",\"type\":\"DaysTicker\"},{\"id\":\"04914cc3-e7ba-4222-a1de-092381853af1\",\"type\":\"MonthsTicker\"},{\"id\":\"df76cb0c-8c0e-4cab-899a-a4cefac04716\",\"type\":\"MonthsTicker\"},{\"id\":\"a02885e0-cc3f-4000-836d-ecd76d75e2c9\",\"type\":\"MonthsTicker\"},{\"id\":\"78c9e30b-7f3e-4ada-9df5-ec31205c762d\",\"type\":\"MonthsTicker\"},{\"id\":\"31ad2141-5b47-4b65-be40-8bbe001f7fd5\",\"type\":\"YearsTicker\"}]},\"id\":\"ab3f23e6-6c62-4a86-8b57-85f712bb7b11\",\"type\":\"DatetimeTicker\"},{\"attributes\":{},\"id\":\"22b32850-9cb6-4bbf-9b06-b8275431bb1b\",\"type\":\"SaveTool\"},{\"attributes\":{\"months\":[0,6]},\"id\":\"78c9e30b-7f3e-4ada-9df5-ec31205c762d\",\"type\":\"MonthsTicker\"},{\"attributes\":{\"callback\":null,\"column_names\":[\"x\",\"y\"],\"data\":{\"x\":{\"__ndarray__\":\"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\",\"dtype\":\"float64\",\"shape\":[414]},\"y\":{\"__ndarray__\":\"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\",\"dtype\":\"float64\",\"shape\":[414]}}},\"id\":\"81dc6dbf-23e2-4323-8758-5de117512e4f\",\"type\":\"ColumnDataSource\"},{\"attributes\":{\"formatter\":{\"id\":\"e240787b-538f-4391-a4c9-80ee3eb1b033\",\"type\":\"BasicTickFormatter\"},\"plot\":{\"id\":\"37958b6b-b307-400d-a5aa-37b545caeff6\",\"subtype\":\"Figure\",\"type\":\"Plot\"},\"ticker\":{\"id\":\"eb906164-bce6-4c37-82f8-c41f91f7be28\",\"type\":\"BasicTicker\"}},\"id\":\"060ff499-ded1-4dbe-9ea3-402bfec21f4e\",\"type\":\"LinearAxis\"},{\"attributes\":{\"active_drag\":\"auto\",\"active_inspect\":\"auto\",\"active_scroll\":\"auto\",\"active_tap\":\"auto\",\"tools\":[{\"id\":\"ea0370e7-1203-4b57-b36b-d1f2853c33d7\",\"type\":\"PanTool\"},{\"id\":\"b169028c-4e40-42f4-acc3-2a68b0bce25a\",\"type\":\"WheelZoomTool\"},{\"id\":\"faae2cce-23e5-43ea-915f-46f733db28f1\",\"type\":\"BoxZoomTool\"},{\"id\":\"22b32850-9cb6-4bbf-9b06-b8275431bb1b\",\"type\":\"SaveTool\"},{\"id\":\"c4bb65fd-ae69-4fdd-a34a-5f35a3569e79\",\"type\":\"ResetTool\"},{\"id\":\"a2658cc2-c339-41ab-9762-1e9cc633059c\",\"type\":\"HelpTool\"}]},\"id\":\"cb1fbe5d-fbb8-4dbd-86f2-4946e851b9bb\",\"type\":\"Toolbar\"},{\"attributes\":{\"months\":[0,4,8]},\"id\":\"a02885e0-cc3f-4000-836d-ecd76d75e2c9\",\"type\":\"MonthsTicker\"},{\"attributes\":{},\"id\":\"31ad2141-5b47-4b65-be40-8bbe001f7fd5\",\"type\":\"YearsTicker\"},{\"attributes\":{\"line_color\":{\"value\":\"blue\"},\"x\":{\"field\":\"x\"},\"y\":{\"field\":\"y\"}},\"id\":\"d57716d4-b1f6-41ca-a4e5-319b91a69486\",\"type\":\"Line\"},{\"attributes\":{\"days\":[1,4,7,10,13,16,19,22,25,28]},\"id\":\"d94fce95-9d9e-4f2f-afd8-b46fef34d616\",\"type\":\"DaysTicker\"},{\"attributes\":{},\"id\":\"ea0370e7-1203-4b57-b36b-d1f2853c33d7\",\"type\":\"PanTool\"},{\"attributes\":{\"callback\":null},\"id\":\"2ffa73e6-03f0-4c25-a2a9-8cce1f7fe5eb\",\"type\":\"DataRange1d\"},{\"attributes\":{\"source\":{\"id\":\"81dc6dbf-23e2-4323-8758-5de117512e4f\",\"type\":\"ColumnDataSource\"}},\"id\":\"a9917ca7-7f73-4006-952d-438cf714fc11\",\"type\":\"CDSView\"},{\"attributes\":{\"mantissas\":[1,2,5],\"max_interval\":500.0,\"num_minor_ticks\":0},\"id\":\"7ecb48c9-26e0-47ca-97f7-6020870c46d0\",\"type\":\"AdaptiveTicker\"},{\"attributes\":{\"below\":[{\"id\":\"b5e2f86d-cc89-4c97-9c09-33f3ace04814\",\"type\":\"DatetimeAxis\"}],\"left\":[{\"id\":\"060ff499-ded1-4dbe-9ea3-402bfec21f4e\",\"type\":\"LinearAxis\"}],\"plot_height\":500,\"plot_width\":800,\"renderers\":[{\"id\":\"b5e2f86d-cc89-4c97-9c09-33f3ace04814\",\"type\":\"DatetimeAxis\"},{\"id\":\"70013d75-8ebf-4637-85df-7c4978d080db\",\"type\":\"Grid\"},{\"id\":\"060ff499-ded1-4dbe-9ea3-402bfec21f4e\",\"type\":\"LinearAxis\"},{\"id\":\"84e6c1f2-2241-417c-ab53-0f36046da2e2\",\"type\":\"Grid\"},{\"id\":\"84d85b5c-4c6f-441b-8851-1f4fac4b3851\",\"type\":\"BoxAnnotation\"},{\"id\":\"56077f50-91aa-42ba-8609-b7987c65a0c6\",\"type\":\"GlyphRenderer\"}],\"title\":{\"id\":\"f1592973-6ef1-45b2-8a4d-86b7c8a22c3b\",\"type\":\"Title\"},\"toolbar\":{\"id\":\"cb1fbe5d-fbb8-4dbd-86f2-4946e851b9bb\",\"type\":\"Toolbar\"},\"x_range\":{\"id\":\"2ffa73e6-03f0-4c25-a2a9-8cce1f7fe5eb\",\"type\":\"DataRange1d\"},\"x_scale\":{\"id\":\"3547b205-1262-4931-b452-699e6869210e\",\"type\":\"LinearScale\"},\"y_range\":{\"id\":\"f5f63180-af0f-46a0-b907-7046eb3676fe\",\"type\":\"DataRange1d\"},\"y_scale\":{\"id\":\"4f190201-ea86-4425-a4f1-254a2c719af7\",\"type\":\"LinearScale\"}},\"id\":\"37958b6b-b307-400d-a5aa-37b545caeff6\",\"subtype\":\"Figure\",\"type\":\"Plot\"},{\"attributes\":{\"plot\":null,\"text\":\"\\u30a2\\u30c3\\u30d7\\u30eb\\u3068\\u65e5\\u7d4c\\u5e73\\u5747\\u682a\\u4fa1\\u306e\\u76f8\\u95a2\"},\"id\":\"f1592973-6ef1-45b2-8a4d-86b7c8a22c3b\",\"type\":\"Title\"},{\"attributes\":{},\"id\":\"b169028c-4e40-42f4-acc3-2a68b0bce25a\",\"type\":\"WheelZoomTool\"},{\"attributes\":{\"bottom_units\":\"screen\",\"fill_alpha\":{\"value\":0.5},\"fill_color\":{\"value\":\"lightgrey\"},\"left_units\":\"screen\",\"level\":\"overlay\",\"line_alpha\":{\"value\":1.0},\"line_color\":{\"value\":\"black\"},\"line_dash\":[4,4],\"line_width\":{\"value\":2},\"plot\":null,\"render_mode\":\"css\",\"right_units\":\"screen\",\"top_units\":\"screen\"},\"id\":\"84d85b5c-4c6f-441b-8851-1f4fac4b3851\",\"type\":\"BoxAnnotation\"},{\"attributes\":{},\"id\":\"e240787b-538f-4391-a4c9-80ee3eb1b033\",\"type\":\"BasicTickFormatter\"},{\"attributes\":{\"days\":[1,2,3,4,5,6,7,8,9,10,11,12,13,14,15,16,17,18,19,20,21,22,23,24,25,26,27,28,29,30,31]},\"id\":\"993bdece-baa1-4443-8546-dd8197ab3893\",\"type\":\"DaysTicker\"},{\"attributes\":{},\"id\":\"a2658cc2-c339-41ab-9762-1e9cc633059c\",\"type\":\"HelpTool\"},{\"attributes\":{\"months\":[0,1,2,3,4,5,6,7,8,9,10,11]},\"id\":\"04914cc3-e7ba-4222-a1de-092381853af1\",\"type\":\"MonthsTicker\"},{\"attributes\":{\"data_source\":{\"id\":\"81dc6dbf-23e2-4323-8758-5de117512e4f\",\"type\":\"ColumnDataSource\"},\"glyph\":{\"id\":\"d57716d4-b1f6-41ca-a4e5-319b91a69486\",\"type\":\"Line\"},\"hover_glyph\":null,\"muted_glyph\":null,\"nonselection_glyph\":{\"id\":\"0cafb7ec-ac26-4106-b738-eb825aacf476\",\"type\":\"Line\"},\"selection_glyph\":null,\"view\":{\"id\":\"a9917ca7-7f73-4006-952d-438cf714fc11\",\"type\":\"CDSView\"}},\"id\":\"56077f50-91aa-42ba-8609-b7987c65a0c6\",\"type\":\"GlyphRenderer\"},{\"attributes\":{\"base\":60,\"mantissas\":[1,2,5,10,15,20,30],\"max_interval\":1800000.0,\"min_interval\":1000.0,\"num_minor_ticks\":0},\"id\":\"45bbb41f-e795-4a74-b80f-ef546cd9a8bb\",\"type\":\"AdaptiveTicker\"},{\"attributes\":{},\"id\":\"4f190201-ea86-4425-a4f1-254a2c719af7\",\"type\":\"LinearScale\"},{\"attributes\":{\"formatter\":{\"id\":\"a794cccf-4c99-417b-90c9-84919e3112a4\",\"type\":\"DatetimeTickFormatter\"},\"plot\":{\"id\":\"37958b6b-b307-400d-a5aa-37b545caeff6\",\"subtype\":\"Figure\",\"type\":\"Plot\"},\"ticker\":{\"id\":\"ab3f23e6-6c62-4a86-8b57-85f712bb7b11\",\"type\":\"DatetimeTicker\"}},\"id\":\"b5e2f86d-cc89-4c97-9c09-33f3ace04814\",\"type\":\"DatetimeAxis\"},{\"attributes\":{},\"id\":\"3547b205-1262-4931-b452-699e6869210e\",\"type\":\"LinearScale\"},{\"attributes\":{\"dimension\":1,\"plot\":{\"id\":\"37958b6b-b307-400d-a5aa-37b545caeff6\",\"subtype\":\"Figure\",\"type\":\"Plot\"},\"ticker\":{\"id\":\"eb906164-bce6-4c37-82f8-c41f91f7be28\",\"type\":\"BasicTicker\"}},\"id\":\"84e6c1f2-2241-417c-ab53-0f36046da2e2\",\"type\":\"Grid\"},{\"attributes\":{\"callback\":null},\"id\":\"f5f63180-af0f-46a0-b907-7046eb3676fe\",\"type\":\"DataRange1d\"},{\"attributes\":{},\"id\":\"a794cccf-4c99-417b-90c9-84919e3112a4\",\"type\":\"DatetimeTickFormatter\"},{\"attributes\":{\"line_alpha\":{\"value\":0.1},\"line_color\":{\"value\":\"#1f77b4\"},\"x\":{\"field\":\"x\"},\"y\":{\"field\":\"y\"}},\"id\":\"0cafb7ec-ac26-4106-b738-eb825aacf476\",\"type\":\"Line\"},{\"attributes\":{\"base\":24,\"mantissas\":[1,2,4,6,8,12],\"max_interval\":43200000.0,\"min_interval\":3600000.0,\"num_minor_ticks\":0},\"id\":\"a3fb2d8a-f0b8-4fd5-90f3-339848d2e60f\",\"type\":\"AdaptiveTicker\"}],\"root_ids\":[\"37958b6b-b307-400d-a5aa-37b545caeff6\"]},\"title\":\"Bokeh Application\",\"version\":\"0.12.10\"}};\n",
       "    var render_items = [{\"docid\":\"1cb0cb7f-90ef-4896-9620-5e3d4ec9e4f6\",\"elementid\":\"65795958-9e7f-4366-8295-73a49f111b09\",\"modelid\":\"37958b6b-b307-400d-a5aa-37b545caeff6\"}];\n",
       "\n",
       "    root.Bokeh.embed.embed_items(docs_json, render_items);\n",
       "  }\n",
       "\n",
       "  if (root.Bokeh !== undefined) {\n",
       "    embed_document(root);\n",
       "  } else {\n",
       "    var attempts = 0;\n",
       "    var timer = setInterval(function(root) {\n",
       "      if (root.Bokeh !== undefined) {\n",
       "        embed_document(root);\n",
       "        clearInterval(timer);\n",
       "      }\n",
       "      attempts++;\n",
       "      if (attempts > 100) {\n",
       "        console.log(\"Bokeh: ERROR: Unable to embed document because BokehJS library is missing\")\n",
       "        clearInterval(timer);\n",
       "      }\n",
       "    }, 10, root)\n",
       "  }\n",
       "})(window);"
      ],
      "application/vnd.bokehjs_exec.v0+json": ""
     },
     "metadata": {
      "application/vnd.bokehjs_exec.v0+json": {
       "id": "37958b6b-b307-400d-a5aa-37b545caeff6"
      }
     },
     "output_type": "display_data"
    }
   ],
   "source": [
    "p = figure(x_axis_type='datetime', width=800, height=500, title='アップルと日経平均株価の相関')\n",
    "\n",
    "p.line(change.index, change['corr_52w'], color='blue')\n",
    "\n",
    "show(p)"
   ]
  },
  {
   "cell_type": "markdown",
   "metadata": {},
   "source": [
    "## ちなみに\n",
    "* githubにjupyter notebook + bokehのチャートを共有しようとすると出てきません。\n",
    "* bokehがjavascriptで動いているからのようです。\n",
    "* そのためnbviewerでnotebookをhtmlとして出力する必要があります。\n",
    "* nbviewer  https://nbviewer.jupyter.org/\n",
    "* jupyter notebook, pandas , matplotlib, bokeh をよく知れる本  \n",
    "### PythonユーザのためのJupyter[実践]入門    \n",
    "  https://www.amazon.co.jp/Python%E3%83%A6%E3%83%BC%E3%82%B6%E3%81%AE%E3%81%9F%E3%82%81%E3%81%AEJupyter-%E5%AE%9F%E8%B7%B5-%E5%85%A5%E9%96%80-%E6%B1%A0%E5%86%85-%E5%AD%9D%E5%95%93/dp/4774192236/ref=sr_1_1?ie=UTF8&qid=1513042698&sr=8-1&keywords=jupyter"
   ]
  },
  {
   "cell_type": "markdown",
   "metadata": {},
   "source": [
    "## ポートフォリオ\n",
    "\n",
    "* 色々な資産を組み合わせて作ります。\n",
    "* ただ単に組み合わせるだけでなく、できるだけ低いリスクで大きなリターンを得られることを目指します。  \n",
    "* そのために必要なのが、\n",
    "     * リターン\n",
    "     * リスク\n",
    "     * 相関\n",
    "です。そのためにその計算方法を先に見ました。    \n",
    "    \n",
    "#### でも今回は計算しません。   \n",
    "→ 理由   \n",
    "    債券のパフォーマンスを見られる指数がネットでは見られない。       \n",
    "    \n",
    "なので、我々の年金を運用するGPIFのサイトの資料を使います。    \n",
    "GPIFのサイト   \n",
    "http://www.gpif.go.jp/     \n",
    "基本ポートフォリオ    \n",
    "http://www.gpif.go.jp/operation/foundation/portfolio.html    \n",
    "ポートフォリオの中期計画の変更    \n",
    "http://www.gpif.go.jp/operation/foundation/pdf/midterm_plan_change.pdf"
   ]
  },
  {
   "cell_type": "markdown",
   "metadata": {},
   "source": [
    "### 国内債券、国内株式、外国債券、外国株、短期資産"
   ]
  },
  {
   "cell_type": "code",
   "execution_count": 35,
   "metadata": {
    "collapsed": true
   },
   "outputs": [],
   "source": [
    "rets = [0.03, 0.048, 0.032, 0.05, 0.019]    # リターン（年率）\n",
    "vols = [0.065, 0.2248, 0.129, 0.2248, 0.039]   # 標準偏差（リスク）\n"
   ]
  },
  {
   "cell_type": "code",
   "execution_count": 36,
   "metadata": {
    "collapsed": true
   },
   "outputs": [],
   "source": [
    "corrs = [[1, 0.199, -0.025, 0.001, 0.504],\n",
    "        [0.199, 1, -0.063, 0.494, 0.096],\n",
    "        [-0.025, -0.063, 1, 0.577, 0.009],\n",
    "        [0.001, 0.494, 0.577, 1, -0.022],\n",
    "        [0.504, 0.096, 0.009, -0.022, 1]]  # 相関係数"
   ]
  },
  {
   "cell_type": "markdown",
   "metadata": {
    "collapsed": true
   },
   "source": [
    "# まずは相関係数を共分散に直します\n",
    "* 理由　参考にしている　@ryoshi81さんの記事で相関係数を使わずに共分散を使っているため。\n",
    "* 相関係数を使ったやり方を調べるのが面倒でした。すみません。\n",
    "* 相関係数（x, y) = 共分散(x, y) / (標準偏差x * 標準偏差y) "
   ]
  },
  {
   "cell_type": "code",
   "execution_count": 37,
   "metadata": {},
   "outputs": [
    {
     "data": {
      "text/plain": [
       "[1, 0.199, -0.025, 0.001, 0.504]"
      ]
     },
     "execution_count": 37,
     "metadata": {},
     "output_type": "execute_result"
    }
   ],
   "source": [
    "corrs[0]"
   ]
  },
  {
   "cell_type": "code",
   "execution_count": 38,
   "metadata": {
    "collapsed": true
   },
   "outputs": [],
   "source": [
    "a1 = []\n",
    "a2 = []\n",
    "a3 = []\n",
    "a4 = []\n",
    "a5 = []"
   ]
  },
  {
   "cell_type": "code",
   "execution_count": 39,
   "metadata": {
    "collapsed": true
   },
   "outputs": [],
   "source": [
    "def testi(k=0.065, box = a1, volla=vols): #共分散作る関数\n",
    "    for i in range(len(volla)):\n",
    "        box.append(k*volla[i])"
   ]
  },
  {
   "cell_type": "code",
   "execution_count": 40,
   "metadata": {
    "collapsed": true
   },
   "outputs": [],
   "source": [
    "testi(k=0.065, box= a1)\n",
    "testi(k=0.2248, box= a2)\n",
    "testi(k=0.129, box= a3)\n",
    "testi(k=0.2248, box= a4)\n",
    "testi(k=0.039, box= a5)"
   ]
  },
  {
   "cell_type": "code",
   "execution_count": 41,
   "metadata": {},
   "outputs": [
    {
     "name": "stdout",
     "output_type": "stream",
     "text": [
      "[0.0042250000000000005, 0.014612, 0.008385, 0.014612, 0.002535] [0.014612, 0.05053504, 0.0289992, 0.05053504, 0.0087672] [0.008385, 0.0289992, 0.016641, 0.0289992, 0.005031] [0.014612, 0.05053504, 0.0289992, 0.05053504, 0.0087672] [0.002535, 0.0087672, 0.005031, 0.0087672, 0.001521]\n"
     ]
    }
   ],
   "source": [
    "print(a1, a2, a3, a4, a5)"
   ]
  },
  {
   "cell_type": "code",
   "execution_count": 42,
   "metadata": {
    "collapsed": true
   },
   "outputs": [],
   "source": [
    "covp = [np.array(a1) * np.array(corrs[0]), np.array(a2) * np.array(corrs[1]), \\\n",
    "        np.array(a3) * np.array(corrs[2]), np.array(a4) * np.array(corrs[3]), \\\n",
    "        np.array(a5) * np.array(corrs[4])]"
   ]
  },
  {
   "cell_type": "code",
   "execution_count": 43,
   "metadata": {
    "collapsed": true
   },
   "outputs": [],
   "source": [
    "covp = np.array(covp)"
   ]
  },
  {
   "cell_type": "code",
   "execution_count": 44,
   "metadata": {},
   "outputs": [
    {
     "data": {
      "text/plain": [
       "array([[  4.22500000e-03,   2.90778800e-03,  -2.09625000e-04,\n",
       "          1.46120000e-05,   1.27764000e-03],\n",
       "       [  2.90778800e-03,   5.05350400e-02,  -1.82694960e-03,\n",
       "          2.49643098e-02,   8.41651200e-04],\n",
       "       [ -2.09625000e-04,  -1.82694960e-03,   1.66410000e-02,\n",
       "          1.67325384e-02,   4.52790000e-05],\n",
       "       [  1.46120000e-05,   2.49643098e-02,   1.67325384e-02,\n",
       "          5.05350400e-02,  -1.92878400e-04],\n",
       "       [  1.27764000e-03,   8.41651200e-04,   4.52790000e-05,\n",
       "         -1.92878400e-04,   1.52100000e-03]])"
      ]
     },
     "execution_count": 44,
     "metadata": {},
     "output_type": "execute_result"
    }
   ],
   "source": [
    "covp"
   ]
  },
  {
   "cell_type": "code",
   "execution_count": 45,
   "metadata": {
    "collapsed": true
   },
   "outputs": [],
   "source": [
    "def min_fanc_var(weights):\n",
    "    return np.dot(weights.T, np.dot(covp, weights))  # 最小化する目的関数を作る"
   ]
  },
  {
   "cell_type": "code",
   "execution_count": 46,
   "metadata": {
    "collapsed": true
   },
   "outputs": [],
   "source": [
    "x0 = [1. / len(rets)] * len(rets)  # 初期解　　最初に全部の資産に同じ比率で投資するってのを作っています"
   ]
  },
  {
   "cell_type": "code",
   "execution_count": 47,
   "metadata": {},
   "outputs": [
    {
     "data": {
      "text/plain": [
       "[0.2, 0.2, 0.2, 0.2, 0.2]"
      ]
     },
     "execution_count": 47,
     "metadata": {},
     "output_type": "execute_result"
    }
   ],
   "source": [
    "x0"
   ]
  },
  {
   "cell_type": "code",
   "execution_count": 48,
   "metadata": {
    "collapsed": true
   },
   "outputs": [],
   "source": [
    "bnds = [(0, None)] * len(rets)  # 投資の上限下限を決めています。マイナスにならないようにしている。ので資産配分が１００％以上にもなりません。"
   ]
  },
  {
   "cell_type": "code",
   "execution_count": 49,
   "metadata": {},
   "outputs": [
    {
     "data": {
      "text/plain": [
       "[(0, None), (0, None), (0, None), (0, None), (0, None)]"
      ]
     },
     "execution_count": 49,
     "metadata": {},
     "output_type": "execute_result"
    }
   ],
   "source": [
    "bnds"
   ]
  },
  {
   "cell_type": "code",
   "execution_count": 50,
   "metadata": {
    "collapsed": true
   },
   "outputs": [],
   "source": [
    "max_ret = np.array(rets).max().round(3)\n",
    "min_ret = np.array(rets).min().round(3)\n",
    "trets = np.linspace(min_ret, max_ret, 100)"
   ]
  },
  {
   "cell_type": "code",
   "execution_count": 51,
   "metadata": {},
   "outputs": [
    {
     "data": {
      "text/plain": [
       "array([ 0.019     ,  0.01931313,  0.01962626,  0.01993939,  0.02025253,\n",
       "        0.02056566,  0.02087879,  0.02119192,  0.02150505,  0.02181818,\n",
       "        0.02213131,  0.02244444,  0.02275758,  0.02307071,  0.02338384,\n",
       "        0.02369697,  0.0240101 ,  0.02432323,  0.02463636,  0.02494949,\n",
       "        0.02526263,  0.02557576,  0.02588889,  0.02620202,  0.02651515,\n",
       "        0.02682828,  0.02714141,  0.02745455,  0.02776768,  0.02808081,\n",
       "        0.02839394,  0.02870707,  0.0290202 ,  0.02933333,  0.02964646,\n",
       "        0.0299596 ,  0.03027273,  0.03058586,  0.03089899,  0.03121212,\n",
       "        0.03152525,  0.03183838,  0.03215152,  0.03246465,  0.03277778,\n",
       "        0.03309091,  0.03340404,  0.03371717,  0.0340303 ,  0.03434343,\n",
       "        0.03465657,  0.0349697 ,  0.03528283,  0.03559596,  0.03590909,\n",
       "        0.03622222,  0.03653535,  0.03684848,  0.03716162,  0.03747475,\n",
       "        0.03778788,  0.03810101,  0.03841414,  0.03872727,  0.0390404 ,\n",
       "        0.03935354,  0.03966667,  0.0399798 ,  0.04029293,  0.04060606,\n",
       "        0.04091919,  0.04123232,  0.04154545,  0.04185859,  0.04217172,\n",
       "        0.04248485,  0.04279798,  0.04311111,  0.04342424,  0.04373737,\n",
       "        0.04405051,  0.04436364,  0.04467677,  0.0449899 ,  0.04530303,\n",
       "        0.04561616,  0.04592929,  0.04624242,  0.04655556,  0.04686869,\n",
       "        0.04718182,  0.04749495,  0.04780808,  0.04812121,  0.04843434,\n",
       "        0.04874747,  0.04906061,  0.04937374,  0.04968687,  0.05      ])"
      ]
     },
     "execution_count": 51,
     "metadata": {},
     "output_type": "execute_result"
    }
   ],
   "source": [
    "trets"
   ]
  },
  {
   "cell_type": "code",
   "execution_count": 52,
   "metadata": {
    "collapsed": true
   },
   "outputs": [],
   "source": [
    "tvols = []\n",
    "for tret in trets:\n",
    "    cons = [{'type': 'eq', 'fun': lambda x: np.sum(x) - 1},\n",
    "           {'type': 'ineq', 'fun': lambda x: np.sum(rets * x) - tret}]\n",
    "    res = sco.minimize(fun = min_fanc_var, x0 = x0, method='SLSQP', bounds=bnds, constraints = cons)\n",
    "    tvols.append(np.sqrt(res['fun']))\n",
    "    \n",
    "tvols = np.array(tvols)"
   ]
  },
  {
   "cell_type": "code",
   "execution_count": 53,
   "metadata": {},
   "outputs": [
    {
     "data": {
      "text/html": [
       "\n",
       "<div class=\"bk-root\">\n",
       "    <div class=\"bk-plotdiv\" id=\"f6472b2f-b776-4645-9de7-e9b087146b6d\"></div>\n",
       "</div>"
      ]
     },
     "metadata": {},
     "output_type": "display_data"
    },
    {
     "data": {
      "application/javascript": [
       "(function(root) {\n",
       "  function embed_document(root) {\n",
       "    var docs_json = {\"882d2be3-30c9-4805-9be3-61b587d6c6fb\":{\"roots\":{\"references\":[{\"attributes\":{\"callback\":null},\"id\":\"2ec712bb-7bcb-4dc6-af43-3386085ce2b2\",\"type\":\"DataRange1d\"},{\"attributes\":{\"data_source\":{\"id\":\"bad76397-e209-48cf-990e-13c26e73a703\",\"type\":\"ColumnDataSource\"},\"glyph\":{\"id\":\"12b3ed2a-914d-49de-a075-c14d0cadc6e2\",\"type\":\"Line\"},\"hover_glyph\":null,\"muted_glyph\":null,\"nonselection_glyph\":{\"id\":\"8404bb93-35fa-4580-9e65-41d92357e305\",\"type\":\"Line\"},\"selection_glyph\":null,\"view\":{\"id\":\"52d181ed-c919-4171-b318-6f7714c78b1c\",\"type\":\"CDSView\"}},\"id\":\"3b796055-6b5e-4a24-8fc0-13316fcc0612\",\"type\":\"GlyphRenderer\"},{\"attributes\":{\"callback\":null,\"column_names\":[\"x\",\"y\"],\"data\":{\"x\":{\"__ndarray__\":\"NBy/rUP7oj80HL+tQ/uiPzQcv61D+6I/NBy/rUP7oj80HL+tQ/uiPzQcv61D+6I/NBy/rUP7oj/SSD1UcvuiP2LGtcfE/qI/AkTVkR0Ioz8JZmeTlhejP8JPijwNLaM/FK06UltIoz9N0qKQWmmjPz0N3Y0QkKM/DthwYxW8oz9BwL8ade2jPyD4vc6sJKQ/h9m/JntgpD/ir0PJRaCkPwLbtIi15aQ/r4FywT5XpT+MiyrXGJWlPxn9icqh2aU/+N9y6Roopj/i0RBMtYGmP58Kj9MF4aY/Mkq5L5VQpz+tadfYkamnP1JI2MAUG6g/09SpYFZ6qD8J5wAro92oP30MY9DYTak/UlN191TAqT+853J2SzWqPz4U0l1krKo/LULxM6glqz8VAgvN4qGrP1szLQmKH6w/9x41wfCcrD/K06fLbh6tPx0wVWFroa0/X6DqW+Ilrj8x1X9Tx6uuP26ozjEhP68/i+vDCevlrz+o7N9j/jqwP9YlHV0gmbA/aOicjHf+sD9k1VLVuWqxP1/tI5lV3bE/3KBwydNVsj/VFhhxw9OyP6cIPUK6VrM/IziLwVTesz+NAYX+P2q0P53GZmEP+rQ/x+sSpt6OtT90tkS6TyS2P5hUrkM3vrY/gNtfsv5atz9oF2VzY/q3PwYwPYZQnLg/DCNy0U9AuT/IIPkN/ea5P5LhjfdLkLo/olM6/gU8uz8d5813/um7P0HSSHIMmrw/+Ma3WwpMvT8857Tp1f+9P+E+TO9Otb4//V8FvVhsvz8/P+lHbBLAP+VscuBab8A/62Bk1ezMwD9zLJi3FyvBP6IGmebRicE/orWEghLpwT/NKLNV0UjCP2OavckGqcI/hSod16sJwz+He6r8uWrDPyN24C8rzMM/rIt/1vktxD9Bzhi6IJDEPx/K6wKb8sQ/QCrWLmRVxT/HFBMIeLjFP8P7iqPSG8Y/NBlxV3B/xj/bsUG4TePGPziL5ZFnR8c/0Ao+5bqrxz8SYerjRBDIPyr//+oCdcg/dcIugvLZyD/8ilKBcHPJP4Sx3hNmyMo/b5HeEz/GzD8=\",\"dtype\":\"float64\",\"shape\":[100]},\"y\":{\"__ndarray__\":\"2/l+arx0kz/pNX5N0saTP/dxfTDoGJQ/BK58E/5qlD8S6nv2E72UPyAme9kpD5U/LmJ6vD9hlT88nnmfVbOVP0raeIJrBZY/WBZ4ZYFXlj9lUndIl6mWP3OOdiut+5Y/gcp1DsNNlz+PBnXx2J+XP5xCdNTu8Zc/qn5ztwREmD+4unKaGpaYP8b2cX0w6Jg/1DJxYEY6mT/ibnBDXIyZP/CqbyZy3pk//uZuCYgwmj8LI27snYKaPxlfbc+z1Jo/J5tssskmmz8012uV33ibP0ITa3j1yps/UE9qWwsdnD9ei2k+IW+cP2zHaCE3wZw/egNoBE0TnT+IP2fnYmWdP5Z7Zsp4t50/pLdlrY4Jnj+x82SQpFueP78vZHO6rZ4/zWtjVtD/nj/ap2I55lGfP+jjYRz8o58/9h9h/xH2nz8CLjDxEySgPwnMr+IeTaA/EGov1Cl2oD8XCK/FNJ+gPx6mLrc/yKA/JUSuqErxoD8s4i2aVRqhPzKArYtgQ6E/Oh4tfWtsoT9AvKxudpWhP0daLGCBvqE/TvirUYznoT9VlitDlxCiP1w0qzSiOaI/Y9IqJq1ioj9qcKoXuIuiP3AOKgnDtKI/eKyp+s3doj9+Sins2AajP4boqN3jL6M/jIYoz+5Yoz+UJKjA+YGjP5rCJ7IEq6M/oWCnow/Uoz+o/iaVGv2jP6+cpoYlJqQ/tjomeDBPpD+82KVpO3ikP8R2JVtGoaQ/yhSlTFHKpD/SsiQ+XPOkP9hQpC9nHKU/4O4jIXJFpT/mjKMSfW6lP+0qIwSIl6U/9Mii9ZLApT/7ZiLnnemlPwIFotioEqY/CaMhyrM7pj8QQaG7vmSmPxbfIK3JjaY/Hn2gntS2pj8kGyCQ39+mPyy5n4HqCKc/Mlcfc/Uxpz859Z5kAFunP0CTHlYLhKc/RzGeRxatpz9Ozx05IdanP1VtnSos/6c/XAsdHDcoqD9iqZwNQlGoP2pHHP9Meqg/cOWb8FejqD94gxviYsyoP34hm9Nt9ag/hr8axXgeqT+MXZq2g0epP5P7GaiOcKk/mpmZmZmZqT8=\",\"dtype\":\"float64\",\"shape\":[100]}}},\"id\":\"bad76397-e209-48cf-990e-13c26e73a703\",\"type\":\"ColumnDataSource\"},{\"attributes\":{\"callback\":null},\"id\":\"52b680a6-12fa-4e2e-849d-d59e562c7c5a\",\"type\":\"DataRange1d\"},{\"attributes\":{},\"id\":\"b8b25a72-63e7-422e-a738-b82eac7d5090\",\"type\":\"WheelZoomTool\"},{\"attributes\":{},\"id\":\"de2eb3b9-ea70-45ce-b6a4-d2e7809263c0\",\"type\":\"HelpTool\"},{\"attributes\":{\"bottom_units\":\"screen\",\"fill_alpha\":{\"value\":0.5},\"fill_color\":{\"value\":\"lightgrey\"},\"left_units\":\"screen\",\"level\":\"overlay\",\"line_alpha\":{\"value\":1.0},\"line_color\":{\"value\":\"black\"},\"line_dash\":[4,4],\"line_width\":{\"value\":2},\"plot\":null,\"render_mode\":\"css\",\"right_units\":\"screen\",\"top_units\":\"screen\"},\"id\":\"1e795a46-b529-4e86-a3d9-6887ad8987f0\",\"type\":\"BoxAnnotation\"},{\"attributes\":{\"line_alpha\":{\"value\":0.1},\"line_color\":{\"value\":\"#1f77b4\"},\"line_width\":{\"value\":3},\"x\":{\"field\":\"x\"},\"y\":{\"field\":\"y\"}},\"id\":\"8404bb93-35fa-4580-9e65-41d92357e305\",\"type\":\"Line\"},{\"attributes\":{\"below\":[{\"id\":\"a4f7ed1d-61b3-42e6-b157-ffee909b3c24\",\"type\":\"LinearAxis\"}],\"left\":[{\"id\":\"7affb04d-07f4-45fb-9311-e184901293da\",\"type\":\"LinearAxis\"}],\"plot_height\":500,\"plot_width\":800,\"renderers\":[{\"id\":\"a4f7ed1d-61b3-42e6-b157-ffee909b3c24\",\"type\":\"LinearAxis\"},{\"id\":\"617b7a4d-ef05-400c-b96b-c0a2121b969e\",\"type\":\"Grid\"},{\"id\":\"7affb04d-07f4-45fb-9311-e184901293da\",\"type\":\"LinearAxis\"},{\"id\":\"3e281090-d4b5-47f0-923c-7cd2a86cdc3f\",\"type\":\"Grid\"},{\"id\":\"1e795a46-b529-4e86-a3d9-6887ad8987f0\",\"type\":\"BoxAnnotation\"},{\"id\":\"3b796055-6b5e-4a24-8fc0-13316fcc0612\",\"type\":\"GlyphRenderer\"}],\"title\":{\"id\":\"8c31386a-1e8d-427d-8aa3-c0ae8ef0a6be\",\"type\":\"Title\"},\"toolbar\":{\"id\":\"bc0519a1-5b35-4800-adcf-c4196550d362\",\"type\":\"Toolbar\"},\"x_range\":{\"id\":\"2ec712bb-7bcb-4dc6-af43-3386085ce2b2\",\"type\":\"DataRange1d\"},\"x_scale\":{\"id\":\"308f3b10-9c7f-4e2a-9c7c-9eca5eee19ff\",\"type\":\"LinearScale\"},\"y_range\":{\"id\":\"52b680a6-12fa-4e2e-849d-d59e562c7c5a\",\"type\":\"DataRange1d\"},\"y_scale\":{\"id\":\"99987b52-cd0b-4aee-9aa1-28e4629cd43b\",\"type\":\"LinearScale\"}},\"id\":\"125e2ba5-15a9-4d58-84ea-fc953f1c79fa\",\"subtype\":\"Figure\",\"type\":\"Plot\"},{\"attributes\":{\"source\":{\"id\":\"bad76397-e209-48cf-990e-13c26e73a703\",\"type\":\"ColumnDataSource\"}},\"id\":\"52d181ed-c919-4171-b318-6f7714c78b1c\",\"type\":\"CDSView\"},{\"attributes\":{\"axis_label\":\"\\u30dd\\u30fc\\u30c8\\u30d5\\u30a9\\u30ea\\u30aa\\u306e\\u30ea\\u30bf\\u30fc\\u30f3\",\"formatter\":{\"id\":\"bfa4cc57-3040-4583-a38a-522d65a613c3\",\"type\":\"BasicTickFormatter\"},\"plot\":{\"id\":\"125e2ba5-15a9-4d58-84ea-fc953f1c79fa\",\"subtype\":\"Figure\",\"type\":\"Plot\"},\"ticker\":{\"id\":\"ce637692-7ba4-4953-9642-d0abc5a0affd\",\"type\":\"BasicTicker\"}},\"id\":\"7affb04d-07f4-45fb-9311-e184901293da\",\"type\":\"LinearAxis\"},{\"attributes\":{\"overlay\":{\"id\":\"1e795a46-b529-4e86-a3d9-6887ad8987f0\",\"type\":\"BoxAnnotation\"}},\"id\":\"b0cb6ace-fa64-4f8c-b18a-4eb895e683fd\",\"type\":\"BoxZoomTool\"},{\"attributes\":{\"axis_label\":\"\\u30dd\\u30fc\\u30c8\\u30d5\\u30a9\\u30ea\\u30aa\\u306e\\u30ea\\u30b9\\u30af\\uff08\\u30dc\\u30e9\\u30c6\\u30a3\\u30ea\\u30c6\\u30a3\\uff09\",\"formatter\":{\"id\":\"f6b9489b-d55f-4205-a1ab-35b3341d5729\",\"type\":\"BasicTickFormatter\"},\"plot\":{\"id\":\"125e2ba5-15a9-4d58-84ea-fc953f1c79fa\",\"subtype\":\"Figure\",\"type\":\"Plot\"},\"ticker\":{\"id\":\"0efa2723-2e6b-4397-846a-45b089f7a6cd\",\"type\":\"BasicTicker\"}},\"id\":\"a4f7ed1d-61b3-42e6-b157-ffee909b3c24\",\"type\":\"LinearAxis\"},{\"attributes\":{\"dimension\":1,\"plot\":{\"id\":\"125e2ba5-15a9-4d58-84ea-fc953f1c79fa\",\"subtype\":\"Figure\",\"type\":\"Plot\"},\"ticker\":{\"id\":\"ce637692-7ba4-4953-9642-d0abc5a0affd\",\"type\":\"BasicTicker\"}},\"id\":\"3e281090-d4b5-47f0-923c-7cd2a86cdc3f\",\"type\":\"Grid\"},{\"attributes\":{},\"id\":\"99987b52-cd0b-4aee-9aa1-28e4629cd43b\",\"type\":\"LinearScale\"},{\"attributes\":{},\"id\":\"be5b0d76-9557-4a46-9085-3e143f5fbaee\",\"type\":\"SaveTool\"},{\"attributes\":{\"plot\":{\"id\":\"125e2ba5-15a9-4d58-84ea-fc953f1c79fa\",\"subtype\":\"Figure\",\"type\":\"Plot\"},\"ticker\":{\"id\":\"0efa2723-2e6b-4397-846a-45b089f7a6cd\",\"type\":\"BasicTicker\"}},\"id\":\"617b7a4d-ef05-400c-b96b-c0a2121b969e\",\"type\":\"Grid\"},{\"attributes\":{},\"id\":\"0efa2723-2e6b-4397-846a-45b089f7a6cd\",\"type\":\"BasicTicker\"},{\"attributes\":{\"line_color\":{\"value\":\"blue\"},\"line_width\":{\"value\":3},\"x\":{\"field\":\"x\"},\"y\":{\"field\":\"y\"}},\"id\":\"12b3ed2a-914d-49de-a075-c14d0cadc6e2\",\"type\":\"Line\"},{\"attributes\":{\"active_drag\":\"auto\",\"active_inspect\":\"auto\",\"active_scroll\":\"auto\",\"active_tap\":\"auto\",\"tools\":[{\"id\":\"38807eac-a78c-4c37-b862-a5db11011ce3\",\"type\":\"PanTool\"},{\"id\":\"b8b25a72-63e7-422e-a738-b82eac7d5090\",\"type\":\"WheelZoomTool\"},{\"id\":\"b0cb6ace-fa64-4f8c-b18a-4eb895e683fd\",\"type\":\"BoxZoomTool\"},{\"id\":\"be5b0d76-9557-4a46-9085-3e143f5fbaee\",\"type\":\"SaveTool\"},{\"id\":\"105b953e-9295-484c-8ccb-de5ef1432005\",\"type\":\"ResetTool\"},{\"id\":\"de2eb3b9-ea70-45ce-b6a4-d2e7809263c0\",\"type\":\"HelpTool\"}]},\"id\":\"bc0519a1-5b35-4800-adcf-c4196550d362\",\"type\":\"Toolbar\"},{\"attributes\":{\"plot\":null,\"text\":\"\\u4eee\\u60f3\\u30dd\\u30fc\\u30c8\\u30d5\\u30a9\\u30ea\\u30aa\\u306e\\u30ea\\u30b9\\u30af\\u3068\\u30ea\\u30bf\\u30fc\\u30f3\"},\"id\":\"8c31386a-1e8d-427d-8aa3-c0ae8ef0a6be\",\"type\":\"Title\"},{\"attributes\":{},\"id\":\"ce637692-7ba4-4953-9642-d0abc5a0affd\",\"type\":\"BasicTicker\"},{\"attributes\":{},\"id\":\"105b953e-9295-484c-8ccb-de5ef1432005\",\"type\":\"ResetTool\"},{\"attributes\":{},\"id\":\"38807eac-a78c-4c37-b862-a5db11011ce3\",\"type\":\"PanTool\"},{\"attributes\":{},\"id\":\"308f3b10-9c7f-4e2a-9c7c-9eca5eee19ff\",\"type\":\"LinearScale\"},{\"attributes\":{},\"id\":\"bfa4cc57-3040-4583-a38a-522d65a613c3\",\"type\":\"BasicTickFormatter\"},{\"attributes\":{},\"id\":\"f6b9489b-d55f-4205-a1ab-35b3341d5729\",\"type\":\"BasicTickFormatter\"}],\"root_ids\":[\"125e2ba5-15a9-4d58-84ea-fc953f1c79fa\"]},\"title\":\"Bokeh Application\",\"version\":\"0.12.10\"}};\n",
       "    var render_items = [{\"docid\":\"882d2be3-30c9-4805-9be3-61b587d6c6fb\",\"elementid\":\"f6472b2f-b776-4645-9de7-e9b087146b6d\",\"modelid\":\"125e2ba5-15a9-4d58-84ea-fc953f1c79fa\"}];\n",
       "\n",
       "    root.Bokeh.embed.embed_items(docs_json, render_items);\n",
       "  }\n",
       "\n",
       "  if (root.Bokeh !== undefined) {\n",
       "    embed_document(root);\n",
       "  } else {\n",
       "    var attempts = 0;\n",
       "    var timer = setInterval(function(root) {\n",
       "      if (root.Bokeh !== undefined) {\n",
       "        embed_document(root);\n",
       "        clearInterval(timer);\n",
       "      }\n",
       "      attempts++;\n",
       "      if (attempts > 100) {\n",
       "        console.log(\"Bokeh: ERROR: Unable to embed document because BokehJS library is missing\")\n",
       "        clearInterval(timer);\n",
       "      }\n",
       "    }, 10, root)\n",
       "  }\n",
       "})(window);"
      ],
      "application/vnd.bokehjs_exec.v0+json": ""
     },
     "metadata": {
      "application/vnd.bokehjs_exec.v0+json": {
       "id": "125e2ba5-15a9-4d58-84ea-fc953f1c79fa"
      }
     },
     "output_type": "display_data"
    }
   ],
   "source": [
    "p = figure(width=800, height=500, title='仮想ポートフォリオのリスクとリターン')\n",
    "p.line(tvols, trets, line_color='blue', line_width=3)\n",
    "p.xaxis.axis_label='ポートフォリオのリスク（ボラティリティ）'\n",
    "p.yaxis.axis_label='ポートフォリオのリターン'\n",
    "show(p)"
   ]
  },
  {
   "cell_type": "markdown",
   "metadata": {},
   "source": [
    "## 分散投資\n",
    "* さて、これで色々な資産をどんな割合で持ったらどんな感じのリスクリターンになりそうか作れるようになりました。\n",
    "* これで資産の１％を酔っ払いに支払う必要がなくなりました。\n",
    "* リターンを増やすためにすべきことは何でしょうか？\n",
    "* 答えは分散投資です。\n",
    "* 資産の分散と時間の分散が重要です。\n",
    "* 資産の分散の概念を見てみましょう。"
   ]
  },
  {
   "cell_type": "code",
   "execution_count": 54,
   "metadata": {
    "collapsed": true
   },
   "outputs": [],
   "source": [
    "rets1 = [0.03, 0.048, 0.032, 0.05, 0.019, 0.04]       # 先程の資産に１つ足す　６資産に\n",
    "vols1 = [0.065, 0.2248, 0.129, 0.2248, 0.039, 0.08]"
   ]
  },
  {
   "cell_type": "code",
   "execution_count": 55,
   "metadata": {
    "collapsed": true
   },
   "outputs": [],
   "source": [
    "corrs1 = [[1, 0.199, -0.025, 0.001, 0.504, 0.8],\n",
    "        [0.199, 1, -0.063, 0.494, 0.096, 0.9],\n",
    "        [-0.025, -0.063, 1, 0.577, 0.009, 0.8],\n",
    "        [0.001, 0.494, 0.577, 1, -0.022, 0.9],\n",
    "        [0.504, 0.096, 0.009, -0.022, 1, 0.8],\n",
    "        [0.8, 0.9, 0.8, 0.9, 0.8, 1.0 ]]    "
   ]
  },
  {
   "cell_type": "code",
   "execution_count": 56,
   "metadata": {
    "collapsed": true
   },
   "outputs": [],
   "source": [
    "b1 = []\n",
    "b2 = []\n",
    "b3 = []\n",
    "b4 = []\n",
    "b5 = []\n",
    "b6 = []"
   ]
  },
  {
   "cell_type": "code",
   "execution_count": 57,
   "metadata": {
    "collapsed": true
   },
   "outputs": [],
   "source": [
    "testi(k=vols1[0], box = b1, volla=vols1)\n",
    "testi(k=vols1[1], box = b2, volla=vols1)\n",
    "testi(k=vols1[2], box = b3, volla=vols1)\n",
    "testi(k=vols1[3], box = b4, volla=vols1)\n",
    "testi(k=vols1[4], box = b5, volla=vols1)\n",
    "testi(k=vols1[5], box = b6, volla=vols1)"
   ]
  },
  {
   "cell_type": "code",
   "execution_count": 58,
   "metadata": {
    "collapsed": true
   },
   "outputs": [],
   "source": [
    "b1 = np.array(b1)\n",
    "b2 = np.array(b2)\n",
    "b3 = np.array(b3)\n",
    "b4 = np.array(b4)\n",
    "b5 = np.array(b5)\n",
    "b6 = np.array(b6)"
   ]
  },
  {
   "cell_type": "code",
   "execution_count": 59,
   "metadata": {
    "collapsed": true
   },
   "outputs": [],
   "source": [
    "covp1 = [b1 * np.array(corrs1[0]), b2 * np.array(corrs1[1]), b3 * np.array(corrs1[2]), \\\n",
    "        b4 * np.array(corrs1[3]), b5 * np.array(corrs1[4]), b6 * np.array(corrs1[5])]"
   ]
  },
  {
   "cell_type": "code",
   "execution_count": 60,
   "metadata": {
    "collapsed": true
   },
   "outputs": [],
   "source": [
    "covp1 = np.array(covp1)"
   ]
  },
  {
   "cell_type": "code",
   "execution_count": 61,
   "metadata": {
    "collapsed": true
   },
   "outputs": [],
   "source": [
    "def min_func_var1(weights):\n",
    "    return np.dot(weights.T, np.dot(covp1, weights))\n",
    "\n",
    "x1 = [1. / len(rets1)] * len(rets1)\n",
    "bnds1 = [(0, None)] * len(rets1)\n",
    "max_rets1 = np.array(rets1).max().round(3)\n",
    "min_rets1 = np.array(rets1).min().round(3)\n",
    "trets1 = np.linspace(min_rets1, max_rets1, 100)"
   ]
  },
  {
   "cell_type": "code",
   "execution_count": 62,
   "metadata": {
    "collapsed": true
   },
   "outputs": [],
   "source": [
    "tvols1 = []\n",
    "for tret1 in trets1:\n",
    "    cons = [{'type': 'eq', 'fun': lambda x: np.sum(x) - 1},\n",
    "           {'type': 'ineq', 'fun': lambda x: np.sum(rets1 * x) - tret1}]\n",
    "    res = sco.minimize(fun = min_func_var1, x0 = x1, method='SLSQP', bounds=bnds1, constraints = cons)\n",
    "    tvols1.append(np.sqrt(res['fun']))\n",
    "    \n",
    "tvols1 = np.array(tvols1)"
   ]
  },
  {
   "cell_type": "code",
   "execution_count": 63,
   "metadata": {},
   "outputs": [
    {
     "data": {
      "text/html": [
       "\n",
       "<div class=\"bk-root\">\n",
       "    <div class=\"bk-plotdiv\" id=\"407f5c47-f010-427c-a150-985b6fa4204e\"></div>\n",
       "</div>"
      ]
     },
     "metadata": {},
     "output_type": "display_data"
    },
    {
     "data": {
      "application/javascript": [
       "(function(root) {\n",
       "  function embed_document(root) {\n",
       "    var docs_json = {\"a1638a26-5fa0-43ec-bdc0-b7241bf7a384\":{\"roots\":{\"references\":[{\"attributes\":{\"data_source\":{\"id\":\"48081967-cc07-4d3f-b550-c7e43bbebacb\",\"type\":\"ColumnDataSource\"},\"glyph\":{\"id\":\"f8fc2d64-582e-4c73-afa6-9f2be3a251f2\",\"type\":\"Line\"},\"hover_glyph\":null,\"muted_glyph\":null,\"nonselection_glyph\":{\"id\":\"bd342e2d-a93b-489e-9350-4bb63dc130ed\",\"type\":\"Line\"},\"selection_glyph\":null,\"view\":{\"id\":\"8c58ed38-8b3c-4025-93e5-dace82d8f014\",\"type\":\"CDSView\"}},\"id\":\"b73b6e75-327c-4372-a405-329daa39f32f\",\"type\":\"GlyphRenderer\"},{\"attributes\":{\"plot\":{\"id\":\"19d9315c-8ffd-44f3-919d-0c3f363a69c9\",\"subtype\":\"Figure\",\"type\":\"Plot\"},\"ticker\":{\"id\":\"329e35e9-3edf-4756-88c3-07443553e344\",\"type\":\"BasicTicker\"}},\"id\":\"c49e8ec7-83c8-4a44-9509-1fbe8c360290\",\"type\":\"Grid\"},{\"attributes\":{\"axis_label\":\"\\u30dd\\u30fc\\u30c8\\u30d5\\u30a9\\u30ea\\u30aa\\u306e\\u30ea\\u30b9\\u30af\",\"formatter\":{\"id\":\"e4d9e9e2-1591-4dad-8d3b-cdeedfb78bed\",\"type\":\"BasicTickFormatter\"},\"plot\":{\"id\":\"19d9315c-8ffd-44f3-919d-0c3f363a69c9\",\"subtype\":\"Figure\",\"type\":\"Plot\"},\"ticker\":{\"id\":\"329e35e9-3edf-4756-88c3-07443553e344\",\"type\":\"BasicTicker\"}},\"id\":\"33e7b87e-d703-414e-9c94-e996a684a05b\",\"type\":\"LinearAxis\"},{\"attributes\":{\"label\":{\"value\":\"6\\u8cc7\\u7523\\uff08\\u9ad8\\u76f8\\u95a2\\uff09\"},\"renderers\":[{\"id\":\"c31d27e4-8de5-4b5f-987a-6334943e3c91\",\"type\":\"GlyphRenderer\"}]},\"id\":\"3219681e-a25c-4838-ba3e-beed13b33a8d\",\"type\":\"LegendItem\"},{\"attributes\":{},\"id\":\"329e35e9-3edf-4756-88c3-07443553e344\",\"type\":\"BasicTicker\"},{\"attributes\":{},\"id\":\"01bf0410-aec2-428b-941a-5c17f1a4538f\",\"type\":\"BasicTicker\"},{\"attributes\":{\"source\":{\"id\":\"21dba7f4-92db-4883-811c-1ac887791bd3\",\"type\":\"ColumnDataSource\"}},\"id\":\"7475b183-2873-4e98-a09c-fe598992db26\",\"type\":\"CDSView\"},{\"attributes\":{\"axis_label\":\"\\u30dd\\u30fc\\u30c8\\u30d5\\u30a9\\u30ea\\u30aa\\u306e\\u30ea\\u30bf\\u30fc\\u30f3\",\"formatter\":{\"id\":\"151783fc-b8b5-4f78-ba44-488880828df2\",\"type\":\"BasicTickFormatter\"},\"plot\":{\"id\":\"19d9315c-8ffd-44f3-919d-0c3f363a69c9\",\"subtype\":\"Figure\",\"type\":\"Plot\"},\"ticker\":{\"id\":\"01bf0410-aec2-428b-941a-5c17f1a4538f\",\"type\":\"BasicTicker\"}},\"id\":\"23938eb1-f72d-497b-9628-5c46babd7054\",\"type\":\"LinearAxis\"},{\"attributes\":{\"line_color\":{\"value\":\"green\"},\"line_width\":{\"value\":3},\"x\":{\"field\":\"x\"},\"y\":{\"field\":\"y\"}},\"id\":\"96d1c03b-5ba9-4920-8667-2b063951f2f7\",\"type\":\"Line\"},{\"attributes\":{\"dimension\":1,\"plot\":{\"id\":\"19d9315c-8ffd-44f3-919d-0c3f363a69c9\",\"subtype\":\"Figure\",\"type\":\"Plot\"},\"ticker\":{\"id\":\"01bf0410-aec2-428b-941a-5c17f1a4538f\",\"type\":\"BasicTicker\"}},\"id\":\"ba356b33-38f1-44d1-91c9-d0eb7b556342\",\"type\":\"Grid\"},{\"attributes\":{\"data_source\":{\"id\":\"21dba7f4-92db-4883-811c-1ac887791bd3\",\"type\":\"ColumnDataSource\"},\"glyph\":{\"id\":\"96d1c03b-5ba9-4920-8667-2b063951f2f7\",\"type\":\"Line\"},\"hover_glyph\":null,\"muted_glyph\":null,\"nonselection_glyph\":{\"id\":\"868d7813-9091-417e-9d90-44a9d82a08d3\",\"type\":\"Line\"},\"selection_glyph\":null,\"view\":{\"id\":\"7475b183-2873-4e98-a09c-fe598992db26\",\"type\":\"CDSView\"}},\"id\":\"c31d27e4-8de5-4b5f-987a-6334943e3c91\",\"type\":\"GlyphRenderer\"},{\"attributes\":{\"source\":{\"id\":\"48081967-cc07-4d3f-b550-c7e43bbebacb\",\"type\":\"ColumnDataSource\"}},\"id\":\"8c58ed38-8b3c-4025-93e5-dace82d8f014\",\"type\":\"CDSView\"},{\"attributes\":{\"line_alpha\":{\"value\":0.1},\"line_color\":{\"value\":\"#1f77b4\"},\"line_width\":{\"value\":3},\"x\":{\"field\":\"x\"},\"y\":{\"field\":\"y\"}},\"id\":\"bd342e2d-a93b-489e-9350-4bb63dc130ed\",\"type\":\"Line\"},{\"attributes\":{\"bottom_units\":\"screen\",\"fill_alpha\":{\"value\":0.5},\"fill_color\":{\"value\":\"lightgrey\"},\"left_units\":\"screen\",\"level\":\"overlay\",\"line_alpha\":{\"value\":1.0},\"line_color\":{\"value\":\"black\"},\"line_dash\":[4,4],\"line_width\":{\"value\":2},\"plot\":null,\"render_mode\":\"css\",\"right_units\":\"screen\",\"top_units\":\"screen\"},\"id\":\"6725d932-3da1-4337-b7e2-2eb82d256ef8\",\"type\":\"BoxAnnotation\"},{\"attributes\":{\"callback\":null},\"id\":\"763733aa-5f4a-4afb-bbc7-57668e86b6f0\",\"type\":\"DataRange1d\"},{\"attributes\":{},\"id\":\"38e83116-a7e1-4744-9548-55d647b1e16c\",\"type\":\"LinearScale\"},{\"attributes\":{},\"id\":\"12c3c94c-3552-4908-a595-2e037de13736\",\"type\":\"PanTool\"},{\"attributes\":{},\"id\":\"e4d9e9e2-1591-4dad-8d3b-cdeedfb78bed\",\"type\":\"BasicTickFormatter\"},{\"attributes\":{\"items\":[{\"id\":\"882199fe-9a7b-4319-8fe5-23bd35623b6a\",\"type\":\"LegendItem\"},{\"id\":\"3219681e-a25c-4838-ba3e-beed13b33a8d\",\"type\":\"LegendItem\"}],\"location\":\"top_left\",\"plot\":{\"id\":\"19d9315c-8ffd-44f3-919d-0c3f363a69c9\",\"subtype\":\"Figure\",\"type\":\"Plot\"}},\"id\":\"49aa3368-acab-43d1-880b-06e04a59264b\",\"type\":\"Legend\"},{\"attributes\":{},\"id\":\"64ffecec-7b7e-4614-8ae0-ed5e3e9da191\",\"type\":\"WheelZoomTool\"},{\"attributes\":{\"overlay\":{\"id\":\"6725d932-3da1-4337-b7e2-2eb82d256ef8\",\"type\":\"BoxAnnotation\"}},\"id\":\"763d0c4a-7be5-45a9-9d5f-bca16b05c144\",\"type\":\"BoxZoomTool\"},{\"attributes\":{},\"id\":\"cd8720c1-5957-49c8-97a7-f84a72364e93\",\"type\":\"SaveTool\"},{\"attributes\":{},\"id\":\"f4587651-5c60-4c7c-aa71-6cfc557d085c\",\"type\":\"ResetTool\"},{\"attributes\":{},\"id\":\"a2acb196-309f-4d57-829c-6c8d584db329\",\"type\":\"HelpTool\"},{\"attributes\":{\"label\":{\"value\":\"5\\u8cc7\\u7523\"},\"renderers\":[{\"id\":\"b73b6e75-327c-4372-a405-329daa39f32f\",\"type\":\"GlyphRenderer\"}]},\"id\":\"882199fe-9a7b-4319-8fe5-23bd35623b6a\",\"type\":\"LegendItem\"},{\"attributes\":{},\"id\":\"151783fc-b8b5-4f78-ba44-488880828df2\",\"type\":\"BasicTickFormatter\"},{\"attributes\":{\"below\":[{\"id\":\"33e7b87e-d703-414e-9c94-e996a684a05b\",\"type\":\"LinearAxis\"}],\"left\":[{\"id\":\"23938eb1-f72d-497b-9628-5c46babd7054\",\"type\":\"LinearAxis\"}],\"plot_height\":500,\"plot_width\":800,\"renderers\":[{\"id\":\"33e7b87e-d703-414e-9c94-e996a684a05b\",\"type\":\"LinearAxis\"},{\"id\":\"c49e8ec7-83c8-4a44-9509-1fbe8c360290\",\"type\":\"Grid\"},{\"id\":\"23938eb1-f72d-497b-9628-5c46babd7054\",\"type\":\"LinearAxis\"},{\"id\":\"ba356b33-38f1-44d1-91c9-d0eb7b556342\",\"type\":\"Grid\"},{\"id\":\"6725d932-3da1-4337-b7e2-2eb82d256ef8\",\"type\":\"BoxAnnotation\"},{\"id\":\"49aa3368-acab-43d1-880b-06e04a59264b\",\"type\":\"Legend\"},{\"id\":\"b73b6e75-327c-4372-a405-329daa39f32f\",\"type\":\"GlyphRenderer\"},{\"id\":\"c31d27e4-8de5-4b5f-987a-6334943e3c91\",\"type\":\"GlyphRenderer\"}],\"title\":{\"id\":\"fd2e59b6-4ad7-40bd-8b1a-19c201638f08\",\"type\":\"Title\"},\"toolbar\":{\"id\":\"be61c23f-b869-4a79-a31c-cebc50adc47a\",\"type\":\"Toolbar\"},\"x_range\":{\"id\":\"cc751716-cdad-44e4-aa2e-5a9a543fcc39\",\"type\":\"DataRange1d\"},\"x_scale\":{\"id\":\"38e83116-a7e1-4744-9548-55d647b1e16c\",\"type\":\"LinearScale\"},\"y_range\":{\"id\":\"763733aa-5f4a-4afb-bbc7-57668e86b6f0\",\"type\":\"DataRange1d\"},\"y_scale\":{\"id\":\"59386452-f68b-4eb2-8e30-ea0711068b67\",\"type\":\"LinearScale\"}},\"id\":\"19d9315c-8ffd-44f3-919d-0c3f363a69c9\",\"subtype\":\"Figure\",\"type\":\"Plot\"},{\"attributes\":{\"line_alpha\":{\"value\":0.1},\"line_color\":{\"value\":\"#1f77b4\"},\"line_width\":{\"value\":3},\"x\":{\"field\":\"x\"},\"y\":{\"field\":\"y\"}},\"id\":\"868d7813-9091-417e-9d90-44a9d82a08d3\",\"type\":\"Line\"},{\"attributes\":{},\"id\":\"59386452-f68b-4eb2-8e30-ea0711068b67\",\"type\":\"LinearScale\"},{\"attributes\":{\"line_color\":{\"value\":\"blue\"},\"line_width\":{\"value\":3},\"x\":{\"field\":\"x\"},\"y\":{\"field\":\"y\"}},\"id\":\"f8fc2d64-582e-4c73-afa6-9f2be3a251f2\",\"type\":\"Line\"},{\"attributes\":{\"plot\":null,\"text\":\"\\u30dd\\u30fc\\u30c8\\u30d5\\u30a9\\u30ea\\u30aa\\u306e\\u30ea\\u30b9\\u30af\\u3068\\u30ea\\u30bf\\u30fc\\u30f3\"},\"id\":\"fd2e59b6-4ad7-40bd-8b1a-19c201638f08\",\"type\":\"Title\"},{\"attributes\":{\"active_drag\":\"auto\",\"active_inspect\":\"auto\",\"active_scroll\":\"auto\",\"active_tap\":\"auto\",\"tools\":[{\"id\":\"12c3c94c-3552-4908-a595-2e037de13736\",\"type\":\"PanTool\"},{\"id\":\"64ffecec-7b7e-4614-8ae0-ed5e3e9da191\",\"type\":\"WheelZoomTool\"},{\"id\":\"763d0c4a-7be5-45a9-9d5f-bca16b05c144\",\"type\":\"BoxZoomTool\"},{\"id\":\"cd8720c1-5957-49c8-97a7-f84a72364e93\",\"type\":\"SaveTool\"},{\"id\":\"f4587651-5c60-4c7c-aa71-6cfc557d085c\",\"type\":\"ResetTool\"},{\"id\":\"a2acb196-309f-4d57-829c-6c8d584db329\",\"type\":\"HelpTool\"}]},\"id\":\"be61c23f-b869-4a79-a31c-cebc50adc47a\",\"type\":\"Toolbar\"},{\"attributes\":{\"callback\":null,\"column_names\":[\"x\",\"y\"],\"data\":{\"x\":{\"__ndarray__\":\"NBy/rUP7oj80HL+tQ/uiPzQcv61D+6I/NBy/rUP7oj80HL+tQ/uiPzQcv61D+6I/NBy/rUP7oj/SSD1UcvuiP2LGtcfE/qI/AkTVkR0Ioz8JZmeTlhejP8JPijwNLaM/FK06UltIoz9N0qKQWmmjPz0N3Y0QkKM/DthwYxW8oz9BwL8ade2jPyD4vc6sJKQ/h9m/JntgpD/ir0PJRaCkPwLbtIi15aQ/r4FywT5XpT+MiyrXGJWlPxn9icqh2aU/+N9y6Roopj/i0RBMtYGmP58Kj9MF4aY/Mkq5L5VQpz+tadfYkamnP1JI2MAUG6g/09SpYFZ6qD8J5wAro92oP30MY9DYTak/UlN191TAqT+853J2SzWqPz4U0l1krKo/LULxM6glqz8VAgvN4qGrP1szLQmKH6w/9x41wfCcrD/K06fLbh6tPx0wVWFroa0/X6DqW+Ilrj8x1X9Tx6uuP26ozjEhP68/i+vDCevlrz+o7N9j/jqwP9YlHV0gmbA/aOicjHf+sD9k1VLVuWqxP1/tI5lV3bE/3KBwydNVsj/VFhhxw9OyP6cIPUK6VrM/IziLwVTesz+NAYX+P2q0P53GZmEP+rQ/x+sSpt6OtT90tkS6TyS2P5hUrkM3vrY/gNtfsv5atz9oF2VzY/q3PwYwPYZQnLg/DCNy0U9AuT/IIPkN/ea5P5LhjfdLkLo/olM6/gU8uz8d5813/um7P0HSSHIMmrw/+Ma3WwpMvT8857Tp1f+9P+E+TO9Otb4//V8FvVhsvz8/P+lHbBLAP+VscuBab8A/62Bk1ezMwD9zLJi3FyvBP6IGmebRicE/orWEghLpwT/NKLNV0UjCP2OavckGqcI/hSod16sJwz+He6r8uWrDPyN24C8rzMM/rIt/1vktxD9Bzhi6IJDEPx/K6wKb8sQ/QCrWLmRVxT/HFBMIeLjFP8P7iqPSG8Y/NBlxV3B/xj/bsUG4TePGPziL5ZFnR8c/0Ao+5bqrxz8SYerjRBDIPyr//+oCdcg/dcIugvLZyD/8ilKBcHPJP4Sx3hNmyMo/b5HeEz/GzD8=\",\"dtype\":\"float64\",\"shape\":[100]},\"y\":{\"__ndarray__\":\"2/l+arx0kz/pNX5N0saTP/dxfTDoGJQ/BK58E/5qlD8S6nv2E72UPyAme9kpD5U/LmJ6vD9hlT88nnmfVbOVP0raeIJrBZY/WBZ4ZYFXlj9lUndIl6mWP3OOdiut+5Y/gcp1DsNNlz+PBnXx2J+XP5xCdNTu8Zc/qn5ztwREmD+4unKaGpaYP8b2cX0w6Jg/1DJxYEY6mT/ibnBDXIyZP/CqbyZy3pk//uZuCYgwmj8LI27snYKaPxlfbc+z1Jo/J5tssskmmz8012uV33ibP0ITa3j1yps/UE9qWwsdnD9ei2k+IW+cP2zHaCE3wZw/egNoBE0TnT+IP2fnYmWdP5Z7Zsp4t50/pLdlrY4Jnj+x82SQpFueP78vZHO6rZ4/zWtjVtD/nj/ap2I55lGfP+jjYRz8o58/9h9h/xH2nz8CLjDxEySgPwnMr+IeTaA/EGov1Cl2oD8XCK/FNJ+gPx6mLrc/yKA/JUSuqErxoD8s4i2aVRqhPzKArYtgQ6E/Oh4tfWtsoT9AvKxudpWhP0daLGCBvqE/TvirUYznoT9VlitDlxCiP1w0qzSiOaI/Y9IqJq1ioj9qcKoXuIuiP3AOKgnDtKI/eKyp+s3doj9+Sins2AajP4boqN3jL6M/jIYoz+5Yoz+UJKjA+YGjP5rCJ7IEq6M/oWCnow/Uoz+o/iaVGv2jP6+cpoYlJqQ/tjomeDBPpD+82KVpO3ikP8R2JVtGoaQ/yhSlTFHKpD/SsiQ+XPOkP9hQpC9nHKU/4O4jIXJFpT/mjKMSfW6lP+0qIwSIl6U/9Mii9ZLApT/7ZiLnnemlPwIFotioEqY/CaMhyrM7pj8QQaG7vmSmPxbfIK3JjaY/Hn2gntS2pj8kGyCQ39+mPyy5n4HqCKc/Mlcfc/Uxpz859Z5kAFunP0CTHlYLhKc/RzGeRxatpz9Ozx05IdanP1VtnSos/6c/XAsdHDcoqD9iqZwNQlGoP2pHHP9Meqg/cOWb8FejqD94gxviYsyoP34hm9Nt9ag/hr8axXgeqT+MXZq2g0epP5P7GaiOcKk/mpmZmZmZqT8=\",\"dtype\":\"float64\",\"shape\":[100]}}},\"id\":\"48081967-cc07-4d3f-b550-c7e43bbebacb\",\"type\":\"ColumnDataSource\"},{\"attributes\":{\"callback\":null,\"column_names\":[\"x\",\"y\"],\"data\":{\"x\":{\"__ndarray__\":\"2Uph9LX7oj/ZSmH0tfuiP9lKYfS1+6I/2Uph9LX7oj/ZSmH0tfuiP9lKYfS1+6I/2Uph9LX7oj9+UW3FivuiP8YI9eeW/6I/IAMughoIoz8j99u5mBejPzmWvcuBLaM/jqPwKXFIoz/JZHWaRGmjP69azAffj6M/5TNzH3y8oz8vmOtJn+2jP8Jph1coJKQ/eC5S70RgpD9F5UG0dq2kP3Gqu9wE5qQ/CAvAX3YvpT+Hv7B525GlP/J0vTDA2aU/iZB14Woypj8wd+JGpH+mPz1AuVx+4KY/KqDC8exFpz+qMUQBEqunP2zTeKeTFqg/7r7lzRGCqD/mx9r+e/CoP+Oqt9CtVqk/RED9tri/qT8Zii2vszOqP+Tg2jSpqao/q3uLv44iqz+OX/xk+berPyUT1jiIOqw/y2Z1J3DIrD8lUwKvF5KuP5CTWB+9Fa8/unD4a1uWrz9cStRKHwuwPyybUAnQSbA/QLSj8ryHsD/1L+AlU8SwP21eV+JcALE/D/e6UsEusT/U5Hi4k2exP35JjNskJ7E/cHgIkYxWsT/9jLyvE4axPwcYzW61tbE/dASA+XDlsT/3t7GCRRWyPwcB9UYyRbI/0NhYiTZ1sj89zGB9UqWyPyrV9fqT1bI/mbNHBuMFsz+48UvDazazP26vNVdvaLM/V2Emb+Kbsz8e3/zcudCzPyvpFpvqBrQ/Tck41mk+tD9W8sjqLHe0PzuaVYnuaLU//hVN8+xttj8TqKYpzXi3P8ZA1kf7hbg/0vKxeF6RuT/Q/CZAJpu6P+C53PyAo7s/e/qhHpaqvD9FCaV4h7C9P/+8oDRytb4/06E5oG+5vz+9aCDqSl7AP3DLrxZ838A/xymEIaNgwT8MLWz92eDBP2BF0UlMYcI/LfNeau7hwj9xKdkTwGDDPzcHOek64MM/T9sREn9fxD8P82t2kN7EP2xoFaByXcU/wavwxSjcxT/GWNHTtVrGPz8CsnQc2cY/MaBsGF9Xxz/OKmf8f9XHP/MGliyBU8g/uoM8i2TRyD99br9+cHPJPxdlzQhmyMo/BE1C/D7GzD8=\",\"dtype\":\"float64\",\"shape\":[100]},\"y\":{\"__ndarray__\":\"2/l+arx0kz/pNX5N0saTP/dxfTDoGJQ/BK58E/5qlD8S6nv2E72UPyAme9kpD5U/LmJ6vD9hlT88nnmfVbOVP0raeIJrBZY/WBZ4ZYFXlj9lUndIl6mWP3OOdiut+5Y/gcp1DsNNlz+PBnXx2J+XP5xCdNTu8Zc/qn5ztwREmD+4unKaGpaYP8b2cX0w6Jg/1DJxYEY6mT/ibnBDXIyZP/CqbyZy3pk//uZuCYgwmj8LI27snYKaPxlfbc+z1Jo/J5tssskmmz8012uV33ibP0ITa3j1yps/UE9qWwsdnD9ei2k+IW+cP2zHaCE3wZw/egNoBE0TnT+IP2fnYmWdP5Z7Zsp4t50/pLdlrY4Jnj+x82SQpFueP78vZHO6rZ4/zWtjVtD/nj/ap2I55lGfP+jjYRz8o58/9h9h/xH2nz8CLjDxEySgPwnMr+IeTaA/EGov1Cl2oD8XCK/FNJ+gPx6mLrc/yKA/JUSuqErxoD8s4i2aVRqhPzKArYtgQ6E/Oh4tfWtsoT9AvKxudpWhP0daLGCBvqE/TvirUYznoT9VlitDlxCiP1w0qzSiOaI/Y9IqJq1ioj9qcKoXuIuiP3AOKgnDtKI/eKyp+s3doj9+Sins2AajP4boqN3jL6M/jIYoz+5Yoz+UJKjA+YGjP5rCJ7IEq6M/oWCnow/Uoz+o/iaVGv2jP6+cpoYlJqQ/tjomeDBPpD+82KVpO3ikP8R2JVtGoaQ/yhSlTFHKpD/SsiQ+XPOkP9hQpC9nHKU/4O4jIXJFpT/mjKMSfW6lP+0qIwSIl6U/9Mii9ZLApT/7ZiLnnemlPwIFotioEqY/CaMhyrM7pj8QQaG7vmSmPxbfIK3JjaY/Hn2gntS2pj8kGyCQ39+mPyy5n4HqCKc/Mlcfc/Uxpz859Z5kAFunP0CTHlYLhKc/RzGeRxatpz9Ozx05IdanP1VtnSos/6c/XAsdHDcoqD9iqZwNQlGoP2pHHP9Meqg/cOWb8FejqD94gxviYsyoP34hm9Nt9ag/hr8axXgeqT+MXZq2g0epP5P7GaiOcKk/mpmZmZmZqT8=\",\"dtype\":\"float64\",\"shape\":[100]}}},\"id\":\"21dba7f4-92db-4883-811c-1ac887791bd3\",\"type\":\"ColumnDataSource\"},{\"attributes\":{\"callback\":null},\"id\":\"cc751716-cdad-44e4-aa2e-5a9a543fcc39\",\"type\":\"DataRange1d\"}],\"root_ids\":[\"19d9315c-8ffd-44f3-919d-0c3f363a69c9\"]},\"title\":\"Bokeh Application\",\"version\":\"0.12.10\"}};\n",
       "    var render_items = [{\"docid\":\"a1638a26-5fa0-43ec-bdc0-b7241bf7a384\",\"elementid\":\"407f5c47-f010-427c-a150-985b6fa4204e\",\"modelid\":\"19d9315c-8ffd-44f3-919d-0c3f363a69c9\"}];\n",
       "\n",
       "    root.Bokeh.embed.embed_items(docs_json, render_items);\n",
       "  }\n",
       "\n",
       "  if (root.Bokeh !== undefined) {\n",
       "    embed_document(root);\n",
       "  } else {\n",
       "    var attempts = 0;\n",
       "    var timer = setInterval(function(root) {\n",
       "      if (root.Bokeh !== undefined) {\n",
       "        embed_document(root);\n",
       "        clearInterval(timer);\n",
       "      }\n",
       "      attempts++;\n",
       "      if (attempts > 100) {\n",
       "        console.log(\"Bokeh: ERROR: Unable to embed document because BokehJS library is missing\")\n",
       "        clearInterval(timer);\n",
       "      }\n",
       "    }, 10, root)\n",
       "  }\n",
       "})(window);"
      ],
      "application/vnd.bokehjs_exec.v0+json": ""
     },
     "metadata": {
      "application/vnd.bokehjs_exec.v0+json": {
       "id": "19d9315c-8ffd-44f3-919d-0c3f363a69c9"
      }
     },
     "output_type": "display_data"
    }
   ],
   "source": [
    "p = figure(width=800, height=500, title='ポートフォリオのリスクとリターン')\n",
    "p.line(tvols, trets, color='blue', line_width=3, legend='5資産')\n",
    "p.line(tvols1, trets1, color='green', line_width=3, legend='6資産（高相関）')\n",
    "p.xaxis.axis_label = 'ポートフォリオのリスク'\n",
    "p.yaxis.axis_label = 'ポートフォリオのリターン'\n",
    "p.legend.location='top_left'\n",
    "show(p)"
   ]
  },
  {
   "cell_type": "code",
   "execution_count": 64,
   "metadata": {
    "collapsed": true
   },
   "outputs": [],
   "source": [
    "corrs2 = [[1, 0.199, -0.025, 0.001, 0.504, 0.1],\n",
    "        [0.199, 1, -0.063, 0.494, 0.096, 0.2],\n",
    "        [-0.025, -0.063, 1, 0.577, 0.009, 0.1],\n",
    "        [0.001, 0.494, 0.577, 1, -0.022, 0.2],\n",
    "        [0.504, 0.096, 0.009, -0.022, 1, 0.1],\n",
    "        [0.1, 0.2, 0.1, 0.2, 0.1, 1.0 ]]  "
   ]
  },
  {
   "cell_type": "code",
   "execution_count": 65,
   "metadata": {
    "collapsed": true
   },
   "outputs": [],
   "source": [
    "covp2 = [b1 * np.array(corrs2[0]), b2 * np.array(corrs2[1]), b3 * np.array(corrs2[2]), \\\n",
    "        b4 * np.array(corrs2[3]), b5 * np.array(corrs2[4]), b6 * np.array(corrs2[5])]"
   ]
  },
  {
   "cell_type": "code",
   "execution_count": 66,
   "metadata": {
    "collapsed": true
   },
   "outputs": [],
   "source": [
    "covp2 = np.array(covp2)"
   ]
  },
  {
   "cell_type": "code",
   "execution_count": 67,
   "metadata": {
    "collapsed": true
   },
   "outputs": [],
   "source": [
    "def min_func_var2(weights):\n",
    "    return np.dot(weights.T, np.dot(covp2, weights))"
   ]
  },
  {
   "cell_type": "code",
   "execution_count": 68,
   "metadata": {
    "collapsed": true
   },
   "outputs": [],
   "source": [
    "tvols2 = []\n",
    "for tret1 in trets1:\n",
    "    cons = [{'type': 'eq', 'fun': lambda x: np.sum(x) - 1},\n",
    "           {'type': 'ineq', 'fun': lambda x: np.sum(rets1 * x) - tret1}]\n",
    "    res = sco.minimize(fun = min_func_var2, x0 = x1, method='SLSQP', bounds=bnds1, constraints = cons)\n",
    "    tvols2.append(np.sqrt(res['fun']))\n",
    "    \n",
    "tvols2 = np.array(tvols2)"
   ]
  },
  {
   "cell_type": "code",
   "execution_count": 69,
   "metadata": {},
   "outputs": [
    {
     "data": {
      "text/html": [
       "\n",
       "<div class=\"bk-root\">\n",
       "    <div class=\"bk-plotdiv\" id=\"1f1e7cf1-1495-4d3c-a80d-c77c54c5a642\"></div>\n",
       "</div>"
      ]
     },
     "metadata": {},
     "output_type": "display_data"
    },
    {
     "data": {
      "application/javascript": [
       "(function(root) {\n",
       "  function embed_document(root) {\n",
       "    var docs_json = {\"fd3d1648-fe2f-451b-81a2-1c080d5f60e6\":{\"roots\":{\"references\":[{\"attributes\":{\"line_color\":{\"value\":\"blue\"},\"line_width\":{\"value\":3},\"x\":{\"field\":\"x\"},\"y\":{\"field\":\"y\"}},\"id\":\"75d82511-d200-45cc-961e-b7ff7b619228\",\"type\":\"Line\"},{\"attributes\":{\"dimension\":1,\"plot\":{\"id\":\"2379a28f-e4ab-4029-8bbc-4cf957f42c88\",\"subtype\":\"Figure\",\"type\":\"Plot\"},\"ticker\":{\"id\":\"f92af5c0-3962-45c3-bd9e-4432d09d3d73\",\"type\":\"BasicTicker\"}},\"id\":\"8459c8c9-d4b5-4208-835c-8790df27f326\",\"type\":\"Grid\"},{\"attributes\":{\"below\":[{\"id\":\"d83ff38d-3d2d-4c21-8cf7-d9873cf1d181\",\"type\":\"LinearAxis\"}],\"left\":[{\"id\":\"49c76c30-1937-42f9-96a2-c7f8883a3980\",\"type\":\"LinearAxis\"}],\"plot_height\":500,\"plot_width\":800,\"renderers\":[{\"id\":\"d83ff38d-3d2d-4c21-8cf7-d9873cf1d181\",\"type\":\"LinearAxis\"},{\"id\":\"6cce6ed2-6865-4a98-b0fe-5fdb88462ba5\",\"type\":\"Grid\"},{\"id\":\"49c76c30-1937-42f9-96a2-c7f8883a3980\",\"type\":\"LinearAxis\"},{\"id\":\"8459c8c9-d4b5-4208-835c-8790df27f326\",\"type\":\"Grid\"},{\"id\":\"da26b0aa-a5c1-4a4e-8b50-1d9160d00047\",\"type\":\"BoxAnnotation\"},{\"id\":\"6c7d1866-b108-4f61-9b10-26c3fd99d6dc\",\"type\":\"Legend\"},{\"id\":\"a12a24ce-c576-4680-9b6c-70133f6023ae\",\"type\":\"GlyphRenderer\"},{\"id\":\"ff54a2ee-8111-4830-892e-21111af3fa2c\",\"type\":\"GlyphRenderer\"},{\"id\":\"274df2f6-67e8-4b1c-9e7f-6d39b026cec0\",\"type\":\"GlyphRenderer\"}],\"title\":{\"id\":\"38386dfe-6f0c-4ba3-a447-ff1e9f153afd\",\"type\":\"Title\"},\"toolbar\":{\"id\":\"02e739c7-5d19-4e7c-8fa9-3fa9331d9688\",\"type\":\"Toolbar\"},\"x_range\":{\"id\":\"18c230e9-347a-4ad0-9d97-c0f0ad17c38e\",\"type\":\"DataRange1d\"},\"x_scale\":{\"id\":\"e6560896-c469-43c6-823f-4ffa4977ac00\",\"type\":\"LinearScale\"},\"y_range\":{\"id\":\"55aa4311-6f32-4667-aa5b-3713d3137125\",\"type\":\"DataRange1d\"},\"y_scale\":{\"id\":\"236d8e68-2547-4cb0-ab70-f0abd1eddaf3\",\"type\":\"LinearScale\"}},\"id\":\"2379a28f-e4ab-4029-8bbc-4cf957f42c88\",\"subtype\":\"Figure\",\"type\":\"Plot\"},{\"attributes\":{\"plot\":null,\"text\":\"\\u30dd\\u30fc\\u30c8\\u30d5\\u30a9\\u30ea\\u30aa\\u306e\\u30ea\\u30b9\\u30af\\u3068\\u30ea\\u30bf\\u30fc\\u30f3\"},\"id\":\"38386dfe-6f0c-4ba3-a447-ff1e9f153afd\",\"type\":\"Title\"},{\"attributes\":{\"callback\":null},\"id\":\"18c230e9-347a-4ad0-9d97-c0f0ad17c38e\",\"type\":\"DataRange1d\"},{\"attributes\":{\"active_drag\":\"auto\",\"active_inspect\":\"auto\",\"active_scroll\":\"auto\",\"active_tap\":\"auto\",\"tools\":[{\"id\":\"b172d738-b9cf-4d19-9bf2-497d485a4307\",\"type\":\"PanTool\"},{\"id\":\"463c0d06-79ba-41f6-a247-227126ee60c1\",\"type\":\"WheelZoomTool\"},{\"id\":\"d3726d26-b98d-4bea-8243-cd226edae030\",\"type\":\"BoxZoomTool\"},{\"id\":\"84f4a0a7-de46-406e-aa52-fd544dcafaf2\",\"type\":\"SaveTool\"},{\"id\":\"ce11a2c0-00f7-4ae2-8aa1-e388ad899e45\",\"type\":\"ResetTool\"},{\"id\":\"6dfaa779-da2b-417f-a8dd-bd0bd24556c4\",\"type\":\"HelpTool\"}]},\"id\":\"02e739c7-5d19-4e7c-8fa9-3fa9331d9688\",\"type\":\"Toolbar\"},{\"attributes\":{},\"id\":\"e6560896-c469-43c6-823f-4ffa4977ac00\",\"type\":\"LinearScale\"},{\"attributes\":{\"callback\":null},\"id\":\"55aa4311-6f32-4667-aa5b-3713d3137125\",\"type\":\"DataRange1d\"},{\"attributes\":{},\"id\":\"236d8e68-2547-4cb0-ab70-f0abd1eddaf3\",\"type\":\"LinearScale\"},{\"attributes\":{\"bottom_units\":\"screen\",\"fill_alpha\":{\"value\":0.5},\"fill_color\":{\"value\":\"lightgrey\"},\"left_units\":\"screen\",\"level\":\"overlay\",\"line_alpha\":{\"value\":1.0},\"line_color\":{\"value\":\"black\"},\"line_dash\":[4,4],\"line_width\":{\"value\":2},\"plot\":null,\"render_mode\":\"css\",\"right_units\":\"screen\",\"top_units\":\"screen\"},\"id\":\"da26b0aa-a5c1-4a4e-8b50-1d9160d00047\",\"type\":\"BoxAnnotation\"},{\"attributes\":{\"plot\":{\"id\":\"2379a28f-e4ab-4029-8bbc-4cf957f42c88\",\"subtype\":\"Figure\",\"type\":\"Plot\"},\"ticker\":{\"id\":\"28cf760e-16ca-47b3-8d3c-6ff9cea9125a\",\"type\":\"BasicTicker\"}},\"id\":\"6cce6ed2-6865-4a98-b0fe-5fdb88462ba5\",\"type\":\"Grid\"},{\"attributes\":{\"axis_label\":\"\\u30dd\\u30fc\\u30c8\\u30d5\\u30a9\\u30ea\\u30aa\\u306e\\u30ea\\u30bf\\u30fc\\u30f3\",\"formatter\":{\"id\":\"acfafbc9-9cb4-4d83-abad-653a0264f2a5\",\"type\":\"BasicTickFormatter\"},\"plot\":{\"id\":\"2379a28f-e4ab-4029-8bbc-4cf957f42c88\",\"subtype\":\"Figure\",\"type\":\"Plot\"},\"ticker\":{\"id\":\"28cf760e-16ca-47b3-8d3c-6ff9cea9125a\",\"type\":\"BasicTicker\"}},\"id\":\"d83ff38d-3d2d-4c21-8cf7-d9873cf1d181\",\"type\":\"LinearAxis\"},{\"attributes\":{},\"id\":\"b172d738-b9cf-4d19-9bf2-497d485a4307\",\"type\":\"PanTool\"},{\"attributes\":{},\"id\":\"28cf760e-16ca-47b3-8d3c-6ff9cea9125a\",\"type\":\"BasicTicker\"},{\"attributes\":{\"formatter\":{\"id\":\"60c2706a-4b2c-45d6-9abe-d269712fb419\",\"type\":\"BasicTickFormatter\"},\"plot\":{\"id\":\"2379a28f-e4ab-4029-8bbc-4cf957f42c88\",\"subtype\":\"Figure\",\"type\":\"Plot\"},\"ticker\":{\"id\":\"f92af5c0-3962-45c3-bd9e-4432d09d3d73\",\"type\":\"BasicTicker\"}},\"id\":\"49c76c30-1937-42f9-96a2-c7f8883a3980\",\"type\":\"LinearAxis\"},{\"attributes\":{\"label\":{\"value\":\"\\uff16\\u8cc7\\u7523\\uff08\\u4f4e\\u76f8\\u95a2)\"},\"renderers\":[{\"id\":\"274df2f6-67e8-4b1c-9e7f-6d39b026cec0\",\"type\":\"GlyphRenderer\"}]},\"id\":\"945c81a6-39e9-43ec-998f-bae355bee8d1\",\"type\":\"LegendItem\"},{\"attributes\":{\"line_alpha\":{\"value\":0.1},\"line_color\":{\"value\":\"#1f77b4\"},\"line_width\":{\"value\":3},\"x\":{\"field\":\"x\"},\"y\":{\"field\":\"y\"}},\"id\":\"4ba18eb9-f36f-4005-be10-44257614a27f\",\"type\":\"Line\"},{\"attributes\":{\"items\":[{\"id\":\"af81fd0e-8da4-43f4-982b-38026af6dde7\",\"type\":\"LegendItem\"},{\"id\":\"21963b16-a9a2-46c3-9cae-8756608771ba\",\"type\":\"LegendItem\"},{\"id\":\"945c81a6-39e9-43ec-998f-bae355bee8d1\",\"type\":\"LegendItem\"}],\"location\":\"top_left\",\"plot\":{\"id\":\"2379a28f-e4ab-4029-8bbc-4cf957f42c88\",\"subtype\":\"Figure\",\"type\":\"Plot\"}},\"id\":\"6c7d1866-b108-4f61-9b10-26c3fd99d6dc\",\"type\":\"Legend\"},{\"attributes\":{\"callback\":null,\"column_names\":[\"x\",\"y\"],\"data\":{\"x\":{\"__ndarray__\":\"NBy/rUP7oj80HL+tQ/uiPzQcv61D+6I/NBy/rUP7oj80HL+tQ/uiPzQcv61D+6I/NBy/rUP7oj/SSD1UcvuiP2LGtcfE/qI/AkTVkR0Ioz8JZmeTlhejP8JPijwNLaM/FK06UltIoz9N0qKQWmmjPz0N3Y0QkKM/DthwYxW8oz9BwL8ade2jPyD4vc6sJKQ/h9m/JntgpD/ir0PJRaCkPwLbtIi15aQ/r4FywT5XpT+MiyrXGJWlPxn9icqh2aU/+N9y6Roopj/i0RBMtYGmP58Kj9MF4aY/Mkq5L5VQpz+tadfYkamnP1JI2MAUG6g/09SpYFZ6qD8J5wAro92oP30MY9DYTak/UlN191TAqT+853J2SzWqPz4U0l1krKo/LULxM6glqz8VAgvN4qGrP1szLQmKH6w/9x41wfCcrD/K06fLbh6tPx0wVWFroa0/X6DqW+Ilrj8x1X9Tx6uuP26ozjEhP68/i+vDCevlrz+o7N9j/jqwP9YlHV0gmbA/aOicjHf+sD9k1VLVuWqxP1/tI5lV3bE/3KBwydNVsj/VFhhxw9OyP6cIPUK6VrM/IziLwVTesz+NAYX+P2q0P53GZmEP+rQ/x+sSpt6OtT90tkS6TyS2P5hUrkM3vrY/gNtfsv5atz9oF2VzY/q3PwYwPYZQnLg/DCNy0U9AuT/IIPkN/ea5P5LhjfdLkLo/olM6/gU8uz8d5813/um7P0HSSHIMmrw/+Ma3WwpMvT8857Tp1f+9P+E+TO9Otb4//V8FvVhsvz8/P+lHbBLAP+VscuBab8A/62Bk1ezMwD9zLJi3FyvBP6IGmebRicE/orWEghLpwT/NKLNV0UjCP2OavckGqcI/hSod16sJwz+He6r8uWrDPyN24C8rzMM/rIt/1vktxD9Bzhi6IJDEPx/K6wKb8sQ/QCrWLmRVxT/HFBMIeLjFP8P7iqPSG8Y/NBlxV3B/xj/bsUG4TePGPziL5ZFnR8c/0Ao+5bqrxz8SYerjRBDIPyr//+oCdcg/dcIugvLZyD/8ilKBcHPJP4Sx3hNmyMo/b5HeEz/GzD8=\",\"dtype\":\"float64\",\"shape\":[100]},\"y\":{\"__ndarray__\":\"2/l+arx0kz/pNX5N0saTP/dxfTDoGJQ/BK58E/5qlD8S6nv2E72UPyAme9kpD5U/LmJ6vD9hlT88nnmfVbOVP0raeIJrBZY/WBZ4ZYFXlj9lUndIl6mWP3OOdiut+5Y/gcp1DsNNlz+PBnXx2J+XP5xCdNTu8Zc/qn5ztwREmD+4unKaGpaYP8b2cX0w6Jg/1DJxYEY6mT/ibnBDXIyZP/CqbyZy3pk//uZuCYgwmj8LI27snYKaPxlfbc+z1Jo/J5tssskmmz8012uV33ibP0ITa3j1yps/UE9qWwsdnD9ei2k+IW+cP2zHaCE3wZw/egNoBE0TnT+IP2fnYmWdP5Z7Zsp4t50/pLdlrY4Jnj+x82SQpFueP78vZHO6rZ4/zWtjVtD/nj/ap2I55lGfP+jjYRz8o58/9h9h/xH2nz8CLjDxEySgPwnMr+IeTaA/EGov1Cl2oD8XCK/FNJ+gPx6mLrc/yKA/JUSuqErxoD8s4i2aVRqhPzKArYtgQ6E/Oh4tfWtsoT9AvKxudpWhP0daLGCBvqE/TvirUYznoT9VlitDlxCiP1w0qzSiOaI/Y9IqJq1ioj9qcKoXuIuiP3AOKgnDtKI/eKyp+s3doj9+Sins2AajP4boqN3jL6M/jIYoz+5Yoz+UJKjA+YGjP5rCJ7IEq6M/oWCnow/Uoz+o/iaVGv2jP6+cpoYlJqQ/tjomeDBPpD+82KVpO3ikP8R2JVtGoaQ/yhSlTFHKpD/SsiQ+XPOkP9hQpC9nHKU/4O4jIXJFpT/mjKMSfW6lP+0qIwSIl6U/9Mii9ZLApT/7ZiLnnemlPwIFotioEqY/CaMhyrM7pj8QQaG7vmSmPxbfIK3JjaY/Hn2gntS2pj8kGyCQ39+mPyy5n4HqCKc/Mlcfc/Uxpz859Z5kAFunP0CTHlYLhKc/RzGeRxatpz9Ozx05IdanP1VtnSos/6c/XAsdHDcoqD9iqZwNQlGoP2pHHP9Meqg/cOWb8FejqD94gxviYsyoP34hm9Nt9ag/hr8axXgeqT+MXZq2g0epP5P7GaiOcKk/mpmZmZmZqT8=\",\"dtype\":\"float64\",\"shape\":[100]}}},\"id\":\"a4616ec7-e25b-4836-b046-5c8f3ba8540d\",\"type\":\"ColumnDataSource\"},{\"attributes\":{},\"id\":\"f92af5c0-3962-45c3-bd9e-4432d09d3d73\",\"type\":\"BasicTicker\"},{\"attributes\":{},\"id\":\"6dfaa779-da2b-417f-a8dd-bd0bd24556c4\",\"type\":\"HelpTool\"},{\"attributes\":{\"line_alpha\":{\"value\":0.1},\"line_color\":{\"value\":\"#1f77b4\"},\"line_width\":{\"value\":3},\"x\":{\"field\":\"x\"},\"y\":{\"field\":\"y\"}},\"id\":\"40af85c5-3265-4aea-9239-342aade4106f\",\"type\":\"Line\"},{\"attributes\":{\"overlay\":{\"id\":\"da26b0aa-a5c1-4a4e-8b50-1d9160d00047\",\"type\":\"BoxAnnotation\"}},\"id\":\"d3726d26-b98d-4bea-8243-cd226edae030\",\"type\":\"BoxZoomTool\"},{\"attributes\":{},\"id\":\"ce11a2c0-00f7-4ae2-8aa1-e388ad899e45\",\"type\":\"ResetTool\"},{\"attributes\":{},\"id\":\"60c2706a-4b2c-45d6-9abe-d269712fb419\",\"type\":\"BasicTickFormatter\"},{\"attributes\":{\"callback\":null,\"column_names\":[\"x\",\"y\"],\"data\":{\"x\":{\"__ndarray__\":\"2Uph9LX7oj/ZSmH0tfuiP9lKYfS1+6I/2Uph9LX7oj/ZSmH0tfuiP9lKYfS1+6I/2Uph9LX7oj9+UW3FivuiP8YI9eeW/6I/IAMughoIoz8j99u5mBejPzmWvcuBLaM/jqPwKXFIoz/JZHWaRGmjP69azAffj6M/5TNzH3y8oz8vmOtJn+2jP8Jph1coJKQ/eC5S70RgpD9F5UG0dq2kP3Gqu9wE5qQ/CAvAX3YvpT+Hv7B525GlP/J0vTDA2aU/iZB14Woypj8wd+JGpH+mPz1AuVx+4KY/KqDC8exFpz+qMUQBEqunP2zTeKeTFqg/7r7lzRGCqD/mx9r+e/CoP+Oqt9CtVqk/RED9tri/qT8Zii2vszOqP+Tg2jSpqao/q3uLv44iqz+OX/xk+berPyUT1jiIOqw/y2Z1J3DIrD8lUwKvF5KuP5CTWB+9Fa8/unD4a1uWrz9cStRKHwuwPyybUAnQSbA/QLSj8ryHsD/1L+AlU8SwP21eV+JcALE/D/e6UsEusT/U5Hi4k2exP35JjNskJ7E/cHgIkYxWsT/9jLyvE4axPwcYzW61tbE/dASA+XDlsT/3t7GCRRWyPwcB9UYyRbI/0NhYiTZ1sj89zGB9UqWyPyrV9fqT1bI/mbNHBuMFsz+48UvDazazP26vNVdvaLM/V2Emb+Kbsz8e3/zcudCzPyvpFpvqBrQ/Tck41mk+tD9W8sjqLHe0PzuaVYnuaLU//hVN8+xttj8TqKYpzXi3P8ZA1kf7hbg/0vKxeF6RuT/Q/CZAJpu6P+C53PyAo7s/e/qhHpaqvD9FCaV4h7C9P/+8oDRytb4/06E5oG+5vz+9aCDqSl7AP3DLrxZ838A/xymEIaNgwT8MLWz92eDBP2BF0UlMYcI/LfNeau7hwj9xKdkTwGDDPzcHOek64MM/T9sREn9fxD8P82t2kN7EP2xoFaByXcU/wavwxSjcxT/GWNHTtVrGPz8CsnQc2cY/MaBsGF9Xxz/OKmf8f9XHP/MGliyBU8g/uoM8i2TRyD99br9+cHPJPxdlzQhmyMo/BE1C/D7GzD8=\",\"dtype\":\"float64\",\"shape\":[100]},\"y\":{\"__ndarray__\":\"2/l+arx0kz/pNX5N0saTP/dxfTDoGJQ/BK58E/5qlD8S6nv2E72UPyAme9kpD5U/LmJ6vD9hlT88nnmfVbOVP0raeIJrBZY/WBZ4ZYFXlj9lUndIl6mWP3OOdiut+5Y/gcp1DsNNlz+PBnXx2J+XP5xCdNTu8Zc/qn5ztwREmD+4unKaGpaYP8b2cX0w6Jg/1DJxYEY6mT/ibnBDXIyZP/CqbyZy3pk//uZuCYgwmj8LI27snYKaPxlfbc+z1Jo/J5tssskmmz8012uV33ibP0ITa3j1yps/UE9qWwsdnD9ei2k+IW+cP2zHaCE3wZw/egNoBE0TnT+IP2fnYmWdP5Z7Zsp4t50/pLdlrY4Jnj+x82SQpFueP78vZHO6rZ4/zWtjVtD/nj/ap2I55lGfP+jjYRz8o58/9h9h/xH2nz8CLjDxEySgPwnMr+IeTaA/EGov1Cl2oD8XCK/FNJ+gPx6mLrc/yKA/JUSuqErxoD8s4i2aVRqhPzKArYtgQ6E/Oh4tfWtsoT9AvKxudpWhP0daLGCBvqE/TvirUYznoT9VlitDlxCiP1w0qzSiOaI/Y9IqJq1ioj9qcKoXuIuiP3AOKgnDtKI/eKyp+s3doj9+Sins2AajP4boqN3jL6M/jIYoz+5Yoz+UJKjA+YGjP5rCJ7IEq6M/oWCnow/Uoz+o/iaVGv2jP6+cpoYlJqQ/tjomeDBPpD+82KVpO3ikP8R2JVtGoaQ/yhSlTFHKpD/SsiQ+XPOkP9hQpC9nHKU/4O4jIXJFpT/mjKMSfW6lP+0qIwSIl6U/9Mii9ZLApT/7ZiLnnemlPwIFotioEqY/CaMhyrM7pj8QQaG7vmSmPxbfIK3JjaY/Hn2gntS2pj8kGyCQ39+mPyy5n4HqCKc/Mlcfc/Uxpz859Z5kAFunP0CTHlYLhKc/RzGeRxatpz9Ozx05IdanP1VtnSos/6c/XAsdHDcoqD9iqZwNQlGoP2pHHP9Meqg/cOWb8FejqD94gxviYsyoP34hm9Nt9ag/hr8axXgeqT+MXZq2g0epP5P7GaiOcKk/mpmZmZmZqT8=\",\"dtype\":\"float64\",\"shape\":[100]}}},\"id\":\"9e3ea9dc-1d3e-43c1-b653-63e1d0a264d3\",\"type\":\"ColumnDataSource\"},{\"attributes\":{},\"id\":\"463c0d06-79ba-41f6-a247-227126ee60c1\",\"type\":\"WheelZoomTool\"},{\"attributes\":{},\"id\":\"84f4a0a7-de46-406e-aa52-fd544dcafaf2\",\"type\":\"SaveTool\"},{\"attributes\":{\"data_source\":{\"id\":\"9e3ea9dc-1d3e-43c1-b653-63e1d0a264d3\",\"type\":\"ColumnDataSource\"},\"glyph\":{\"id\":\"362019d6-706d-4f23-8fe9-bb5c5147368f\",\"type\":\"Line\"},\"hover_glyph\":null,\"muted_glyph\":null,\"nonselection_glyph\":{\"id\":\"40af85c5-3265-4aea-9239-342aade4106f\",\"type\":\"Line\"},\"selection_glyph\":null,\"view\":{\"id\":\"a9501d22-b276-4ac3-8d99-7d5a3edf834e\",\"type\":\"CDSView\"}},\"id\":\"ff54a2ee-8111-4830-892e-21111af3fa2c\",\"type\":\"GlyphRenderer\"},{\"attributes\":{\"source\":{\"id\":\"a4616ec7-e25b-4836-b046-5c8f3ba8540d\",\"type\":\"ColumnDataSource\"}},\"id\":\"bf8dacc4-f23b-42b8-949e-9038f0eb33c2\",\"type\":\"CDSView\"},{\"attributes\":{\"data_source\":{\"id\":\"a4616ec7-e25b-4836-b046-5c8f3ba8540d\",\"type\":\"ColumnDataSource\"},\"glyph\":{\"id\":\"75d82511-d200-45cc-961e-b7ff7b619228\",\"type\":\"Line\"},\"hover_glyph\":null,\"muted_glyph\":null,\"nonselection_glyph\":{\"id\":\"4ba18eb9-f36f-4005-be10-44257614a27f\",\"type\":\"Line\"},\"selection_glyph\":null,\"view\":{\"id\":\"bf8dacc4-f23b-42b8-949e-9038f0eb33c2\",\"type\":\"CDSView\"}},\"id\":\"a12a24ce-c576-4680-9b6c-70133f6023ae\",\"type\":\"GlyphRenderer\"},{\"attributes\":{\"label\":{\"value\":\"\\uff15\\u8cc7\\u7523\"},\"renderers\":[{\"id\":\"a12a24ce-c576-4680-9b6c-70133f6023ae\",\"type\":\"GlyphRenderer\"}]},\"id\":\"af81fd0e-8da4-43f4-982b-38026af6dde7\",\"type\":\"LegendItem\"},{\"attributes\":{\"callback\":null,\"column_names\":[\"x\",\"y\"],\"data\":{\"x\":{\"__ndarray__\":\"g903LdQGoj+D3Tct1AaiP4PdNy3UBqI/g903LdQGoj+D3Tct1AaiP4PdNy3UBqI/g903LdQGoj+D3Tct1AaiP4PdNy3UBqI/g903LdQGoj+D3Tct1AaiP4PdNy3UBqI/g903LdQGoj+D3Tct1AaiP4PdNy3UBqI/2eovpk8Ioj8ORb62SWeiP7XiRZHka6I/tzQtQl90oj9oMZZnl4CiPy30Pml7kKI/jv1ea++joj8t0eqxMbyiP+YUWKjW1qI/4ujoIgT1oj9MKzyhuRajP+XU1nXFO6M/DZMN+99joz+S5oqKHZCjP+Ivi5LqtqM/UXtZEUH/oz9Xe2W98iekP7lAe2gJYKQ/8urRPcGXpD+FaAG/3sikP9QMdKSFA6U/0xB1nnNDpT9kRjGyKoWlP6wnRGxAz6U/d4aDgv8cpj+u0TPgyGumP5eFkqQ3vKY/4ex0EP0Ppz8A7SZzQGSnPyDCZZGmu6c/wAo0RUgWqD9UZpqoSHOoP9KvTv2Y0qg/F6JpuyY0qT8OJkYs25epP2rX5P6N/ak/jjzgEStlqj9pVToOoc2qP5eDfsNN9Ko/rLoQ2C9rqz+YvmR6bPCrPwlGLuxOiKw/kYVi/IQcrT9fX4FV6bWtPxpfKP/2Uq4/UwoIFHn/rj+RXadvurOvP8NMhZyoN7A/m2LU7uOYsD+Dj/lTVf2wP1uViJ/bZLE/2/7nAO3RsT8HC6rJ4kGyP6t2mfMatLI/xvnnDNopsz9o07oARqKzP9at3mRHHbQ/9ye9V+6atD/kqK+iWhu1P6dXQlCVq7U/7Tgzp+5atj8561XFgh+3P3SarNSv/rc/LmoxTyXzuD9MOY9/ivq5P7eVwci2Ers/V17tnbY5vD8QGn0uzG29PyLiQkttrb4/La2TqD/3vz8Wyz0tCqXAPx7XNodxUsE/mcMEtWIDwj8Z6ehdebfCP21QYwZebsM/Q5FCVcQnxD9rF0WPaePEP1GR2T8TocU/ekGTGY5gxj+c2dkBrSHHP6AikShI5Mc/Szd5aDyoyD+ibr9+cHPJP/5kzQhmyMo/y0wZFD/GzD8=\",\"dtype\":\"float64\",\"shape\":[100]},\"y\":{\"__ndarray__\":\"2/l+arx0kz/pNX5N0saTP/dxfTDoGJQ/BK58E/5qlD8S6nv2E72UPyAme9kpD5U/LmJ6vD9hlT88nnmfVbOVP0raeIJrBZY/WBZ4ZYFXlj9lUndIl6mWP3OOdiut+5Y/gcp1DsNNlz+PBnXx2J+XP5xCdNTu8Zc/qn5ztwREmD+4unKaGpaYP8b2cX0w6Jg/1DJxYEY6mT/ibnBDXIyZP/CqbyZy3pk//uZuCYgwmj8LI27snYKaPxlfbc+z1Jo/J5tssskmmz8012uV33ibP0ITa3j1yps/UE9qWwsdnD9ei2k+IW+cP2zHaCE3wZw/egNoBE0TnT+IP2fnYmWdP5Z7Zsp4t50/pLdlrY4Jnj+x82SQpFueP78vZHO6rZ4/zWtjVtD/nj/ap2I55lGfP+jjYRz8o58/9h9h/xH2nz8CLjDxEySgPwnMr+IeTaA/EGov1Cl2oD8XCK/FNJ+gPx6mLrc/yKA/JUSuqErxoD8s4i2aVRqhPzKArYtgQ6E/Oh4tfWtsoT9AvKxudpWhP0daLGCBvqE/TvirUYznoT9VlitDlxCiP1w0qzSiOaI/Y9IqJq1ioj9qcKoXuIuiP3AOKgnDtKI/eKyp+s3doj9+Sins2AajP4boqN3jL6M/jIYoz+5Yoz+UJKjA+YGjP5rCJ7IEq6M/oWCnow/Uoz+o/iaVGv2jP6+cpoYlJqQ/tjomeDBPpD+82KVpO3ikP8R2JVtGoaQ/yhSlTFHKpD/SsiQ+XPOkP9hQpC9nHKU/4O4jIXJFpT/mjKMSfW6lP+0qIwSIl6U/9Mii9ZLApT/7ZiLnnemlPwIFotioEqY/CaMhyrM7pj8QQaG7vmSmPxbfIK3JjaY/Hn2gntS2pj8kGyCQ39+mPyy5n4HqCKc/Mlcfc/Uxpz859Z5kAFunP0CTHlYLhKc/RzGeRxatpz9Ozx05IdanP1VtnSos/6c/XAsdHDcoqD9iqZwNQlGoP2pHHP9Meqg/cOWb8FejqD94gxviYsyoP34hm9Nt9ag/hr8axXgeqT+MXZq2g0epP5P7GaiOcKk/mpmZmZmZqT8=\",\"dtype\":\"float64\",\"shape\":[100]}}},\"id\":\"2374e5cd-1a4a-4ea9-97f2-b0605830ceed\",\"type\":\"ColumnDataSource\"},{\"attributes\":{},\"id\":\"acfafbc9-9cb4-4d83-abad-653a0264f2a5\",\"type\":\"BasicTickFormatter\"},{\"attributes\":{\"source\":{\"id\":\"9e3ea9dc-1d3e-43c1-b653-63e1d0a264d3\",\"type\":\"ColumnDataSource\"}},\"id\":\"a9501d22-b276-4ac3-8d99-7d5a3edf834e\",\"type\":\"CDSView\"},{\"attributes\":{\"line_color\":{\"value\":\"green\"},\"line_width\":{\"value\":3},\"x\":{\"field\":\"x\"},\"y\":{\"field\":\"y\"}},\"id\":\"362019d6-706d-4f23-8fe9-bb5c5147368f\",\"type\":\"Line\"},{\"attributes\":{\"line_color\":{\"value\":\"red\"},\"line_width\":{\"value\":3},\"x\":{\"field\":\"x\"},\"y\":{\"field\":\"y\"}},\"id\":\"7e60436d-6de2-4992-8ffa-bcf44799c593\",\"type\":\"Line\"},{\"attributes\":{\"label\":{\"value\":\"\\uff16\\u8cc7\\u7523\\uff08\\u9ad8\\u76f8\\u95a2\\uff09\"},\"renderers\":[{\"id\":\"ff54a2ee-8111-4830-892e-21111af3fa2c\",\"type\":\"GlyphRenderer\"}]},\"id\":\"21963b16-a9a2-46c3-9cae-8756608771ba\",\"type\":\"LegendItem\"},{\"attributes\":{\"line_alpha\":{\"value\":0.1},\"line_color\":{\"value\":\"#1f77b4\"},\"line_width\":{\"value\":3},\"x\":{\"field\":\"x\"},\"y\":{\"field\":\"y\"}},\"id\":\"54838be8-1da7-4faa-b052-2217c4589ec9\",\"type\":\"Line\"},{\"attributes\":{\"data_source\":{\"id\":\"2374e5cd-1a4a-4ea9-97f2-b0605830ceed\",\"type\":\"ColumnDataSource\"},\"glyph\":{\"id\":\"7e60436d-6de2-4992-8ffa-bcf44799c593\",\"type\":\"Line\"},\"hover_glyph\":null,\"muted_glyph\":null,\"nonselection_glyph\":{\"id\":\"54838be8-1da7-4faa-b052-2217c4589ec9\",\"type\":\"Line\"},\"selection_glyph\":null,\"view\":{\"id\":\"fb9c9bce-f6ad-4414-a7aa-8a3e80ba49cf\",\"type\":\"CDSView\"}},\"id\":\"274df2f6-67e8-4b1c-9e7f-6d39b026cec0\",\"type\":\"GlyphRenderer\"},{\"attributes\":{\"source\":{\"id\":\"2374e5cd-1a4a-4ea9-97f2-b0605830ceed\",\"type\":\"ColumnDataSource\"}},\"id\":\"fb9c9bce-f6ad-4414-a7aa-8a3e80ba49cf\",\"type\":\"CDSView\"}],\"root_ids\":[\"2379a28f-e4ab-4029-8bbc-4cf957f42c88\"]},\"title\":\"Bokeh Application\",\"version\":\"0.12.10\"}};\n",
       "    var render_items = [{\"docid\":\"fd3d1648-fe2f-451b-81a2-1c080d5f60e6\",\"elementid\":\"1f1e7cf1-1495-4d3c-a80d-c77c54c5a642\",\"modelid\":\"2379a28f-e4ab-4029-8bbc-4cf957f42c88\"}];\n",
       "\n",
       "    root.Bokeh.embed.embed_items(docs_json, render_items);\n",
       "  }\n",
       "\n",
       "  if (root.Bokeh !== undefined) {\n",
       "    embed_document(root);\n",
       "  } else {\n",
       "    var attempts = 0;\n",
       "    var timer = setInterval(function(root) {\n",
       "      if (root.Bokeh !== undefined) {\n",
       "        embed_document(root);\n",
       "        clearInterval(timer);\n",
       "      }\n",
       "      attempts++;\n",
       "      if (attempts > 100) {\n",
       "        console.log(\"Bokeh: ERROR: Unable to embed document because BokehJS library is missing\")\n",
       "        clearInterval(timer);\n",
       "      }\n",
       "    }, 10, root)\n",
       "  }\n",
       "})(window);"
      ],
      "application/vnd.bokehjs_exec.v0+json": ""
     },
     "metadata": {
      "application/vnd.bokehjs_exec.v0+json": {
       "id": "2379a28f-e4ab-4029-8bbc-4cf957f42c88"
      }
     },
     "output_type": "display_data"
    }
   ],
   "source": [
    "p = figure(width = 800, height=500, title='ポートフォリオのリスクとリターン')\n",
    "p.line(tvols, trets, color='blue', line_width=3, legend='５資産')\n",
    "p.line(tvols1, trets1, color='green', line_width=3, legend='６資産（高相関）')\n",
    "p.line(tvols2, trets1, color='red', line_width=3, legend='６資産（低相関)')\n",
    "p.xaxis.axis_label='ポートフォリオのリスク'\n",
    "p.xaxis.axis_label='ポートフォリオのリターン'\n",
    "p.legend.location='top_left'\n",
    "show(p)"
   ]
  },
  {
   "cell_type": "code",
   "execution_count": 70,
   "metadata": {},
   "outputs": [
    {
     "data": {
      "text/html": [
       "\n",
       "<div class=\"bk-root\">\n",
       "    <div class=\"bk-plotdiv\" id=\"67549448-0616-4844-8b00-750a3d2dd4c9\"></div>\n",
       "</div>"
      ]
     },
     "metadata": {},
     "output_type": "display_data"
    },
    {
     "data": {
      "application/javascript": [
       "(function(root) {\n",
       "  function embed_document(root) {\n",
       "    var docs_json = {\"fa58ebe3-70c5-4293-92c7-0b497b53e4f7\":{\"roots\":{\"references\":[{\"attributes\":{\"plot\":null,\"text\":\"\\u30dd\\u30fc\\u30c8\\u30d5\\u30a9\\u30ea\\u30aa\\u306e\\u30ea\\u30b9\\u30af\\u3068\\u30ea\\u30bf\\u30fc\\u30f3\"},\"id\":\"2bd4f794-3222-42f3-9139-2fcac041cc55\",\"type\":\"Title\"},{\"attributes\":{\"formatter\":{\"id\":\"2d80e875-02ea-4b79-a182-76dbed4f0793\",\"type\":\"BasicTickFormatter\"},\"plot\":{\"id\":\"935b917d-351e-422a-9c1d-44d3f5ab97af\",\"subtype\":\"Figure\",\"type\":\"Plot\"},\"ticker\":{\"id\":\"9fdedc92-7b05-4580-a49c-1abd338075b3\",\"type\":\"BasicTicker\"}},\"id\":\"f00139a9-afaa-40d2-ac58-21507429e474\",\"type\":\"LinearAxis\"},{\"attributes\":{\"line_color\":{\"value\":\"green\"},\"line_width\":{\"value\":3},\"x\":{\"field\":\"x\"},\"y\":{\"field\":\"y\"}},\"id\":\"2955cc3a-06de-4de0-911a-92fde863833d\",\"type\":\"Line\"},{\"attributes\":{\"source\":{\"id\":\"68fd4356-20c4-4f3a-9f01-81071de79303\",\"type\":\"ColumnDataSource\"}},\"id\":\"e51cc8da-a95e-44e3-9ed4-9138320d7e8e\",\"type\":\"CDSView\"},{\"attributes\":{\"callback\":null,\"column_names\":[\"x\",\"y\"],\"data\":{\"x\":{\"__ndarray__\":\"g903LdQGoj+D3Tct1AaiP4PdNy3UBqI/g903LdQGoj+D3Tct1AaiP4PdNy3UBqI/g903LdQGoj+D3Tct1AaiP4PdNy3UBqI/g903LdQGoj+D3Tct1AaiP4PdNy3UBqI/g903LdQGoj+D3Tct1AaiP4PdNy3UBqI/2eovpk8Ioj8ORb62SWeiP7XiRZHka6I/tzQtQl90oj9oMZZnl4CiPy30Pml7kKI/jv1ea++joj8t0eqxMbyiP+YUWKjW1qI/4ujoIgT1oj9MKzyhuRajP+XU1nXFO6M/DZMN+99joz+S5oqKHZCjP+Ivi5LqtqM/UXtZEUH/oz9Xe2W98iekP7lAe2gJYKQ/8urRPcGXpD+FaAG/3sikP9QMdKSFA6U/0xB1nnNDpT9kRjGyKoWlP6wnRGxAz6U/d4aDgv8cpj+u0TPgyGumP5eFkqQ3vKY/4ex0EP0Ppz8A7SZzQGSnPyDCZZGmu6c/wAo0RUgWqD9UZpqoSHOoP9KvTv2Y0qg/F6JpuyY0qT8OJkYs25epP2rX5P6N/ak/jjzgEStlqj9pVToOoc2qP5eDfsNN9Ko/rLoQ2C9rqz+YvmR6bPCrPwlGLuxOiKw/kYVi/IQcrT9fX4FV6bWtPxpfKP/2Uq4/UwoIFHn/rj+RXadvurOvP8NMhZyoN7A/m2LU7uOYsD+Dj/lTVf2wP1uViJ/bZLE/2/7nAO3RsT8HC6rJ4kGyP6t2mfMatLI/xvnnDNopsz9o07oARqKzP9at3mRHHbQ/9ye9V+6atD/kqK+iWhu1P6dXQlCVq7U/7Tgzp+5atj8561XFgh+3P3SarNSv/rc/LmoxTyXzuD9MOY9/ivq5P7eVwci2Ers/V17tnbY5vD8QGn0uzG29PyLiQkttrb4/La2TqD/3vz8Wyz0tCqXAPx7XNodxUsE/mcMEtWIDwj8Z6ehdebfCP21QYwZebsM/Q5FCVcQnxD9rF0WPaePEP1GR2T8TocU/ekGTGY5gxj+c2dkBrSHHP6AikShI5Mc/Szd5aDyoyD+ibr9+cHPJP/5kzQhmyMo/y0wZFD/GzD8=\",\"dtype\":\"float64\",\"shape\":[100]},\"y\":{\"__ndarray__\":\"2/l+arx0kz/pNX5N0saTP/dxfTDoGJQ/BK58E/5qlD8S6nv2E72UPyAme9kpD5U/LmJ6vD9hlT88nnmfVbOVP0raeIJrBZY/WBZ4ZYFXlj9lUndIl6mWP3OOdiut+5Y/gcp1DsNNlz+PBnXx2J+XP5xCdNTu8Zc/qn5ztwREmD+4unKaGpaYP8b2cX0w6Jg/1DJxYEY6mT/ibnBDXIyZP/CqbyZy3pk//uZuCYgwmj8LI27snYKaPxlfbc+z1Jo/J5tssskmmz8012uV33ibP0ITa3j1yps/UE9qWwsdnD9ei2k+IW+cP2zHaCE3wZw/egNoBE0TnT+IP2fnYmWdP5Z7Zsp4t50/pLdlrY4Jnj+x82SQpFueP78vZHO6rZ4/zWtjVtD/nj/ap2I55lGfP+jjYRz8o58/9h9h/xH2nz8CLjDxEySgPwnMr+IeTaA/EGov1Cl2oD8XCK/FNJ+gPx6mLrc/yKA/JUSuqErxoD8s4i2aVRqhPzKArYtgQ6E/Oh4tfWtsoT9AvKxudpWhP0daLGCBvqE/TvirUYznoT9VlitDlxCiP1w0qzSiOaI/Y9IqJq1ioj9qcKoXuIuiP3AOKgnDtKI/eKyp+s3doj9+Sins2AajP4boqN3jL6M/jIYoz+5Yoz+UJKjA+YGjP5rCJ7IEq6M/oWCnow/Uoz+o/iaVGv2jP6+cpoYlJqQ/tjomeDBPpD+82KVpO3ikP8R2JVtGoaQ/yhSlTFHKpD/SsiQ+XPOkP9hQpC9nHKU/4O4jIXJFpT/mjKMSfW6lP+0qIwSIl6U/9Mii9ZLApT/7ZiLnnemlPwIFotioEqY/CaMhyrM7pj8QQaG7vmSmPxbfIK3JjaY/Hn2gntS2pj8kGyCQ39+mPyy5n4HqCKc/Mlcfc/Uxpz859Z5kAFunP0CTHlYLhKc/RzGeRxatpz9Ozx05IdanP1VtnSos/6c/XAsdHDcoqD9iqZwNQlGoP2pHHP9Meqg/cOWb8FejqD94gxviYsyoP34hm9Nt9ag/hr8axXgeqT+MXZq2g0epP5P7GaiOcKk/mpmZmZmZqT8=\",\"dtype\":\"float64\",\"shape\":[100]}}},\"id\":\"757cb9d6-9104-4d9a-9d97-f24eca7e6607\",\"type\":\"ColumnDataSource\"},{\"attributes\":{\"plot\":{\"id\":\"935b917d-351e-422a-9c1d-44d3f5ab97af\",\"subtype\":\"Figure\",\"type\":\"Plot\"},\"ticker\":{\"id\":\"f7ad1b62-b183-4c2e-9675-45fb65645715\",\"type\":\"BasicTicker\"}},\"id\":\"97040371-465f-492c-8a91-d998553a8070\",\"type\":\"Grid\"},{\"attributes\":{\"items\":[{\"id\":\"ce549d56-1044-47aa-951f-37ad0afbd1a0\",\"type\":\"LegendItem\"},{\"id\":\"9f550377-97d1-48d5-b8d2-cc4fc3fdab31\",\"type\":\"LegendItem\"},{\"id\":\"64b2aa6b-8802-467b-8d34-627121a6e052\",\"type\":\"LegendItem\"}],\"location\":\"top_left\",\"plot\":{\"id\":\"935b917d-351e-422a-9c1d-44d3f5ab97af\",\"subtype\":\"Figure\",\"type\":\"Plot\"}},\"id\":\"874fc9ae-99fe-4ebb-8f2b-1aa423a835de\",\"type\":\"Legend\"},{\"attributes\":{},\"id\":\"08d6ac92-1138-445f-bbdd-49b54a8680f5\",\"type\":\"LinearScale\"},{\"attributes\":{\"callback\":null,\"column_names\":[\"x\",\"y\"],\"data\":{\"x\":{\"__ndarray__\":\"NBy/rUP7oj80HL+tQ/uiPzQcv61D+6I/NBy/rUP7oj80HL+tQ/uiPzQcv61D+6I/NBy/rUP7oj/SSD1UcvuiP2LGtcfE/qI/AkTVkR0Ioz8JZmeTlhejP8JPijwNLaM/FK06UltIoz9N0qKQWmmjPz0N3Y0QkKM/DthwYxW8oz9BwL8ade2jPyD4vc6sJKQ/h9m/JntgpD/ir0PJRaCkPwLbtIi15aQ/r4FywT5XpT+MiyrXGJWlPxn9icqh2aU/+N9y6Roopj/i0RBMtYGmP58Kj9MF4aY/Mkq5L5VQpz+tadfYkamnP1JI2MAUG6g/09SpYFZ6qD8J5wAro92oP30MY9DYTak/UlN191TAqT+853J2SzWqPz4U0l1krKo/LULxM6glqz8VAgvN4qGrP1szLQmKH6w/9x41wfCcrD/K06fLbh6tPx0wVWFroa0/X6DqW+Ilrj8x1X9Tx6uuP26ozjEhP68/i+vDCevlrz+o7N9j/jqwP9YlHV0gmbA/aOicjHf+sD9k1VLVuWqxP1/tI5lV3bE/3KBwydNVsj/VFhhxw9OyP6cIPUK6VrM/IziLwVTesz+NAYX+P2q0P53GZmEP+rQ/x+sSpt6OtT90tkS6TyS2P5hUrkM3vrY/gNtfsv5atz9oF2VzY/q3PwYwPYZQnLg/DCNy0U9AuT/IIPkN/ea5P5LhjfdLkLo/olM6/gU8uz8d5813/um7P0HSSHIMmrw/+Ma3WwpMvT8857Tp1f+9P+E+TO9Otb4//V8FvVhsvz8/P+lHbBLAP+VscuBab8A/62Bk1ezMwD9zLJi3FyvBP6IGmebRicE/orWEghLpwT/NKLNV0UjCP2OavckGqcI/hSod16sJwz+He6r8uWrDPyN24C8rzMM/rIt/1vktxD9Bzhi6IJDEPx/K6wKb8sQ/QCrWLmRVxT/HFBMIeLjFP8P7iqPSG8Y/NBlxV3B/xj/bsUG4TePGPziL5ZFnR8c/0Ao+5bqrxz8SYerjRBDIPyr//+oCdcg/dcIugvLZyD/8ilKBcHPJP4Sx3hNmyMo/b5HeEz/GzD8=\",\"dtype\":\"float64\",\"shape\":[100]},\"y\":{\"__ndarray__\":\"2/l+arx0kz/pNX5N0saTP/dxfTDoGJQ/BK58E/5qlD8S6nv2E72UPyAme9kpD5U/LmJ6vD9hlT88nnmfVbOVP0raeIJrBZY/WBZ4ZYFXlj9lUndIl6mWP3OOdiut+5Y/gcp1DsNNlz+PBnXx2J+XP5xCdNTu8Zc/qn5ztwREmD+4unKaGpaYP8b2cX0w6Jg/1DJxYEY6mT/ibnBDXIyZP/CqbyZy3pk//uZuCYgwmj8LI27snYKaPxlfbc+z1Jo/J5tssskmmz8012uV33ibP0ITa3j1yps/UE9qWwsdnD9ei2k+IW+cP2zHaCE3wZw/egNoBE0TnT+IP2fnYmWdP5Z7Zsp4t50/pLdlrY4Jnj+x82SQpFueP78vZHO6rZ4/zWtjVtD/nj/ap2I55lGfP+jjYRz8o58/9h9h/xH2nz8CLjDxEySgPwnMr+IeTaA/EGov1Cl2oD8XCK/FNJ+gPx6mLrc/yKA/JUSuqErxoD8s4i2aVRqhPzKArYtgQ6E/Oh4tfWtsoT9AvKxudpWhP0daLGCBvqE/TvirUYznoT9VlitDlxCiP1w0qzSiOaI/Y9IqJq1ioj9qcKoXuIuiP3AOKgnDtKI/eKyp+s3doj9+Sins2AajP4boqN3jL6M/jIYoz+5Yoz+UJKjA+YGjP5rCJ7IEq6M/oWCnow/Uoz+o/iaVGv2jP6+cpoYlJqQ/tjomeDBPpD+82KVpO3ikP8R2JVtGoaQ/yhSlTFHKpD/SsiQ+XPOkP9hQpC9nHKU/4O4jIXJFpT/mjKMSfW6lP+0qIwSIl6U/9Mii9ZLApT/7ZiLnnemlPwIFotioEqY/CaMhyrM7pj8QQaG7vmSmPxbfIK3JjaY/Hn2gntS2pj8kGyCQ39+mPyy5n4HqCKc/Mlcfc/Uxpz859Z5kAFunP0CTHlYLhKc/RzGeRxatpz9Ozx05IdanP1VtnSos/6c/XAsdHDcoqD9iqZwNQlGoP2pHHP9Meqg/cOWb8FejqD94gxviYsyoP34hm9Nt9ag/hr8axXgeqT+MXZq2g0epP5P7GaiOcKk/mpmZmZmZqT8=\",\"dtype\":\"float64\",\"shape\":[100]}}},\"id\":\"60458a51-b559-4402-b8f0-a979cec0cf13\",\"type\":\"ColumnDataSource\"},{\"attributes\":{},\"id\":\"21e58659-310a-4720-bb45-e1718a09f673\",\"type\":\"BasicTickFormatter\"},{\"attributes\":{\"line_alpha\":{\"value\":0.1},\"line_color\":{\"value\":\"#1f77b4\"},\"line_width\":{\"value\":3},\"x\":{\"field\":\"x\"},\"y\":{\"field\":\"y\"}},\"id\":\"bd0b0bb1-d880-47a2-81c9-ecfaf688b5dc\",\"type\":\"Line\"},{\"attributes\":{},\"id\":\"2d80e875-02ea-4b79-a182-76dbed4f0793\",\"type\":\"BasicTickFormatter\"},{\"attributes\":{},\"id\":\"a6991e3f-114a-4844-8363-9fdbae05e3b1\",\"type\":\"WheelZoomTool\"},{\"attributes\":{\"bottom_units\":\"screen\",\"fill_alpha\":{\"value\":0.5},\"fill_color\":{\"value\":\"lightgrey\"},\"left_units\":\"screen\",\"level\":\"overlay\",\"line_alpha\":{\"value\":1.0},\"line_color\":{\"value\":\"black\"},\"line_dash\":[4,4],\"line_width\":{\"value\":2},\"plot\":null,\"render_mode\":\"css\",\"right_units\":\"screen\",\"top_units\":\"screen\"},\"id\":\"22fca13c-f442-406e-b863-4606672a10b1\",\"type\":\"BoxAnnotation\"},{\"attributes\":{\"label\":{\"value\":\"\\uff16\\u8cc7\\u7523\\uff08\\u4f4e\\u76f8\\u95a2)\"},\"renderers\":[{\"id\":\"39fcd288-8251-4204-9e70-a2994aadeec4\",\"type\":\"GlyphRenderer\"}]},\"id\":\"64b2aa6b-8802-467b-8d34-627121a6e052\",\"type\":\"LegendItem\"},{\"attributes\":{\"label\":{\"value\":\"\\uff15\\u8cc7\\u7523\"},\"renderers\":[{\"id\":\"4af300f5-5ef5-4381-a878-8bf2b5243e38\",\"type\":\"GlyphRenderer\"}]},\"id\":\"ce549d56-1044-47aa-951f-37ad0afbd1a0\",\"type\":\"LegendItem\"},{\"attributes\":{\"line_alpha\":{\"value\":0.1},\"line_color\":{\"value\":\"#1f77b4\"},\"line_width\":{\"value\":3},\"x\":{\"field\":\"x\"},\"y\":{\"field\":\"y\"}},\"id\":\"48d7b892-4fb9-49c5-b11e-970b25fa2910\",\"type\":\"Line\"},{\"attributes\":{\"source\":{\"id\":\"757cb9d6-9104-4d9a-9d97-f24eca7e6607\",\"type\":\"ColumnDataSource\"}},\"id\":\"d05bb8cb-1ceb-4286-bd95-92be75019b18\",\"type\":\"CDSView\"},{\"attributes\":{\"label\":{\"value\":\"\\uff16\\u8cc7\\u7523\\uff08\\u9ad8\\u76f8\\u95a2\\uff09\"},\"renderers\":[{\"id\":\"a173eb78-def5-4f32-9462-1511f598097e\",\"type\":\"GlyphRenderer\"}]},\"id\":\"9f550377-97d1-48d5-b8d2-cc4fc3fdab31\",\"type\":\"LegendItem\"},{\"attributes\":{\"below\":[{\"id\":\"2e10bb49-46d6-4a7f-9d29-d7f41968cf2a\",\"type\":\"LinearAxis\"}],\"left\":[{\"id\":\"f00139a9-afaa-40d2-ac58-21507429e474\",\"type\":\"LinearAxis\"}],\"plot_height\":500,\"plot_width\":800,\"renderers\":[{\"id\":\"2e10bb49-46d6-4a7f-9d29-d7f41968cf2a\",\"type\":\"LinearAxis\"},{\"id\":\"97040371-465f-492c-8a91-d998553a8070\",\"type\":\"Grid\"},{\"id\":\"f00139a9-afaa-40d2-ac58-21507429e474\",\"type\":\"LinearAxis\"},{\"id\":\"10100ba5-6150-4db7-9850-feedb2101c50\",\"type\":\"Grid\"},{\"id\":\"22fca13c-f442-406e-b863-4606672a10b1\",\"type\":\"BoxAnnotation\"},{\"id\":\"874fc9ae-99fe-4ebb-8f2b-1aa423a835de\",\"type\":\"Legend\"},{\"id\":\"4af300f5-5ef5-4381-a878-8bf2b5243e38\",\"type\":\"GlyphRenderer\"},{\"id\":\"a173eb78-def5-4f32-9462-1511f598097e\",\"type\":\"GlyphRenderer\"},{\"id\":\"39fcd288-8251-4204-9e70-a2994aadeec4\",\"type\":\"GlyphRenderer\"},{\"id\":\"909076aa-5023-4b37-85e8-3fe833480ebe\",\"type\":\"GlyphRenderer\"}],\"title\":{\"id\":\"2bd4f794-3222-42f3-9139-2fcac041cc55\",\"type\":\"Title\"},\"toolbar\":{\"id\":\"7230b85f-8774-4c51-a5ca-4b7484e907c9\",\"type\":\"Toolbar\"},\"x_range\":{\"id\":\"0e4a1427-56c4-4c8e-bbad-7f42707f9dfb\",\"type\":\"DataRange1d\"},\"x_scale\":{\"id\":\"649ad0a8-ae1d-4a22-a6d2-83b1f5e962f4\",\"type\":\"LinearScale\"},\"y_range\":{\"id\":\"5e4c5215-c9de-4ea5-973a-dbc141c0e8f4\",\"type\":\"DataRange1d\"},\"y_scale\":{\"id\":\"08d6ac92-1138-445f-bbdd-49b54a8680f5\",\"type\":\"LinearScale\"}},\"id\":\"935b917d-351e-422a-9c1d-44d3f5ab97af\",\"subtype\":\"Figure\",\"type\":\"Plot\"},{\"attributes\":{\"axis_label\":\"\\u30dd\\u30fc\\u30c8\\u30d5\\u30a9\\u30ea\\u30aa\\u306e\\u30ea\\u30bf\\u30fc\\u30f3\",\"formatter\":{\"id\":\"21e58659-310a-4720-bb45-e1718a09f673\",\"type\":\"BasicTickFormatter\"},\"plot\":{\"id\":\"935b917d-351e-422a-9c1d-44d3f5ab97af\",\"subtype\":\"Figure\",\"type\":\"Plot\"},\"ticker\":{\"id\":\"f7ad1b62-b183-4c2e-9675-45fb65645715\",\"type\":\"BasicTicker\"}},\"id\":\"2e10bb49-46d6-4a7f-9d29-d7f41968cf2a\",\"type\":\"LinearAxis\"},{\"attributes\":{\"callback\":null,\"column_names\":[\"x\",\"y\"],\"data\":{\"x\":{\"__ndarray__\":\"2Uph9LX7oj/ZSmH0tfuiP9lKYfS1+6I/2Uph9LX7oj/ZSmH0tfuiP9lKYfS1+6I/2Uph9LX7oj9+UW3FivuiP8YI9eeW/6I/IAMughoIoz8j99u5mBejPzmWvcuBLaM/jqPwKXFIoz/JZHWaRGmjP69azAffj6M/5TNzH3y8oz8vmOtJn+2jP8Jph1coJKQ/eC5S70RgpD9F5UG0dq2kP3Gqu9wE5qQ/CAvAX3YvpT+Hv7B525GlP/J0vTDA2aU/iZB14Woypj8wd+JGpH+mPz1AuVx+4KY/KqDC8exFpz+qMUQBEqunP2zTeKeTFqg/7r7lzRGCqD/mx9r+e/CoP+Oqt9CtVqk/RED9tri/qT8Zii2vszOqP+Tg2jSpqao/q3uLv44iqz+OX/xk+berPyUT1jiIOqw/y2Z1J3DIrD8lUwKvF5KuP5CTWB+9Fa8/unD4a1uWrz9cStRKHwuwPyybUAnQSbA/QLSj8ryHsD/1L+AlU8SwP21eV+JcALE/D/e6UsEusT/U5Hi4k2exP35JjNskJ7E/cHgIkYxWsT/9jLyvE4axPwcYzW61tbE/dASA+XDlsT/3t7GCRRWyPwcB9UYyRbI/0NhYiTZ1sj89zGB9UqWyPyrV9fqT1bI/mbNHBuMFsz+48UvDazazP26vNVdvaLM/V2Emb+Kbsz8e3/zcudCzPyvpFpvqBrQ/Tck41mk+tD9W8sjqLHe0PzuaVYnuaLU//hVN8+xttj8TqKYpzXi3P8ZA1kf7hbg/0vKxeF6RuT/Q/CZAJpu6P+C53PyAo7s/e/qhHpaqvD9FCaV4h7C9P/+8oDRytb4/06E5oG+5vz+9aCDqSl7AP3DLrxZ838A/xymEIaNgwT8MLWz92eDBP2BF0UlMYcI/LfNeau7hwj9xKdkTwGDDPzcHOek64MM/T9sREn9fxD8P82t2kN7EP2xoFaByXcU/wavwxSjcxT/GWNHTtVrGPz8CsnQc2cY/MaBsGF9Xxz/OKmf8f9XHP/MGliyBU8g/uoM8i2TRyD99br9+cHPJPxdlzQhmyMo/BE1C/D7GzD8=\",\"dtype\":\"float64\",\"shape\":[100]},\"y\":{\"__ndarray__\":\"2/l+arx0kz/pNX5N0saTP/dxfTDoGJQ/BK58E/5qlD8S6nv2E72UPyAme9kpD5U/LmJ6vD9hlT88nnmfVbOVP0raeIJrBZY/WBZ4ZYFXlj9lUndIl6mWP3OOdiut+5Y/gcp1DsNNlz+PBnXx2J+XP5xCdNTu8Zc/qn5ztwREmD+4unKaGpaYP8b2cX0w6Jg/1DJxYEY6mT/ibnBDXIyZP/CqbyZy3pk//uZuCYgwmj8LI27snYKaPxlfbc+z1Jo/J5tssskmmz8012uV33ibP0ITa3j1yps/UE9qWwsdnD9ei2k+IW+cP2zHaCE3wZw/egNoBE0TnT+IP2fnYmWdP5Z7Zsp4t50/pLdlrY4Jnj+x82SQpFueP78vZHO6rZ4/zWtjVtD/nj/ap2I55lGfP+jjYRz8o58/9h9h/xH2nz8CLjDxEySgPwnMr+IeTaA/EGov1Cl2oD8XCK/FNJ+gPx6mLrc/yKA/JUSuqErxoD8s4i2aVRqhPzKArYtgQ6E/Oh4tfWtsoT9AvKxudpWhP0daLGCBvqE/TvirUYznoT9VlitDlxCiP1w0qzSiOaI/Y9IqJq1ioj9qcKoXuIuiP3AOKgnDtKI/eKyp+s3doj9+Sins2AajP4boqN3jL6M/jIYoz+5Yoz+UJKjA+YGjP5rCJ7IEq6M/oWCnow/Uoz+o/iaVGv2jP6+cpoYlJqQ/tjomeDBPpD+82KVpO3ikP8R2JVtGoaQ/yhSlTFHKpD/SsiQ+XPOkP9hQpC9nHKU/4O4jIXJFpT/mjKMSfW6lP+0qIwSIl6U/9Mii9ZLApT/7ZiLnnemlPwIFotioEqY/CaMhyrM7pj8QQaG7vmSmPxbfIK3JjaY/Hn2gntS2pj8kGyCQ39+mPyy5n4HqCKc/Mlcfc/Uxpz859Z5kAFunP0CTHlYLhKc/RzGeRxatpz9Ozx05IdanP1VtnSos/6c/XAsdHDcoqD9iqZwNQlGoP2pHHP9Meqg/cOWb8FejqD94gxviYsyoP34hm9Nt9ag/hr8axXgeqT+MXZq2g0epP5P7GaiOcKk/mpmZmZmZqT8=\",\"dtype\":\"float64\",\"shape\":[100]}}},\"id\":\"68fd4356-20c4-4f3a-9f01-81071de79303\",\"type\":\"ColumnDataSource\"},{\"attributes\":{\"source\":{\"id\":\"3d5acaa2-a722-4216-8f2c-f5e399c64b61\",\"type\":\"ColumnDataSource\"}},\"id\":\"15254504-8e98-4436-b599-5b1f2013e55c\",\"type\":\"CDSView\"},{\"attributes\":{},\"id\":\"9fdedc92-7b05-4580-a49c-1abd338075b3\",\"type\":\"BasicTicker\"},{\"attributes\":{\"line_alpha\":{\"value\":0.1},\"line_color\":{\"value\":\"#1f77b4\"},\"line_width\":{\"value\":3},\"x\":{\"field\":\"x\"},\"y\":{\"field\":\"y\"}},\"id\":\"7e7463bd-f0c2-481c-b5a7-4f67df281e8b\",\"type\":\"Line\"},{\"attributes\":{\"active_drag\":\"auto\",\"active_inspect\":\"auto\",\"active_scroll\":\"auto\",\"active_tap\":\"auto\",\"tools\":[{\"id\":\"c990e066-7109-48f2-9b9b-61d613cad787\",\"type\":\"PanTool\"},{\"id\":\"a6991e3f-114a-4844-8363-9fdbae05e3b1\",\"type\":\"WheelZoomTool\"},{\"id\":\"c74ca674-2376-4e30-8191-2122de07d21a\",\"type\":\"BoxZoomTool\"},{\"id\":\"37a963bb-a7eb-4b0e-a303-1685a26560f4\",\"type\":\"SaveTool\"},{\"id\":\"6f766701-5f9a-4354-bb9a-c609f23d3879\",\"type\":\"ResetTool\"},{\"id\":\"e6864daf-8172-4cff-9848-dd7aac1f93ed\",\"type\":\"HelpTool\"}]},\"id\":\"7230b85f-8774-4c51-a5ca-4b7484e907c9\",\"type\":\"Toolbar\"},{\"attributes\":{\"data_source\":{\"id\":\"3d5acaa2-a722-4216-8f2c-f5e399c64b61\",\"type\":\"ColumnDataSource\"},\"glyph\":{\"id\":\"cde65680-400f-43e9-ba73-f74ba254ef86\",\"type\":\"Cross\"},\"hover_glyph\":null,\"muted_glyph\":null,\"nonselection_glyph\":{\"id\":\"8a3d0bb2-fa9b-435d-85f1-a461bd27ce25\",\"type\":\"Cross\"},\"selection_glyph\":null,\"view\":{\"id\":\"15254504-8e98-4436-b599-5b1f2013e55c\",\"type\":\"CDSView\"}},\"id\":\"909076aa-5023-4b37-85e8-3fe833480ebe\",\"type\":\"GlyphRenderer\"},{\"attributes\":{},\"id\":\"c990e066-7109-48f2-9b9b-61d613cad787\",\"type\":\"PanTool\"},{\"attributes\":{\"callback\":null},\"id\":\"0e4a1427-56c4-4c8e-bbad-7f42707f9dfb\",\"type\":\"DataRange1d\"},{\"attributes\":{\"callback\":null},\"id\":\"5e4c5215-c9de-4ea5-973a-dbc141c0e8f4\",\"type\":\"DataRange1d\"},{\"attributes\":{},\"id\":\"649ad0a8-ae1d-4a22-a6d2-83b1f5e962f4\",\"type\":\"LinearScale\"},{\"attributes\":{\"data_source\":{\"id\":\"60458a51-b559-4402-b8f0-a979cec0cf13\",\"type\":\"ColumnDataSource\"},\"glyph\":{\"id\":\"3c673452-77e6-461f-88a5-85def99cf85e\",\"type\":\"Line\"},\"hover_glyph\":null,\"muted_glyph\":null,\"nonselection_glyph\":{\"id\":\"48d7b892-4fb9-49c5-b11e-970b25fa2910\",\"type\":\"Line\"},\"selection_glyph\":null,\"view\":{\"id\":\"b4d63b08-2db0-4284-b452-6765fa53dcb4\",\"type\":\"CDSView\"}},\"id\":\"4af300f5-5ef5-4381-a878-8bf2b5243e38\",\"type\":\"GlyphRenderer\"},{\"attributes\":{},\"id\":\"f7ad1b62-b183-4c2e-9675-45fb65645715\",\"type\":\"BasicTicker\"},{\"attributes\":{},\"id\":\"6f766701-5f9a-4354-bb9a-c609f23d3879\",\"type\":\"ResetTool\"},{\"attributes\":{\"dimension\":1,\"plot\":{\"id\":\"935b917d-351e-422a-9c1d-44d3f5ab97af\",\"subtype\":\"Figure\",\"type\":\"Plot\"},\"ticker\":{\"id\":\"9fdedc92-7b05-4580-a49c-1abd338075b3\",\"type\":\"BasicTicker\"}},\"id\":\"10100ba5-6150-4db7-9850-feedb2101c50\",\"type\":\"Grid\"},{\"attributes\":{},\"id\":\"37a963bb-a7eb-4b0e-a303-1685a26560f4\",\"type\":\"SaveTool\"},{\"attributes\":{\"overlay\":{\"id\":\"22fca13c-f442-406e-b863-4606672a10b1\",\"type\":\"BoxAnnotation\"}},\"id\":\"c74ca674-2376-4e30-8191-2122de07d21a\",\"type\":\"BoxZoomTool\"},{\"attributes\":{\"data_source\":{\"id\":\"757cb9d6-9104-4d9a-9d97-f24eca7e6607\",\"type\":\"ColumnDataSource\"},\"glyph\":{\"id\":\"e5b3ad00-f1ca-4cef-b4a8-90ba92b9bc7a\",\"type\":\"Line\"},\"hover_glyph\":null,\"muted_glyph\":null,\"nonselection_glyph\":{\"id\":\"7e7463bd-f0c2-481c-b5a7-4f67df281e8b\",\"type\":\"Line\"},\"selection_glyph\":null,\"view\":{\"id\":\"d05bb8cb-1ceb-4286-bd95-92be75019b18\",\"type\":\"CDSView\"}},\"id\":\"39fcd288-8251-4204-9e70-a2994aadeec4\",\"type\":\"GlyphRenderer\"},{\"attributes\":{\"line_color\":{\"value\":\"red\"},\"line_width\":{\"value\":3},\"x\":{\"field\":\"x\"},\"y\":{\"field\":\"y\"}},\"id\":\"e5b3ad00-f1ca-4cef-b4a8-90ba92b9bc7a\",\"type\":\"Line\"},{\"attributes\":{},\"id\":\"e6864daf-8172-4cff-9848-dd7aac1f93ed\",\"type\":\"HelpTool\"},{\"attributes\":{\"data_source\":{\"id\":\"68fd4356-20c4-4f3a-9f01-81071de79303\",\"type\":\"ColumnDataSource\"},\"glyph\":{\"id\":\"2955cc3a-06de-4de0-911a-92fde863833d\",\"type\":\"Line\"},\"hover_glyph\":null,\"muted_glyph\":null,\"nonselection_glyph\":{\"id\":\"bd0b0bb1-d880-47a2-81c9-ecfaf688b5dc\",\"type\":\"Line\"},\"selection_glyph\":null,\"view\":{\"id\":\"e51cc8da-a95e-44e3-9ed4-9138320d7e8e\",\"type\":\"CDSView\"}},\"id\":\"a173eb78-def5-4f32-9462-1511f598097e\",\"type\":\"GlyphRenderer\"},{\"attributes\":{\"line_color\":{\"value\":\"blue\"},\"line_width\":{\"value\":3},\"x\":{\"field\":\"x\"},\"y\":{\"field\":\"y\"}},\"id\":\"3c673452-77e6-461f-88a5-85def99cf85e\",\"type\":\"Line\"},{\"attributes\":{\"callback\":null,\"column_names\":[\"x\",\"y\"],\"data\":{\"x\":[0.065,0.2248,0.129,0.2248,0.039,0.08],\"y\":[0.03,0.048,0.032,0.05,0.019,0.04]}},\"id\":\"3d5acaa2-a722-4216-8f2c-f5e399c64b61\",\"type\":\"ColumnDataSource\"},{\"attributes\":{\"source\":{\"id\":\"60458a51-b559-4402-b8f0-a979cec0cf13\",\"type\":\"ColumnDataSource\"}},\"id\":\"b4d63b08-2db0-4284-b452-6765fa53dcb4\",\"type\":\"CDSView\"},{\"attributes\":{\"fill_alpha\":{\"value\":0.1},\"fill_color\":{\"value\":\"#1f77b4\"},\"line_alpha\":{\"value\":0.1},\"line_color\":{\"value\":\"#1f77b4\"},\"line_width\":{\"value\":4},\"x\":{\"field\":\"x\"},\"y\":{\"field\":\"y\"}},\"id\":\"8a3d0bb2-fa9b-435d-85f1-a461bd27ce25\",\"type\":\"Cross\"},{\"attributes\":{\"fill_color\":{\"value\":\"black\"},\"line_width\":{\"value\":4},\"x\":{\"field\":\"x\"},\"y\":{\"field\":\"y\"}},\"id\":\"cde65680-400f-43e9-ba73-f74ba254ef86\",\"type\":\"Cross\"}],\"root_ids\":[\"935b917d-351e-422a-9c1d-44d3f5ab97af\"]},\"title\":\"Bokeh Application\",\"version\":\"0.12.10\"}};\n",
       "    var render_items = [{\"docid\":\"fa58ebe3-70c5-4293-92c7-0b497b53e4f7\",\"elementid\":\"67549448-0616-4844-8b00-750a3d2dd4c9\",\"modelid\":\"935b917d-351e-422a-9c1d-44d3f5ab97af\"}];\n",
       "\n",
       "    root.Bokeh.embed.embed_items(docs_json, render_items);\n",
       "  }\n",
       "\n",
       "  if (root.Bokeh !== undefined) {\n",
       "    embed_document(root);\n",
       "  } else {\n",
       "    var attempts = 0;\n",
       "    var timer = setInterval(function(root) {\n",
       "      if (root.Bokeh !== undefined) {\n",
       "        embed_document(root);\n",
       "        clearInterval(timer);\n",
       "      }\n",
       "      attempts++;\n",
       "      if (attempts > 100) {\n",
       "        console.log(\"Bokeh: ERROR: Unable to embed document because BokehJS library is missing\")\n",
       "        clearInterval(timer);\n",
       "      }\n",
       "    }, 10, root)\n",
       "  }\n",
       "})(window);"
      ],
      "application/vnd.bokehjs_exec.v0+json": ""
     },
     "metadata": {
      "application/vnd.bokehjs_exec.v0+json": {
       "id": "935b917d-351e-422a-9c1d-44d3f5ab97af"
      }
     },
     "output_type": "display_data"
    }
   ],
   "source": [
    "p = figure(width = 800, height=500, title='ポートフォリオのリスクとリターン')\n",
    "p.line(tvols, trets, color='blue', line_width=3, legend='５資産')\n",
    "p.line(tvols1, trets1, color='green', line_width=3, legend='６資産（高相関）')\n",
    "p.line(tvols2, trets1, color='red', line_width=3, legend='６資産（低相関)')\n",
    "p.cross(vols1, rets1, color='black', line_width=4)\n",
    "p.xaxis.axis_label='ポートフォリオのリスク'\n",
    "p.xaxis.axis_label='ポートフォリオのリターン'\n",
    "p.legend.location='top_left'\n",
    "show(p)"
   ]
  },
  {
   "cell_type": "code",
   "execution_count": null,
   "metadata": {
    "collapsed": true
   },
   "outputs": [],
   "source": []
  },
  {
   "cell_type": "code",
   "execution_count": null,
   "metadata": {
    "collapsed": true
   },
   "outputs": [],
   "source": []
  }
 ],
 "metadata": {
  "kernelspec": {
   "display_name": "Python 3",
   "language": "python",
   "name": "python3"
  },
  "language_info": {
   "codemirror_mode": {
    "name": "ipython",
    "version": 3
   },
   "file_extension": ".py",
   "mimetype": "text/x-python",
   "name": "python",
   "nbconvert_exporter": "python",
   "pygments_lexer": "ipython3",
   "version": "3.6.1"
  }
 },
 "nbformat": 4,
 "nbformat_minor": 2
}
